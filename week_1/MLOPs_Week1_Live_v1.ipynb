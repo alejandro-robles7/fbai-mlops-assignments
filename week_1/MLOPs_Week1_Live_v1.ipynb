{
 "nbformat": 4,
 "nbformat_minor": 0,
 "metadata": {
  "colab": {
   "name": "MLOPs_Week1_Live_v1.ipynb",
   "provenance": [],
   "collapsed_sections": []
  },
  "kernelspec": {
   "display_name": "Python 3",
   "name": "python3"
  }
 },
 "cells": [
  {
   "cell_type": "markdown",
   "metadata": {
    "id": "_4L_-RvLOCQo"
   },
   "source": [
    "# **Welcome to FourthBrain's MLOps course!**\n",
    "# In this assignment, we learn to access Google colab and we will start by building a simple ML model and deploying it to test prediction performance. \n",
    "\n",
    "## This assignment uses deployment using FastApi that we will review in detail in Week 3 and statistical ML model building that we will review in Week 1 of the course!\n",
    "\n",
    "\n",
    "This assignment is based on the blog https://towardsdatascience.com/colabcode-deploying-machine-learning-models-from-google-colab-54e0d37a7b09"
   ]
  },
  {
   "cell_type": "code",
   "metadata": {
    "id": "eTuRuP6XSwJm"
   },
   "source": [
    "!pip install colabcode"
   ],
   "execution_count": null,
   "outputs": []
  },
  {
   "cell_type": "markdown",
   "metadata": {
    "id": "ZD6NclXdAy4B"
   },
   "source": [
    "# Step 1: Load all Libraries"
   ]
  },
  {
   "cell_type": "code",
   "metadata": {
    "id": "mFibHFld8nA_"
   },
   "source": [
    "!pip install fastapi"
   ],
   "execution_count": null,
   "outputs": []
  },
  {
   "cell_type": "code",
   "metadata": {
    "id": "hIsVdcqqKpJn"
   },
   "source": [
    "from sklearn.tree import DecisionTreeClassifier\n",
    "from sklearn.model_selection import train_test_split\n",
    "import pandas as pd\n",
    "import pickle"
   ],
   "execution_count": null,
   "outputs": []
  },
  {
   "cell_type": "markdown",
   "metadata": {
    "id": "mNOY4AL77NEP"
   },
   "source": [
    "# Step 2: Load the data from your local google drive.\n",
    "Ensure the data is already downloaded and in your Google drive. The path has to be accurate for the data to be loaded. This exercise will help to correctly load data into colab."
   ]
  },
  {
   "cell_type": "code",
   "metadata": {
    "id": "Q2VfX1v4KuRW"
   },
   "source": [
    "from google.colab import drive\n",
    "# Mount the Google Drive at mount\n",
    "mount='/content/gdrive'\n",
    "print(\"Colab: mounting Google drive on \", mount)\n",
    "\n",
    "drive.mount(mount)\n",
    "\n",
    "# Switch to the directory on the Google Drive that you want to use\n",
    "import os\n",
    "drive_root = mount + \"/My Drive/MLOps-Nov21/Week1_Kick-Off+Orientation\"\n",
    "\n",
    "# Create drive_root if it doesn't exist\n",
    "create_drive_root = True\n",
    "if create_drive_root:\n",
    "  print(\"\\nColab: making sure \", drive_root, \" exists.\")\n",
    "  os.makedirs(drive_root, exist_ok=True)\n",
    "\n",
    "# Change to the directory\n",
    "print(\"\\nColab: Changing directory to \", drive_root)\n",
    "%cd $drive_root\n",
    "\n",
    "%pwd\n",
    "\n",
    "df = pd.read_csv('data_banknote_authentication.txt') "
   ],
   "execution_count": null,
   "outputs": []
  },
  {
   "cell_type": "code",
   "metadata": {
    "id": "J8S2-PvGEbbp",
    "colab": {
     "base_uri": "https://localhost:8080/",
     "height": 204
    },
    "outputId": "3ab9c1d7-9dab-40bc-df38-5b89c1a88b01"
   },
   "source": [
    "df.head()"
   ],
   "execution_count": 6,
   "outputs": [
    {
     "output_type": "execute_result",
     "data": {
      "text/html": [
       "<div>\n",
       "<style scoped>\n",
       "    .dataframe tbody tr th:only-of-type {\n",
       "        vertical-align: middle;\n",
       "    }\n",
       "\n",
       "    .dataframe tbody tr th {\n",
       "        vertical-align: top;\n",
       "    }\n",
       "\n",
       "    .dataframe thead th {\n",
       "        text-align: right;\n",
       "    }\n",
       "</style>\n",
       "<table border=\"1\" class=\"dataframe\">\n",
       "  <thead>\n",
       "    <tr style=\"text-align: right;\">\n",
       "      <th></th>\n",
       "      <th>Variance</th>\n",
       "      <th>Skewness</th>\n",
       "      <th>Kurtosis</th>\n",
       "      <th>Entropy</th>\n",
       "      <th>Class</th>\n",
       "    </tr>\n",
       "  </thead>\n",
       "  <tbody>\n",
       "    <tr>\n",
       "      <th>0</th>\n",
       "      <td>3.62160</td>\n",
       "      <td>8.6661</td>\n",
       "      <td>-2.8073</td>\n",
       "      <td>-0.44699</td>\n",
       "      <td>0</td>\n",
       "    </tr>\n",
       "    <tr>\n",
       "      <th>1</th>\n",
       "      <td>4.54590</td>\n",
       "      <td>8.1674</td>\n",
       "      <td>-2.4586</td>\n",
       "      <td>-1.46210</td>\n",
       "      <td>0</td>\n",
       "    </tr>\n",
       "    <tr>\n",
       "      <th>2</th>\n",
       "      <td>3.86600</td>\n",
       "      <td>-2.6383</td>\n",
       "      <td>1.9242</td>\n",
       "      <td>0.10645</td>\n",
       "      <td>0</td>\n",
       "    </tr>\n",
       "    <tr>\n",
       "      <th>3</th>\n",
       "      <td>3.45660</td>\n",
       "      <td>9.5228</td>\n",
       "      <td>-4.0112</td>\n",
       "      <td>-3.59440</td>\n",
       "      <td>0</td>\n",
       "    </tr>\n",
       "    <tr>\n",
       "      <th>4</th>\n",
       "      <td>0.32924</td>\n",
       "      <td>-4.4552</td>\n",
       "      <td>4.5718</td>\n",
       "      <td>-0.98880</td>\n",
       "      <td>0</td>\n",
       "    </tr>\n",
       "  </tbody>\n",
       "</table>\n",
       "</div>"
      ],
      "text/plain": [
       "   Variance  Skewness  Kurtosis  Entropy  Class\n",
       "0   3.62160    8.6661   -2.8073 -0.44699      0\n",
       "1   4.54590    8.1674   -2.4586 -1.46210      0\n",
       "2   3.86600   -2.6383    1.9242  0.10645      0\n",
       "3   3.45660    9.5228   -4.0112 -3.59440      0\n",
       "4   0.32924   -4.4552    4.5718 -0.98880      0"
      ]
     },
     "metadata": {},
     "execution_count": 6
    }
   ]
  },
  {
   "cell_type": "markdown",
   "metadata": {
    "id": "VywWW9at9Rz6"
   },
   "source": [
    "# Task 1: Getting familiar with the data\n",
    "### The daata set is from the UCI Machine Learning Repository for Bank Note authentication https://archive.ics.uci.edu/ml/datasets/banknote+authentication\n",
    "\n",
    "\"Data were extracted from images that were taken from genuine and forged banknote-like specimens. For digitization, an industrial camera usually used for print inspection was used. The final images have 400x 400 pixels. Due to the object lens and distance to the investigated object gray-scale pictures with a resolution of about 660 dpi were gained. Wavelet Transform tool were used to extract features from images.\n",
    "\n",
    "\n",
    "Attribute Information:\n",
    "\n",
    "1. Cariance of Wavelet Transformed image (continuous)\n",
    "2. Skewness of Wavelet Transformed image (continuous)\n",
    "3. Kurtosis of Wavelet Transformed image (continuous)\n",
    "4. Entropy of image (continuous)\n",
    "5. class (fake: 0, real:1)\"\n",
    "\n",
    "\n",
    "#Write commands to \n",
    "###a. Check shape of the data\n",
    "###b. Print data frame column names\n",
    "###c. Isolating features for all samples\n",
    "###d. Checking frequency of class 0 (fake notes) vs class 1 (real note)"
   ]
  },
  {
   "cell_type": "code",
   "metadata": {
    "colab": {
     "base_uri": "https://localhost:8080/"
    },
    "id": "IeqAHgH6K5IZ",
    "outputId": "a7902b3e-0529-4292-c9c0-543fd76b6c0e"
   },
   "source": [
    "### Write a command to Print the shape of df\n",
    "\n",
    "print(df.shape)"
   ],
   "execution_count": 7,
   "outputs": [
    {
     "output_type": "stream",
     "name": "stdout",
     "text": [
      "(1372, 5)\n"
     ]
    }
   ]
  },
  {
   "cell_type": "code",
   "metadata": {
    "colab": {
     "base_uri": "https://localhost:8080/"
    },
    "id": "57CuXEK2DSID",
    "outputId": "71234ec9-bf7e-4a2c-d821-d9a24cf75b37"
   },
   "source": [
    "#Write a command to print first few rows of the data\n",
    "\n",
    "print(df.head(3))"
   ],
   "execution_count": 8,
   "outputs": [
    {
     "output_type": "stream",
     "name": "stdout",
     "text": [
      "   Variance  Skewness  Kurtosis  Entropy  Class\n",
      "0    3.6216    8.6661   -2.8073 -0.44699      0\n",
      "1    4.5459    8.1674   -2.4586 -1.46210      0\n",
      "2    3.8660   -2.6383    1.9242  0.10645      0\n"
     ]
    }
   ]
  },
  {
   "cell_type": "code",
   "metadata": {
    "colab": {
     "base_uri": "https://localhost:8080/"
    },
    "id": "8xfq48Ch7qeA",
    "outputId": "711f2d38-577b-4c7f-9336-4f29ebfff09f"
   },
   "source": [
    "# Print names of columns from the dataframe. The sample output is shown below.\n",
    "\n",
    "print(df.columns)"
   ],
   "execution_count": 9,
   "outputs": [
    {
     "output_type": "stream",
     "name": "stdout",
     "text": [
      "Index(['Variance', 'Skewness', 'Kurtosis', 'Entropy', 'Class'], dtype='object')\n"
     ]
    }
   ]
  },
  {
   "cell_type": "code",
   "metadata": {
    "colab": {
     "base_uri": "https://localhost:8080/"
    },
    "id": "fmw2B8nP8ZGh",
    "outputId": "b34652d0-07bb-4092-ebe5-f7f50dd04377"
   },
   "source": [
    "# Print values of variance feature column.\n",
    "\n",
    "print(df.Variance)\n"
   ],
   "execution_count": 10,
   "outputs": [
    {
     "output_type": "stream",
     "name": "stdout",
     "text": [
      "0       3.62160\n",
      "1       4.54590\n",
      "2       3.86600\n",
      "3       3.45660\n",
      "4       0.32924\n",
      "         ...   \n",
      "1367    0.40614\n",
      "1368   -1.38870\n",
      "1369   -3.75030\n",
      "1370   -3.56370\n",
      "1371   -2.54190\n",
      "Name: Variance, Length: 1372, dtype: float64\n"
     ]
    }
   ]
  },
  {
   "cell_type": "code",
   "metadata": {
    "colab": {
     "base_uri": "https://localhost:8080/"
    },
    "id": "WLU68uYVGYyX",
    "outputId": "19b24b39-bcf8-4f4b-d415-48935e7fa8bf"
   },
   "source": [
    "df.var()"
   ],
   "execution_count": 11,
   "outputs": [
    {
     "output_type": "execute_result",
     "data": {
      "text/plain": [
       "Variance     8.081299\n",
       "Skewness    34.445710\n",
       "Kurtosis    18.576359\n",
       "Entropy      4.414256\n",
       "Class        0.247112\n",
       "dtype: float64"
      ]
     },
     "metadata": {},
     "execution_count": 11
    }
   ]
  },
  {
   "cell_type": "code",
   "metadata": {
    "colab": {
     "base_uri": "https://localhost:8080/"
    },
    "id": "TE-wYBYdK7ch",
    "outputId": "8695c642-4a46-4090-f4eb-9ab9fc0fd15a"
   },
   "source": [
    "# From dataframe df, isolate the first 4 columsn as features (X) and last column as labels (y).\n",
    "# Display the first few records of X and shape of X and y\n",
    "X = df.iloc[:,0:4]\n",
    "y = df.iloc[:,4]\n",
    "# Add your code here\n",
    "print(X.head())\n",
    "print(X.shape)\n",
    "print(y.shape)"
   ],
   "execution_count": 12,
   "outputs": [
    {
     "output_type": "stream",
     "name": "stdout",
     "text": [
      "   Variance  Skewness  Kurtosis  Entropy\n",
      "0   3.62160    8.6661   -2.8073 -0.44699\n",
      "1   4.54590    8.1674   -2.4586 -1.46210\n",
      "2   3.86600   -2.6383    1.9242  0.10645\n",
      "3   3.45660    9.5228   -4.0112 -3.59440\n",
      "4   0.32924   -4.4552    4.5718 -0.98880\n",
      "(1372, 4)\n",
      "(1372,)\n"
     ]
    }
   ]
  },
  {
   "cell_type": "code",
   "metadata": {
    "colab": {
     "base_uri": "https://localhost:8080/",
     "height": 286
    },
    "id": "9x2MEyy7bfX7",
    "outputId": "bd52e8d9-c880-468d-c31f-64a8958c7ca3"
   },
   "source": [
    "# Plot histogram of y\n",
    "import matplotlib.pyplot as plt\n",
    "\n",
    "# Add your code here.\n",
    "y.plot(kind='hist')"
   ],
   "execution_count": 13,
   "outputs": [
    {
     "output_type": "execute_result",
     "data": {
      "text/plain": [
       "<matplotlib.axes._subplots.AxesSubplot at 0x7efbff0e4790>"
      ]
     },
     "metadata": {},
     "execution_count": 13
    },
    {
     "output_type": "display_data",
     "data": {
      "image/png": "[encoded data removed]",
      "text/plain": [
       "<Figure size 432x288 with 1 Axes>"
      ]
     },
     "metadata": {
      "needs_background": "light"
     }
    }
   ]
  },
  {
   "cell_type": "markdown",
   "metadata": {
    "id": "NMCIUGksmHh3"
   },
   "source": [
    "# Task 2: Data Modeling\n",
    "1.   Split the data as train and test\n",
    "2.   Fit a Decision Tree model on training data\n",
    "3.   Save the trained model as \"model_tree.pkl\"\n",
    "4.  Report classification performance on test data\n",
    "\n"
   ]
  },
  {
   "cell_type": "code",
   "metadata": {
    "id": "4bD2cxaTJ91j"
   },
   "source": [
    "X_train, X_test, y_train, y_test = train_test_split(X,y,stratify=y)\n",
    "\n",
    "tree = DecisionTreeClassifier(random_state=42)\n",
    "\n",
    "tree.fit(X_train, y_train)\n",
    "\n",
    "Pkl_Filename = \"model_tree.pkl\"  \n",
    "\n",
    "with open(Pkl_Filename, 'wb') as file:  \n",
    "    pickle.dump(tree, file)\n",
    "\n"
   ],
   "execution_count": 14,
   "outputs": []
  },
  {
   "cell_type": "markdown",
   "metadata": {
    "id": "WHXHnRviKj0a"
   },
   "source": [
    "###### This is the model for decision trees. We can change the model to any other model. Few machine learning models can be found at https://scikit-learn.org/stable/supervised_learning.html. \n",
    "###### Discuss the other models that can be used for training this data. "
   ]
  },
  {
   "cell_type": "code",
   "metadata": {
    "colab": {
     "base_uri": "https://localhost:8080/",
     "height": 312
    },
    "id": "vo-fOOyGnRvE",
    "outputId": "04763b08-f45a-463e-dd21-4f76d0133c52"
   },
   "source": [
    "from sklearn.metrics import average_precision_score\n",
    "from sklearn.metrics import plot_precision_recall_curve\n",
    "\n",
    "\n",
    "disp = plot_precision_recall_curve(tree, X_test, y_test)\n",
    "y_score=tree.predict(X_test)\n",
    "average_precision = average_precision_score(y_test, y_score)\n",
    "disp.ax_.set_title('2-class Precision-Recall curve: '\n",
    "                   'AP={0:0.2f}'.format(average_precision))"
   ],
   "execution_count": 15,
   "outputs": [
    {
     "output_type": "execute_result",
     "data": {
      "text/plain": [
       "Text(0.5, 1.0, '2-class Precision-Recall curve: AP=0.96')"
      ]
     },
     "metadata": {},
     "execution_count": 15
    },
    {
     "output_type": "display_data",
     "data": {
      "image/png": "[encoded data removed]",
      "text/plain": [
       "<Figure size 432x288 with 1 Axes>"
      ]
     },
     "metadata": {
      "needs_background": "light"
     }
    }
   ]
  },
  {
   "cell_type": "markdown",
   "metadata": {
    "id": "7IjcrMuNP24P"
   },
   "source": [
    "###### Precision is the measure to evaluate how accurately the model has predicted. \n",
    "###### Recall is the measure to evaluate the amount of actual positives identified correctly. \n",
    "###### The precision-recall curve shows the tradeoff between precision and recall for different threshold.\n",
    "###### Average precision score summarizes the precision-recall curve by computing average precision.\n",
    "###### More information on precision-recall can be found at https://scikit-learn.org/stable/auto_examples/model_selection/plot_precision_recall.html \n",
    "###### More information on parameters of precision-recall curve for sklearn can be found at https://scikit-learn.org/stable/modules/generated/sklearn.metrics.plot_precision_recall_curve.html\n",
    "###### More information on average precision score can be found at https://scikit-learn.org/stable/modules/generated/sklearn.metrics.average_precision_score.html"
   ]
  },
  {
   "cell_type": "markdown",
   "metadata": {
    "id": "E4Yz4zgmaFgs"
   },
   "source": [
    "# Task 3: Generate a class for test data and Predict on Test instance"
   ]
  },
  {
   "cell_type": "code",
   "metadata": {
    "id": "dDBi8zc7JhrM"
   },
   "source": [
    "from pydantic import BaseModel\n",
    "\n",
    "class Notes (BaseModel):\n",
    "    Variance: float \n",
    "    Skewness: float \n",
    "    Kurtosis: float \n",
    "    Entropy: float \n",
    "    class Config:\n",
    "        schema_extra = {\n",
    "            \"example\": {\n",
    "                \"Variance\": 0.838816, \n",
    "                \"Skewness\": 5.42950, \n",
    "                \"Kurtosis\": -6.69215,\n",
    "                \"Entropy\": -4.60000,\n",
    "               }\n",
    "        }"
   ],
   "execution_count": 16,
   "outputs": []
  },
  {
   "cell_type": "markdown",
   "metadata": {
    "id": "EOSZexj3STQj"
   },
   "source": [
    "###### Above class creates test data for all the features to test the model. The data is structured this way so that it can be feed into the API.\n",
    "###### (optional) More information on usage of BaseModel can be found at https://pydantic-docs.helpmanual.io/usage/models/"
   ]
  },
  {
   "cell_type": "code",
   "metadata": {
    "id": "K8BjvQWz8u4J"
   },
   "source": [
    "#Next create an app with FastAPI to predict test cases\n",
    "from fastapi import FastAPI\n",
    "import pickle\n",
    "\n",
    "app = FastAPI()\n",
    "\n",
    "@app.on_event(\"startup\")\n",
    "def load_model():\n",
    "    global model\n",
    "    model = pickle.load(open(\"model_tree.pkl\", \"rb\"))\n",
    "\n",
    "@app.get('/')\n",
    "def index():\n",
    "    return {'message': 'This is the homepage of the API '}\n",
    "\n",
    "\n",
    "@app.post('/predict')\n",
    "def get_notes_category(data: Notes):\n",
    "    received = data.dict()\n",
    "    variance = received['Variance']\n",
    "    skewness = received['Skewness']\n",
    "    kurtosis = received['Kurtosis']\n",
    "    entropy = received['Entropy']\n",
    "    pred_name = model.predict([[variance, skewness, kurtosis, entropy]]).tolist()[0]\n",
    "    return {'prediction': pred_name}"
   ],
   "execution_count": 17,
   "outputs": []
  },
  {
   "cell_type": "markdown",
   "metadata": {
    "id": "RTR8P6atTSFx"
   },
   "source": [
    "###### FastAPI is a web framework for building APIs with Python.\n",
    "###### In the above code we have 2 API end points. \n",
    "###### The app starts by loading and initializing the model which is then used in other endpoints (in this case predict).\n",
    "###### (optional) More information on FastAPI can be found at https://fastapi.tiangolo.com/  "
   ]
  },
  {
   "cell_type": "code",
   "metadata": {
    "id": "CaMyhg1r9suW"
   },
   "source": [
    "# Launch the app at port# 1000\n",
    "from colabcode import ColabCode\n",
    "server = ColabCode(port=10000, code=False)"
   ],
   "execution_count": 18,
   "outputs": []
  },
  {
   "cell_type": "markdown",
   "metadata": {
    "id": "jEj9gvzhWT_t"
   },
   "source": [
    "###### The above code initializes the server at the specified port."
   ]
  },
  {
   "cell_type": "code",
   "metadata": {
    "colab": {
     "base_uri": "https://localhost:8080/"
    },
    "id": "Tnbfrz1oFYfB",
    "outputId": "26cf16e4-5ca2-4e20-8bf1-0ca2d38a4c8f"
   },
   "source": [
    "server.run_app(app=app)"
   ],
   "execution_count": null,
   "outputs": [
    {
     "output_type": "stream",
     "name": "stderr",
     "text": [
      "INFO:     Started server process [425]\n",
      "INFO:     Waiting for application startup.\n",
      "INFO:     Application startup complete.\n",
      "INFO:     Uvicorn running on http://127.0.0.1:10000 (Press CTRL+C to quit)\n"
     ]
    },
    {
     "output_type": "stream",
     "name": "stdout",
     "text": [
      "Public URL: NgrokTunnel: \"https://7843-34-86-8-135.ngrok.io\" -> \"http://localhost:10000\"\n",
      "INFO:     47.155.230.124:0 - \"GET / HTTP/1.1\" 200 OK\n",
      "INFO:     47.155.230.124:0 - \"GET /favicon.ico HTTP/1.1\" 404 Not Found\n",
      "INFO:     47.155.230.124:0 - \"GET /docs HTTP/1.1\" 200 OK\n",
      "INFO:     47.155.230.124:0 - \"GET /openapi.json HTTP/1.1\" 200 OK\n",
      "INFO:     47.155.230.124:0 - \"POST /predict HTTP/1.1\" 422 Unprocessable Entity\n",
      "INFO:     47.155.230.124:0 - \"POST /predict HTTP/1.1\" 200 OK\n"
     ]
    }
   ]
  },
  {
   "cell_type": "markdown",
   "metadata": {
    "id": "MIgpjarhWxzU"
   },
   "source": [
    "###### The above code runs the app and is ready to receive FastAPI object."
   ]
  },
  {
   "cell_type": "markdown",
   "metadata": {
    "id": "gck09DtgpI_5"
   },
   "source": [
    "## Click on the \"NgrokTunnel\" Link above. Once the page opens, type \"/docs\" next to it, to open the FastAPI UI.\n",
    "Execute the example above and report your prediction.\n",
    "\n",
    "# Task 4: Inference\n",
    "Next try another test case and report the prediction:\n",
    "\n",
    "schema_extra = {\n",
    "            \"example\": {\n",
    "                \"Variance\": 0.00006, \n",
    "                \"Skewness\": 0.0001, \n",
    "                \"Kurtosis\": 0.69,\n",
    "                \"Entropy\": 0.5,\n",
    "               }\n",
    "        }\n",
    "\n",
    "# Summarize your findings for end-to-end deployment. Consider the following:\n",
    "1. How would you find an optimal ML model?\n",
    "2. How can you improve the model over time?"
   ]
  },
  {
   "cell_type": "code",
   "metadata": {
    "id": "CrAs5p_-HwnB"
   },
   "source": [
    "schema_extra = {\n",
    "            \"example\": {\n",
    "                \"Variance\": 0.00006, \n",
    "                \"Skewness\": 0.0001, \n",
    "                \"Kurtosis\": 0.69,\n",
    "                \"Entropy\": 0.5,\n",
    "               }\n",
    "        }"
   ],
   "execution_count": null,
   "outputs": []
  },
  {
   "cell_type": "markdown",
   "metadata": {
    "id": "qtDF9Edt2Trd"
   },
   "source": [
    "1. How would you find an optimal ML model?\n",
    "\n",
    "There's several options but to list a few.\n",
    "\n",
    "* Hyperparameter tuning for the current model\n",
    "* Choose other models and test performance\n",
    "* Create assemble of models and get some aggregated prediction\n",
    "* Create new features\n",
    "* Get more training data"
   ]
  },
  {
   "cell_type": "markdown",
   "metadata": {
    "id": "zKrs2DM-2c_8"
   },
   "source": [
    "2. How can you improve the model over time?\n",
    "\n",
    "\n",
    "There's several options but to list a few.\n",
    "\n",
    "* Create assemble of models and get some aggregated prediction\n",
    "* Create new features\n",
    "* Get more training data\n",
    "* Retrain model\n",
    "* Detect model and concept drift to avoid deterioration\n",
    "* Have a feedback loop to generate new training data"
   ]
  },
  {
   "cell_type": "code",
   "metadata": {
    "id": "C5bk7as33m21"
   },
   "source": [
    ""
   ],
   "execution_count": null,
   "outputs": []
  }
 ]
}