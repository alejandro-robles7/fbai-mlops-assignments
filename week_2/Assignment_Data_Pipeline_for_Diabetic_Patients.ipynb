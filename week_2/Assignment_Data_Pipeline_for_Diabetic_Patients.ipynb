{
  "nbformat": 4,
  "nbformat_minor": 0,
  "metadata": {
    "colab": {
      "name": "Assignment_Data_Pipeline for Diabetic Patients.ipynb",
      "provenance": [],
      "collapsed_sections": [],
      "include_colab_link": true
    },
    "kernelspec": {
      "display_name": "Python 3",
      "name": "python3"
    }
  },
  "cells": [
    {
      "cell_type": "markdown",
      "metadata": {
        "id": "view-in-github",
        "colab_type": "text"
      },
      "source": [
        "<a href=\"https://colab.research.google.com/github/alejandro-robles7/fbai-mlops-assignments/blob/main/week_2/Assignment_Data_Pipeline_for_Diabetic_Patients.ipynb\" target=\"_parent\"><img src=\"https://colab.research.google.com/assets/colab-badge.svg\" alt=\"Open In Colab\"/></a>"
      ]
    },
    {
      "cell_type": "markdown",
      "metadata": {
        "id": "fl8W8Xek2BHf"
      },
      "source": [
        "\n",
        "## This assignment is based on the \"Roche\" Machine Learning Exercise given in \n",
        "https://colab.research.google.com/drive/1-P712Hw8KeVA1bV2AdnyHcT3WzNPMc2N\n",
        "\n"
      ]
    },
    {
      "cell_type": "markdown",
      "metadata": {
        "id": "g4T-_IsVbweU"
      },
      "source": [
        "## Today you are a Data Engineer at Roche medical research team and your team has been working on developing predictive markers for Diabetes. \n",
        "* ## Your team will be receiving small batches of data, based on which you will then be able to build and deploy machine learning models to predict \"Which patients are at risk for Diabetes\" vs. normal patients. \n",
        "* ## You will make your predictions based on predicted Blood Glucose Levels.\n",
        "\n",
        "## Details of your dataset are as follows:\n",
        "Dataset source: https://www4.stat.ncsu.edu/~boos/var.select/diabetes.html\n",
        "* Samples batch size: 100\n",
        "* Dimensionality: 10\n",
        "* Features: real, -.2 < x < .2\n",
        "* Blood Glucose Level: (25 - 350)\n",
        "\n",
        "# **Your task is to create a Data Pipeline to receive data batches and perform the following checks**:\n",
        "* ## **Pre-process the dataset to eliminate outliers or erroneous samples.**\n",
        "* ## **Detect samples that are \"easy\" vs \"difficult\" to classify based on their clustering patterns.** This will help build better ML models for future data sets.\n"
      ]
    },
    {
      "cell_type": "markdown",
      "metadata": {
        "id": "LEAHZv4rIYHX"
      },
      "source": [
        "## **Learning Objectives:**\n",
        "  * Create a Data Pipeline to receive data until a critical mass of data is received to build models thereafter.\n",
        "  * Identify features about the data to aid storage and retrieval.\n",
        "  * Build ML models using a subset of the curated data."
      ]
    },
    {
      "cell_type": "markdown",
      "metadata": {
        "id": "grWw1ARGdHld"
      },
      "source": [
        "## As a first step, we install the libraries we will need later on."
      ]
    },
    {
      "cell_type": "code",
      "metadata": {
        "colab": {
          "base_uri": "https://localhost:8080/"
        },
        "id": "aQPpjfZu0Pi2",
        "outputId": "193688f3-2968-476a-97ce-8ed57fa89699"
      },
      "source": [
        "!pip install --upgrade plotly"
      ],
      "execution_count": 1,
      "outputs": [
        {
          "output_type": "stream",
          "name": "stdout",
          "text": [
            "Requirement already satisfied: plotly in /usr/local/lib/python3.7/dist-packages (5.4.0)\n",
            "Requirement already satisfied: six in /usr/local/lib/python3.7/dist-packages (from plotly) (1.15.0)\n",
            "Requirement already satisfied: tenacity>=6.2.0 in /usr/local/lib/python3.7/dist-packages (from plotly) (8.0.1)\n"
          ]
        }
      ]
    },
    {
      "cell_type": "code",
      "metadata": {
        "colab": {
          "base_uri": "https://localhost:8080/"
        },
        "id": "NcdqvWky0RWs",
        "outputId": "d1c691cf-58c3-4fd4-cfd1-74fc4355103e"
      },
      "source": [
        "!pip install jupyter-dash"
      ],
      "execution_count": 2,
      "outputs": [
        {
          "output_type": "stream",
          "name": "stdout",
          "text": [
            "Requirement already satisfied: jupyter-dash in /usr/local/lib/python3.7/dist-packages (0.4.0)\n",
            "Requirement already satisfied: flask in /usr/local/lib/python3.7/dist-packages (from jupyter-dash) (1.1.4)\n",
            "Requirement already satisfied: retrying in /usr/local/lib/python3.7/dist-packages (from jupyter-dash) (1.3.3)\n",
            "Requirement already satisfied: ipython in /usr/local/lib/python3.7/dist-packages (from jupyter-dash) (5.5.0)\n",
            "Requirement already satisfied: ansi2html in /usr/local/lib/python3.7/dist-packages (from jupyter-dash) (1.6.0)\n",
            "Requirement already satisfied: ipykernel in /usr/local/lib/python3.7/dist-packages (from jupyter-dash) (4.10.1)\n",
            "Requirement already satisfied: dash in /usr/local/lib/python3.7/dist-packages (from jupyter-dash) (2.0.0)\n",
            "Requirement already satisfied: requests in /usr/local/lib/python3.7/dist-packages (from jupyter-dash) (2.23.0)\n",
            "Requirement already satisfied: plotly>=5.0.0 in /usr/local/lib/python3.7/dist-packages (from dash->jupyter-dash) (5.4.0)\n",
            "Requirement already satisfied: flask-compress in /usr/local/lib/python3.7/dist-packages (from dash->jupyter-dash) (1.10.1)\n",
            "Requirement already satisfied: dash-html-components==2.0.0 in /usr/local/lib/python3.7/dist-packages (from dash->jupyter-dash) (2.0.0)\n",
            "Requirement already satisfied: dash-core-components==2.0.0 in /usr/local/lib/python3.7/dist-packages (from dash->jupyter-dash) (2.0.0)\n",
            "Requirement already satisfied: dash-table==5.0.0 in /usr/local/lib/python3.7/dist-packages (from dash->jupyter-dash) (5.0.0)\n",
            "Requirement already satisfied: click<8.0,>=5.1 in /usr/local/lib/python3.7/dist-packages (from flask->jupyter-dash) (7.1.2)\n",
            "Requirement already satisfied: itsdangerous<2.0,>=0.24 in /usr/local/lib/python3.7/dist-packages (from flask->jupyter-dash) (1.1.0)\n",
            "Requirement already satisfied: Jinja2<3.0,>=2.10.1 in /usr/local/lib/python3.7/dist-packages (from flask->jupyter-dash) (2.11.3)\n",
            "Requirement already satisfied: Werkzeug<2.0,>=0.15 in /usr/local/lib/python3.7/dist-packages (from flask->jupyter-dash) (1.0.1)\n",
            "Requirement already satisfied: MarkupSafe>=0.23 in /usr/local/lib/python3.7/dist-packages (from Jinja2<3.0,>=2.10.1->flask->jupyter-dash) (2.0.1)\n",
            "Requirement already satisfied: six in /usr/local/lib/python3.7/dist-packages (from plotly>=5.0.0->dash->jupyter-dash) (1.15.0)\n",
            "Requirement already satisfied: tenacity>=6.2.0 in /usr/local/lib/python3.7/dist-packages (from plotly>=5.0.0->dash->jupyter-dash) (8.0.1)\n",
            "Requirement already satisfied: brotli in /usr/local/lib/python3.7/dist-packages (from flask-compress->dash->jupyter-dash) (1.0.9)\n",
            "Requirement already satisfied: traitlets>=4.1.0 in /usr/local/lib/python3.7/dist-packages (from ipykernel->jupyter-dash) (5.1.1)\n",
            "Requirement already satisfied: jupyter-client in /usr/local/lib/python3.7/dist-packages (from ipykernel->jupyter-dash) (5.3.5)\n",
            "Requirement already satisfied: tornado>=4.0 in /usr/local/lib/python3.7/dist-packages (from ipykernel->jupyter-dash) (5.1.1)\n",
            "Requirement already satisfied: pickleshare in /usr/local/lib/python3.7/dist-packages (from ipython->jupyter-dash) (0.7.5)\n",
            "Requirement already satisfied: simplegeneric>0.8 in /usr/local/lib/python3.7/dist-packages (from ipython->jupyter-dash) (0.8.1)\n",
            "Requirement already satisfied: prompt-toolkit<2.0.0,>=1.0.4 in /usr/local/lib/python3.7/dist-packages (from ipython->jupyter-dash) (1.0.18)\n",
            "Requirement already satisfied: decorator in /usr/local/lib/python3.7/dist-packages (from ipython->jupyter-dash) (4.4.2)\n",
            "Requirement already satisfied: setuptools>=18.5 in /usr/local/lib/python3.7/dist-packages (from ipython->jupyter-dash) (57.4.0)\n",
            "Requirement already satisfied: pygments in /usr/local/lib/python3.7/dist-packages (from ipython->jupyter-dash) (2.6.1)\n",
            "Requirement already satisfied: pexpect in /usr/local/lib/python3.7/dist-packages (from ipython->jupyter-dash) (4.8.0)\n",
            "Requirement already satisfied: wcwidth in /usr/local/lib/python3.7/dist-packages (from prompt-toolkit<2.0.0,>=1.0.4->ipython->jupyter-dash) (0.2.5)\n",
            "Requirement already satisfied: pyzmq>=13 in /usr/local/lib/python3.7/dist-packages (from jupyter-client->ipykernel->jupyter-dash) (22.3.0)\n",
            "Requirement already satisfied: jupyter-core>=4.6.0 in /usr/local/lib/python3.7/dist-packages (from jupyter-client->ipykernel->jupyter-dash) (4.9.1)\n",
            "Requirement already satisfied: python-dateutil>=2.1 in /usr/local/lib/python3.7/dist-packages (from jupyter-client->ipykernel->jupyter-dash) (2.8.2)\n",
            "Requirement already satisfied: ptyprocess>=0.5 in /usr/local/lib/python3.7/dist-packages (from pexpect->ipython->jupyter-dash) (0.7.0)\n",
            "Requirement already satisfied: urllib3!=1.25.0,!=1.25.1,<1.26,>=1.21.1 in /usr/local/lib/python3.7/dist-packages (from requests->jupyter-dash) (1.24.3)\n",
            "Requirement already satisfied: idna<3,>=2.5 in /usr/local/lib/python3.7/dist-packages (from requests->jupyter-dash) (2.10)\n",
            "Requirement already satisfied: certifi>=2017.4.17 in /usr/local/lib/python3.7/dist-packages (from requests->jupyter-dash) (2021.10.8)\n",
            "Requirement already satisfied: chardet<4,>=3.0.2 in /usr/local/lib/python3.7/dist-packages (from requests->jupyter-dash) (3.0.4)\n"
          ]
        }
      ]
    },
    {
      "cell_type": "markdown",
      "metadata": {
        "id": "9pltCyy2K3dd"
      },
      "source": [
        "# **Task 1: Pre-processing data batches. Elimininate erroneous/incomplete samples.**\n",
        "\n",
        "Use prior knowledge in this case regarding the maximum and minimum values each feature/sample labels can take"
      ]
    },
    {
      "cell_type": "code",
      "metadata": {
        "id": "_mUmHhqPDmP4"
      },
      "source": [
        "# As a first step we import all required libraries.\n",
        "import matplotlib.pyplot as plt\n",
        "\n",
        "from sklearn.datasets import load_diabetes\n",
        "from sklearn.ensemble import GradientBoostingRegressor\n",
        "from sklearn.ensemble import RandomForestRegressor\n",
        "from sklearn.linear_model import LinearRegression\n",
        "import seaborn as sns\n",
        "import numpy as np\n",
        "import pandas as pd"
      ],
      "execution_count": 3,
      "outputs": []
    },
    {
      "cell_type": "markdown",
      "metadata": {
        "id": "w9kjESNHF07_"
      },
      "source": [
        "# Now, we read the data and receive batches of data in increments of 100. "
      ]
    },
    {
      "cell_type": "code",
      "metadata": {
        "id": "9PQG_leKFqGT"
      },
      "source": [
        "#First we look into the first 100 samples\n",
        "X, y = load_diabetes(return_X_y=True)"
      ],
      "execution_count": 4,
      "outputs": []
    },
    {
      "cell_type": "code",
      "metadata": {
        "colab": {
          "base_uri": "https://localhost:8080/"
        },
        "id": "M_1BGc91oX6I",
        "outputId": "895d306b-196d-4a35-838d-f95868ec96c6"
      },
      "source": [
        "X.shape"
      ],
      "execution_count": 5,
      "outputs": [
        {
          "output_type": "execute_result",
          "data": {
            "text/plain": [
              "(442, 10)"
            ]
          },
          "metadata": {},
          "execution_count": 5
        }
      ]
    },
    {
      "cell_type": "markdown",
      "metadata": {
        "id": "czC1pKzR_Y8d"
      },
      "source": [
        "## Write a function 'return_dataframe' that takes in batches of data (in increments of 100) as input and returns a dataframe with the 'labels' y appended as the last column."
      ]
    },
    {
      "cell_type": "code",
      "metadata": {
        "id": "oSEaADr7_QMU"
      },
      "source": [
        "def return_dataframe(X_batch, y_batch, y_label='labels', batch_size=100) -> pd.DataFrame:\n",
        "  #####Enter Code Here\n",
        "  #######################\n",
        "  df = pd.DataFrame(X_batch)\n",
        "  df[y_label] = y_batch\n",
        "  if X_batch.shape[0] != batch_size:\n",
        "    print('Not the right batch size')\n",
        "  return df\n"
      ],
      "execution_count": 6,
      "outputs": []
    },
    {
      "cell_type": "code",
      "metadata": {
        "colab": {
          "base_uri": "https://localhost:8080/",
          "height": 204
        },
        "id": "9BKzl1PD_wpb",
        "outputId": "a08f5027-9474-4203-ec94-b421228cab8f"
      },
      "source": [
        "df=return_dataframe(X[:100,:],y[:100])  \n",
        "df.head()"
      ],
      "execution_count": 7,
      "outputs": [
        {
          "output_type": "execute_result",
          "data": {
            "text/html": [
              "<div>\n",
              "<style scoped>\n",
              "    .dataframe tbody tr th:only-of-type {\n",
              "        vertical-align: middle;\n",
              "    }\n",
              "\n",
              "    .dataframe tbody tr th {\n",
              "        vertical-align: top;\n",
              "    }\n",
              "\n",
              "    .dataframe thead th {\n",
              "        text-align: right;\n",
              "    }\n",
              "</style>\n",
              "<table border=\"1\" class=\"dataframe\">\n",
              "  <thead>\n",
              "    <tr style=\"text-align: right;\">\n",
              "      <th></th>\n",
              "      <th>0</th>\n",
              "      <th>1</th>\n",
              "      <th>2</th>\n",
              "      <th>3</th>\n",
              "      <th>4</th>\n",
              "      <th>5</th>\n",
              "      <th>6</th>\n",
              "      <th>7</th>\n",
              "      <th>8</th>\n",
              "      <th>9</th>\n",
              "      <th>labels</th>\n",
              "    </tr>\n",
              "  </thead>\n",
              "  <tbody>\n",
              "    <tr>\n",
              "      <th>0</th>\n",
              "      <td>0.038076</td>\n",
              "      <td>0.050680</td>\n",
              "      <td>0.061696</td>\n",
              "      <td>0.021872</td>\n",
              "      <td>-0.044223</td>\n",
              "      <td>-0.034821</td>\n",
              "      <td>-0.043401</td>\n",
              "      <td>-0.002592</td>\n",
              "      <td>0.019908</td>\n",
              "      <td>-0.017646</td>\n",
              "      <td>151.0</td>\n",
              "    </tr>\n",
              "    <tr>\n",
              "      <th>1</th>\n",
              "      <td>-0.001882</td>\n",
              "      <td>-0.044642</td>\n",
              "      <td>-0.051474</td>\n",
              "      <td>-0.026328</td>\n",
              "      <td>-0.008449</td>\n",
              "      <td>-0.019163</td>\n",
              "      <td>0.074412</td>\n",
              "      <td>-0.039493</td>\n",
              "      <td>-0.068330</td>\n",
              "      <td>-0.092204</td>\n",
              "      <td>75.0</td>\n",
              "    </tr>\n",
              "    <tr>\n",
              "      <th>2</th>\n",
              "      <td>0.085299</td>\n",
              "      <td>0.050680</td>\n",
              "      <td>0.044451</td>\n",
              "      <td>-0.005671</td>\n",
              "      <td>-0.045599</td>\n",
              "      <td>-0.034194</td>\n",
              "      <td>-0.032356</td>\n",
              "      <td>-0.002592</td>\n",
              "      <td>0.002864</td>\n",
              "      <td>-0.025930</td>\n",
              "      <td>141.0</td>\n",
              "    </tr>\n",
              "    <tr>\n",
              "      <th>3</th>\n",
              "      <td>-0.089063</td>\n",
              "      <td>-0.044642</td>\n",
              "      <td>-0.011595</td>\n",
              "      <td>-0.036656</td>\n",
              "      <td>0.012191</td>\n",
              "      <td>0.024991</td>\n",
              "      <td>-0.036038</td>\n",
              "      <td>0.034309</td>\n",
              "      <td>0.022692</td>\n",
              "      <td>-0.009362</td>\n",
              "      <td>206.0</td>\n",
              "    </tr>\n",
              "    <tr>\n",
              "      <th>4</th>\n",
              "      <td>0.005383</td>\n",
              "      <td>-0.044642</td>\n",
              "      <td>-0.036385</td>\n",
              "      <td>0.021872</td>\n",
              "      <td>0.003935</td>\n",
              "      <td>0.015596</td>\n",
              "      <td>0.008142</td>\n",
              "      <td>-0.002592</td>\n",
              "      <td>-0.031991</td>\n",
              "      <td>-0.046641</td>\n",
              "      <td>135.0</td>\n",
              "    </tr>\n",
              "  </tbody>\n",
              "</table>\n",
              "</div>"
            ],
            "text/plain": [
              "          0         1         2         3  ...         7         8         9  labels\n",
              "0  0.038076  0.050680  0.061696  0.021872  ... -0.002592  0.019908 -0.017646   151.0\n",
              "1 -0.001882 -0.044642 -0.051474 -0.026328  ... -0.039493 -0.068330 -0.092204    75.0\n",
              "2  0.085299  0.050680  0.044451 -0.005671  ... -0.002592  0.002864 -0.025930   141.0\n",
              "3 -0.089063 -0.044642 -0.011595 -0.036656  ...  0.034309  0.022692 -0.009362   206.0\n",
              "4  0.005383 -0.044642 -0.036385  0.021872  ... -0.002592 -0.031991 -0.046641   135.0\n",
              "\n",
              "[5 rows x 11 columns]"
            ]
          },
          "metadata": {},
          "execution_count": 7
        }
      ]
    },
    {
      "cell_type": "markdown",
      "metadata": {
        "id": "dQ_G2PQFc9hp"
      },
      "source": [
        "# Now, you need to create a function ('return_viable_samples') to check if any sample features are in error (NaN, or out of the range). \n",
        "## The function takes the batch dataframe as input, eliminates samples that are out of range or NaN valued, and converts the labels to binarized form such that df['labels']=1 for Glucose>=140 and df['labels']=0 for Glucose<140."
      ]
    },
    {
      "cell_type": "code",
      "metadata": {
        "id": "D3Vsy4Upc840"
      },
      "source": [
        "def subset_by_column(dataframe: pd.DataFrame, column_name: str, exclude=True):\n",
        "    if exclude:\n",
        "        return dataframe.loc[:, dataframe.columns != column_name]\n",
        "    else:\n",
        "        return dataframe.loc[:, dataframe.columns == column_name]\n",
        "\n",
        "\n",
        "def f(row, threshold=2, leq=True):\n",
        "    if leq:\n",
        "        return row.max() <= threshold\n",
        "    else:\n",
        "        return row.min() >= threshold\n",
        "\n",
        "\n",
        "def get_filter(dataframe: pd.DataFrame, column_name:str, range_filter: list, exclude=True):\n",
        "    subset_df = subset_by_column(dataframe=dataframe, column_name=column_name, exclude=exclude)\n",
        "    leq_filter = subset_df.apply(lambda x: f(row=x, threshold=range_filter[0], leq=False), axis=1)\n",
        "    geq_filter = subset_df.apply(lambda x: f(row=x, threshold=range_filter[1], leq=True), axis=1)\n",
        "    row_feature_filter = leq_filter & geq_filter\n",
        "    return row_feature_filter\n",
        "\n",
        "\n",
        "def return_viable_samples(df, y_label='labels', binary_threshold=140) -> pd.DataFrame:\n",
        "    # for each feature verify if they lie in the range [-0.2,0.2]\n",
        "    # for each y value, verify if they lie in range [25-350]\n",
        "    # if not then eliminate the sample\n",
        "    ############Enter your code here####################\n",
        "\n",
        "    feature_range = [-0.2, 0.2]\n",
        "    label_range = [25, 350]\n",
        "\n",
        "    feature_filter = get_filter(dataframe=df, column_name=y_label, range_filter=feature_range, exclude=True)\n",
        "    label_filter = get_filter(dataframe=df, column_name=y_label, range_filter=label_range, exclude=False)\n",
        "\n",
        "    final_filter = feature_filter & label_filter\n",
        "\n",
        "    df = df[final_filter].copy()\n",
        "    df[y_label] = (df[y_label] >= binary_threshold).astype(int)\n",
        "    return df"
      ],
      "execution_count": 8,
      "outputs": []
    },
    {
      "cell_type": "code",
      "metadata": {
        "colab": {
          "base_uri": "https://localhost:8080/",
          "height": 204
        },
        "id": "LpizhB7xl6Ag",
        "outputId": "2f8b6b50-2362-487e-ee9d-d1da170fde60"
      },
      "source": [
        "df_viable=return_viable_samples(df)\n",
        "df_viable.head()"
      ],
      "execution_count": 9,
      "outputs": [
        {
          "output_type": "execute_result",
          "data": {
            "text/html": [
              "<div>\n",
              "<style scoped>\n",
              "    .dataframe tbody tr th:only-of-type {\n",
              "        vertical-align: middle;\n",
              "    }\n",
              "\n",
              "    .dataframe tbody tr th {\n",
              "        vertical-align: top;\n",
              "    }\n",
              "\n",
              "    .dataframe thead th {\n",
              "        text-align: right;\n",
              "    }\n",
              "</style>\n",
              "<table border=\"1\" class=\"dataframe\">\n",
              "  <thead>\n",
              "    <tr style=\"text-align: right;\">\n",
              "      <th></th>\n",
              "      <th>0</th>\n",
              "      <th>1</th>\n",
              "      <th>2</th>\n",
              "      <th>3</th>\n",
              "      <th>4</th>\n",
              "      <th>5</th>\n",
              "      <th>6</th>\n",
              "      <th>7</th>\n",
              "      <th>8</th>\n",
              "      <th>9</th>\n",
              "      <th>labels</th>\n",
              "    </tr>\n",
              "  </thead>\n",
              "  <tbody>\n",
              "    <tr>\n",
              "      <th>0</th>\n",
              "      <td>0.038076</td>\n",
              "      <td>0.050680</td>\n",
              "      <td>0.061696</td>\n",
              "      <td>0.021872</td>\n",
              "      <td>-0.044223</td>\n",
              "      <td>-0.034821</td>\n",
              "      <td>-0.043401</td>\n",
              "      <td>-0.002592</td>\n",
              "      <td>0.019908</td>\n",
              "      <td>-0.017646</td>\n",
              "      <td>1</td>\n",
              "    </tr>\n",
              "    <tr>\n",
              "      <th>1</th>\n",
              "      <td>-0.001882</td>\n",
              "      <td>-0.044642</td>\n",
              "      <td>-0.051474</td>\n",
              "      <td>-0.026328</td>\n",
              "      <td>-0.008449</td>\n",
              "      <td>-0.019163</td>\n",
              "      <td>0.074412</td>\n",
              "      <td>-0.039493</td>\n",
              "      <td>-0.068330</td>\n",
              "      <td>-0.092204</td>\n",
              "      <td>0</td>\n",
              "    </tr>\n",
              "    <tr>\n",
              "      <th>2</th>\n",
              "      <td>0.085299</td>\n",
              "      <td>0.050680</td>\n",
              "      <td>0.044451</td>\n",
              "      <td>-0.005671</td>\n",
              "      <td>-0.045599</td>\n",
              "      <td>-0.034194</td>\n",
              "      <td>-0.032356</td>\n",
              "      <td>-0.002592</td>\n",
              "      <td>0.002864</td>\n",
              "      <td>-0.025930</td>\n",
              "      <td>1</td>\n",
              "    </tr>\n",
              "    <tr>\n",
              "      <th>3</th>\n",
              "      <td>-0.089063</td>\n",
              "      <td>-0.044642</td>\n",
              "      <td>-0.011595</td>\n",
              "      <td>-0.036656</td>\n",
              "      <td>0.012191</td>\n",
              "      <td>0.024991</td>\n",
              "      <td>-0.036038</td>\n",
              "      <td>0.034309</td>\n",
              "      <td>0.022692</td>\n",
              "      <td>-0.009362</td>\n",
              "      <td>1</td>\n",
              "    </tr>\n",
              "    <tr>\n",
              "      <th>4</th>\n",
              "      <td>0.005383</td>\n",
              "      <td>-0.044642</td>\n",
              "      <td>-0.036385</td>\n",
              "      <td>0.021872</td>\n",
              "      <td>0.003935</td>\n",
              "      <td>0.015596</td>\n",
              "      <td>0.008142</td>\n",
              "      <td>-0.002592</td>\n",
              "      <td>-0.031991</td>\n",
              "      <td>-0.046641</td>\n",
              "      <td>0</td>\n",
              "    </tr>\n",
              "  </tbody>\n",
              "</table>\n",
              "</div>"
            ],
            "text/plain": [
              "          0         1         2         3  ...         7         8         9  labels\n",
              "0  0.038076  0.050680  0.061696  0.021872  ... -0.002592  0.019908 -0.017646       1\n",
              "1 -0.001882 -0.044642 -0.051474 -0.026328  ... -0.039493 -0.068330 -0.092204       0\n",
              "2  0.085299  0.050680  0.044451 -0.005671  ... -0.002592  0.002864 -0.025930       1\n",
              "3 -0.089063 -0.044642 -0.011595 -0.036656  ...  0.034309  0.022692 -0.009362       1\n",
              "4  0.005383 -0.044642 -0.036385  0.021872  ... -0.002592 -0.031991 -0.046641       0\n",
              "\n",
              "[5 rows x 11 columns]"
            ]
          },
          "metadata": {},
          "execution_count": 9
        }
      ]
    },
    {
      "cell_type": "code",
      "metadata": {
        "colab": {
          "base_uri": "https://localhost:8080/",
          "height": 111
        },
        "id": "ayMS074r2t3m",
        "outputId": "b99db5cd-4956-4831-d7d9-fad31235a58c"
      },
      "source": [
        "df.describe().loc[['min', 'max']] "
      ],
      "execution_count": 10,
      "outputs": [
        {
          "output_type": "execute_result",
          "data": {
            "text/html": [
              "<div>\n",
              "<style scoped>\n",
              "    .dataframe tbody tr th:only-of-type {\n",
              "        vertical-align: middle;\n",
              "    }\n",
              "\n",
              "    .dataframe tbody tr th {\n",
              "        vertical-align: top;\n",
              "    }\n",
              "\n",
              "    .dataframe thead th {\n",
              "        text-align: right;\n",
              "    }\n",
              "</style>\n",
              "<table border=\"1\" class=\"dataframe\">\n",
              "  <thead>\n",
              "    <tr style=\"text-align: right;\">\n",
              "      <th></th>\n",
              "      <th>0</th>\n",
              "      <th>1</th>\n",
              "      <th>2</th>\n",
              "      <th>3</th>\n",
              "      <th>4</th>\n",
              "      <th>5</th>\n",
              "      <th>6</th>\n",
              "      <th>7</th>\n",
              "      <th>8</th>\n",
              "      <th>9</th>\n",
              "      <th>labels</th>\n",
              "    </tr>\n",
              "  </thead>\n",
              "  <tbody>\n",
              "    <tr>\n",
              "      <th>min</th>\n",
              "      <td>-0.107226</td>\n",
              "      <td>-0.044642</td>\n",
              "      <td>-0.083808</td>\n",
              "      <td>-0.108957</td>\n",
              "      <td>-0.126781</td>\n",
              "      <td>-0.106845</td>\n",
              "      <td>-0.102307</td>\n",
              "      <td>-0.076395</td>\n",
              "      <td>-0.096433</td>\n",
              "      <td>-0.129483</td>\n",
              "      <td>37.0</td>\n",
              "    </tr>\n",
              "    <tr>\n",
              "      <th>max</th>\n",
              "      <td>0.085299</td>\n",
              "      <td>0.050680</td>\n",
              "      <td>0.125287</td>\n",
              "      <td>0.125158</td>\n",
              "      <td>0.103003</td>\n",
              "      <td>0.108914</td>\n",
              "      <td>0.181179</td>\n",
              "      <td>0.108111</td>\n",
              "      <td>0.133599</td>\n",
              "      <td>0.135612</td>\n",
              "      <td>341.0</td>\n",
              "    </tr>\n",
              "  </tbody>\n",
              "</table>\n",
              "</div>"
            ],
            "text/plain": [
              "            0         1         2  ...         8         9  labels\n",
              "min -0.107226 -0.044642 -0.083808  ... -0.096433 -0.129483    37.0\n",
              "max  0.085299  0.050680  0.125287  ...  0.133599  0.135612   341.0\n",
              "\n",
              "[2 rows x 11 columns]"
            ]
          },
          "metadata": {},
          "execution_count": 10
        }
      ]
    },
    {
      "cell_type": "markdown",
      "metadata": {
        "id": "_fc54KRG1prU"
      },
      "source": [
        "# **Task 2: Metadata Generation for Faster Storage and Retrieval.**\n",
        "Our goal is to identify samples that are \"Easy\" vs \"Difficult\" to classify, based on the spatial clustering patterns."
      ]
    },
    {
      "cell_type": "markdown",
      "metadata": {
        "id": "2w8dzDaa2X8f"
      },
      "source": [
        "## Goal (Unsupervised Learning): Perform clustering on the \"viable\" samples per batch to identify the following:\n",
        "* The \"Easy\" samples as ones that are closer to the cluster center and away from cluster boundary.\n",
        "* The \"Difficult samples as ones that are far away from the cluster center and along the decision boundary.\n",
        "\n",
        "### Step 1: Perform PCA (dimensionality reduction) on the viable samples per batch and visualize the samples. Instead of PCA, you can also perform feature ranking and select the top 3 ranked features for this task. This is for visualization ONLY!"
      ]
    },
    {
      "cell_type": "code",
      "metadata": {
        "id": "2pzyhteE2WWu"
      },
      "source": [
        "# reduce the data to 3 dimensional. \n",
        "from sklearn.decomposition import PCA\n",
        "X_b=df_viable.iloc[:,:9].values\n",
        "y_b=df_viable.iloc[:,10].values\n",
        "pca=PCA(n_components=3)\n",
        "X_red=pca.fit_transform(X_b)"
      ],
      "execution_count": 11,
      "outputs": []
    },
    {
      "cell_type": "code",
      "metadata": {
        "colab": {
          "base_uri": "https://localhost:8080/",
          "height": 204
        },
        "id": "HJf_6EI260FT",
        "outputId": "8ee6c3bf-0952-42f7-8772-568be30f7bc4"
      },
      "source": [
        "data=pd.DataFrame(X_red,columns = ['PC1','PC2','PC3'])\n",
        "data['labels']=y_b\n",
        "data.head()"
      ],
      "execution_count": 12,
      "outputs": [
        {
          "output_type": "execute_result",
          "data": {
            "text/html": [
              "<div>\n",
              "<style scoped>\n",
              "    .dataframe tbody tr th:only-of-type {\n",
              "        vertical-align: middle;\n",
              "    }\n",
              "\n",
              "    .dataframe tbody tr th {\n",
              "        vertical-align: top;\n",
              "    }\n",
              "\n",
              "    .dataframe thead th {\n",
              "        text-align: right;\n",
              "    }\n",
              "</style>\n",
              "<table border=\"1\" class=\"dataframe\">\n",
              "  <thead>\n",
              "    <tr style=\"text-align: right;\">\n",
              "      <th></th>\n",
              "      <th>PC1</th>\n",
              "      <th>PC2</th>\n",
              "      <th>PC3</th>\n",
              "      <th>labels</th>\n",
              "    </tr>\n",
              "  </thead>\n",
              "  <tbody>\n",
              "    <tr>\n",
              "      <th>0</th>\n",
              "      <td>0.079283</td>\n",
              "      <td>-0.047286</td>\n",
              "      <td>0.084290</td>\n",
              "      <td>1</td>\n",
              "    </tr>\n",
              "    <tr>\n",
              "      <th>1</th>\n",
              "      <td>-0.080987</td>\n",
              "      <td>0.056956</td>\n",
              "      <td>-0.013405</td>\n",
              "      <td>0</td>\n",
              "    </tr>\n",
              "    <tr>\n",
              "      <th>2</th>\n",
              "      <td>0.070035</td>\n",
              "      <td>-0.028062</td>\n",
              "      <td>0.101429</td>\n",
              "      <td>1</td>\n",
              "    </tr>\n",
              "    <tr>\n",
              "      <th>3</th>\n",
              "      <td>0.021351</td>\n",
              "      <td>-0.049986</td>\n",
              "      <td>-0.099122</td>\n",
              "      <td>1</td>\n",
              "    </tr>\n",
              "    <tr>\n",
              "      <th>4</th>\n",
              "      <td>0.005135</td>\n",
              "      <td>0.029675</td>\n",
              "      <td>-0.026076</td>\n",
              "      <td>0</td>\n",
              "    </tr>\n",
              "  </tbody>\n",
              "</table>\n",
              "</div>"
            ],
            "text/plain": [
              "        PC1       PC2       PC3  labels\n",
              "0  0.079283 -0.047286  0.084290       1\n",
              "1 -0.080987  0.056956 -0.013405       0\n",
              "2  0.070035 -0.028062  0.101429       1\n",
              "3  0.021351 -0.049986 -0.099122       1\n",
              "4  0.005135  0.029675 -0.026076       0"
            ]
          },
          "metadata": {},
          "execution_count": 12
        }
      ]
    },
    {
      "cell_type": "code",
      "metadata": {
        "colab": {
          "base_uri": "https://localhost:8080/",
          "height": 542
        },
        "id": "wA1w-1in7BbM",
        "outputId": "c28d8e10-fb3c-446d-f8a3-bf01e57f373a"
      },
      "source": [
        "# Now, we plot the samples from the first 100 samples to see if the samples from Diabetic/vs not Diabetic clusters overlap or not.\n",
        "import plotly.express as px\n",
        "\n",
        "fig = px.scatter_3d(data, x='PC1', y='PC2', z='PC3',color='labels')\n",
        "fig.show()"
      ],
      "execution_count": 13,
      "outputs": [
        {
          "output_type": "display_data",
          "data": {
            "text/html": [
              "<html>\n",
              "<head><meta charset=\"utf-8\" /></head>\n",
              "<body>\n",
              "    <div>            <script src=\"https://cdnjs.cloudflare.com/ajax/libs/mathjax/2.7.5/MathJax.js?config=TeX-AMS-MML_SVG\"></script><script type=\"text/javascript\">if (window.MathJax) {MathJax.Hub.Config({SVG: {font: \"STIX-Web\"}});}</script>                <script type=\"text/javascript\">window.PlotlyConfig = {MathJaxConfig: 'local'};</script>\n",
              "        <script src=\"https://cdn.plot.ly/plotly-2.6.3.min.js\"></script>                <div id=\"bcf8b38a-3443-4a5d-b951-80e7decb8b09\" class=\"plotly-graph-div\" style=\"height:525px; width:100%;\"></div>            <script type=\"text/javascript\">                                    window.PLOTLYENV=window.PLOTLYENV || {};                                    if (document.getElementById(\"bcf8b38a-3443-4a5d-b951-80e7decb8b09\")) {                    Plotly.newPlot(                        \"bcf8b38a-3443-4a5d-b951-80e7decb8b09\",                        [{\"hovertemplate\":\"PC1=%{x}<br>PC2=%{y}<br>PC3=%{z}<br>labels=%{marker.color}<extra></extra>\",\"legendgroup\":\"\",\"marker\":{\"color\":[1,0,1,1,0,0,0,0,0,1,0,0,1,1,0,1,1,1,0,1,0,0,0,1,1,1,0,0,0,1,0,0,1,0,0,0,1,1,1,0,0,0,0,0,1,0,1,1,0,1,1,1,0,0,1,0,0,0,1,1,0,1,0,0,0,1,1,0,1,1,0,1,1,0,0,0,1,1,1,0,1,0,0,1,0,1,0,0,0,0,0,1,0,0,0,1,1,1,0,0],\"coloraxis\":\"coloraxis\",\"symbol\":\"circle\"},\"mode\":\"markers\",\"name\":\"\",\"scene\":\"scene\",\"showlegend\":false,\"x\":[0.07928348021896627,-0.08098670262161574,0.07003468096408384,0.021350744520587064,0.00513540688045811,-0.13752764474915746,-0.04178453774014333,0.1412451642716741,0.0688575803677316,0.010252189397944625,-0.14722522532203552,0.08566154286466145,-0.03729163337134093,0.05845014536351913,-0.03102870857497036,0.18845536649749853,0.017556061162297906,0.15452778801559508,-0.02583520799281416,-0.046583654351623704,-0.07899868033412975,-0.04812035860803767,-0.0557297208612441,0.17430947509163808,-0.022371501910454387,0.05038548721012392,-0.1628220193450724,-0.03961020267779812,-0.038468934811759795,0.009777049045298906,-0.03302141964654864,-0.13015715610662362,0.16384449390420278,-0.11273399867004641,-0.09004613658352888,-0.005633465496464005,0.023900293451691736,-0.04453493371452294,0.21377336213438197,0.043136475138034466,0.12398033787947745,-0.15312149629574953,0.022948885806060394,-0.08914327761973401,0.1475784735992069,0.05056828353176702,-0.06613372206608363,-0.11283276421414112,0.01266720536939511,0.10353823017864315,-0.021607898260691916,0.06472301405829327,0.007882478505224813,0.023741968093209317,-0.023384952022815653,-0.09872724327324651,0.011571375591503442,-0.15833299097052328,-0.08822032275587681,0.10191511132999671,-0.13226671670721518,0.06743721902889661,-0.044429798646130676,-0.00954548438308233,-0.01368114168887904,0.11547511035279057,0.082812916764671,0.052602473226549845,0.018480860790472113,-0.06929357412785062,-0.0733690744446464,0.0907680993731708,0.1199829108533905,0.09144748075101587,0.05619226028562852,0.03330507169570032,-0.01909727821577074,-0.11361181130497987,-0.021197904825020143,-0.05342356652616068,0.08359431842133286,0.06984389210933338,-0.06392333928386448,-0.0621170771141852,-0.10420659968471843,0.011845127695918353,-0.047269363142382954,0.021722181959014177,-0.06166829862807663,-0.07015769504380269,-0.1071129012484077,0.10019412563417514,0.002158513482155849,-0.10665648967352406,-0.07382968611124045,-0.05786984778619389,0.12656655255245147,0.0742696378021153,0.01345623143842154,0.04353702489455522],\"y\":[-0.047285510849114455,0.05695552863886561,-0.028062455990092314,-0.04998644079971334,0.029674567094309004,-0.02993786216747373,-0.039760325526148534,0.10775415564736461,-0.02656608217000807,-0.05212043857926609,-0.0797854604367604,-0.06191525184599624,0.05144445318507578,-0.00796611850533727,0.09857745699053888,0.005048772711331927,0.08435947072440328,0.023688250650367476,-0.051436099259908656,0.024346868326563458,-0.03429969559784401,-0.04189575249103528,0.0009449032039587887,-0.0336275777455154,-0.04263520874174213,-0.09187118313465355,-0.058129066258109076,-0.022025579645483604,-0.005567876060936526,0.046844647974393444,9.967872290162965e-05,0.01677967751769537,-0.11820017378506852,0.08207278607038929,-0.016144685136478813,0.12960227147344752,0.059396708592749585,0.00449706359284941,0.03742412557320032,-0.028465173696874943,0.01784788769123337,-0.07746943809353528,-0.10285033477957808,0.10966942519115885,-0.06636670356996846,0.000846807175809695,-0.0363834420480333,-0.08954140848755379,0.06164177374966926,-0.09377466528640976,0.005219399287017523,-0.02354802363485514,0.037028862380036484,0.043289110045913695,0.05006056093127748,0.0472396596690224,-0.058026966421353667,-0.019061512452099433,0.1709130637898201,0.08447305983501008,-0.019570030925879993,-0.1303401139150082,0.014826506185414829,-0.0029689801820469985,-0.02383370690872099,-0.05661946494712044,-0.08917803489277087,-0.003459245330480069,-0.02620454103340155,-0.03226068765875597,0.06459184695703028,0.045888245501556846,0.11523929885798283,0.015871139646989676,0.06434631847562466,-0.03220718471562089,-0.11370793428695285,-0.044781473881912406,-0.07022902812223156,-0.019064335991237497,0.12718392756574234,-0.01800778017901188,0.09537589252081104,-0.05080874952857809,0.013068441905621701,0.0380533216219739,-0.09318440637061261,0.1397005476728767,-0.02654143774546077,0.04304571031626418,0.053543128192044466,0.04345329328816455,0.07389806378317748,0.023643673383219755,0.03308232609715749,-0.08540758866829548,-0.016210862779741268,-0.019940187947319943,-0.002933331184436738,0.01961294198451757],\"z\":[0.08429001059023099,-0.013404748709186487,0.1014287322513963,-0.09912187931303913,-0.026075551079504215,0.0050424329809230055,0.003344635114645388,-0.04089196842541988,0.034720608757823485,-0.022110700628531283,0.016166475119715952,-0.03717380198286327,0.0027634998760780035,0.033681328461465335,0.006897658844964226,-0.11946812495804397,0.023646589778286153,0.021019363139336934,-0.024357380893616394,-0.023472699488836752,-0.01045147847192295,-0.014551890056434065,-0.06927880217638085,0.06971671130499585,-0.03394834794052183,-0.04140325958677406,0.006549219016973528,0.018827601795395044,0.043658905978846,0.1625327068100424,-0.033391199147058084,0.00558428442258957,0.04919459729964117,0.0821798866963167,0.023290622151182633,0.0320774327941648,0.04032412359125473,0.01698017062957257,-0.04053137600405276,-0.0033291316994505894,-0.049275102496592386,-0.034358266207225686,-0.004116956317983212,-0.006146004600638864,0.03685528766795125,0.03050596495403751,-0.0030393163731292994,-0.003096007026545605,0.04455978261464614,-0.025297560177219992,0.050847933270580244,0.08495700907053831,-0.08791394446627196,-0.028709018065042682,-0.050497797780647974,-0.03641465299833446,-0.006331548826189489,0.05269496488369291,0.0612799592020266,0.005927998294752697,0.015411873163618046,-0.006503723507595197,-0.004121945464619235,-0.08785513428229226,0.1020240168839727,-0.028743338362019966,-0.02241959567654507,0.02605808560026167,0.04528036773773798,0.050147938961790366,-0.020599278703499313,-0.0038755912252350683,-0.001843070431060553,-0.03707284028727539,0.023672174609110957,0.0028452965744880866,0.12172681444512941,-0.06321368231597961,0.04523889916250023,-0.10758003157093729,-0.011531603168953776,-0.01998998892952656,-0.0542297764069702,0.013088426463798502,-0.009435930378361178,0.029206728392154484,-0.03807302411695046,0.002364866477507698,-0.0007336057761090021,-0.034114984819564584,0.026898559620636437,-0.05329523672103948,0.018238863526415666,-0.05398591558291626,-0.05184829948190537,-0.04746147099494796,0.06424887423598043,-0.06439401087712869,0.032194748760856824,-0.0591124370011353],\"type\":\"scatter3d\"}],                        {\"template\":{\"data\":{\"bar\":[{\"error_x\":{\"color\":\"#2a3f5f\"},\"error_y\":{\"color\":\"#2a3f5f\"},\"marker\":{\"line\":{\"color\":\"#E5ECF6\",\"width\":0.5},\"pattern\":{\"fillmode\":\"overlay\",\"size\":10,\"solidity\":0.2}},\"type\":\"bar\"}],\"barpolar\":[{\"marker\":{\"line\":{\"color\":\"#E5ECF6\",\"width\":0.5},\"pattern\":{\"fillmode\":\"overlay\",\"size\":10,\"solidity\":0.2}},\"type\":\"barpolar\"}],\"carpet\":[{\"aaxis\":{\"endlinecolor\":\"#2a3f5f\",\"gridcolor\":\"white\",\"linecolor\":\"white\",\"minorgridcolor\":\"white\",\"startlinecolor\":\"#2a3f5f\"},\"baxis\":{\"endlinecolor\":\"#2a3f5f\",\"gridcolor\":\"white\",\"linecolor\":\"white\",\"minorgridcolor\":\"white\",\"startlinecolor\":\"#2a3f5f\"},\"type\":\"carpet\"}],\"choropleth\":[{\"colorbar\":{\"outlinewidth\":0,\"ticks\":\"\"},\"type\":\"choropleth\"}],\"contour\":[{\"colorbar\":{\"outlinewidth\":0,\"ticks\":\"\"},\"colorscale\":[[0.0,\"#0d0887\"],[0.1111111111111111,\"#46039f\"],[0.2222222222222222,\"#7201a8\"],[0.3333333333333333,\"#9c179e\"],[0.4444444444444444,\"#bd3786\"],[0.5555555555555556,\"#d8576b\"],[0.6666666666666666,\"#ed7953\"],[0.7777777777777778,\"#fb9f3a\"],[0.8888888888888888,\"#fdca26\"],[1.0,\"#f0f921\"]],\"type\":\"contour\"}],\"contourcarpet\":[{\"colorbar\":{\"outlinewidth\":0,\"ticks\":\"\"},\"type\":\"contourcarpet\"}],\"heatmap\":[{\"colorbar\":{\"outlinewidth\":0,\"ticks\":\"\"},\"colorscale\":[[0.0,\"#0d0887\"],[0.1111111111111111,\"#46039f\"],[0.2222222222222222,\"#7201a8\"],[0.3333333333333333,\"#9c179e\"],[0.4444444444444444,\"#bd3786\"],[0.5555555555555556,\"#d8576b\"],[0.6666666666666666,\"#ed7953\"],[0.7777777777777778,\"#fb9f3a\"],[0.8888888888888888,\"#fdca26\"],[1.0,\"#f0f921\"]],\"type\":\"heatmap\"}],\"heatmapgl\":[{\"colorbar\":{\"outlinewidth\":0,\"ticks\":\"\"},\"colorscale\":[[0.0,\"#0d0887\"],[0.1111111111111111,\"#46039f\"],[0.2222222222222222,\"#7201a8\"],[0.3333333333333333,\"#9c179e\"],[0.4444444444444444,\"#bd3786\"],[0.5555555555555556,\"#d8576b\"],[0.6666666666666666,\"#ed7953\"],[0.7777777777777778,\"#fb9f3a\"],[0.8888888888888888,\"#fdca26\"],[1.0,\"#f0f921\"]],\"type\":\"heatmapgl\"}],\"histogram\":[{\"marker\":{\"pattern\":{\"fillmode\":\"overlay\",\"size\":10,\"solidity\":0.2}},\"type\":\"histogram\"}],\"histogram2d\":[{\"colorbar\":{\"outlinewidth\":0,\"ticks\":\"\"},\"colorscale\":[[0.0,\"#0d0887\"],[0.1111111111111111,\"#46039f\"],[0.2222222222222222,\"#7201a8\"],[0.3333333333333333,\"#9c179e\"],[0.4444444444444444,\"#bd3786\"],[0.5555555555555556,\"#d8576b\"],[0.6666666666666666,\"#ed7953\"],[0.7777777777777778,\"#fb9f3a\"],[0.8888888888888888,\"#fdca26\"],[1.0,\"#f0f921\"]],\"type\":\"histogram2d\"}],\"histogram2dcontour\":[{\"colorbar\":{\"outlinewidth\":0,\"ticks\":\"\"},\"colorscale\":[[0.0,\"#0d0887\"],[0.1111111111111111,\"#46039f\"],[0.2222222222222222,\"#7201a8\"],[0.3333333333333333,\"#9c179e\"],[0.4444444444444444,\"#bd3786\"],[0.5555555555555556,\"#d8576b\"],[0.6666666666666666,\"#ed7953\"],[0.7777777777777778,\"#fb9f3a\"],[0.8888888888888888,\"#fdca26\"],[1.0,\"#f0f921\"]],\"type\":\"histogram2dcontour\"}],\"mesh3d\":[{\"colorbar\":{\"outlinewidth\":0,\"ticks\":\"\"},\"type\":\"mesh3d\"}],\"parcoords\":[{\"line\":{\"colorbar\":{\"outlinewidth\":0,\"ticks\":\"\"}},\"type\":\"parcoords\"}],\"pie\":[{\"automargin\":true,\"type\":\"pie\"}],\"scatter\":[{\"marker\":{\"colorbar\":{\"outlinewidth\":0,\"ticks\":\"\"}},\"type\":\"scatter\"}],\"scatter3d\":[{\"line\":{\"colorbar\":{\"outlinewidth\":0,\"ticks\":\"\"}},\"marker\":{\"colorbar\":{\"outlinewidth\":0,\"ticks\":\"\"}},\"type\":\"scatter3d\"}],\"scattercarpet\":[{\"marker\":{\"colorbar\":{\"outlinewidth\":0,\"ticks\":\"\"}},\"type\":\"scattercarpet\"}],\"scattergeo\":[{\"marker\":{\"colorbar\":{\"outlinewidth\":0,\"ticks\":\"\"}},\"type\":\"scattergeo\"}],\"scattergl\":[{\"marker\":{\"colorbar\":{\"outlinewidth\":0,\"ticks\":\"\"}},\"type\":\"scattergl\"}],\"scattermapbox\":[{\"marker\":{\"colorbar\":{\"outlinewidth\":0,\"ticks\":\"\"}},\"type\":\"scattermapbox\"}],\"scatterpolar\":[{\"marker\":{\"colorbar\":{\"outlinewidth\":0,\"ticks\":\"\"}},\"type\":\"scatterpolar\"}],\"scatterpolargl\":[{\"marker\":{\"colorbar\":{\"outlinewidth\":0,\"ticks\":\"\"}},\"type\":\"scatterpolargl\"}],\"scatterternary\":[{\"marker\":{\"colorbar\":{\"outlinewidth\":0,\"ticks\":\"\"}},\"type\":\"scatterternary\"}],\"surface\":[{\"colorbar\":{\"outlinewidth\":0,\"ticks\":\"\"},\"colorscale\":[[0.0,\"#0d0887\"],[0.1111111111111111,\"#46039f\"],[0.2222222222222222,\"#7201a8\"],[0.3333333333333333,\"#9c179e\"],[0.4444444444444444,\"#bd3786\"],[0.5555555555555556,\"#d8576b\"],[0.6666666666666666,\"#ed7953\"],[0.7777777777777778,\"#fb9f3a\"],[0.8888888888888888,\"#fdca26\"],[1.0,\"#f0f921\"]],\"type\":\"surface\"}],\"table\":[{\"cells\":{\"fill\":{\"color\":\"#EBF0F8\"},\"line\":{\"color\":\"white\"}},\"header\":{\"fill\":{\"color\":\"#C8D4E3\"},\"line\":{\"color\":\"white\"}},\"type\":\"table\"}]},\"layout\":{\"annotationdefaults\":{\"arrowcolor\":\"#2a3f5f\",\"arrowhead\":0,\"arrowwidth\":1},\"autotypenumbers\":\"strict\",\"coloraxis\":{\"colorbar\":{\"outlinewidth\":0,\"ticks\":\"\"}},\"colorscale\":{\"diverging\":[[0,\"#8e0152\"],[0.1,\"#c51b7d\"],[0.2,\"#de77ae\"],[0.3,\"#f1b6da\"],[0.4,\"#fde0ef\"],[0.5,\"#f7f7f7\"],[0.6,\"#e6f5d0\"],[0.7,\"#b8e186\"],[0.8,\"#7fbc41\"],[0.9,\"#4d9221\"],[1,\"#276419\"]],\"sequential\":[[0.0,\"#0d0887\"],[0.1111111111111111,\"#46039f\"],[0.2222222222222222,\"#7201a8\"],[0.3333333333333333,\"#9c179e\"],[0.4444444444444444,\"#bd3786\"],[0.5555555555555556,\"#d8576b\"],[0.6666666666666666,\"#ed7953\"],[0.7777777777777778,\"#fb9f3a\"],[0.8888888888888888,\"#fdca26\"],[1.0,\"#f0f921\"]],\"sequentialminus\":[[0.0,\"#0d0887\"],[0.1111111111111111,\"#46039f\"],[0.2222222222222222,\"#7201a8\"],[0.3333333333333333,\"#9c179e\"],[0.4444444444444444,\"#bd3786\"],[0.5555555555555556,\"#d8576b\"],[0.6666666666666666,\"#ed7953\"],[0.7777777777777778,\"#fb9f3a\"],[0.8888888888888888,\"#fdca26\"],[1.0,\"#f0f921\"]]},\"colorway\":[\"#636efa\",\"#EF553B\",\"#00cc96\",\"#ab63fa\",\"#FFA15A\",\"#19d3f3\",\"#FF6692\",\"#B6E880\",\"#FF97FF\",\"#FECB52\"],\"font\":{\"color\":\"#2a3f5f\"},\"geo\":{\"bgcolor\":\"white\",\"lakecolor\":\"white\",\"landcolor\":\"#E5ECF6\",\"showlakes\":true,\"showland\":true,\"subunitcolor\":\"white\"},\"hoverlabel\":{\"align\":\"left\"},\"hovermode\":\"closest\",\"mapbox\":{\"style\":\"light\"},\"paper_bgcolor\":\"white\",\"plot_bgcolor\":\"#E5ECF6\",\"polar\":{\"angularaxis\":{\"gridcolor\":\"white\",\"linecolor\":\"white\",\"ticks\":\"\"},\"bgcolor\":\"#E5ECF6\",\"radialaxis\":{\"gridcolor\":\"white\",\"linecolor\":\"white\",\"ticks\":\"\"}},\"scene\":{\"xaxis\":{\"backgroundcolor\":\"#E5ECF6\",\"gridcolor\":\"white\",\"gridwidth\":2,\"linecolor\":\"white\",\"showbackground\":true,\"ticks\":\"\",\"zerolinecolor\":\"white\"},\"yaxis\":{\"backgroundcolor\":\"#E5ECF6\",\"gridcolor\":\"white\",\"gridwidth\":2,\"linecolor\":\"white\",\"showbackground\":true,\"ticks\":\"\",\"zerolinecolor\":\"white\"},\"zaxis\":{\"backgroundcolor\":\"#E5ECF6\",\"gridcolor\":\"white\",\"gridwidth\":2,\"linecolor\":\"white\",\"showbackground\":true,\"ticks\":\"\",\"zerolinecolor\":\"white\"}},\"shapedefaults\":{\"line\":{\"color\":\"#2a3f5f\"}},\"ternary\":{\"aaxis\":{\"gridcolor\":\"white\",\"linecolor\":\"white\",\"ticks\":\"\"},\"baxis\":{\"gridcolor\":\"white\",\"linecolor\":\"white\",\"ticks\":\"\"},\"bgcolor\":\"#E5ECF6\",\"caxis\":{\"gridcolor\":\"white\",\"linecolor\":\"white\",\"ticks\":\"\"}},\"title\":{\"x\":0.05},\"xaxis\":{\"automargin\":true,\"gridcolor\":\"white\",\"linecolor\":\"white\",\"ticks\":\"\",\"title\":{\"standoff\":15},\"zerolinecolor\":\"white\",\"zerolinewidth\":2},\"yaxis\":{\"automargin\":true,\"gridcolor\":\"white\",\"linecolor\":\"white\",\"ticks\":\"\",\"title\":{\"standoff\":15},\"zerolinecolor\":\"white\",\"zerolinewidth\":2}}},\"scene\":{\"domain\":{\"x\":[0.0,1.0],\"y\":[0.0,1.0]},\"xaxis\":{\"title\":{\"text\":\"PC1\"}},\"yaxis\":{\"title\":{\"text\":\"PC2\"}},\"zaxis\":{\"title\":{\"text\":\"PC3\"}}},\"coloraxis\":{\"colorbar\":{\"title\":{\"text\":\"labels\"}},\"colorscale\":[[0.0,\"#0d0887\"],[0.1111111111111111,\"#46039f\"],[0.2222222222222222,\"#7201a8\"],[0.3333333333333333,\"#9c179e\"],[0.4444444444444444,\"#bd3786\"],[0.5555555555555556,\"#d8576b\"],[0.6666666666666666,\"#ed7953\"],[0.7777777777777778,\"#fb9f3a\"],[0.8888888888888888,\"#fdca26\"],[1.0,\"#f0f921\"]]},\"legend\":{\"tracegroupgap\":0},\"margin\":{\"t\":60}},                        {\"responsive\": true}                    ).then(function(){\n",
              "                            \n",
              "var gd = document.getElementById('bcf8b38a-3443-4a5d-b951-80e7decb8b09');\n",
              "var x = new MutationObserver(function (mutations, observer) {{\n",
              "        var display = window.getComputedStyle(gd).display;\n",
              "        if (!display || display === 'none') {{\n",
              "            console.log([gd, 'removed!']);\n",
              "            Plotly.purge(gd);\n",
              "            observer.disconnect();\n",
              "        }}\n",
              "}});\n",
              "\n",
              "// Listen for the removal of the full notebook cells\n",
              "var notebookContainer = gd.closest('#notebook-container');\n",
              "if (notebookContainer) {{\n",
              "    x.observe(notebookContainer, {childList: true});\n",
              "}}\n",
              "\n",
              "// Listen for the clearing of the current output cell\n",
              "var outputEl = gd.closest('.output');\n",
              "if (outputEl) {{\n",
              "    x.observe(outputEl, {childList: true});\n",
              "}}\n",
              "\n",
              "                        })                };                            </script>        </div>\n",
              "</body>\n",
              "</html>"
            ]
          },
          "metadata": {}
        }
      ]
    },
    {
      "cell_type": "markdown",
      "metadata": {
        "id": "GTvykVfABI42"
      },
      "source": [
        "## **So we notice that all the samples ar not eaqually easy to classify.**\n",
        "Some are away from the decision boundary (easy to classify) while several samples lie along the decision boundary (difficult to classify). We will now tag the samples as Easy/Diiffult to classify!"
      ]
    },
    {
      "cell_type": "markdown",
      "metadata": {
        "id": "8p7WD14z7Nbw"
      },
      "source": [
        "## Step 2: Identify \"Easy\" and \"Difficult\" to classify samples using the some \"Clustering Performance Evaluation Metrics\" at https://scikit-learn.org/stable/modules/clustering.html#clustering-performance-evaluation\n",
        "\n",
        "### One way of identifying \"Difficult\" samples is to perform k-means clustering on all the data and identify the samples that get misclassified. You can come up with your own function to identify \"Easy\" and \"Difficult\" samples.\n",
        "\n",
        "# **Create a function that accepts a batch of viable samples and appends a column at the end that indicates if the sample is \"Easy or Not\".**\n",
        "\n",
        "### One well known metric is the **Sihouette score** per sample that identifies if the sample is at cluster boundary or not. +1= \"Easy\" sample, close to 0 value implies overlapping clusters or \"Difficult\" sample. Use the command in the [sklearn documentation page](https://scikit-learn.org/stable/modules/generated/sklearn.metrics.silhouette_samples.html#:~:text=The%20Silhouette%20Coefficient%20is%20calculated,n_labels%20%3C%3D%20n_samples%20%2D%201%20.)"
      ]
    },
    {
      "cell_type": "code",
      "metadata": {
        "colab": {
          "base_uri": "https://localhost:8080/",
          "height": 350
        },
        "id": "m1ov_ZsH8D8o",
        "outputId": "80406376-fa5e-409f-c326-080ac4f3b065"
      },
      "source": [
        "import numpy as np\n",
        "from sklearn import metrics\n",
        "from sklearn.cluster import KMeans\n",
        "kmeans_model = KMeans(n_clusters=2, random_state=1).fit(X_red)\n",
        "labels = kmeans_model.labels_\n",
        "vals=metrics.silhouette_samples(X_red, labels)\n",
        "plt.hist(vals)"
      ],
      "execution_count": 14,
      "outputs": [
        {
          "output_type": "execute_result",
          "data": {
            "text/plain": [
              "(array([ 6.,  6.,  7.,  5.,  5., 10., 18., 20., 14.,  9.]),\n",
              " array([-0.03036938,  0.02774819,  0.08586577,  0.14398334,  0.20210092,\n",
              "         0.26021849,  0.31833607,  0.37645364,  0.43457122,  0.49268879,\n",
              "         0.55080637]),\n",
              " <a list of 10 Patch objects>)"
            ]
          },
          "metadata": {},
          "execution_count": 14
        },
        {
          "output_type": "display_data",
          "data": {
            "image/png": "[encoded data removed]",
            "text/plain": [
              "<Figure size 432x288 with 1 Axes>"
            ]
          },
          "metadata": {
            "needs_background": "light"
          }
        }
      ]
    },
    {
      "cell_type": "markdown",
      "metadata": {
        "id": "p2DQUyFA-mP6"
      },
      "source": [
        "## In this case, we can **empirically use a threshold of 0.2** for silhouette scores per sample. So, all samples with silhouette scores>=0.2 are \"easy\" and all remaining samples are \"difficult\". Add a column to dataframe \"data\" as the (Easy/or not) label.\n",
        "\n",
        "# **Note that the threshold for Silhouette scores of 0.2 can be experimentally determined through quartile estimations as well. In this case we look at the histogram above and see that most samples have high scores between [0.3-0.55]. So we arbitrarily set up the threshold of 0.2 here.**"
      ]
    },
    {
      "cell_type": "code",
      "metadata": {
        "colab": {
          "base_uri": "https://localhost:8080/",
          "height": 204
        },
        "id": "YUg0yp4g-hhd",
        "outputId": "c188b278-2bc2-4311-e5cb-cfe01cc18940"
      },
      "source": [
        "easy=(vals>=0.2).astype(int)\n",
        "df_viable['Easy']=easy\n",
        "df_viable.head()"
      ],
      "execution_count": 15,
      "outputs": [
        {
          "output_type": "execute_result",
          "data": {
            "text/html": [
              "<div>\n",
              "<style scoped>\n",
              "    .dataframe tbody tr th:only-of-type {\n",
              "        vertical-align: middle;\n",
              "    }\n",
              "\n",
              "    .dataframe tbody tr th {\n",
              "        vertical-align: top;\n",
              "    }\n",
              "\n",
              "    .dataframe thead th {\n",
              "        text-align: right;\n",
              "    }\n",
              "</style>\n",
              "<table border=\"1\" class=\"dataframe\">\n",
              "  <thead>\n",
              "    <tr style=\"text-align: right;\">\n",
              "      <th></th>\n",
              "      <th>0</th>\n",
              "      <th>1</th>\n",
              "      <th>2</th>\n",
              "      <th>3</th>\n",
              "      <th>4</th>\n",
              "      <th>5</th>\n",
              "      <th>6</th>\n",
              "      <th>7</th>\n",
              "      <th>8</th>\n",
              "      <th>9</th>\n",
              "      <th>labels</th>\n",
              "      <th>Easy</th>\n",
              "    </tr>\n",
              "  </thead>\n",
              "  <tbody>\n",
              "    <tr>\n",
              "      <th>0</th>\n",
              "      <td>0.038076</td>\n",
              "      <td>0.050680</td>\n",
              "      <td>0.061696</td>\n",
              "      <td>0.021872</td>\n",
              "      <td>-0.044223</td>\n",
              "      <td>-0.034821</td>\n",
              "      <td>-0.043401</td>\n",
              "      <td>-0.002592</td>\n",
              "      <td>0.019908</td>\n",
              "      <td>-0.017646</td>\n",
              "      <td>1</td>\n",
              "      <td>1</td>\n",
              "    </tr>\n",
              "    <tr>\n",
              "      <th>1</th>\n",
              "      <td>-0.001882</td>\n",
              "      <td>-0.044642</td>\n",
              "      <td>-0.051474</td>\n",
              "      <td>-0.026328</td>\n",
              "      <td>-0.008449</td>\n",
              "      <td>-0.019163</td>\n",
              "      <td>0.074412</td>\n",
              "      <td>-0.039493</td>\n",
              "      <td>-0.068330</td>\n",
              "      <td>-0.092204</td>\n",
              "      <td>0</td>\n",
              "      <td>1</td>\n",
              "    </tr>\n",
              "    <tr>\n",
              "      <th>2</th>\n",
              "      <td>0.085299</td>\n",
              "      <td>0.050680</td>\n",
              "      <td>0.044451</td>\n",
              "      <td>-0.005671</td>\n",
              "      <td>-0.045599</td>\n",
              "      <td>-0.034194</td>\n",
              "      <td>-0.032356</td>\n",
              "      <td>-0.002592</td>\n",
              "      <td>0.002864</td>\n",
              "      <td>-0.025930</td>\n",
              "      <td>1</td>\n",
              "      <td>1</td>\n",
              "    </tr>\n",
              "    <tr>\n",
              "      <th>3</th>\n",
              "      <td>-0.089063</td>\n",
              "      <td>-0.044642</td>\n",
              "      <td>-0.011595</td>\n",
              "      <td>-0.036656</td>\n",
              "      <td>0.012191</td>\n",
              "      <td>0.024991</td>\n",
              "      <td>-0.036038</td>\n",
              "      <td>0.034309</td>\n",
              "      <td>0.022692</td>\n",
              "      <td>-0.009362</td>\n",
              "      <td>1</td>\n",
              "      <td>0</td>\n",
              "    </tr>\n",
              "    <tr>\n",
              "      <th>4</th>\n",
              "      <td>0.005383</td>\n",
              "      <td>-0.044642</td>\n",
              "      <td>-0.036385</td>\n",
              "      <td>0.021872</td>\n",
              "      <td>0.003935</td>\n",
              "      <td>0.015596</td>\n",
              "      <td>0.008142</td>\n",
              "      <td>-0.002592</td>\n",
              "      <td>-0.031991</td>\n",
              "      <td>-0.046641</td>\n",
              "      <td>0</td>\n",
              "      <td>0</td>\n",
              "    </tr>\n",
              "  </tbody>\n",
              "</table>\n",
              "</div>"
            ],
            "text/plain": [
              "          0         1         2         3  ...         8         9  labels  Easy\n",
              "0  0.038076  0.050680  0.061696  0.021872  ...  0.019908 -0.017646       1     1\n",
              "1 -0.001882 -0.044642 -0.051474 -0.026328  ... -0.068330 -0.092204       0     1\n",
              "2  0.085299  0.050680  0.044451 -0.005671  ...  0.002864 -0.025930       1     1\n",
              "3 -0.089063 -0.044642 -0.011595 -0.036656  ...  0.022692 -0.009362       1     0\n",
              "4  0.005383 -0.044642 -0.036385  0.021872  ... -0.031991 -0.046641       0     0\n",
              "\n",
              "[5 rows x 12 columns]"
            ]
          },
          "metadata": {},
          "execution_count": 15
        }
      ]
    },
    {
      "cell_type": "markdown",
      "metadata": {
        "id": "F6Y431cAB4YB"
      },
      "source": [
        "## **Now write a function that combines the learnings so far.** \n",
        "So this function 'return_tagged_data' takes as input a dataframe containing the viable samples and performs k-means clustering, and using the labels computes silhouette scores (SS) per sample and tags the samples with SS>=0.2 as df['Easy']=1 and all other samples as df['Easy']=0."
      ]
    },
    {
      "cell_type": "code",
      "metadata": {
        "id": "JUIRTVdRrj9K"
      },
      "source": [
        "def return_tagged_data(df: pd.DataFrame, threshold=0.2, n_clusters=2, random_state=0):\n",
        "  #Enter code here###\n",
        "  X_red = subset_by_column(dataframe=df, column_name='labels', exclude=True).to_numpy()\n",
        "  kmeans_model = KMeans(n_clusters=n_clusters, random_state=random_state).fit(X_red)\n",
        "  labels = kmeans_model.labels_\n",
        "  vals = metrics.silhouette_samples(X_red, labels)\n",
        "  easy = (vals>=threshold).astype(int)\n",
        "  df['Easy'] = easy\n",
        "  return df\n",
        "  "
      ],
      "execution_count": 16,
      "outputs": []
    },
    {
      "cell_type": "code",
      "metadata": {
        "colab": {
          "base_uri": "https://localhost:8080/",
          "height": 204
        },
        "id": "I_RbtkbYsUU7",
        "outputId": "4a13feb9-adff-418c-ccaa-190d64124f80"
      },
      "source": [
        "df_viable_1=return_tagged_data(df_viable)\n",
        "df_viable_1.head()"
      ],
      "execution_count": 17,
      "outputs": [
        {
          "output_type": "execute_result",
          "data": {
            "text/html": [
              "<div>\n",
              "<style scoped>\n",
              "    .dataframe tbody tr th:only-of-type {\n",
              "        vertical-align: middle;\n",
              "    }\n",
              "\n",
              "    .dataframe tbody tr th {\n",
              "        vertical-align: top;\n",
              "    }\n",
              "\n",
              "    .dataframe thead th {\n",
              "        text-align: right;\n",
              "    }\n",
              "</style>\n",
              "<table border=\"1\" class=\"dataframe\">\n",
              "  <thead>\n",
              "    <tr style=\"text-align: right;\">\n",
              "      <th></th>\n",
              "      <th>0</th>\n",
              "      <th>1</th>\n",
              "      <th>2</th>\n",
              "      <th>3</th>\n",
              "      <th>4</th>\n",
              "      <th>5</th>\n",
              "      <th>6</th>\n",
              "      <th>7</th>\n",
              "      <th>8</th>\n",
              "      <th>9</th>\n",
              "      <th>labels</th>\n",
              "      <th>Easy</th>\n",
              "    </tr>\n",
              "  </thead>\n",
              "  <tbody>\n",
              "    <tr>\n",
              "      <th>0</th>\n",
              "      <td>0.038076</td>\n",
              "      <td>0.050680</td>\n",
              "      <td>0.061696</td>\n",
              "      <td>0.021872</td>\n",
              "      <td>-0.044223</td>\n",
              "      <td>-0.034821</td>\n",
              "      <td>-0.043401</td>\n",
              "      <td>-0.002592</td>\n",
              "      <td>0.019908</td>\n",
              "      <td>-0.017646</td>\n",
              "      <td>1</td>\n",
              "      <td>1</td>\n",
              "    </tr>\n",
              "    <tr>\n",
              "      <th>1</th>\n",
              "      <td>-0.001882</td>\n",
              "      <td>-0.044642</td>\n",
              "      <td>-0.051474</td>\n",
              "      <td>-0.026328</td>\n",
              "      <td>-0.008449</td>\n",
              "      <td>-0.019163</td>\n",
              "      <td>0.074412</td>\n",
              "      <td>-0.039493</td>\n",
              "      <td>-0.068330</td>\n",
              "      <td>-0.092204</td>\n",
              "      <td>0</td>\n",
              "      <td>1</td>\n",
              "    </tr>\n",
              "    <tr>\n",
              "      <th>2</th>\n",
              "      <td>0.085299</td>\n",
              "      <td>0.050680</td>\n",
              "      <td>0.044451</td>\n",
              "      <td>-0.005671</td>\n",
              "      <td>-0.045599</td>\n",
              "      <td>-0.034194</td>\n",
              "      <td>-0.032356</td>\n",
              "      <td>-0.002592</td>\n",
              "      <td>0.002864</td>\n",
              "      <td>-0.025930</td>\n",
              "      <td>1</td>\n",
              "      <td>1</td>\n",
              "    </tr>\n",
              "    <tr>\n",
              "      <th>3</th>\n",
              "      <td>-0.089063</td>\n",
              "      <td>-0.044642</td>\n",
              "      <td>-0.011595</td>\n",
              "      <td>-0.036656</td>\n",
              "      <td>0.012191</td>\n",
              "      <td>0.024991</td>\n",
              "      <td>-0.036038</td>\n",
              "      <td>0.034309</td>\n",
              "      <td>0.022692</td>\n",
              "      <td>-0.009362</td>\n",
              "      <td>1</td>\n",
              "      <td>1</td>\n",
              "    </tr>\n",
              "    <tr>\n",
              "      <th>4</th>\n",
              "      <td>0.005383</td>\n",
              "      <td>-0.044642</td>\n",
              "      <td>-0.036385</td>\n",
              "      <td>0.021872</td>\n",
              "      <td>0.003935</td>\n",
              "      <td>0.015596</td>\n",
              "      <td>0.008142</td>\n",
              "      <td>-0.002592</td>\n",
              "      <td>-0.031991</td>\n",
              "      <td>-0.046641</td>\n",
              "      <td>0</td>\n",
              "      <td>1</td>\n",
              "    </tr>\n",
              "  </tbody>\n",
              "</table>\n",
              "</div>"
            ],
            "text/plain": [
              "          0         1         2         3  ...         8         9  labels  Easy\n",
              "0  0.038076  0.050680  0.061696  0.021872  ...  0.019908 -0.017646       1     1\n",
              "1 -0.001882 -0.044642 -0.051474 -0.026328  ... -0.068330 -0.092204       0     1\n",
              "2  0.085299  0.050680  0.044451 -0.005671  ...  0.002864 -0.025930       1     1\n",
              "3 -0.089063 -0.044642 -0.011595 -0.036656  ...  0.022692 -0.009362       1     1\n",
              "4  0.005383 -0.044642 -0.036385  0.021872  ... -0.031991 -0.046641       0     1\n",
              "\n",
              "[5 rows x 12 columns]"
            ]
          },
          "metadata": {},
          "execution_count": 17
        }
      ]
    },
    {
      "cell_type": "markdown",
      "metadata": {
        "id": "z8eVO8-r_ju6"
      },
      "source": [
        "# By now you have pre-processed the data as much as possible. The next task will be to build an ML model for classification of patients with and without Diabetes."
      ]
    },
    {
      "cell_type": "markdown",
      "metadata": {
        "id": "t3tL-NbWQgCT"
      },
      "source": [
        "# **Task 3: Setting up Classification**\n",
        "* Step 1: We will collect data from 2 batches of 100 samples each and build an ML model (linear or non-linear), then test the model for classification on the next betches of data.\n",
        "* Step 2: We will collect only \"Easy samples\" from first 2 batches of 100 samples, build an ML model and test on only easy samples of the remaining data batches.\n",
        "* Step 3: We will collect only \"Difficult samples\" from first 2 batches of 100 samples, build an ML model and test on only easy samples of the remaining data batches.\n",
        "\n",
        "# **We will report the variation in ML model performance based on the tagged samples.**\n",
        "\n",
        "Reuse as much code as needed from the Colab: https://colab.research.google.com/drive/1-P712Hw8KeVA1bV2AdnyHcT3WzNPMc2N"
      ]
    },
    {
      "cell_type": "code",
      "metadata": {
        "id": "sJt0ZOM_uMxN"
      },
      "source": [
        "train_data=return_dataframe(X[:100,:],y[:100])\n"
      ],
      "execution_count": 18,
      "outputs": []
    },
    {
      "cell_type": "code",
      "metadata": {
        "colab": {
          "base_uri": "https://localhost:8080/"
        },
        "id": "Av0kwJsKwMV_",
        "outputId": "2cd89a71-4a04-4774-b3cc-4b8235deeb61"
      },
      "source": [
        "train_data=train_data.append(return_dataframe(X[101:200,:],y[101:200]))\n",
        "train_data.shape"
      ],
      "execution_count": 19,
      "outputs": [
        {
          "output_type": "stream",
          "name": "stdout",
          "text": [
            "Not the right batch size\n"
          ]
        },
        {
          "output_type": "execute_result",
          "data": {
            "text/plain": [
              "(199, 11)"
            ]
          },
          "metadata": {},
          "execution_count": 19
        }
      ]
    },
    {
      "cell_type": "code",
      "metadata": {
        "colab": {
          "base_uri": "https://localhost:8080/",
          "height": 204
        },
        "id": "99A3e7SdwqzC",
        "outputId": "4dcc9e57-a40b-4e8f-f8df-5256e6a2c5a5"
      },
      "source": [
        "train_data.head()"
      ],
      "execution_count": 20,
      "outputs": [
        {
          "output_type": "execute_result",
          "data": {
            "text/html": [
              "<div>\n",
              "<style scoped>\n",
              "    .dataframe tbody tr th:only-of-type {\n",
              "        vertical-align: middle;\n",
              "    }\n",
              "\n",
              "    .dataframe tbody tr th {\n",
              "        vertical-align: top;\n",
              "    }\n",
              "\n",
              "    .dataframe thead th {\n",
              "        text-align: right;\n",
              "    }\n",
              "</style>\n",
              "<table border=\"1\" class=\"dataframe\">\n",
              "  <thead>\n",
              "    <tr style=\"text-align: right;\">\n",
              "      <th></th>\n",
              "      <th>0</th>\n",
              "      <th>1</th>\n",
              "      <th>2</th>\n",
              "      <th>3</th>\n",
              "      <th>4</th>\n",
              "      <th>5</th>\n",
              "      <th>6</th>\n",
              "      <th>7</th>\n",
              "      <th>8</th>\n",
              "      <th>9</th>\n",
              "      <th>labels</th>\n",
              "    </tr>\n",
              "  </thead>\n",
              "  <tbody>\n",
              "    <tr>\n",
              "      <th>0</th>\n",
              "      <td>0.038076</td>\n",
              "      <td>0.050680</td>\n",
              "      <td>0.061696</td>\n",
              "      <td>0.021872</td>\n",
              "      <td>-0.044223</td>\n",
              "      <td>-0.034821</td>\n",
              "      <td>-0.043401</td>\n",
              "      <td>-0.002592</td>\n",
              "      <td>0.019908</td>\n",
              "      <td>-0.017646</td>\n",
              "      <td>151.0</td>\n",
              "    </tr>\n",
              "    <tr>\n",
              "      <th>1</th>\n",
              "      <td>-0.001882</td>\n",
              "      <td>-0.044642</td>\n",
              "      <td>-0.051474</td>\n",
              "      <td>-0.026328</td>\n",
              "      <td>-0.008449</td>\n",
              "      <td>-0.019163</td>\n",
              "      <td>0.074412</td>\n",
              "      <td>-0.039493</td>\n",
              "      <td>-0.068330</td>\n",
              "      <td>-0.092204</td>\n",
              "      <td>75.0</td>\n",
              "    </tr>\n",
              "    <tr>\n",
              "      <th>2</th>\n",
              "      <td>0.085299</td>\n",
              "      <td>0.050680</td>\n",
              "      <td>0.044451</td>\n",
              "      <td>-0.005671</td>\n",
              "      <td>-0.045599</td>\n",
              "      <td>-0.034194</td>\n",
              "      <td>-0.032356</td>\n",
              "      <td>-0.002592</td>\n",
              "      <td>0.002864</td>\n",
              "      <td>-0.025930</td>\n",
              "      <td>141.0</td>\n",
              "    </tr>\n",
              "    <tr>\n",
              "      <th>3</th>\n",
              "      <td>-0.089063</td>\n",
              "      <td>-0.044642</td>\n",
              "      <td>-0.011595</td>\n",
              "      <td>-0.036656</td>\n",
              "      <td>0.012191</td>\n",
              "      <td>0.024991</td>\n",
              "      <td>-0.036038</td>\n",
              "      <td>0.034309</td>\n",
              "      <td>0.022692</td>\n",
              "      <td>-0.009362</td>\n",
              "      <td>206.0</td>\n",
              "    </tr>\n",
              "    <tr>\n",
              "      <th>4</th>\n",
              "      <td>0.005383</td>\n",
              "      <td>-0.044642</td>\n",
              "      <td>-0.036385</td>\n",
              "      <td>0.021872</td>\n",
              "      <td>0.003935</td>\n",
              "      <td>0.015596</td>\n",
              "      <td>0.008142</td>\n",
              "      <td>-0.002592</td>\n",
              "      <td>-0.031991</td>\n",
              "      <td>-0.046641</td>\n",
              "      <td>135.0</td>\n",
              "    </tr>\n",
              "  </tbody>\n",
              "</table>\n",
              "</div>"
            ],
            "text/plain": [
              "          0         1         2         3  ...         7         8         9  labels\n",
              "0  0.038076  0.050680  0.061696  0.021872  ... -0.002592  0.019908 -0.017646   151.0\n",
              "1 -0.001882 -0.044642 -0.051474 -0.026328  ... -0.039493 -0.068330 -0.092204    75.0\n",
              "2  0.085299  0.050680  0.044451 -0.005671  ... -0.002592  0.002864 -0.025930   141.0\n",
              "3 -0.089063 -0.044642 -0.011595 -0.036656  ...  0.034309  0.022692 -0.009362   206.0\n",
              "4  0.005383 -0.044642 -0.036385  0.021872  ... -0.002592 -0.031991 -0.046641   135.0\n",
              "\n",
              "[5 rows x 11 columns]"
            ]
          },
          "metadata": {},
          "execution_count": 20
        }
      ]
    },
    {
      "cell_type": "code",
      "metadata": {
        "id": "xM86nr73wxwC"
      },
      "source": [
        "train_data=return_viable_samples(train_data)"
      ],
      "execution_count": 21,
      "outputs": []
    },
    {
      "cell_type": "code",
      "metadata": {
        "colab": {
          "base_uri": "https://localhost:8080/",
          "height": 204
        },
        "id": "2p2PqfrTw9qP",
        "outputId": "77229f0b-8bd2-4979-9977-7e9132623b24"
      },
      "source": [
        "train_data.head()"
      ],
      "execution_count": 22,
      "outputs": [
        {
          "output_type": "execute_result",
          "data": {
            "text/html": [
              "<div>\n",
              "<style scoped>\n",
              "    .dataframe tbody tr th:only-of-type {\n",
              "        vertical-align: middle;\n",
              "    }\n",
              "\n",
              "    .dataframe tbody tr th {\n",
              "        vertical-align: top;\n",
              "    }\n",
              "\n",
              "    .dataframe thead th {\n",
              "        text-align: right;\n",
              "    }\n",
              "</style>\n",
              "<table border=\"1\" class=\"dataframe\">\n",
              "  <thead>\n",
              "    <tr style=\"text-align: right;\">\n",
              "      <th></th>\n",
              "      <th>0</th>\n",
              "      <th>1</th>\n",
              "      <th>2</th>\n",
              "      <th>3</th>\n",
              "      <th>4</th>\n",
              "      <th>5</th>\n",
              "      <th>6</th>\n",
              "      <th>7</th>\n",
              "      <th>8</th>\n",
              "      <th>9</th>\n",
              "      <th>labels</th>\n",
              "    </tr>\n",
              "  </thead>\n",
              "  <tbody>\n",
              "    <tr>\n",
              "      <th>0</th>\n",
              "      <td>0.038076</td>\n",
              "      <td>0.050680</td>\n",
              "      <td>0.061696</td>\n",
              "      <td>0.021872</td>\n",
              "      <td>-0.044223</td>\n",
              "      <td>-0.034821</td>\n",
              "      <td>-0.043401</td>\n",
              "      <td>-0.002592</td>\n",
              "      <td>0.019908</td>\n",
              "      <td>-0.017646</td>\n",
              "      <td>1</td>\n",
              "    </tr>\n",
              "    <tr>\n",
              "      <th>1</th>\n",
              "      <td>-0.001882</td>\n",
              "      <td>-0.044642</td>\n",
              "      <td>-0.051474</td>\n",
              "      <td>-0.026328</td>\n",
              "      <td>-0.008449</td>\n",
              "      <td>-0.019163</td>\n",
              "      <td>0.074412</td>\n",
              "      <td>-0.039493</td>\n",
              "      <td>-0.068330</td>\n",
              "      <td>-0.092204</td>\n",
              "      <td>0</td>\n",
              "    </tr>\n",
              "    <tr>\n",
              "      <th>2</th>\n",
              "      <td>0.085299</td>\n",
              "      <td>0.050680</td>\n",
              "      <td>0.044451</td>\n",
              "      <td>-0.005671</td>\n",
              "      <td>-0.045599</td>\n",
              "      <td>-0.034194</td>\n",
              "      <td>-0.032356</td>\n",
              "      <td>-0.002592</td>\n",
              "      <td>0.002864</td>\n",
              "      <td>-0.025930</td>\n",
              "      <td>1</td>\n",
              "    </tr>\n",
              "    <tr>\n",
              "      <th>3</th>\n",
              "      <td>-0.089063</td>\n",
              "      <td>-0.044642</td>\n",
              "      <td>-0.011595</td>\n",
              "      <td>-0.036656</td>\n",
              "      <td>0.012191</td>\n",
              "      <td>0.024991</td>\n",
              "      <td>-0.036038</td>\n",
              "      <td>0.034309</td>\n",
              "      <td>0.022692</td>\n",
              "      <td>-0.009362</td>\n",
              "      <td>1</td>\n",
              "    </tr>\n",
              "    <tr>\n",
              "      <th>4</th>\n",
              "      <td>0.005383</td>\n",
              "      <td>-0.044642</td>\n",
              "      <td>-0.036385</td>\n",
              "      <td>0.021872</td>\n",
              "      <td>0.003935</td>\n",
              "      <td>0.015596</td>\n",
              "      <td>0.008142</td>\n",
              "      <td>-0.002592</td>\n",
              "      <td>-0.031991</td>\n",
              "      <td>-0.046641</td>\n",
              "      <td>0</td>\n",
              "    </tr>\n",
              "  </tbody>\n",
              "</table>\n",
              "</div>"
            ],
            "text/plain": [
              "          0         1         2         3  ...         7         8         9  labels\n",
              "0  0.038076  0.050680  0.061696  0.021872  ... -0.002592  0.019908 -0.017646       1\n",
              "1 -0.001882 -0.044642 -0.051474 -0.026328  ... -0.039493 -0.068330 -0.092204       0\n",
              "2  0.085299  0.050680  0.044451 -0.005671  ... -0.002592  0.002864 -0.025930       1\n",
              "3 -0.089063 -0.044642 -0.011595 -0.036656  ...  0.034309  0.022692 -0.009362       1\n",
              "4  0.005383 -0.044642 -0.036385  0.021872  ... -0.002592 -0.031991 -0.046641       0\n",
              "\n",
              "[5 rows x 11 columns]"
            ]
          },
          "metadata": {},
          "execution_count": 22
        }
      ]
    },
    {
      "cell_type": "code",
      "metadata": {
        "colab": {
          "base_uri": "https://localhost:8080/",
          "height": 111
        },
        "id": "rDB1SAN_UutB",
        "outputId": "f430db94-7cee-4085-89ba-23cc88a68cf4"
      },
      "source": [
        "train_data.describe().loc[['min', 'max']] "
      ],
      "execution_count": 23,
      "outputs": [
        {
          "output_type": "execute_result",
          "data": {
            "text/html": [
              "<div>\n",
              "<style scoped>\n",
              "    .dataframe tbody tr th:only-of-type {\n",
              "        vertical-align: middle;\n",
              "    }\n",
              "\n",
              "    .dataframe tbody tr th {\n",
              "        vertical-align: top;\n",
              "    }\n",
              "\n",
              "    .dataframe thead th {\n",
              "        text-align: right;\n",
              "    }\n",
              "</style>\n",
              "<table border=\"1\" class=\"dataframe\">\n",
              "  <thead>\n",
              "    <tr style=\"text-align: right;\">\n",
              "      <th></th>\n",
              "      <th>0</th>\n",
              "      <th>1</th>\n",
              "      <th>2</th>\n",
              "      <th>3</th>\n",
              "      <th>4</th>\n",
              "      <th>5</th>\n",
              "      <th>6</th>\n",
              "      <th>7</th>\n",
              "      <th>8</th>\n",
              "      <th>9</th>\n",
              "      <th>labels</th>\n",
              "    </tr>\n",
              "  </thead>\n",
              "  <tbody>\n",
              "    <tr>\n",
              "      <th>min</th>\n",
              "      <td>-0.107226</td>\n",
              "      <td>-0.044642</td>\n",
              "      <td>-0.083808</td>\n",
              "      <td>-0.108957</td>\n",
              "      <td>-0.126781</td>\n",
              "      <td>-0.106845</td>\n",
              "      <td>-0.102307</td>\n",
              "      <td>-0.076395</td>\n",
              "      <td>-0.126097</td>\n",
              "      <td>-0.129483</td>\n",
              "      <td>0.0</td>\n",
              "    </tr>\n",
              "    <tr>\n",
              "      <th>max</th>\n",
              "      <td>0.085299</td>\n",
              "      <td>0.050680</td>\n",
              "      <td>0.128521</td>\n",
              "      <td>0.125158</td>\n",
              "      <td>0.152538</td>\n",
              "      <td>0.198788</td>\n",
              "      <td>0.181179</td>\n",
              "      <td>0.185234</td>\n",
              "      <td>0.133599</td>\n",
              "      <td>0.135612</td>\n",
              "      <td>1.0</td>\n",
              "    </tr>\n",
              "  </tbody>\n",
              "</table>\n",
              "</div>"
            ],
            "text/plain": [
              "            0         1         2  ...         8         9  labels\n",
              "min -0.107226 -0.044642 -0.083808  ... -0.126097 -0.129483     0.0\n",
              "max  0.085299  0.050680  0.128521  ...  0.133599  0.135612     1.0\n",
              "\n",
              "[2 rows x 11 columns]"
            ]
          },
          "metadata": {},
          "execution_count": 23
        }
      ]
    },
    {
      "cell_type": "code",
      "metadata": {
        "colab": {
          "base_uri": "https://localhost:8080/",
          "height": 238
        },
        "id": "t96WpZGRxmy4",
        "outputId": "273778e5-9247-4ff2-d5ad-3306d995f8d1"
      },
      "source": [
        "test_data=return_dataframe(X[201:,:],y[201:])\n",
        "test_data=return_viable_samples(test_data)\n",
        "print(test_data.shape)\n",
        "test_data.head()"
      ],
      "execution_count": 24,
      "outputs": [
        {
          "output_type": "stream",
          "name": "stdout",
          "text": [
            "Not the right batch size\n",
            "(241, 11)\n"
          ]
        },
        {
          "output_type": "execute_result",
          "data": {
            "text/html": [
              "<div>\n",
              "<style scoped>\n",
              "    .dataframe tbody tr th:only-of-type {\n",
              "        vertical-align: middle;\n",
              "    }\n",
              "\n",
              "    .dataframe tbody tr th {\n",
              "        vertical-align: top;\n",
              "    }\n",
              "\n",
              "    .dataframe thead th {\n",
              "        text-align: right;\n",
              "    }\n",
              "</style>\n",
              "<table border=\"1\" class=\"dataframe\">\n",
              "  <thead>\n",
              "    <tr style=\"text-align: right;\">\n",
              "      <th></th>\n",
              "      <th>0</th>\n",
              "      <th>1</th>\n",
              "      <th>2</th>\n",
              "      <th>3</th>\n",
              "      <th>4</th>\n",
              "      <th>5</th>\n",
              "      <th>6</th>\n",
              "      <th>7</th>\n",
              "      <th>8</th>\n",
              "      <th>9</th>\n",
              "      <th>labels</th>\n",
              "    </tr>\n",
              "  </thead>\n",
              "  <tbody>\n",
              "    <tr>\n",
              "      <th>0</th>\n",
              "      <td>-0.034575</td>\n",
              "      <td>0.050680</td>\n",
              "      <td>-0.055785</td>\n",
              "      <td>-0.015999</td>\n",
              "      <td>-0.009825</td>\n",
              "      <td>-0.007890</td>\n",
              "      <td>0.037595</td>\n",
              "      <td>-0.039493</td>\n",
              "      <td>-0.052959</td>\n",
              "      <td>0.027917</td>\n",
              "      <td>0</td>\n",
              "    </tr>\n",
              "    <tr>\n",
              "      <th>1</th>\n",
              "      <td>0.081666</td>\n",
              "      <td>0.050680</td>\n",
              "      <td>0.001339</td>\n",
              "      <td>0.035644</td>\n",
              "      <td>0.126395</td>\n",
              "      <td>0.091065</td>\n",
              "      <td>0.019187</td>\n",
              "      <td>0.034309</td>\n",
              "      <td>0.084495</td>\n",
              "      <td>-0.030072</td>\n",
              "      <td>1</td>\n",
              "    </tr>\n",
              "    <tr>\n",
              "      <th>2</th>\n",
              "      <td>-0.001882</td>\n",
              "      <td>0.050680</td>\n",
              "      <td>0.030440</td>\n",
              "      <td>0.052858</td>\n",
              "      <td>0.039710</td>\n",
              "      <td>0.056619</td>\n",
              "      <td>-0.039719</td>\n",
              "      <td>0.071210</td>\n",
              "      <td>0.025393</td>\n",
              "      <td>0.027917</td>\n",
              "      <td>1</td>\n",
              "    </tr>\n",
              "    <tr>\n",
              "      <th>3</th>\n",
              "      <td>0.110727</td>\n",
              "      <td>0.050680</td>\n",
              "      <td>0.006728</td>\n",
              "      <td>0.028758</td>\n",
              "      <td>-0.027712</td>\n",
              "      <td>-0.007264</td>\n",
              "      <td>-0.047082</td>\n",
              "      <td>0.034309</td>\n",
              "      <td>0.002008</td>\n",
              "      <td>0.077622</td>\n",
              "      <td>1</td>\n",
              "    </tr>\n",
              "    <tr>\n",
              "      <th>4</th>\n",
              "      <td>-0.030942</td>\n",
              "      <td>-0.044642</td>\n",
              "      <td>0.046607</td>\n",
              "      <td>0.014987</td>\n",
              "      <td>-0.016704</td>\n",
              "      <td>-0.047034</td>\n",
              "      <td>0.000779</td>\n",
              "      <td>-0.002592</td>\n",
              "      <td>0.063456</td>\n",
              "      <td>-0.025930</td>\n",
              "      <td>0</td>\n",
              "    </tr>\n",
              "  </tbody>\n",
              "</table>\n",
              "</div>"
            ],
            "text/plain": [
              "          0         1         2         3  ...         7         8         9  labels\n",
              "0 -0.034575  0.050680 -0.055785 -0.015999  ... -0.039493 -0.052959  0.027917       0\n",
              "1  0.081666  0.050680  0.001339  0.035644  ...  0.034309  0.084495 -0.030072       1\n",
              "2 -0.001882  0.050680  0.030440  0.052858  ...  0.071210  0.025393  0.027917       1\n",
              "3  0.110727  0.050680  0.006728  0.028758  ...  0.034309  0.002008  0.077622       1\n",
              "4 -0.030942 -0.044642  0.046607  0.014987  ... -0.002592  0.063456 -0.025930       0\n",
              "\n",
              "[5 rows x 11 columns]"
            ]
          },
          "metadata": {},
          "execution_count": 24
        }
      ]
    },
    {
      "cell_type": "code",
      "metadata": {
        "colab": {
          "base_uri": "https://localhost:8080/",
          "height": 314
        },
        "id": "6ocbWanzWKr5",
        "outputId": "8963b546-98e1-4952-87f2-844decd6f17f"
      },
      "source": [
        "return_dataframe(X[201:,:],y[201:]).describe()"
      ],
      "execution_count": 25,
      "outputs": [
        {
          "output_type": "stream",
          "name": "stdout",
          "text": [
            "Not the right batch size\n"
          ]
        },
        {
          "output_type": "execute_result",
          "data": {
            "text/html": [
              "<div>\n",
              "<style scoped>\n",
              "    .dataframe tbody tr th:only-of-type {\n",
              "        vertical-align: middle;\n",
              "    }\n",
              "\n",
              "    .dataframe tbody tr th {\n",
              "        vertical-align: top;\n",
              "    }\n",
              "\n",
              "    .dataframe thead th {\n",
              "        text-align: right;\n",
              "    }\n",
              "</style>\n",
              "<table border=\"1\" class=\"dataframe\">\n",
              "  <thead>\n",
              "    <tr style=\"text-align: right;\">\n",
              "      <th></th>\n",
              "      <th>0</th>\n",
              "      <th>1</th>\n",
              "      <th>2</th>\n",
              "      <th>3</th>\n",
              "      <th>4</th>\n",
              "      <th>5</th>\n",
              "      <th>6</th>\n",
              "      <th>7</th>\n",
              "      <th>8</th>\n",
              "      <th>9</th>\n",
              "      <th>labels</th>\n",
              "    </tr>\n",
              "  </thead>\n",
              "  <tbody>\n",
              "    <tr>\n",
              "      <th>count</th>\n",
              "      <td>241.000000</td>\n",
              "      <td>241.000000</td>\n",
              "      <td>241.000000</td>\n",
              "      <td>241.000000</td>\n",
              "      <td>241.000000</td>\n",
              "      <td>241.000000</td>\n",
              "      <td>241.000000</td>\n",
              "      <td>241.000000</td>\n",
              "      <td>241.000000</td>\n",
              "      <td>241.000000</td>\n",
              "      <td>241.000000</td>\n",
              "    </tr>\n",
              "    <tr>\n",
              "      <th>mean</th>\n",
              "      <td>0.005473</td>\n",
              "      <td>0.001635</td>\n",
              "      <td>0.002318</td>\n",
              "      <td>0.003344</td>\n",
              "      <td>0.003695</td>\n",
              "      <td>0.002746</td>\n",
              "      <td>-0.000665</td>\n",
              "      <td>0.003073</td>\n",
              "      <td>0.003447</td>\n",
              "      <td>0.002978</td>\n",
              "      <td>156.460581</td>\n",
              "    </tr>\n",
              "    <tr>\n",
              "      <th>std</th>\n",
              "      <td>0.047105</td>\n",
              "      <td>0.047740</td>\n",
              "      <td>0.049251</td>\n",
              "      <td>0.049207</td>\n",
              "      <td>0.049599</td>\n",
              "      <td>0.048600</td>\n",
              "      <td>0.047707</td>\n",
              "      <td>0.047563</td>\n",
              "      <td>0.048860</td>\n",
              "      <td>0.046248</td>\n",
              "      <td>79.111100</td>\n",
              "    </tr>\n",
              "    <tr>\n",
              "      <th>min</th>\n",
              "      <td>-0.107226</td>\n",
              "      <td>-0.044642</td>\n",
              "      <td>-0.090275</td>\n",
              "      <td>-0.112400</td>\n",
              "      <td>-0.108893</td>\n",
              "      <td>-0.115613</td>\n",
              "      <td>-0.098625</td>\n",
              "      <td>-0.076395</td>\n",
              "      <td>-0.104365</td>\n",
              "      <td>-0.137767</td>\n",
              "      <td>31.000000</td>\n",
              "    </tr>\n",
              "    <tr>\n",
              "      <th>25%</th>\n",
              "      <td>-0.027310</td>\n",
              "      <td>-0.044642</td>\n",
              "      <td>-0.033151</td>\n",
              "      <td>-0.033214</td>\n",
              "      <td>-0.031840</td>\n",
              "      <td>-0.028871</td>\n",
              "      <td>-0.032356</td>\n",
              "      <td>-0.039493</td>\n",
              "      <td>-0.033249</td>\n",
              "      <td>-0.030072</td>\n",
              "      <td>85.000000</td>\n",
              "    </tr>\n",
              "    <tr>\n",
              "      <th>50%</th>\n",
              "      <td>0.009016</td>\n",
              "      <td>-0.044642</td>\n",
              "      <td>-0.007284</td>\n",
              "      <td>-0.004523</td>\n",
              "      <td>-0.002945</td>\n",
              "      <td>-0.002566</td>\n",
              "      <td>-0.006584</td>\n",
              "      <td>-0.002592</td>\n",
              "      <td>0.001144</td>\n",
              "      <td>0.003064</td>\n",
              "      <td>147.000000</td>\n",
              "    </tr>\n",
              "    <tr>\n",
              "      <th>75%</th>\n",
              "      <td>0.038076</td>\n",
              "      <td>0.050680</td>\n",
              "      <td>0.034751</td>\n",
              "      <td>0.042530</td>\n",
              "      <td>0.035582</td>\n",
              "      <td>0.034698</td>\n",
              "      <td>0.022869</td>\n",
              "      <td>0.034309</td>\n",
              "      <td>0.034864</td>\n",
              "      <td>0.032059</td>\n",
              "      <td>220.000000</td>\n",
              "    </tr>\n",
              "    <tr>\n",
              "      <th>max</th>\n",
              "      <td>0.110727</td>\n",
              "      <td>0.050680</td>\n",
              "      <td>0.170555</td>\n",
              "      <td>0.132044</td>\n",
              "      <td>0.153914</td>\n",
              "      <td>0.155887</td>\n",
              "      <td>0.177497</td>\n",
              "      <td>0.155345</td>\n",
              "      <td>0.133396</td>\n",
              "      <td>0.135612</td>\n",
              "      <td>346.000000</td>\n",
              "    </tr>\n",
              "  </tbody>\n",
              "</table>\n",
              "</div>"
            ],
            "text/plain": [
              "                0           1           2  ...           8           9      labels\n",
              "count  241.000000  241.000000  241.000000  ...  241.000000  241.000000  241.000000\n",
              "mean     0.005473    0.001635    0.002318  ...    0.003447    0.002978  156.460581\n",
              "std      0.047105    0.047740    0.049251  ...    0.048860    0.046248   79.111100\n",
              "min     -0.107226   -0.044642   -0.090275  ...   -0.104365   -0.137767   31.000000\n",
              "25%     -0.027310   -0.044642   -0.033151  ...   -0.033249   -0.030072   85.000000\n",
              "50%      0.009016   -0.044642   -0.007284  ...    0.001144    0.003064  147.000000\n",
              "75%      0.038076    0.050680    0.034751  ...    0.034864    0.032059  220.000000\n",
              "max      0.110727    0.050680    0.170555  ...    0.133396    0.135612  346.000000\n",
              "\n",
              "[8 rows x 11 columns]"
            ]
          },
          "metadata": {},
          "execution_count": 25
        }
      ]
    },
    {
      "cell_type": "code",
      "metadata": {
        "colab": {
          "base_uri": "https://localhost:8080/",
          "height": 111
        },
        "id": "GeWPIwc4U3kO",
        "outputId": "233c16cc-dd3b-4057-f885-4d8ea759913d"
      },
      "source": [
        "test_data.describe().loc[['min', 'max']] "
      ],
      "execution_count": 26,
      "outputs": [
        {
          "output_type": "execute_result",
          "data": {
            "text/html": [
              "<div>\n",
              "<style scoped>\n",
              "    .dataframe tbody tr th:only-of-type {\n",
              "        vertical-align: middle;\n",
              "    }\n",
              "\n",
              "    .dataframe tbody tr th {\n",
              "        vertical-align: top;\n",
              "    }\n",
              "\n",
              "    .dataframe thead th {\n",
              "        text-align: right;\n",
              "    }\n",
              "</style>\n",
              "<table border=\"1\" class=\"dataframe\">\n",
              "  <thead>\n",
              "    <tr style=\"text-align: right;\">\n",
              "      <th></th>\n",
              "      <th>0</th>\n",
              "      <th>1</th>\n",
              "      <th>2</th>\n",
              "      <th>3</th>\n",
              "      <th>4</th>\n",
              "      <th>5</th>\n",
              "      <th>6</th>\n",
              "      <th>7</th>\n",
              "      <th>8</th>\n",
              "      <th>9</th>\n",
              "      <th>labels</th>\n",
              "    </tr>\n",
              "  </thead>\n",
              "  <tbody>\n",
              "    <tr>\n",
              "      <th>min</th>\n",
              "      <td>-0.107226</td>\n",
              "      <td>-0.044642</td>\n",
              "      <td>-0.090275</td>\n",
              "      <td>-0.112400</td>\n",
              "      <td>-0.108893</td>\n",
              "      <td>-0.115613</td>\n",
              "      <td>-0.098625</td>\n",
              "      <td>-0.076395</td>\n",
              "      <td>-0.104365</td>\n",
              "      <td>-0.137767</td>\n",
              "      <td>0.0</td>\n",
              "    </tr>\n",
              "    <tr>\n",
              "      <th>max</th>\n",
              "      <td>0.110727</td>\n",
              "      <td>0.050680</td>\n",
              "      <td>0.170555</td>\n",
              "      <td>0.132044</td>\n",
              "      <td>0.153914</td>\n",
              "      <td>0.155887</td>\n",
              "      <td>0.177497</td>\n",
              "      <td>0.155345</td>\n",
              "      <td>0.133396</td>\n",
              "      <td>0.135612</td>\n",
              "      <td>1.0</td>\n",
              "    </tr>\n",
              "  </tbody>\n",
              "</table>\n",
              "</div>"
            ],
            "text/plain": [
              "            0         1         2  ...         8         9  labels\n",
              "min -0.107226 -0.044642 -0.090275  ... -0.104365 -0.137767     0.0\n",
              "max  0.110727  0.050680  0.170555  ...  0.133396  0.135612     1.0\n",
              "\n",
              "[2 rows x 11 columns]"
            ]
          },
          "metadata": {},
          "execution_count": 26
        }
      ]
    },
    {
      "cell_type": "code",
      "metadata": {
        "id": "HAMGiRq8xXs9"
      },
      "source": [
        "X_train=train_data.iloc[:,0:9].values\n",
        "y_train=train_data['labels']\n",
        "X_test=test_data.iloc[:,0:9].values\n",
        "y_test=test_data['labels']"
      ],
      "execution_count": 27,
      "outputs": []
    },
    {
      "cell_type": "code",
      "metadata": {
        "colab": {
          "base_uri": "https://localhost:8080/"
        },
        "id": "wb5OI9Oezkh1",
        "outputId": "d87b51c7-9004-4ee8-8ce0-0760a15c0eee"
      },
      "source": [
        "X_train.shape"
      ],
      "execution_count": 28,
      "outputs": [
        {
          "output_type": "execute_result",
          "data": {
            "text/plain": [
              "(199, 9)"
            ]
          },
          "metadata": {},
          "execution_count": 28
        }
      ]
    },
    {
      "cell_type": "markdown",
      "metadata": {
        "id": "KTMo55z6C4kE"
      },
      "source": [
        "#  Your Training and test data are now ready! Now, select your favourite classifier and beginning fitting models. "
      ]
    },
    {
      "cell_type": "code",
      "metadata": {
        "id": "wDoaSoRADUqe"
      },
      "source": [
        "# Write code here to fit an ML model using (X_train,y_train) and evaluate on X_test\n",
        "from sklearn.linear_model import LogisticRegression\n",
        "pred = LogisticRegression().fit(X_train, y_train).predict(X_test)"
      ],
      "execution_count": 29,
      "outputs": []
    },
    {
      "cell_type": "code",
      "metadata": {
        "id": "CqZnly8Rz3LQ"
      },
      "source": [
        "# This function generates eclassifier evaluations\n",
        "def evaluate_classifier(z_test,reg_pred):\n",
        "  cm_1 = metrics.confusion_matrix(z_test, reg_pred)\n",
        "  acc_1   = metrics.accuracy_score(z_test, reg_pred)\n",
        "  rec_1   = metrics.recall_score(z_test, reg_pred)\n",
        "  prec_1  = metrics.precision_score(z_test, reg_pred) \n",
        "  print(f'Accuracy = {acc_1}, Precision = {prec_1}, Recall = {rec_1}')\n",
        "  print('Confusion Matrix is:')\n",
        "  print(cm_1)"
      ],
      "execution_count": 30,
      "outputs": []
    },
    {
      "cell_type": "code",
      "metadata": {
        "colab": {
          "base_uri": "https://localhost:8080/"
        },
        "id": "zs254CjmtznK",
        "outputId": "596fff4c-e8c6-4a2a-8994-7bb2a369600a"
      },
      "source": [
        "evaluate_classifier(y_test,pred)"
      ],
      "execution_count": 31,
      "outputs": [
        {
          "output_type": "stream",
          "name": "stdout",
          "text": [
            "Accuracy = 0.7468879668049793, Precision = 0.7946428571428571, Recall = 0.7007874015748031\n",
            "Confusion Matrix is:\n",
            "[[91 23]\n",
            " [38 89]]\n"
          ]
        }
      ]
    },
    {
      "cell_type": "markdown",
      "metadata": {
        "id": "4q3zi3Sc0WgO"
      },
      "source": [
        "### Step 2: Now build model for \"Easy\" samples only and test on easy samples only"
      ]
    },
    {
      "cell_type": "code",
      "metadata": {
        "colab": {
          "base_uri": "https://localhost:8080/",
          "height": 204
        },
        "id": "w2LD83VT0iN2",
        "outputId": "606e69a6-c0fe-41cc-d7bf-54acbbb9196d"
      },
      "source": [
        "train_data_tagged=return_tagged_data(train_data)\n",
        "test_data_tagged=return_tagged_data(test_data)\n",
        "train_data_tagged.head()"
      ],
      "execution_count": 32,
      "outputs": [
        {
          "output_type": "execute_result",
          "data": {
            "text/html": [
              "<div>\n",
              "<style scoped>\n",
              "    .dataframe tbody tr th:only-of-type {\n",
              "        vertical-align: middle;\n",
              "    }\n",
              "\n",
              "    .dataframe tbody tr th {\n",
              "        vertical-align: top;\n",
              "    }\n",
              "\n",
              "    .dataframe thead th {\n",
              "        text-align: right;\n",
              "    }\n",
              "</style>\n",
              "<table border=\"1\" class=\"dataframe\">\n",
              "  <thead>\n",
              "    <tr style=\"text-align: right;\">\n",
              "      <th></th>\n",
              "      <th>0</th>\n",
              "      <th>1</th>\n",
              "      <th>2</th>\n",
              "      <th>3</th>\n",
              "      <th>4</th>\n",
              "      <th>5</th>\n",
              "      <th>6</th>\n",
              "      <th>7</th>\n",
              "      <th>8</th>\n",
              "      <th>9</th>\n",
              "      <th>labels</th>\n",
              "      <th>Easy</th>\n",
              "    </tr>\n",
              "  </thead>\n",
              "  <tbody>\n",
              "    <tr>\n",
              "      <th>0</th>\n",
              "      <td>0.038076</td>\n",
              "      <td>0.050680</td>\n",
              "      <td>0.061696</td>\n",
              "      <td>0.021872</td>\n",
              "      <td>-0.044223</td>\n",
              "      <td>-0.034821</td>\n",
              "      <td>-0.043401</td>\n",
              "      <td>-0.002592</td>\n",
              "      <td>0.019908</td>\n",
              "      <td>-0.017646</td>\n",
              "      <td>1</td>\n",
              "      <td>0</td>\n",
              "    </tr>\n",
              "    <tr>\n",
              "      <th>1</th>\n",
              "      <td>-0.001882</td>\n",
              "      <td>-0.044642</td>\n",
              "      <td>-0.051474</td>\n",
              "      <td>-0.026328</td>\n",
              "      <td>-0.008449</td>\n",
              "      <td>-0.019163</td>\n",
              "      <td>0.074412</td>\n",
              "      <td>-0.039493</td>\n",
              "      <td>-0.068330</td>\n",
              "      <td>-0.092204</td>\n",
              "      <td>0</td>\n",
              "      <td>1</td>\n",
              "    </tr>\n",
              "    <tr>\n",
              "      <th>2</th>\n",
              "      <td>0.085299</td>\n",
              "      <td>0.050680</td>\n",
              "      <td>0.044451</td>\n",
              "      <td>-0.005671</td>\n",
              "      <td>-0.045599</td>\n",
              "      <td>-0.034194</td>\n",
              "      <td>-0.032356</td>\n",
              "      <td>-0.002592</td>\n",
              "      <td>0.002864</td>\n",
              "      <td>-0.025930</td>\n",
              "      <td>1</td>\n",
              "      <td>0</td>\n",
              "    </tr>\n",
              "    <tr>\n",
              "      <th>3</th>\n",
              "      <td>-0.089063</td>\n",
              "      <td>-0.044642</td>\n",
              "      <td>-0.011595</td>\n",
              "      <td>-0.036656</td>\n",
              "      <td>0.012191</td>\n",
              "      <td>0.024991</td>\n",
              "      <td>-0.036038</td>\n",
              "      <td>0.034309</td>\n",
              "      <td>0.022692</td>\n",
              "      <td>-0.009362</td>\n",
              "      <td>1</td>\n",
              "      <td>0</td>\n",
              "    </tr>\n",
              "    <tr>\n",
              "      <th>4</th>\n",
              "      <td>0.005383</td>\n",
              "      <td>-0.044642</td>\n",
              "      <td>-0.036385</td>\n",
              "      <td>0.021872</td>\n",
              "      <td>0.003935</td>\n",
              "      <td>0.015596</td>\n",
              "      <td>0.008142</td>\n",
              "      <td>-0.002592</td>\n",
              "      <td>-0.031991</td>\n",
              "      <td>-0.046641</td>\n",
              "      <td>0</td>\n",
              "      <td>0</td>\n",
              "    </tr>\n",
              "  </tbody>\n",
              "</table>\n",
              "</div>"
            ],
            "text/plain": [
              "          0         1         2         3  ...         8         9  labels  Easy\n",
              "0  0.038076  0.050680  0.061696  0.021872  ...  0.019908 -0.017646       1     0\n",
              "1 -0.001882 -0.044642 -0.051474 -0.026328  ... -0.068330 -0.092204       0     1\n",
              "2  0.085299  0.050680  0.044451 -0.005671  ...  0.002864 -0.025930       1     0\n",
              "3 -0.089063 -0.044642 -0.011595 -0.036656  ...  0.022692 -0.009362       1     0\n",
              "4  0.005383 -0.044642 -0.036385  0.021872  ... -0.031991 -0.046641       0     0\n",
              "\n",
              "[5 rows x 12 columns]"
            ]
          },
          "metadata": {},
          "execution_count": 32
        }
      ]
    },
    {
      "cell_type": "markdown",
      "metadata": {
        "id": "usWZmXSTEbPy"
      },
      "source": [
        "# Extract the 'Easy' samples only and create [X_train_e, y_train_e, X_test_e, y_yest_e]."
      ]
    },
    {
      "cell_type": "code",
      "metadata": {
        "id": "ec0iPpDL4s1i"
      },
      "source": [
        "# Enter code here to create [X_train_e, y_train_e, X_test_e, y_yest_e]\n",
        "def get_splits(train_df: pd.DataFrame, test_df: pd.DataFrame, column_label='labels'):\n",
        "  X_train=train_df.iloc[:,0:9].values\n",
        "  y_train=train_df[column_label]\n",
        "  X_test=test_df.iloc[:,0:9].values\n",
        "  y_test=test_df[column_label]\n",
        "  return X_train, y_train, X_test, y_test\n",
        "\n",
        "def get_samples(dataframe: pd.DataFrame, easy=True, column_name='Easy'):\n",
        "  if easy:\n",
        "     return dataframe[dataframe[column_name] == 1]\n",
        "  else:\n",
        "    return dataframe[dataframe[column_name] == 0]\n",
        "\n",
        "\n",
        "X_train_e, y_train_e, X_test_e, y_test_e = get_splits(\n",
        "    train_df=get_samples(train_data_tagged),\n",
        "    test_df=get_samples(test_data_tagged)\n",
        ")"
      ],
      "execution_count": 33,
      "outputs": []
    },
    {
      "cell_type": "code",
      "metadata": {
        "id": "4WAK1IgI7lti"
      },
      "source": [
        "pred_e = LogisticRegression().fit(X_train_e, y_train_e).predict(X_test_e)"
      ],
      "execution_count": 34,
      "outputs": []
    },
    {
      "cell_type": "code",
      "metadata": {
        "colab": {
          "base_uri": "https://localhost:8080/"
        },
        "id": "9uSgAU7M8S_9",
        "outputId": "aa3b5844-b43f-40da-90ee-37c69b3880bd"
      },
      "source": [
        "evaluate_classifier(y_test_e,pred_e)"
      ],
      "execution_count": 35,
      "outputs": [
        {
          "output_type": "stream",
          "name": "stdout",
          "text": [
            "Accuracy = 0.803921568627451, Precision = 0.8533333333333334, Recall = 0.7710843373493976\n",
            "Confusion Matrix is:\n",
            "[[59 11]\n",
            " [19 64]]\n"
          ]
        }
      ]
    },
    {
      "cell_type": "markdown",
      "metadata": {
        "id": "4mBJlw4g8Zjs"
      },
      "source": [
        "# Step 3: Build the classifier for \"Not easy samples now\""
      ]
    },
    {
      "cell_type": "code",
      "metadata": {
        "id": "WJzaddkB8eCh"
      },
      "source": [
        "# Enter code here to create [X_train_d, y_train_d, X_test_d, y_yest_d]\n",
        "X_train_d, y_train_d, X_test_d, y_test_d = get_splits(\n",
        "    train_df=get_samples(train_data_tagged, False),\n",
        "    test_df=get_samples(test_data_tagged, False)\n",
        ")"
      ],
      "execution_count": 36,
      "outputs": []
    },
    {
      "cell_type": "code",
      "metadata": {
        "id": "4LE9UdBc8wGl"
      },
      "source": [
        "pred_d = LogisticRegression().fit(X_train_d, y_train_d).predict(X_test_d)"
      ],
      "execution_count": 37,
      "outputs": []
    },
    {
      "cell_type": "code",
      "metadata": {
        "colab": {
          "base_uri": "https://localhost:8080/"
        },
        "id": "mh1R0Urt80l8",
        "outputId": "05cba4a2-c96b-42b0-e877-eb18c25c772e"
      },
      "source": [
        "evaluate_classifier(y_test_d,pred_d)"
      ],
      "execution_count": 38,
      "outputs": [
        {
          "output_type": "stream",
          "name": "stdout",
          "text": [
            "Accuracy = 0.6477272727272727, Precision = 0.6511627906976745, Recall = 0.6363636363636364\n",
            "Confusion Matrix is:\n",
            "[[29 15]\n",
            " [16 28]]\n"
          ]
        }
      ]
    },
    {
      "cell_type": "markdown",
      "metadata": {
        "id": "oNl2gtmM862k"
      },
      "source": [
        "## Notice that the same classifier performs poorly on Not Easy samples than on the Easy samples. Thus, it is best practize to fine tune for the \"Difficult\" samples while fitting the \"Best ML Model\". Report the following below:\n",
        "* Accuracy/Precision/Recall for all samples (train on first 200 samples test on the rest)\n",
        "* Accuracy/Precision/Recall for Easy samples (train on first 200 samples test on the rest)\n",
        "* Accuracy/Precision/Recall for Not Easy samples (train on first 200 samples test on the rest)\n",
        "\n",
        "# **Now we see the importance of Data Pipeline and metadata tagging to improve ML model tuning process. Samples on decision boundary are more important that samples that lie close to cluster centers!**"
      ]
    },
    {
      "cell_type": "markdown",
      "metadata": {
        "id": "Z1iw509cCxUy"
      },
      "source": [
        "# Food for thought: How would you script the entire ML Data pipline that will receive data in continuous batches and store viable samples with tagged metadata that will trigger ML model tuning as soon as a critical mass of data is acquired!"
      ]
    },
    {
      "cell_type": "markdown",
      "metadata": {
        "id": "RdWot-rjoZpx"
      },
      "source": [
        "We might be able to encode that logic using kubeflow or TFX. A lambda function can be used as well that is triggered by s3 event."
      ]
    }
  ]
}