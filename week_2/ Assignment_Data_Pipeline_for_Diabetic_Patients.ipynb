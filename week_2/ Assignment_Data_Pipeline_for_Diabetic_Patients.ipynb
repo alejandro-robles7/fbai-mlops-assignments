{
  "nbformat": 4,
  "nbformat_minor": 0,
  "metadata": {
    "colab": {
      "name": "Assignment_Data_Pipeline for Diabetic Patients.ipynb",
      "provenance": [],
      "collapsed_sections": [],
      "include_colab_link": true
    },
    "kernelspec": {
      "display_name": "Python 3",
      "name": "python3"
    }
  },
  "cells": [
    {
      "cell_type": "markdown",
      "metadata": {
        "id": "view-in-github",
        "colab_type": "text"
      },
      "source": [
        "<a href=\"https://colab.research.google.com/github/alejandro-robles7/fbai-mlops-assignments/blob/main/week_2/%20Assignment_Data_Pipeline_for_Diabetic_Patients.ipynb\" target=\"_parent\"><img src=\"https://colab.research.google.com/assets/colab-badge.svg\" alt=\"Open In Colab\"/></a>"
      ]
    },
    {
      "cell_type": "markdown",
      "metadata": {
        "id": "fl8W8Xek2BHf"
      },
      "source": [
        "\n",
        "## This assignment is based on the \"Roche\" Machine Learning Exercise given in \n",
        "https://colab.research.google.com/drive/1-P712Hw8KeVA1bV2AdnyHcT3WzNPMc2N\n",
        "\n"
      ]
    },
    {
      "cell_type": "markdown",
      "metadata": {
        "id": "g4T-_IsVbweU"
      },
      "source": [
        "## Today you are a Data Engineer at Roche medical research team and your team has been working on developing predictive markers for Diabetes. \n",
        "* ## Your team will be receiving small batches of data, based on which you will then be able to build and deploy machine learning models to predict \"Which patients are at risk for Diabetes\" vs. normal patients. \n",
        "* ## You will make your predictions based on predicted Blood Glucose Levels.\n",
        "\n",
        "## Details of your dataset are as follows:\n",
        "Dataset source: https://www4.stat.ncsu.edu/~boos/var.select/diabetes.html\n",
        "* Samples batch size: 100\n",
        "* Dimensionality: 10\n",
        "* Features: real, -.2 < x < .2\n",
        "* Blood Glucose Level: (25 - 350)\n",
        "\n",
        "# **Your task is to create a Data Pipeline to receive data batches and perform the following checks**:\n",
        "* ## **Pre-process the dataset to eliminate outliers or erroneous samples.**\n",
        "* ## **Detect samples that are \"easy\" vs \"difficult\" to classify based on their clustering patterns.** This will help build better ML models for future data sets.\n"
      ]
    },
    {
      "cell_type": "markdown",
      "metadata": {
        "id": "LEAHZv4rIYHX"
      },
      "source": [
        "## **Learning Objectives:**\n",
        "  * Create a Data Pipeline to receive data until a critical mass of data is received to build models thereafter.\n",
        "  * Identify features about the data to aid storage and retrieval.\n",
        "  * Build ML models using a subset of the curated data."
      ]
    },
    {
      "cell_type": "markdown",
      "metadata": {
        "id": "grWw1ARGdHld"
      },
      "source": [
        "## As a first step, we install the libraries we will need later on."
      ]
    },
    {
      "cell_type": "code",
      "metadata": {
        "colab": {
          "base_uri": "https://localhost:8080/"
        },
        "id": "aQPpjfZu0Pi2",
        "outputId": "49a5b9a1-09a4-4e33-a87b-f83e869c7a8f"
      },
      "source": [
        "!pip install --upgrade plotly"
      ],
      "execution_count": null,
      "outputs": [
        {
          "output_type": "stream",
          "name": "stdout",
          "text": [
            "Requirement already satisfied: plotly in /usr/local/lib/python3.7/dist-packages (4.4.1)\n",
            "Collecting plotly\n",
            "  Downloading plotly-5.3.1-py2.py3-none-any.whl (23.9 MB)\n",
            "\u001b[K     |████████████████████████████████| 23.9 MB 68.6 MB/s \n",
            "\u001b[?25hCollecting tenacity>=6.2.0\n",
            "  Downloading tenacity-8.0.1-py3-none-any.whl (24 kB)\n",
            "Requirement already satisfied: six in /usr/local/lib/python3.7/dist-packages (from plotly) (1.15.0)\n",
            "Installing collected packages: tenacity, plotly\n",
            "  Attempting uninstall: plotly\n",
            "    Found existing installation: plotly 4.4.1\n",
            "    Uninstalling plotly-4.4.1:\n",
            "      Successfully uninstalled plotly-4.4.1\n",
            "Successfully installed plotly-5.3.1 tenacity-8.0.1\n"
          ]
        }
      ]
    },
    {
      "cell_type": "code",
      "metadata": {
        "colab": {
          "base_uri": "https://localhost:8080/"
        },
        "id": "NcdqvWky0RWs",
        "outputId": "ad8b7d4f-ed20-41d8-880c-31423c752c38"
      },
      "source": [
        "!pip install jupyter-dash"
      ],
      "execution_count": null,
      "outputs": [
        {
          "output_type": "stream",
          "name": "stdout",
          "text": [
            "Collecting jupyter-dash\n",
            "  Downloading jupyter_dash-0.4.0-py3-none-any.whl (20 kB)\n",
            "Requirement already satisfied: retrying in /usr/local/lib/python3.7/dist-packages (from jupyter-dash) (1.3.3)\n",
            "Collecting ansi2html\n",
            "  Downloading ansi2html-1.6.0-py3-none-any.whl (14 kB)\n",
            "Requirement already satisfied: ipython in /usr/local/lib/python3.7/dist-packages (from jupyter-dash) (5.5.0)\n",
            "Collecting dash\n",
            "  Downloading dash-2.0.0-py3-none-any.whl (7.3 MB)\n",
            "\u001b[K     |████████████████████████████████| 7.3 MB 17.9 MB/s \n",
            "\u001b[?25hRequirement already satisfied: flask in /usr/local/lib/python3.7/dist-packages (from jupyter-dash) (1.1.4)\n",
            "Requirement already satisfied: ipykernel in /usr/local/lib/python3.7/dist-packages (from jupyter-dash) (4.10.1)\n",
            "Requirement already satisfied: requests in /usr/local/lib/python3.7/dist-packages (from jupyter-dash) (2.23.0)\n",
            "Collecting dash-table==5.0.0\n",
            "  Downloading dash_table-5.0.0.tar.gz (3.4 kB)\n",
            "Collecting dash-html-components==2.0.0\n",
            "  Downloading dash_html_components-2.0.0.tar.gz (3.8 kB)\n",
            "Collecting dash-core-components==2.0.0\n",
            "  Downloading dash_core_components-2.0.0.tar.gz (3.4 kB)\n",
            "Collecting flask-compress\n",
            "  Downloading Flask_Compress-1.10.1-py3-none-any.whl (7.9 kB)\n",
            "Requirement already satisfied: plotly>=5.0.0 in /usr/local/lib/python3.7/dist-packages (from dash->jupyter-dash) (5.3.1)\n",
            "Requirement already satisfied: click<8.0,>=5.1 in /usr/local/lib/python3.7/dist-packages (from flask->jupyter-dash) (7.1.2)\n",
            "Requirement already satisfied: itsdangerous<2.0,>=0.24 in /usr/local/lib/python3.7/dist-packages (from flask->jupyter-dash) (1.1.0)\n",
            "Requirement already satisfied: Werkzeug<2.0,>=0.15 in /usr/local/lib/python3.7/dist-packages (from flask->jupyter-dash) (1.0.1)\n",
            "Requirement already satisfied: Jinja2<3.0,>=2.10.1 in /usr/local/lib/python3.7/dist-packages (from flask->jupyter-dash) (2.11.3)\n",
            "Requirement already satisfied: MarkupSafe>=0.23 in /usr/local/lib/python3.7/dist-packages (from Jinja2<3.0,>=2.10.1->flask->jupyter-dash) (2.0.1)\n",
            "Requirement already satisfied: six in /usr/local/lib/python3.7/dist-packages (from plotly>=5.0.0->dash->jupyter-dash) (1.15.0)\n",
            "Requirement already satisfied: tenacity>=6.2.0 in /usr/local/lib/python3.7/dist-packages (from plotly>=5.0.0->dash->jupyter-dash) (8.0.1)\n",
            "Collecting brotli\n",
            "  Downloading Brotli-1.0.9-cp37-cp37m-manylinux1_x86_64.whl (357 kB)\n",
            "\u001b[K     |████████████████████████████████| 357 kB 74.6 MB/s \n",
            "\u001b[?25hRequirement already satisfied: jupyter-client in /usr/local/lib/python3.7/dist-packages (from ipykernel->jupyter-dash) (5.3.5)\n",
            "Requirement already satisfied: tornado>=4.0 in /usr/local/lib/python3.7/dist-packages (from ipykernel->jupyter-dash) (5.1.1)\n",
            "Requirement already satisfied: traitlets>=4.1.0 in /usr/local/lib/python3.7/dist-packages (from ipykernel->jupyter-dash) (5.1.0)\n",
            "Requirement already satisfied: setuptools>=18.5 in /usr/local/lib/python3.7/dist-packages (from ipython->jupyter-dash) (57.4.0)\n",
            "Requirement already satisfied: pygments in /usr/local/lib/python3.7/dist-packages (from ipython->jupyter-dash) (2.6.1)\n",
            "Requirement already satisfied: pexpect in /usr/local/lib/python3.7/dist-packages (from ipython->jupyter-dash) (4.8.0)\n",
            "Requirement already satisfied: pickleshare in /usr/local/lib/python3.7/dist-packages (from ipython->jupyter-dash) (0.7.5)\n",
            "Requirement already satisfied: simplegeneric>0.8 in /usr/local/lib/python3.7/dist-packages (from ipython->jupyter-dash) (0.8.1)\n",
            "Requirement already satisfied: prompt-toolkit<2.0.0,>=1.0.4 in /usr/local/lib/python3.7/dist-packages (from ipython->jupyter-dash) (1.0.18)\n",
            "Requirement already satisfied: decorator in /usr/local/lib/python3.7/dist-packages (from ipython->jupyter-dash) (4.4.2)\n",
            "Requirement already satisfied: wcwidth in /usr/local/lib/python3.7/dist-packages (from prompt-toolkit<2.0.0,>=1.0.4->ipython->jupyter-dash) (0.2.5)\n",
            "Requirement already satisfied: python-dateutil>=2.1 in /usr/local/lib/python3.7/dist-packages (from jupyter-client->ipykernel->jupyter-dash) (2.8.2)\n",
            "Requirement already satisfied: pyzmq>=13 in /usr/local/lib/python3.7/dist-packages (from jupyter-client->ipykernel->jupyter-dash) (22.3.0)\n",
            "Requirement already satisfied: jupyter-core>=4.6.0 in /usr/local/lib/python3.7/dist-packages (from jupyter-client->ipykernel->jupyter-dash) (4.8.1)\n",
            "Requirement already satisfied: ptyprocess>=0.5 in /usr/local/lib/python3.7/dist-packages (from pexpect->ipython->jupyter-dash) (0.7.0)\n",
            "Requirement already satisfied: urllib3!=1.25.0,!=1.25.1,<1.26,>=1.21.1 in /usr/local/lib/python3.7/dist-packages (from requests->jupyter-dash) (1.24.3)\n",
            "Requirement already satisfied: idna<3,>=2.5 in /usr/local/lib/python3.7/dist-packages (from requests->jupyter-dash) (2.10)\n",
            "Requirement already satisfied: chardet<4,>=3.0.2 in /usr/local/lib/python3.7/dist-packages (from requests->jupyter-dash) (3.0.4)\n",
            "Requirement already satisfied: certifi>=2017.4.17 in /usr/local/lib/python3.7/dist-packages (from requests->jupyter-dash) (2021.5.30)\n",
            "Building wheels for collected packages: dash-core-components, dash-html-components, dash-table\n",
            "  Building wheel for dash-core-components (setup.py) ... \u001b[?25l\u001b[?25hdone\n",
            "  Created wheel for dash-core-components: filename=dash_core_components-2.0.0-py3-none-any.whl size=3821 sha256=2c2d56f80bf00d32e6996e9ca534b4a7796d33de4d76b5874fe7e46dc1bbf00c\n",
            "  Stored in directory: /root/.cache/pip/wheels/00/f9/c7/1a6437d794ed753ea9bc9079e761d4fc803a1f1f5d3697b9ec\n",
            "  Building wheel for dash-html-components (setup.py) ... \u001b[?25l\u001b[?25hdone\n",
            "  Created wheel for dash-html-components: filename=dash_html_components-2.0.0-py3-none-any.whl size=4089 sha256=3427fdc75c6c1064d32eff327957926570b2055553d79b24de88523444a9e6e7\n",
            "  Stored in directory: /root/.cache/pip/wheels/ec/6b/81/05aceabd8b27f724e2c96784016287cc1bfbc349ebfda451de\n",
            "  Building wheel for dash-table (setup.py) ... \u001b[?25l\u001b[?25hdone\n",
            "  Created wheel for dash-table: filename=dash_table-5.0.0-py3-none-any.whl size=3911 sha256=dd2f54fbd45c12848a7c46c7b1165a4c872620a057f98ba23f680effcbce8b00\n",
            "  Stored in directory: /root/.cache/pip/wheels/85/5d/4e/7c276b57992951dbe770bf5caad6448d0539c510663aefd2e2\n",
            "Successfully built dash-core-components dash-html-components dash-table\n",
            "Installing collected packages: brotli, flask-compress, dash-table, dash-html-components, dash-core-components, dash, ansi2html, jupyter-dash\n",
            "Successfully installed ansi2html-1.6.0 brotli-1.0.9 dash-2.0.0 dash-core-components-2.0.0 dash-html-components-2.0.0 dash-table-5.0.0 flask-compress-1.10.1 jupyter-dash-0.4.0\n"
          ]
        }
      ]
    },
    {
      "cell_type": "markdown",
      "metadata": {
        "id": "9pltCyy2K3dd"
      },
      "source": [
        "# **Task 1: Pre-processing data batches. Elimininate erroneous/incomplete samples.**\n",
        "\n",
        "Use prior knowledge in this case regarding the maximum and minimum values each feature/sample labels can take"
      ]
    },
    {
      "cell_type": "code",
      "metadata": {
        "id": "_mUmHhqPDmP4"
      },
      "source": [
        "# As a first step we import all required libraries.\n",
        "import matplotlib.pyplot as plt\n",
        "\n",
        "from sklearn.datasets import load_diabetes\n",
        "from sklearn.ensemble import GradientBoostingRegressor\n",
        "from sklearn.ensemble import RandomForestRegressor\n",
        "from sklearn.linear_model import LinearRegression\n",
        "import seaborn as sns\n",
        "import numpy as np\n",
        "import pandas as pd"
      ],
      "execution_count": null,
      "outputs": []
    },
    {
      "cell_type": "markdown",
      "metadata": {
        "id": "w9kjESNHF07_"
      },
      "source": [
        "# Now, we read the data and receive batches of data in increments of 100. "
      ]
    },
    {
      "cell_type": "code",
      "metadata": {
        "id": "9PQG_leKFqGT"
      },
      "source": [
        "#First we look into the first 100 samples\n",
        "X, y = load_diabetes(return_X_y=True)"
      ],
      "execution_count": null,
      "outputs": []
    },
    {
      "cell_type": "markdown",
      "metadata": {
        "id": "czC1pKzR_Y8d"
      },
      "source": [
        "## Write a function 'return_dataframe' that takes in batches of data (in increments of 100) as input and returns a dataframe with the 'labels' y appended as the last column."
      ]
    },
    {
      "cell_type": "code",
      "metadata": {
        "id": "oSEaADr7_QMU"
      },
      "source": [
        "def return_dataframe(X_batch,y_batch):\n",
        "  #####Enter Code Here\n",
        "  #######################\n",
        "  return df\n",
        "\n",
        "\n"
      ],
      "execution_count": null,
      "outputs": []
    },
    {
      "cell_type": "code",
      "metadata": {
        "colab": {
          "base_uri": "https://localhost:8080/",
          "height": 206
        },
        "id": "9BKzl1PD_wpb",
        "outputId": "4f299c89-87c3-48c1-aa1e-f71e64c167b4"
      },
      "source": [
        "df=return_dataframe(X[:100,:],y[:100])  \n",
        "df.head()"
      ],
      "execution_count": null,
      "outputs": [
        {
          "output_type": "execute_result",
          "data": {
            "text/html": [
              "<div>\n",
              "<style scoped>\n",
              "    .dataframe tbody tr th:only-of-type {\n",
              "        vertical-align: middle;\n",
              "    }\n",
              "\n",
              "    .dataframe tbody tr th {\n",
              "        vertical-align: top;\n",
              "    }\n",
              "\n",
              "    .dataframe thead th {\n",
              "        text-align: right;\n",
              "    }\n",
              "</style>\n",
              "<table border=\"1\" class=\"dataframe\">\n",
              "  <thead>\n",
              "    <tr style=\"text-align: right;\">\n",
              "      <th></th>\n",
              "      <th>0</th>\n",
              "      <th>1</th>\n",
              "      <th>2</th>\n",
              "      <th>3</th>\n",
              "      <th>4</th>\n",
              "      <th>5</th>\n",
              "      <th>6</th>\n",
              "      <th>7</th>\n",
              "      <th>8</th>\n",
              "      <th>9</th>\n",
              "      <th>labels</th>\n",
              "    </tr>\n",
              "  </thead>\n",
              "  <tbody>\n",
              "    <tr>\n",
              "      <th>0</th>\n",
              "      <td>0.038076</td>\n",
              "      <td>0.050680</td>\n",
              "      <td>0.061696</td>\n",
              "      <td>0.021872</td>\n",
              "      <td>-0.044223</td>\n",
              "      <td>-0.034821</td>\n",
              "      <td>-0.043401</td>\n",
              "      <td>-0.002592</td>\n",
              "      <td>0.019908</td>\n",
              "      <td>-0.017646</td>\n",
              "      <td>151.0</td>\n",
              "    </tr>\n",
              "    <tr>\n",
              "      <th>1</th>\n",
              "      <td>-0.001882</td>\n",
              "      <td>-0.044642</td>\n",
              "      <td>-0.051474</td>\n",
              "      <td>-0.026328</td>\n",
              "      <td>-0.008449</td>\n",
              "      <td>-0.019163</td>\n",
              "      <td>0.074412</td>\n",
              "      <td>-0.039493</td>\n",
              "      <td>-0.068330</td>\n",
              "      <td>-0.092204</td>\n",
              "      <td>75.0</td>\n",
              "    </tr>\n",
              "    <tr>\n",
              "      <th>2</th>\n",
              "      <td>0.085299</td>\n",
              "      <td>0.050680</td>\n",
              "      <td>0.044451</td>\n",
              "      <td>-0.005671</td>\n",
              "      <td>-0.045599</td>\n",
              "      <td>-0.034194</td>\n",
              "      <td>-0.032356</td>\n",
              "      <td>-0.002592</td>\n",
              "      <td>0.002864</td>\n",
              "      <td>-0.025930</td>\n",
              "      <td>141.0</td>\n",
              "    </tr>\n",
              "    <tr>\n",
              "      <th>3</th>\n",
              "      <td>-0.089063</td>\n",
              "      <td>-0.044642</td>\n",
              "      <td>-0.011595</td>\n",
              "      <td>-0.036656</td>\n",
              "      <td>0.012191</td>\n",
              "      <td>0.024991</td>\n",
              "      <td>-0.036038</td>\n",
              "      <td>0.034309</td>\n",
              "      <td>0.022692</td>\n",
              "      <td>-0.009362</td>\n",
              "      <td>206.0</td>\n",
              "    </tr>\n",
              "    <tr>\n",
              "      <th>4</th>\n",
              "      <td>0.005383</td>\n",
              "      <td>-0.044642</td>\n",
              "      <td>-0.036385</td>\n",
              "      <td>0.021872</td>\n",
              "      <td>0.003935</td>\n",
              "      <td>0.015596</td>\n",
              "      <td>0.008142</td>\n",
              "      <td>-0.002592</td>\n",
              "      <td>-0.031991</td>\n",
              "      <td>-0.046641</td>\n",
              "      <td>135.0</td>\n",
              "    </tr>\n",
              "  </tbody>\n",
              "</table>\n",
              "</div>"
            ],
            "text/plain": [
              "          0         1         2         3  ...         7         8         9  labels\n",
              "0  0.038076  0.050680  0.061696  0.021872  ... -0.002592  0.019908 -0.017646   151.0\n",
              "1 -0.001882 -0.044642 -0.051474 -0.026328  ... -0.039493 -0.068330 -0.092204    75.0\n",
              "2  0.085299  0.050680  0.044451 -0.005671  ... -0.002592  0.002864 -0.025930   141.0\n",
              "3 -0.089063 -0.044642 -0.011595 -0.036656  ...  0.034309  0.022692 -0.009362   206.0\n",
              "4  0.005383 -0.044642 -0.036385  0.021872  ... -0.002592 -0.031991 -0.046641   135.0\n",
              "\n",
              "[5 rows x 11 columns]"
            ]
          },
          "metadata": {},
          "execution_count": 6
        }
      ]
    },
    {
      "cell_type": "markdown",
      "metadata": {
        "id": "dQ_G2PQFc9hp"
      },
      "source": [
        "# Now, you need to create a function ('return_viable_samples') to check if any sample features are in error (NaN, or out of the range). \n",
        "## The function takes the batch dataframe as input, eliminates samples that are out of range or NaN valued, and converts the labels to binarized form such that df['labels']=1 for Glucose>=140 and df['labels']=0 for Glucose<140."
      ]
    },
    {
      "cell_type": "code",
      "metadata": {
        "id": "D3Vsy4Upc840"
      },
      "source": [
        "def return_viable_samples(df):\n",
        "  # for each feature verify if they lie in the range [-0.2,0.2]\n",
        "  # for each y value, verify if they lie in range [25-350]\n",
        "  # if not then eliminate the sample\n",
        "  ############Enter your code here####################\n",
        "  return df\n"
      ],
      "execution_count": null,
      "outputs": []
    },
    {
      "cell_type": "code",
      "metadata": {
        "colab": {
          "base_uri": "https://localhost:8080/",
          "height": 206
        },
        "id": "LpizhB7xl6Ag",
        "outputId": "0f4455ca-b0ad-4207-9d08-1cfaec2fc0c3"
      },
      "source": [
        "df_viable=return_viable_samples(df)\n",
        "df_viable.head()"
      ],
      "execution_count": null,
      "outputs": [
        {
          "output_type": "execute_result",
          "data": {
            "text/html": [
              "<div>\n",
              "<style scoped>\n",
              "    .dataframe tbody tr th:only-of-type {\n",
              "        vertical-align: middle;\n",
              "    }\n",
              "\n",
              "    .dataframe tbody tr th {\n",
              "        vertical-align: top;\n",
              "    }\n",
              "\n",
              "    .dataframe thead th {\n",
              "        text-align: right;\n",
              "    }\n",
              "</style>\n",
              "<table border=\"1\" class=\"dataframe\">\n",
              "  <thead>\n",
              "    <tr style=\"text-align: right;\">\n",
              "      <th></th>\n",
              "      <th>0</th>\n",
              "      <th>1</th>\n",
              "      <th>2</th>\n",
              "      <th>3</th>\n",
              "      <th>4</th>\n",
              "      <th>5</th>\n",
              "      <th>6</th>\n",
              "      <th>7</th>\n",
              "      <th>8</th>\n",
              "      <th>9</th>\n",
              "      <th>labels</th>\n",
              "    </tr>\n",
              "  </thead>\n",
              "  <tbody>\n",
              "    <tr>\n",
              "      <th>9</th>\n",
              "      <td>-0.070900</td>\n",
              "      <td>-0.044642</td>\n",
              "      <td>0.039062</td>\n",
              "      <td>-0.033214</td>\n",
              "      <td>-0.012577</td>\n",
              "      <td>-0.034508</td>\n",
              "      <td>-0.024993</td>\n",
              "      <td>-0.002592</td>\n",
              "      <td>0.067736</td>\n",
              "      <td>-0.013504</td>\n",
              "      <td>1</td>\n",
              "    </tr>\n",
              "    <tr>\n",
              "      <th>10</th>\n",
              "      <td>-0.096328</td>\n",
              "      <td>-0.044642</td>\n",
              "      <td>-0.083808</td>\n",
              "      <td>0.008101</td>\n",
              "      <td>-0.103389</td>\n",
              "      <td>-0.090561</td>\n",
              "      <td>-0.013948</td>\n",
              "      <td>-0.076395</td>\n",
              "      <td>-0.062913</td>\n",
              "      <td>-0.034215</td>\n",
              "      <td>0</td>\n",
              "    </tr>\n",
              "    <tr>\n",
              "      <th>11</th>\n",
              "      <td>0.027178</td>\n",
              "      <td>0.050680</td>\n",
              "      <td>0.017506</td>\n",
              "      <td>-0.033214</td>\n",
              "      <td>-0.007073</td>\n",
              "      <td>0.045972</td>\n",
              "      <td>-0.065491</td>\n",
              "      <td>0.071210</td>\n",
              "      <td>-0.096433</td>\n",
              "      <td>-0.059067</td>\n",
              "      <td>0</td>\n",
              "    </tr>\n",
              "    <tr>\n",
              "      <th>12</th>\n",
              "      <td>0.016281</td>\n",
              "      <td>-0.044642</td>\n",
              "      <td>-0.028840</td>\n",
              "      <td>-0.009113</td>\n",
              "      <td>-0.004321</td>\n",
              "      <td>-0.009769</td>\n",
              "      <td>0.044958</td>\n",
              "      <td>-0.039493</td>\n",
              "      <td>-0.030751</td>\n",
              "      <td>-0.042499</td>\n",
              "      <td>1</td>\n",
              "    </tr>\n",
              "    <tr>\n",
              "      <th>13</th>\n",
              "      <td>0.005383</td>\n",
              "      <td>0.050680</td>\n",
              "      <td>-0.001895</td>\n",
              "      <td>0.008101</td>\n",
              "      <td>-0.004321</td>\n",
              "      <td>-0.015719</td>\n",
              "      <td>-0.002903</td>\n",
              "      <td>-0.002592</td>\n",
              "      <td>0.038393</td>\n",
              "      <td>-0.013504</td>\n",
              "      <td>1</td>\n",
              "    </tr>\n",
              "  </tbody>\n",
              "</table>\n",
              "</div>"
            ],
            "text/plain": [
              "           0         1         2  ...         8         9  labels\n",
              "9  -0.070900 -0.044642  0.039062  ...  0.067736 -0.013504       1\n",
              "10 -0.096328 -0.044642 -0.083808  ... -0.062913 -0.034215       0\n",
              "11  0.027178  0.050680  0.017506  ... -0.096433 -0.059067       0\n",
              "12  0.016281 -0.044642 -0.028840  ... -0.030751 -0.042499       1\n",
              "13  0.005383  0.050680 -0.001895  ...  0.038393 -0.013504       1\n",
              "\n",
              "[5 rows x 11 columns]"
            ]
          },
          "metadata": {},
          "execution_count": 8
        }
      ]
    },
    {
      "cell_type": "markdown",
      "metadata": {
        "id": "_fc54KRG1prU"
      },
      "source": [
        "# **Task 2: Metadata Generation for Faster Storage and Retrieval.**\n",
        "Our goal is to identify samples that are \"Easy\" vs \"Difficult\" to classify, based on the spatial clustering patterns."
      ]
    },
    {
      "cell_type": "markdown",
      "metadata": {
        "id": "2w8dzDaa2X8f"
      },
      "source": [
        "## Goal (Unsupervised Learning): Perform clustering on the \"viable\" samples per batch to identify the following:\n",
        "* The \"Easy\" samples as ones that are closer to the cluster center and away from cluster boundary.\n",
        "* The \"Difficult samples as ones that are far away from the cluster center and along the decision boundary.\n",
        "\n",
        "### Step 1: Perform PCA (dimensionality reduction) on the viable samples per batch and visualize the samples. Instead of PCA, you can also perform feature ranking and select the top 3 ranked features for this task. This is for visualization ONLY!"
      ]
    },
    {
      "cell_type": "code",
      "metadata": {
        "id": "2pzyhteE2WWu"
      },
      "source": [
        "# reduce the data to 3 dimensional. \n",
        "from sklearn.decomposition import PCA\n",
        "X_b=df_viable.iloc[:,:9].values\n",
        "y_b=df_viable.iloc[:,10].values\n",
        "pca=PCA(n_components=3)\n",
        "X_red=pca.fit_transform(X_b)"
      ],
      "execution_count": null,
      "outputs": []
    },
    {
      "cell_type": "code",
      "metadata": {
        "colab": {
          "base_uri": "https://localhost:8080/",
          "height": 206
        },
        "id": "HJf_6EI260FT",
        "outputId": "497beee1-6e73-400a-ea78-9955d2410e9f"
      },
      "source": [
        "data=pd.DataFrame(X_red,columns = ['PC1','PC2','PC3'])\n",
        "data['labels']=y_b\n",
        "data.head()"
      ],
      "execution_count": null,
      "outputs": [
        {
          "output_type": "execute_result",
          "data": {
            "text/html": [
              "<div>\n",
              "<style scoped>\n",
              "    .dataframe tbody tr th:only-of-type {\n",
              "        vertical-align: middle;\n",
              "    }\n",
              "\n",
              "    .dataframe tbody tr th {\n",
              "        vertical-align: top;\n",
              "    }\n",
              "\n",
              "    .dataframe thead th {\n",
              "        text-align: right;\n",
              "    }\n",
              "</style>\n",
              "<table border=\"1\" class=\"dataframe\">\n",
              "  <thead>\n",
              "    <tr style=\"text-align: right;\">\n",
              "      <th></th>\n",
              "      <th>PC1</th>\n",
              "      <th>PC2</th>\n",
              "      <th>PC3</th>\n",
              "      <th>labels</th>\n",
              "    </tr>\n",
              "  </thead>\n",
              "  <tbody>\n",
              "    <tr>\n",
              "      <th>0</th>\n",
              "      <td>0.015522</td>\n",
              "      <td>-0.047085</td>\n",
              "      <td>-0.012770</td>\n",
              "      <td>1</td>\n",
              "    </tr>\n",
              "    <tr>\n",
              "      <th>1</th>\n",
              "      <td>-0.142285</td>\n",
              "      <td>-0.083958</td>\n",
              "      <td>0.029135</td>\n",
              "      <td>0</td>\n",
              "    </tr>\n",
              "    <tr>\n",
              "      <th>2</th>\n",
              "      <td>0.085267</td>\n",
              "      <td>-0.067486</td>\n",
              "      <td>-0.044520</td>\n",
              "      <td>0</td>\n",
              "    </tr>\n",
              "    <tr>\n",
              "      <th>3</th>\n",
              "      <td>-0.037739</td>\n",
              "      <td>0.049424</td>\n",
              "      <td>-0.000446</td>\n",
              "      <td>1</td>\n",
              "    </tr>\n",
              "    <tr>\n",
              "      <th>4</th>\n",
              "      <td>0.060124</td>\n",
              "      <td>-0.004097</td>\n",
              "      <td>0.036499</td>\n",
              "      <td>1</td>\n",
              "    </tr>\n",
              "  </tbody>\n",
              "</table>\n",
              "</div>"
            ],
            "text/plain": [
              "        PC1       PC2       PC3  labels\n",
              "0  0.015522 -0.047085 -0.012770       1\n",
              "1 -0.142285 -0.083958  0.029135       0\n",
              "2  0.085267 -0.067486 -0.044520       0\n",
              "3 -0.037739  0.049424 -0.000446       1\n",
              "4  0.060124 -0.004097  0.036499       1"
            ]
          },
          "metadata": {},
          "execution_count": 10
        }
      ]
    },
    {
      "cell_type": "code",
      "metadata": {
        "colab": {
          "base_uri": "https://localhost:8080/",
          "height": 542
        },
        "id": "wA1w-1in7BbM",
        "outputId": "39f0d10b-7dbc-447e-d126-aae4815324eb"
      },
      "source": [
        "# Now, we plot the samples from the first 100 samples to see if the samples from Diabetic/vs not Diabetic clusters overlap or not.\n",
        "import plotly.express as px\n",
        "\n",
        "fig = px.scatter_3d(data, x='PC1', y='PC2', z='PC3',color='labels')\n",
        "fig.show()"
      ],
      "execution_count": null,
      "outputs": [
        {
          "output_type": "display_data",
          "data": {
            "text/html": [
              "<html>\n",
              "<head><meta charset=\"utf-8\" /></head>\n",
              "<body>\n",
              "    <div>            <script src=\"https://cdnjs.cloudflare.com/ajax/libs/mathjax/2.7.5/MathJax.js?config=TeX-AMS-MML_SVG\"></script><script type=\"text/javascript\">if (window.MathJax) {MathJax.Hub.Config({SVG: {font: \"STIX-Web\"}});}</script>                <script type=\"text/javascript\">window.PlotlyConfig = {MathJaxConfig: 'local'};</script>\n",
              "        <script src=\"https://cdn.plot.ly/plotly-2.4.2.min.js\"></script>                <div id=\"ae372767-f1e1-414c-afec-9ebee048a9d1\" class=\"plotly-graph-div\" style=\"height:525px; width:100%;\"></div>            <script type=\"text/javascript\">                                    window.PLOTLYENV=window.PLOTLYENV || {};                                    if (document.getElementById(\"ae372767-f1e1-414c-afec-9ebee048a9d1\")) {                    Plotly.newPlot(                        \"ae372767-f1e1-414c-afec-9ebee048a9d1\",                        [{\"hovertemplate\":\"PC1=%{x}<br>PC2=%{y}<br>PC3=%{z}<br>labels=%{marker.color}<extra></extra>\",\"legendgroup\":\"\",\"marker\":{\"color\":[1,0,0,1,1,0,1,1,1,0,1,0,0,0,1,1,1,0,0,0,1,0,0,1,0,0,0,1,1,1,0,0,0,0,0,1,0,1,1,0,1,1,1,0,0,1,0,0,0,1,1,0,1,0,0,0,1,1,0,1,1,0,1,1,0,0,0,1,1,1,0,1,0,0,1,0,1,0,0,0,0,0,1,0,0,0,1,1,1,0,0],\"coloraxis\":\"coloraxis\",\"symbol\":\"circle\"},\"mode\":\"markers\",\"name\":\"\",\"scene\":\"scene\",\"showlegend\":false,\"type\":\"scatter3d\",\"x\":[0.015522246575594745,-0.14228536485390755,0.08526719329531811,-0.03773897793018809,0.060123963957776166,-0.033225677395341914,0.19365090911900168,0.018704897479216977,0.15416644291736692,-0.02275358471026102,-0.045283086567213415,-0.07575904059450328,-0.045385283554431124,-0.05304471042334462,0.17760092774989886,-0.019096201029783298,0.05528752667304849,-0.1579390618524452,-0.03850666327281235,-0.03927653110525478,0.008941699705525786,-0.031050974181559176,-0.12967934350924862,0.16594214409491387,-0.1139247948413652,-0.09002278330251294,-0.008724209373907797,0.02516533984846169,-0.04341190290428632,0.21649828487699554,0.04397827146729561,0.12526218025738606,-0.14882419923863993,0.027337140774616294,-0.0919500119665531,0.1489929105967742,0.05099569099035057,-0.06289096277220164,-0.10786783616342148,0.009523878651948672,0.10850360481262787,-0.021629496553705604,0.0642736993971731,0.010207967181885786,0.02522162073859053,-0.02236858528732539,-0.09801761122975067,0.01550233980609174,-0.1571399511676802,-0.09037781318041023,0.10049464872759022,-0.1301437098200897,0.0726609475593565,-0.04515150938543283,-0.007652688693624595,-0.015328168546953772,0.12111244051633108,0.0860748810564326,0.052007061104151264,0.018292730717759,-0.06849288726980389,-0.07367960649481338,0.09314715119787936,0.11850508208666294,0.09211319671819883,0.055823089164990784,0.03512799506722373,-0.015926680619800765,-0.1103902874209482,-0.017370598808129526,-0.04943256057197316,0.08174311763263581,0.07081089140996501,-0.06491745574928565,-0.05968590184375505,-0.10518125098506961,0.009661717629086491,-0.04408835126319019,0.02026898098895918,-0.06002879453831306,-0.06837566196438541,-0.10893301896185252,0.09972921299929484,0.004029298859355569,-0.10537776441535109,-0.07140940702570531,-0.05287748232834346,0.1279594121551876,0.0763896634584457,0.01373790834430594,0.0462581373072045],\"y\":[-0.04708461319823166,-0.08395801187929894,-0.06748581102674367,0.0494235290865521,-0.0040974931659199,0.09658110059421594,0.001629059235326267,0.09028253845814944,0.026525530496105964,-0.05293922758353883,0.022843132983930658,-0.03650609062365226,-0.04615219877435639,-0.004471510553508729,-0.0205581359157641,-0.04318364969893211,-0.09235258716995119,-0.06146841926451249,-0.01911194591077743,-0.004079693943435662,0.05721710618405939,-0.00035439983773389206,0.013430249258132554,-0.11082854870800754,0.0835449898475222,-0.01980614526417941,0.13091389943931223,0.06545551578362561,0.0071784708532175185,0.04234942310858841,-0.02679277272079643,0.016248535582239963,-0.0827596839816311,-0.10303688457368373,0.1066096768601939,-0.06019038639635949,0.0004972710441511636,-0.03638275637071442,-0.09204671149854582,0.05906544651475559,-0.09171923687784428,0.006656758607759884,-0.019024899612362894,0.03255802919747075,0.04041722529035928,0.04730181230064617,0.04122730688338662,-0.0541338589064998,-0.02094280700604156,0.1716672052754973,0.08570495332814493,-0.020624848743481337,-0.12765317504193344,0.010645301530442125,-0.009195225266251323,-0.021020198829591375,-0.05569929771506646,-0.09017855196706083,-0.003269544380741878,-0.02563671279756398,-0.0335852914148111,0.058517740999686915,0.048980103117615054,0.11929331719951485,0.013486450495618736,0.06589313339756185,-0.032420691564293676,-0.10787366740250375,-0.05160617710058286,-0.06718778096365867,-0.027603063131653147,0.12849415437858625,-0.019682389571609997,0.0886066905347691,-0.04980372660258039,0.008250248191636807,0.04011488512463359,-0.10160728155881728,0.14198827672632605,-0.0291632596629409,0.03929745607175923,0.05062785010886073,0.045064408717248566,0.07629199513494071,0.017911997624822446,0.028991774934664774,-0.08849113883736591,-0.009474378739487772,-0.018792691929970164,-0.0016565610537143058,0.01590958423667282],\"z\":[-0.012770423735901154,0.029135069835128428,-0.04452026383825018,-0.0004455232137869523,0.03649940118565319,-0.0014542485585250385,-0.10701557196674454,0.026844560071242987,0.022056244733406047,-0.020239199005337834,-0.024952978637335685,-0.005441865543458427,-0.01263127962110055,-0.06777179623424182,0.07956515528990094,-0.030693337384449165,-0.03464974890842304,0.016236360982047074,0.01654019011932353,0.038374005914336075,0.16532882753435077,-0.033906887750608385,0.000768148316262279,0.05324051482901552,0.0787250885001927,0.02020736271347168,0.017573058857253875,0.04589072604478603,0.014977014676305828,-0.03291166545609841,-0.008767911790854703,-0.04843476764391054,-0.03211384597352725,0.0034457763048583723,-0.020873314799654354,0.03909029426131105,0.032033654556593155,0.001584341842947517,0.0062333770332448826,0.03518570530360296,-0.016002362528748506,0.052111754836331875,0.08502392476468294,-0.08679699390467213,-0.023249728682101227,-0.05248121297020242,-0.040673742428165294,0.0004729852391230505,0.05246066644921996,0.05637273836905595,0.0008637176605387686,0.015472028947739918,0.0014796482858764994,-0.013997856351132537,-0.08947715131061268,0.09587999965022279,-0.013448791222132703,-0.018306354074311585,0.021781171662733273,0.04138065863327483,0.0528726652357127,-0.024403773193801364,0.007868614893614491,-0.009214771341680972,-0.03917590444746948,0.022635785687568338,0.003859632416591417,0.1334638941953976,-0.06337604658004235,0.0565578490763706,-0.10407370301922486,-0.015668059474740616,-0.022170568679292887,-0.06307110359933359,0.01513396505785355,-0.019959471654356093,0.0212762954877618,-0.03585256487425462,-0.0026856906463647925,-0.004536504253593159,-0.03373220501843641,0.01776388418511083,-0.06038503697247799,0.02648139169320623,-0.05983059369226361,-0.05121893292636132,-0.04032150569143769,0.070722975581626,-0.06503765383084947,0.02966143457809552,-0.05238964806267574]}],                        {\"coloraxis\":{\"colorbar\":{\"title\":{\"text\":\"labels\"}},\"colorscale\":[[0.0,\"#0d0887\"],[0.1111111111111111,\"#46039f\"],[0.2222222222222222,\"#7201a8\"],[0.3333333333333333,\"#9c179e\"],[0.4444444444444444,\"#bd3786\"],[0.5555555555555556,\"#d8576b\"],[0.6666666666666666,\"#ed7953\"],[0.7777777777777778,\"#fb9f3a\"],[0.8888888888888888,\"#fdca26\"],[1.0,\"#f0f921\"]]},\"legend\":{\"tracegroupgap\":0},\"margin\":{\"t\":60},\"scene\":{\"domain\":{\"x\":[0.0,1.0],\"y\":[0.0,1.0]},\"xaxis\":{\"title\":{\"text\":\"PC1\"}},\"yaxis\":{\"title\":{\"text\":\"PC2\"}},\"zaxis\":{\"title\":{\"text\":\"PC3\"}}},\"template\":{\"data\":{\"bar\":[{\"error_x\":{\"color\":\"#2a3f5f\"},\"error_y\":{\"color\":\"#2a3f5f\"},\"marker\":{\"line\":{\"color\":\"#E5ECF6\",\"width\":0.5},\"pattern\":{\"fillmode\":\"overlay\",\"size\":10,\"solidity\":0.2}},\"type\":\"bar\"}],\"barpolar\":[{\"marker\":{\"line\":{\"color\":\"#E5ECF6\",\"width\":0.5},\"pattern\":{\"fillmode\":\"overlay\",\"size\":10,\"solidity\":0.2}},\"type\":\"barpolar\"}],\"carpet\":[{\"aaxis\":{\"endlinecolor\":\"#2a3f5f\",\"gridcolor\":\"white\",\"linecolor\":\"white\",\"minorgridcolor\":\"white\",\"startlinecolor\":\"#2a3f5f\"},\"baxis\":{\"endlinecolor\":\"#2a3f5f\",\"gridcolor\":\"white\",\"linecolor\":\"white\",\"minorgridcolor\":\"white\",\"startlinecolor\":\"#2a3f5f\"},\"type\":\"carpet\"}],\"choropleth\":[{\"colorbar\":{\"outlinewidth\":0,\"ticks\":\"\"},\"type\":\"choropleth\"}],\"contour\":[{\"colorbar\":{\"outlinewidth\":0,\"ticks\":\"\"},\"colorscale\":[[0.0,\"#0d0887\"],[0.1111111111111111,\"#46039f\"],[0.2222222222222222,\"#7201a8\"],[0.3333333333333333,\"#9c179e\"],[0.4444444444444444,\"#bd3786\"],[0.5555555555555556,\"#d8576b\"],[0.6666666666666666,\"#ed7953\"],[0.7777777777777778,\"#fb9f3a\"],[0.8888888888888888,\"#fdca26\"],[1.0,\"#f0f921\"]],\"type\":\"contour\"}],\"contourcarpet\":[{\"colorbar\":{\"outlinewidth\":0,\"ticks\":\"\"},\"type\":\"contourcarpet\"}],\"heatmap\":[{\"colorbar\":{\"outlinewidth\":0,\"ticks\":\"\"},\"colorscale\":[[0.0,\"#0d0887\"],[0.1111111111111111,\"#46039f\"],[0.2222222222222222,\"#7201a8\"],[0.3333333333333333,\"#9c179e\"],[0.4444444444444444,\"#bd3786\"],[0.5555555555555556,\"#d8576b\"],[0.6666666666666666,\"#ed7953\"],[0.7777777777777778,\"#fb9f3a\"],[0.8888888888888888,\"#fdca26\"],[1.0,\"#f0f921\"]],\"type\":\"heatmap\"}],\"heatmapgl\":[{\"colorbar\":{\"outlinewidth\":0,\"ticks\":\"\"},\"colorscale\":[[0.0,\"#0d0887\"],[0.1111111111111111,\"#46039f\"],[0.2222222222222222,\"#7201a8\"],[0.3333333333333333,\"#9c179e\"],[0.4444444444444444,\"#bd3786\"],[0.5555555555555556,\"#d8576b\"],[0.6666666666666666,\"#ed7953\"],[0.7777777777777778,\"#fb9f3a\"],[0.8888888888888888,\"#fdca26\"],[1.0,\"#f0f921\"]],\"type\":\"heatmapgl\"}],\"histogram\":[{\"marker\":{\"pattern\":{\"fillmode\":\"overlay\",\"size\":10,\"solidity\":0.2}},\"type\":\"histogram\"}],\"histogram2d\":[{\"colorbar\":{\"outlinewidth\":0,\"ticks\":\"\"},\"colorscale\":[[0.0,\"#0d0887\"],[0.1111111111111111,\"#46039f\"],[0.2222222222222222,\"#7201a8\"],[0.3333333333333333,\"#9c179e\"],[0.4444444444444444,\"#bd3786\"],[0.5555555555555556,\"#d8576b\"],[0.6666666666666666,\"#ed7953\"],[0.7777777777777778,\"#fb9f3a\"],[0.8888888888888888,\"#fdca26\"],[1.0,\"#f0f921\"]],\"type\":\"histogram2d\"}],\"histogram2dcontour\":[{\"colorbar\":{\"outlinewidth\":0,\"ticks\":\"\"},\"colorscale\":[[0.0,\"#0d0887\"],[0.1111111111111111,\"#46039f\"],[0.2222222222222222,\"#7201a8\"],[0.3333333333333333,\"#9c179e\"],[0.4444444444444444,\"#bd3786\"],[0.5555555555555556,\"#d8576b\"],[0.6666666666666666,\"#ed7953\"],[0.7777777777777778,\"#fb9f3a\"],[0.8888888888888888,\"#fdca26\"],[1.0,\"#f0f921\"]],\"type\":\"histogram2dcontour\"}],\"mesh3d\":[{\"colorbar\":{\"outlinewidth\":0,\"ticks\":\"\"},\"type\":\"mesh3d\"}],\"parcoords\":[{\"line\":{\"colorbar\":{\"outlinewidth\":0,\"ticks\":\"\"}},\"type\":\"parcoords\"}],\"pie\":[{\"automargin\":true,\"type\":\"pie\"}],\"scatter\":[{\"marker\":{\"colorbar\":{\"outlinewidth\":0,\"ticks\":\"\"}},\"type\":\"scatter\"}],\"scatter3d\":[{\"line\":{\"colorbar\":{\"outlinewidth\":0,\"ticks\":\"\"}},\"marker\":{\"colorbar\":{\"outlinewidth\":0,\"ticks\":\"\"}},\"type\":\"scatter3d\"}],\"scattercarpet\":[{\"marker\":{\"colorbar\":{\"outlinewidth\":0,\"ticks\":\"\"}},\"type\":\"scattercarpet\"}],\"scattergeo\":[{\"marker\":{\"colorbar\":{\"outlinewidth\":0,\"ticks\":\"\"}},\"type\":\"scattergeo\"}],\"scattergl\":[{\"marker\":{\"colorbar\":{\"outlinewidth\":0,\"ticks\":\"\"}},\"type\":\"scattergl\"}],\"scattermapbox\":[{\"marker\":{\"colorbar\":{\"outlinewidth\":0,\"ticks\":\"\"}},\"type\":\"scattermapbox\"}],\"scatterpolar\":[{\"marker\":{\"colorbar\":{\"outlinewidth\":0,\"ticks\":\"\"}},\"type\":\"scatterpolar\"}],\"scatterpolargl\":[{\"marker\":{\"colorbar\":{\"outlinewidth\":0,\"ticks\":\"\"}},\"type\":\"scatterpolargl\"}],\"scatterternary\":[{\"marker\":{\"colorbar\":{\"outlinewidth\":0,\"ticks\":\"\"}},\"type\":\"scatterternary\"}],\"surface\":[{\"colorbar\":{\"outlinewidth\":0,\"ticks\":\"\"},\"colorscale\":[[0.0,\"#0d0887\"],[0.1111111111111111,\"#46039f\"],[0.2222222222222222,\"#7201a8\"],[0.3333333333333333,\"#9c179e\"],[0.4444444444444444,\"#bd3786\"],[0.5555555555555556,\"#d8576b\"],[0.6666666666666666,\"#ed7953\"],[0.7777777777777778,\"#fb9f3a\"],[0.8888888888888888,\"#fdca26\"],[1.0,\"#f0f921\"]],\"type\":\"surface\"}],\"table\":[{\"cells\":{\"fill\":{\"color\":\"#EBF0F8\"},\"line\":{\"color\":\"white\"}},\"header\":{\"fill\":{\"color\":\"#C8D4E3\"},\"line\":{\"color\":\"white\"}},\"type\":\"table\"}]},\"layout\":{\"annotationdefaults\":{\"arrowcolor\":\"#2a3f5f\",\"arrowhead\":0,\"arrowwidth\":1},\"autotypenumbers\":\"strict\",\"coloraxis\":{\"colorbar\":{\"outlinewidth\":0,\"ticks\":\"\"}},\"colorscale\":{\"diverging\":[[0,\"#8e0152\"],[0.1,\"#c51b7d\"],[0.2,\"#de77ae\"],[0.3,\"#f1b6da\"],[0.4,\"#fde0ef\"],[0.5,\"#f7f7f7\"],[0.6,\"#e6f5d0\"],[0.7,\"#b8e186\"],[0.8,\"#7fbc41\"],[0.9,\"#4d9221\"],[1,\"#276419\"]],\"sequential\":[[0.0,\"#0d0887\"],[0.1111111111111111,\"#46039f\"],[0.2222222222222222,\"#7201a8\"],[0.3333333333333333,\"#9c179e\"],[0.4444444444444444,\"#bd3786\"],[0.5555555555555556,\"#d8576b\"],[0.6666666666666666,\"#ed7953\"],[0.7777777777777778,\"#fb9f3a\"],[0.8888888888888888,\"#fdca26\"],[1.0,\"#f0f921\"]],\"sequentialminus\":[[0.0,\"#0d0887\"],[0.1111111111111111,\"#46039f\"],[0.2222222222222222,\"#7201a8\"],[0.3333333333333333,\"#9c179e\"],[0.4444444444444444,\"#bd3786\"],[0.5555555555555556,\"#d8576b\"],[0.6666666666666666,\"#ed7953\"],[0.7777777777777778,\"#fb9f3a\"],[0.8888888888888888,\"#fdca26\"],[1.0,\"#f0f921\"]]},\"colorway\":[\"#636efa\",\"#EF553B\",\"#00cc96\",\"#ab63fa\",\"#FFA15A\",\"#19d3f3\",\"#FF6692\",\"#B6E880\",\"#FF97FF\",\"#FECB52\"],\"font\":{\"color\":\"#2a3f5f\"},\"geo\":{\"bgcolor\":\"white\",\"lakecolor\":\"white\",\"landcolor\":\"#E5ECF6\",\"showlakes\":true,\"showland\":true,\"subunitcolor\":\"white\"},\"hoverlabel\":{\"align\":\"left\"},\"hovermode\":\"closest\",\"mapbox\":{\"style\":\"light\"},\"paper_bgcolor\":\"white\",\"plot_bgcolor\":\"#E5ECF6\",\"polar\":{\"angularaxis\":{\"gridcolor\":\"white\",\"linecolor\":\"white\",\"ticks\":\"\"},\"bgcolor\":\"#E5ECF6\",\"radialaxis\":{\"gridcolor\":\"white\",\"linecolor\":\"white\",\"ticks\":\"\"}},\"scene\":{\"xaxis\":{\"backgroundcolor\":\"#E5ECF6\",\"gridcolor\":\"white\",\"gridwidth\":2,\"linecolor\":\"white\",\"showbackground\":true,\"ticks\":\"\",\"zerolinecolor\":\"white\"},\"yaxis\":{\"backgroundcolor\":\"#E5ECF6\",\"gridcolor\":\"white\",\"gridwidth\":2,\"linecolor\":\"white\",\"showbackground\":true,\"ticks\":\"\",\"zerolinecolor\":\"white\"},\"zaxis\":{\"backgroundcolor\":\"#E5ECF6\",\"gridcolor\":\"white\",\"gridwidth\":2,\"linecolor\":\"white\",\"showbackground\":true,\"ticks\":\"\",\"zerolinecolor\":\"white\"}},\"shapedefaults\":{\"line\":{\"color\":\"#2a3f5f\"}},\"ternary\":{\"aaxis\":{\"gridcolor\":\"white\",\"linecolor\":\"white\",\"ticks\":\"\"},\"baxis\":{\"gridcolor\":\"white\",\"linecolor\":\"white\",\"ticks\":\"\"},\"bgcolor\":\"#E5ECF6\",\"caxis\":{\"gridcolor\":\"white\",\"linecolor\":\"white\",\"ticks\":\"\"}},\"title\":{\"x\":0.05},\"xaxis\":{\"automargin\":true,\"gridcolor\":\"white\",\"linecolor\":\"white\",\"ticks\":\"\",\"title\":{\"standoff\":15},\"zerolinecolor\":\"white\",\"zerolinewidth\":2},\"yaxis\":{\"automargin\":true,\"gridcolor\":\"white\",\"linecolor\":\"white\",\"ticks\":\"\",\"title\":{\"standoff\":15},\"zerolinecolor\":\"white\",\"zerolinewidth\":2}}}},                        {\"responsive\": true}                    ).then(function(){\n",
              "                            \n",
              "var gd = document.getElementById('ae372767-f1e1-414c-afec-9ebee048a9d1');\n",
              "var x = new MutationObserver(function (mutations, observer) {{\n",
              "        var display = window.getComputedStyle(gd).display;\n",
              "        if (!display || display === 'none') {{\n",
              "            console.log([gd, 'removed!']);\n",
              "            Plotly.purge(gd);\n",
              "            observer.disconnect();\n",
              "        }}\n",
              "}});\n",
              "\n",
              "// Listen for the removal of the full notebook cells\n",
              "var notebookContainer = gd.closest('#notebook-container');\n",
              "if (notebookContainer) {{\n",
              "    x.observe(notebookContainer, {childList: true});\n",
              "}}\n",
              "\n",
              "// Listen for the clearing of the current output cell\n",
              "var outputEl = gd.closest('.output');\n",
              "if (outputEl) {{\n",
              "    x.observe(outputEl, {childList: true});\n",
              "}}\n",
              "\n",
              "                        })                };                            </script>        </div>\n",
              "</body>\n",
              "</html>"
            ]
          },
          "metadata": {}
        }
      ]
    },
    {
      "cell_type": "markdown",
      "metadata": {
        "id": "GTvykVfABI42"
      },
      "source": [
        "## **So we notice that all the samples ar not eaqually easy to classify.**\n",
        "Some are away from the decision boundary (easy to classify) while several samples lie along the decision boundary (difficult to classify). We will now tag the samples as Easy/Diiffult to classify!"
      ]
    },
    {
      "cell_type": "markdown",
      "metadata": {
        "id": "8p7WD14z7Nbw"
      },
      "source": [
        "## Step 2: Identify \"Easy\" and \"Difficult\" to classify samples using the some \"Clustering Performance Evaluation Metrics\" at https://scikit-learn.org/stable/modules/clustering.html#clustering-performance-evaluation\n",
        "\n",
        "### One way of identifying \"Difficult\" samples is to perform k-means clustering on all the data and identify the samples that get misclassified. You can come up with your own function to identify \"Easy\" and \"Difficult\" samples.\n",
        "\n",
        "# **Create a function that accepts a batch of viable samples and appends a column at the end that indicates if the sample is \"Easy or Not\".**\n",
        "\n",
        "### One well known metric is the **Sihouette score** per sample that identifies if the sample is at cluster boundary or not. +1= \"Easy\" sample, close to 0 value implies overlapping clusters or \"Difficult\" sample. Use the command in the [sklearn documentation page](https://scikit-learn.org/stable/modules/generated/sklearn.metrics.silhouette_samples.html#:~:text=The%20Silhouette%20Coefficient%20is%20calculated,n_labels%20%3C%3D%20n_samples%20%2D%201%20.)"
      ]
    },
    {
      "cell_type": "code",
      "metadata": {
        "colab": {
          "base_uri": "https://localhost:8080/",
          "height": 356
        },
        "id": "m1ov_ZsH8D8o",
        "outputId": "be61d60b-fe84-421b-f1d7-090b786b2058"
      },
      "source": [
        "import numpy as np\n",
        "from sklearn import metrics\n",
        "from sklearn.cluster import KMeans\n",
        "kmeans_model = KMeans(n_clusters=2, random_state=1).fit(X_red)\n",
        "labels = kmeans_model.labels_\n",
        "vals=metrics.silhouette_samples(X_red, labels)\n",
        "plt.hist(vals)"
      ],
      "execution_count": null,
      "outputs": [
        {
          "output_type": "execute_result",
          "data": {
            "text/plain": [
              "(array([ 3.,  7.,  6.,  5.,  7.,  7., 15., 14., 20.,  7.]),\n",
              " array([-0.02957233,  0.02713633,  0.08384499,  0.14055365,  0.19726231,\n",
              "         0.25397097,  0.31067964,  0.3673883 ,  0.42409696,  0.48080562,\n",
              "         0.53751428]),\n",
              " <a list of 10 Patch objects>)"
            ]
          },
          "metadata": {},
          "execution_count": 12
        },
        {
          "output_type": "display_data",
          "data": {
            "image/png": "[encoded data removed]",
            "text/plain": [
              "<Figure size 432x288 with 1 Axes>"
            ]
          },
          "metadata": {
            "needs_background": "light"
          }
        }
      ]
    },
    {
      "cell_type": "markdown",
      "metadata": {
        "id": "p2DQUyFA-mP6"
      },
      "source": [
        "## In this case, we can **empirically use a threshold of 0.2** for silhouette scores per sample. So, all samples with silhouette scores>=0.2 are \"easy\" and all remaining samples are \"difficult\". Add a column to dataframe \"data\" as the (Easy/or not) label.\n",
        "\n",
        "# **Note that the threshold for Silhouette scores of 0.2 can be experimentally determined through quartile estimations as well. In this case we look at the histogram above and see that most samples have high scores between [0.3-0.55]. So we arbitrarily set up the threshold of 0.2 here.**"
      ]
    },
    {
      "cell_type": "code",
      "metadata": {
        "colab": {
          "base_uri": "https://localhost:8080/",
          "height": 206
        },
        "id": "YUg0yp4g-hhd",
        "outputId": "bcab11ad-7ebb-4637-f73f-5ad05d1e68e5"
      },
      "source": [
        "easy=(vals>=0.2).astype(int)\n",
        "df_viable['Easy']=easy\n",
        "df_viable.head()"
      ],
      "execution_count": null,
      "outputs": [
        {
          "output_type": "execute_result",
          "data": {
            "text/html": [
              "<div>\n",
              "<style scoped>\n",
              "    .dataframe tbody tr th:only-of-type {\n",
              "        vertical-align: middle;\n",
              "    }\n",
              "\n",
              "    .dataframe tbody tr th {\n",
              "        vertical-align: top;\n",
              "    }\n",
              "\n",
              "    .dataframe thead th {\n",
              "        text-align: right;\n",
              "    }\n",
              "</style>\n",
              "<table border=\"1\" class=\"dataframe\">\n",
              "  <thead>\n",
              "    <tr style=\"text-align: right;\">\n",
              "      <th></th>\n",
              "      <th>0</th>\n",
              "      <th>1</th>\n",
              "      <th>2</th>\n",
              "      <th>3</th>\n",
              "      <th>4</th>\n",
              "      <th>5</th>\n",
              "      <th>6</th>\n",
              "      <th>7</th>\n",
              "      <th>8</th>\n",
              "      <th>9</th>\n",
              "      <th>labels</th>\n",
              "      <th>Easy</th>\n",
              "    </tr>\n",
              "  </thead>\n",
              "  <tbody>\n",
              "    <tr>\n",
              "      <th>9</th>\n",
              "      <td>-0.070900</td>\n",
              "      <td>-0.044642</td>\n",
              "      <td>0.039062</td>\n",
              "      <td>-0.033214</td>\n",
              "      <td>-0.012577</td>\n",
              "      <td>-0.034508</td>\n",
              "      <td>-0.024993</td>\n",
              "      <td>-0.002592</td>\n",
              "      <td>0.067736</td>\n",
              "      <td>-0.013504</td>\n",
              "      <td>1</td>\n",
              "      <td>0</td>\n",
              "    </tr>\n",
              "    <tr>\n",
              "      <th>10</th>\n",
              "      <td>-0.096328</td>\n",
              "      <td>-0.044642</td>\n",
              "      <td>-0.083808</td>\n",
              "      <td>0.008101</td>\n",
              "      <td>-0.103389</td>\n",
              "      <td>-0.090561</td>\n",
              "      <td>-0.013948</td>\n",
              "      <td>-0.076395</td>\n",
              "      <td>-0.062913</td>\n",
              "      <td>-0.034215</td>\n",
              "      <td>0</td>\n",
              "      <td>1</td>\n",
              "    </tr>\n",
              "    <tr>\n",
              "      <th>11</th>\n",
              "      <td>0.027178</td>\n",
              "      <td>0.050680</td>\n",
              "      <td>0.017506</td>\n",
              "      <td>-0.033214</td>\n",
              "      <td>-0.007073</td>\n",
              "      <td>0.045972</td>\n",
              "      <td>-0.065491</td>\n",
              "      <td>0.071210</td>\n",
              "      <td>-0.096433</td>\n",
              "      <td>-0.059067</td>\n",
              "      <td>0</td>\n",
              "      <td>1</td>\n",
              "    </tr>\n",
              "    <tr>\n",
              "      <th>12</th>\n",
              "      <td>0.016281</td>\n",
              "      <td>-0.044642</td>\n",
              "      <td>-0.028840</td>\n",
              "      <td>-0.009113</td>\n",
              "      <td>-0.004321</td>\n",
              "      <td>-0.009769</td>\n",
              "      <td>0.044958</td>\n",
              "      <td>-0.039493</td>\n",
              "      <td>-0.030751</td>\n",
              "      <td>-0.042499</td>\n",
              "      <td>1</td>\n",
              "      <td>1</td>\n",
              "    </tr>\n",
              "    <tr>\n",
              "      <th>13</th>\n",
              "      <td>0.005383</td>\n",
              "      <td>0.050680</td>\n",
              "      <td>-0.001895</td>\n",
              "      <td>0.008101</td>\n",
              "      <td>-0.004321</td>\n",
              "      <td>-0.015719</td>\n",
              "      <td>-0.002903</td>\n",
              "      <td>-0.002592</td>\n",
              "      <td>0.038393</td>\n",
              "      <td>-0.013504</td>\n",
              "      <td>1</td>\n",
              "      <td>1</td>\n",
              "    </tr>\n",
              "  </tbody>\n",
              "</table>\n",
              "</div>"
            ],
            "text/plain": [
              "           0         1         2         3  ...         8         9  labels  Easy\n",
              "9  -0.070900 -0.044642  0.039062 -0.033214  ...  0.067736 -0.013504       1     0\n",
              "10 -0.096328 -0.044642 -0.083808  0.008101  ... -0.062913 -0.034215       0     1\n",
              "11  0.027178  0.050680  0.017506 -0.033214  ... -0.096433 -0.059067       0     1\n",
              "12  0.016281 -0.044642 -0.028840 -0.009113  ... -0.030751 -0.042499       1     1\n",
              "13  0.005383  0.050680 -0.001895  0.008101  ...  0.038393 -0.013504       1     1\n",
              "\n",
              "[5 rows x 12 columns]"
            ]
          },
          "metadata": {},
          "execution_count": 13
        }
      ]
    },
    {
      "cell_type": "markdown",
      "metadata": {
        "id": "F6Y431cAB4YB"
      },
      "source": [
        "## **Now write a function that combines the learnings so far.** \n",
        "So this function 'return_tagged_data' takes as input a dataframe containing the viable samples and performs k-means clustering, and using the labels computes silhouette scores (SS) per sample and tags the samples with SS>=0.2 as df['Easy']=1 and all other samples as df['Easy']=0."
      ]
    },
    {
      "cell_type": "code",
      "metadata": {
        "id": "JUIRTVdRrj9K"
      },
      "source": [
        "def return_tagged_data(df):\n",
        "  #Enter code here###\n",
        "  return df\n",
        "  "
      ],
      "execution_count": null,
      "outputs": []
    },
    {
      "cell_type": "code",
      "metadata": {
        "colab": {
          "base_uri": "https://localhost:8080/",
          "height": 206
        },
        "id": "I_RbtkbYsUU7",
        "outputId": "d9f0a727-a650-4d9c-899a-cf11349ca621"
      },
      "source": [
        "df_viable_1=return_tagged_data(df_viable)\n",
        "df_viable_1.head()"
      ],
      "execution_count": null,
      "outputs": [
        {
          "output_type": "execute_result",
          "data": {
            "text/html": [
              "<div>\n",
              "<style scoped>\n",
              "    .dataframe tbody tr th:only-of-type {\n",
              "        vertical-align: middle;\n",
              "    }\n",
              "\n",
              "    .dataframe tbody tr th {\n",
              "        vertical-align: top;\n",
              "    }\n",
              "\n",
              "    .dataframe thead th {\n",
              "        text-align: right;\n",
              "    }\n",
              "</style>\n",
              "<table border=\"1\" class=\"dataframe\">\n",
              "  <thead>\n",
              "    <tr style=\"text-align: right;\">\n",
              "      <th></th>\n",
              "      <th>0</th>\n",
              "      <th>1</th>\n",
              "      <th>2</th>\n",
              "      <th>3</th>\n",
              "      <th>4</th>\n",
              "      <th>5</th>\n",
              "      <th>6</th>\n",
              "      <th>7</th>\n",
              "      <th>8</th>\n",
              "      <th>9</th>\n",
              "      <th>labels</th>\n",
              "      <th>Easy</th>\n",
              "    </tr>\n",
              "  </thead>\n",
              "  <tbody>\n",
              "    <tr>\n",
              "      <th>9</th>\n",
              "      <td>-0.070900</td>\n",
              "      <td>-0.044642</td>\n",
              "      <td>0.039062</td>\n",
              "      <td>-0.033214</td>\n",
              "      <td>-0.012577</td>\n",
              "      <td>-0.034508</td>\n",
              "      <td>-0.024993</td>\n",
              "      <td>-0.002592</td>\n",
              "      <td>0.067736</td>\n",
              "      <td>-0.013504</td>\n",
              "      <td>1</td>\n",
              "      <td>0</td>\n",
              "    </tr>\n",
              "    <tr>\n",
              "      <th>10</th>\n",
              "      <td>-0.096328</td>\n",
              "      <td>-0.044642</td>\n",
              "      <td>-0.083808</td>\n",
              "      <td>0.008101</td>\n",
              "      <td>-0.103389</td>\n",
              "      <td>-0.090561</td>\n",
              "      <td>-0.013948</td>\n",
              "      <td>-0.076395</td>\n",
              "      <td>-0.062913</td>\n",
              "      <td>-0.034215</td>\n",
              "      <td>0</td>\n",
              "      <td>1</td>\n",
              "    </tr>\n",
              "    <tr>\n",
              "      <th>11</th>\n",
              "      <td>0.027178</td>\n",
              "      <td>0.050680</td>\n",
              "      <td>0.017506</td>\n",
              "      <td>-0.033214</td>\n",
              "      <td>-0.007073</td>\n",
              "      <td>0.045972</td>\n",
              "      <td>-0.065491</td>\n",
              "      <td>0.071210</td>\n",
              "      <td>-0.096433</td>\n",
              "      <td>-0.059067</td>\n",
              "      <td>0</td>\n",
              "      <td>1</td>\n",
              "    </tr>\n",
              "    <tr>\n",
              "      <th>12</th>\n",
              "      <td>0.016281</td>\n",
              "      <td>-0.044642</td>\n",
              "      <td>-0.028840</td>\n",
              "      <td>-0.009113</td>\n",
              "      <td>-0.004321</td>\n",
              "      <td>-0.009769</td>\n",
              "      <td>0.044958</td>\n",
              "      <td>-0.039493</td>\n",
              "      <td>-0.030751</td>\n",
              "      <td>-0.042499</td>\n",
              "      <td>1</td>\n",
              "      <td>1</td>\n",
              "    </tr>\n",
              "    <tr>\n",
              "      <th>13</th>\n",
              "      <td>0.005383</td>\n",
              "      <td>0.050680</td>\n",
              "      <td>-0.001895</td>\n",
              "      <td>0.008101</td>\n",
              "      <td>-0.004321</td>\n",
              "      <td>-0.015719</td>\n",
              "      <td>-0.002903</td>\n",
              "      <td>-0.002592</td>\n",
              "      <td>0.038393</td>\n",
              "      <td>-0.013504</td>\n",
              "      <td>1</td>\n",
              "      <td>1</td>\n",
              "    </tr>\n",
              "  </tbody>\n",
              "</table>\n",
              "</div>"
            ],
            "text/plain": [
              "           0         1         2         3  ...         8         9  labels  Easy\n",
              "9  -0.070900 -0.044642  0.039062 -0.033214  ...  0.067736 -0.013504       1     0\n",
              "10 -0.096328 -0.044642 -0.083808  0.008101  ... -0.062913 -0.034215       0     1\n",
              "11  0.027178  0.050680  0.017506 -0.033214  ... -0.096433 -0.059067       0     1\n",
              "12  0.016281 -0.044642 -0.028840 -0.009113  ... -0.030751 -0.042499       1     1\n",
              "13  0.005383  0.050680 -0.001895  0.008101  ...  0.038393 -0.013504       1     1\n",
              "\n",
              "[5 rows x 12 columns]"
            ]
          },
          "metadata": {},
          "execution_count": 13
        }
      ]
    },
    {
      "cell_type": "markdown",
      "metadata": {
        "id": "z8eVO8-r_ju6"
      },
      "source": [
        "# By now you have pre-processed the data as much as possible. The next task will be to build an ML model for classification of patients with and without Diabetes."
      ]
    },
    {
      "cell_type": "markdown",
      "metadata": {
        "id": "t3tL-NbWQgCT"
      },
      "source": [
        "# **Task 3: Setting up Classification**\n",
        "* Step 1: We will collect data from 2 batches of 100 samples each and build an ML model (linear or non-linear), then test the model for classification on the next betches of data.\n",
        "* Step 2: We will collect only \"Easy samples\" from first 2 batches of 100 samples, build an ML model and test on only easy samples of the remaining data batches.\n",
        "* Step 3: We will collect only \"Difficult samples\" from first 2 batches of 100 samples, build an ML model and test on only easy samples of the remaining data batches.\n",
        "\n",
        "# **We will report the variation in ML model performance based on the tagged samples.**\n",
        "\n",
        "Reuse as much code as needed from the Colab: https://colab.research.google.com/drive/1-P712Hw8KeVA1bV2AdnyHcT3WzNPMc2N"
      ]
    },
    {
      "cell_type": "code",
      "metadata": {
        "id": "sJt0ZOM_uMxN"
      },
      "source": [
        "train_data=return_dataframe(X[:100,:],y[:100])\n"
      ],
      "execution_count": null,
      "outputs": []
    },
    {
      "cell_type": "code",
      "metadata": {
        "colab": {
          "base_uri": "https://localhost:8080/"
        },
        "id": "Av0kwJsKwMV_",
        "outputId": "095fc636-bda7-4b46-f35f-78d55d62eb5f"
      },
      "source": [
        "train_data=train_data.append(return_dataframe(X[101:200,:],y[101:200]))\n",
        "train_data.shape"
      ],
      "execution_count": null,
      "outputs": [
        {
          "output_type": "execute_result",
          "data": {
            "text/plain": [
              "(199, 11)"
            ]
          },
          "metadata": {},
          "execution_count": 25
        }
      ]
    },
    {
      "cell_type": "code",
      "metadata": {
        "colab": {
          "base_uri": "https://localhost:8080/",
          "height": 206
        },
        "id": "99A3e7SdwqzC",
        "outputId": "6396e832-955e-4202-baf0-5b46ea22b812"
      },
      "source": [
        "train_data.head()"
      ],
      "execution_count": null,
      "outputs": [
        {
          "output_type": "execute_result",
          "data": {
            "text/html": [
              "<div>\n",
              "<style scoped>\n",
              "    .dataframe tbody tr th:only-of-type {\n",
              "        vertical-align: middle;\n",
              "    }\n",
              "\n",
              "    .dataframe tbody tr th {\n",
              "        vertical-align: top;\n",
              "    }\n",
              "\n",
              "    .dataframe thead th {\n",
              "        text-align: right;\n",
              "    }\n",
              "</style>\n",
              "<table border=\"1\" class=\"dataframe\">\n",
              "  <thead>\n",
              "    <tr style=\"text-align: right;\">\n",
              "      <th></th>\n",
              "      <th>0</th>\n",
              "      <th>1</th>\n",
              "      <th>2</th>\n",
              "      <th>3</th>\n",
              "      <th>4</th>\n",
              "      <th>5</th>\n",
              "      <th>6</th>\n",
              "      <th>7</th>\n",
              "      <th>8</th>\n",
              "      <th>9</th>\n",
              "      <th>labels</th>\n",
              "    </tr>\n",
              "  </thead>\n",
              "  <tbody>\n",
              "    <tr>\n",
              "      <th>0</th>\n",
              "      <td>0.038076</td>\n",
              "      <td>0.050680</td>\n",
              "      <td>0.061696</td>\n",
              "      <td>0.021872</td>\n",
              "      <td>-0.044223</td>\n",
              "      <td>-0.034821</td>\n",
              "      <td>-0.043401</td>\n",
              "      <td>-0.002592</td>\n",
              "      <td>0.019908</td>\n",
              "      <td>-0.017646</td>\n",
              "      <td>151.0</td>\n",
              "    </tr>\n",
              "    <tr>\n",
              "      <th>1</th>\n",
              "      <td>-0.001882</td>\n",
              "      <td>-0.044642</td>\n",
              "      <td>-0.051474</td>\n",
              "      <td>-0.026328</td>\n",
              "      <td>-0.008449</td>\n",
              "      <td>-0.019163</td>\n",
              "      <td>0.074412</td>\n",
              "      <td>-0.039493</td>\n",
              "      <td>-0.068330</td>\n",
              "      <td>-0.092204</td>\n",
              "      <td>75.0</td>\n",
              "    </tr>\n",
              "    <tr>\n",
              "      <th>2</th>\n",
              "      <td>0.085299</td>\n",
              "      <td>0.050680</td>\n",
              "      <td>0.044451</td>\n",
              "      <td>-0.005671</td>\n",
              "      <td>-0.045599</td>\n",
              "      <td>-0.034194</td>\n",
              "      <td>-0.032356</td>\n",
              "      <td>-0.002592</td>\n",
              "      <td>0.002864</td>\n",
              "      <td>-0.025930</td>\n",
              "      <td>141.0</td>\n",
              "    </tr>\n",
              "    <tr>\n",
              "      <th>3</th>\n",
              "      <td>-0.089063</td>\n",
              "      <td>-0.044642</td>\n",
              "      <td>-0.011595</td>\n",
              "      <td>-0.036656</td>\n",
              "      <td>0.012191</td>\n",
              "      <td>0.024991</td>\n",
              "      <td>-0.036038</td>\n",
              "      <td>0.034309</td>\n",
              "      <td>0.022692</td>\n",
              "      <td>-0.009362</td>\n",
              "      <td>206.0</td>\n",
              "    </tr>\n",
              "    <tr>\n",
              "      <th>4</th>\n",
              "      <td>0.005383</td>\n",
              "      <td>-0.044642</td>\n",
              "      <td>-0.036385</td>\n",
              "      <td>0.021872</td>\n",
              "      <td>0.003935</td>\n",
              "      <td>0.015596</td>\n",
              "      <td>0.008142</td>\n",
              "      <td>-0.002592</td>\n",
              "      <td>-0.031991</td>\n",
              "      <td>-0.046641</td>\n",
              "      <td>135.0</td>\n",
              "    </tr>\n",
              "  </tbody>\n",
              "</table>\n",
              "</div>"
            ],
            "text/plain": [
              "          0         1         2         3  ...         7         8         9  labels\n",
              "0  0.038076  0.050680  0.061696  0.021872  ... -0.002592  0.019908 -0.017646   151.0\n",
              "1 -0.001882 -0.044642 -0.051474 -0.026328  ... -0.039493 -0.068330 -0.092204    75.0\n",
              "2  0.085299  0.050680  0.044451 -0.005671  ... -0.002592  0.002864 -0.025930   141.0\n",
              "3 -0.089063 -0.044642 -0.011595 -0.036656  ...  0.034309  0.022692 -0.009362   206.0\n",
              "4  0.005383 -0.044642 -0.036385  0.021872  ... -0.002592 -0.031991 -0.046641   135.0\n",
              "\n",
              "[5 rows x 11 columns]"
            ]
          },
          "metadata": {},
          "execution_count": 26
        }
      ]
    },
    {
      "cell_type": "code",
      "metadata": {
        "colab": {
          "base_uri": "https://localhost:8080/"
        },
        "id": "xM86nr73wxwC",
        "outputId": "a4d36036-7602-4a29-ccf2-1aac4833b318"
      },
      "source": [
        "train_data=return_viable_samples(train_data)"
      ],
      "execution_count": null,
      "outputs": [
        {
          "output_type": "stream",
          "name": "stderr",
          "text": [
            "/usr/local/lib/python3.7/dist-packages/ipykernel_launcher.py:15: SettingWithCopyWarning:\n",
            "\n",
            "\n",
            "A value is trying to be set on a copy of a slice from a DataFrame.\n",
            "Try using .loc[row_indexer,col_indexer] = value instead\n",
            "\n",
            "See the caveats in the documentation: https://pandas.pydata.org/pandas-docs/stable/user_guide/indexing.html#returning-a-view-versus-a-copy\n",
            "\n"
          ]
        }
      ]
    },
    {
      "cell_type": "code",
      "metadata": {
        "colab": {
          "base_uri": "https://localhost:8080/",
          "height": 206
        },
        "id": "2p2PqfrTw9qP",
        "outputId": "7211bcd4-c799-448a-f47c-5d2ad673a811"
      },
      "source": [
        "train_data.head()"
      ],
      "execution_count": null,
      "outputs": [
        {
          "output_type": "execute_result",
          "data": {
            "text/html": [
              "<div>\n",
              "<style scoped>\n",
              "    .dataframe tbody tr th:only-of-type {\n",
              "        vertical-align: middle;\n",
              "    }\n",
              "\n",
              "    .dataframe tbody tr th {\n",
              "        vertical-align: top;\n",
              "    }\n",
              "\n",
              "    .dataframe thead th {\n",
              "        text-align: right;\n",
              "    }\n",
              "</style>\n",
              "<table border=\"1\" class=\"dataframe\">\n",
              "  <thead>\n",
              "    <tr style=\"text-align: right;\">\n",
              "      <th></th>\n",
              "      <th>0</th>\n",
              "      <th>1</th>\n",
              "      <th>2</th>\n",
              "      <th>3</th>\n",
              "      <th>4</th>\n",
              "      <th>5</th>\n",
              "      <th>6</th>\n",
              "      <th>7</th>\n",
              "      <th>8</th>\n",
              "      <th>9</th>\n",
              "      <th>labels</th>\n",
              "    </tr>\n",
              "  </thead>\n",
              "  <tbody>\n",
              "    <tr>\n",
              "      <th>9</th>\n",
              "      <td>-0.070900</td>\n",
              "      <td>-0.044642</td>\n",
              "      <td>0.039062</td>\n",
              "      <td>-0.033214</td>\n",
              "      <td>-0.012577</td>\n",
              "      <td>-0.034508</td>\n",
              "      <td>-0.024993</td>\n",
              "      <td>-0.002592</td>\n",
              "      <td>0.067736</td>\n",
              "      <td>-0.013504</td>\n",
              "      <td>1</td>\n",
              "    </tr>\n",
              "    <tr>\n",
              "      <th>10</th>\n",
              "      <td>-0.096328</td>\n",
              "      <td>-0.044642</td>\n",
              "      <td>-0.083808</td>\n",
              "      <td>0.008101</td>\n",
              "      <td>-0.103389</td>\n",
              "      <td>-0.090561</td>\n",
              "      <td>-0.013948</td>\n",
              "      <td>-0.076395</td>\n",
              "      <td>-0.062913</td>\n",
              "      <td>-0.034215</td>\n",
              "      <td>0</td>\n",
              "    </tr>\n",
              "    <tr>\n",
              "      <th>11</th>\n",
              "      <td>0.027178</td>\n",
              "      <td>0.050680</td>\n",
              "      <td>0.017506</td>\n",
              "      <td>-0.033214</td>\n",
              "      <td>-0.007073</td>\n",
              "      <td>0.045972</td>\n",
              "      <td>-0.065491</td>\n",
              "      <td>0.071210</td>\n",
              "      <td>-0.096433</td>\n",
              "      <td>-0.059067</td>\n",
              "      <td>0</td>\n",
              "    </tr>\n",
              "    <tr>\n",
              "      <th>12</th>\n",
              "      <td>0.016281</td>\n",
              "      <td>-0.044642</td>\n",
              "      <td>-0.028840</td>\n",
              "      <td>-0.009113</td>\n",
              "      <td>-0.004321</td>\n",
              "      <td>-0.009769</td>\n",
              "      <td>0.044958</td>\n",
              "      <td>-0.039493</td>\n",
              "      <td>-0.030751</td>\n",
              "      <td>-0.042499</td>\n",
              "      <td>1</td>\n",
              "    </tr>\n",
              "    <tr>\n",
              "      <th>13</th>\n",
              "      <td>0.005383</td>\n",
              "      <td>0.050680</td>\n",
              "      <td>-0.001895</td>\n",
              "      <td>0.008101</td>\n",
              "      <td>-0.004321</td>\n",
              "      <td>-0.015719</td>\n",
              "      <td>-0.002903</td>\n",
              "      <td>-0.002592</td>\n",
              "      <td>0.038393</td>\n",
              "      <td>-0.013504</td>\n",
              "      <td>1</td>\n",
              "    </tr>\n",
              "  </tbody>\n",
              "</table>\n",
              "</div>"
            ],
            "text/plain": [
              "           0         1         2  ...         8         9  labels\n",
              "9  -0.070900 -0.044642  0.039062  ...  0.067736 -0.013504       1\n",
              "10 -0.096328 -0.044642 -0.083808  ... -0.062913 -0.034215       0\n",
              "11  0.027178  0.050680  0.017506  ... -0.096433 -0.059067       0\n",
              "12  0.016281 -0.044642 -0.028840  ... -0.030751 -0.042499       1\n",
              "13  0.005383  0.050680 -0.001895  ...  0.038393 -0.013504       1\n",
              "\n",
              "[5 rows x 11 columns]"
            ]
          },
          "metadata": {},
          "execution_count": 29
        }
      ]
    },
    {
      "cell_type": "code",
      "metadata": {
        "colab": {
          "base_uri": "https://localhost:8080/",
          "height": 224
        },
        "id": "t96WpZGRxmy4",
        "outputId": "70dda6e6-f13b-4cd5-9228-e6c6035ac86b"
      },
      "source": [
        "test_data=return_dataframe(X[201:,:],y[201:])\n",
        "test_data=return_viable_samples(test_data)\n",
        "print(test_data.shape)\n",
        "test_data.head()"
      ],
      "execution_count": null,
      "outputs": [
        {
          "output_type": "stream",
          "name": "stdout",
          "text": [
            "(232, 11)\n"
          ]
        },
        {
          "output_type": "execute_result",
          "data": {
            "text/html": [
              "<div>\n",
              "<style scoped>\n",
              "    .dataframe tbody tr th:only-of-type {\n",
              "        vertical-align: middle;\n",
              "    }\n",
              "\n",
              "    .dataframe tbody tr th {\n",
              "        vertical-align: top;\n",
              "    }\n",
              "\n",
              "    .dataframe thead th {\n",
              "        text-align: right;\n",
              "    }\n",
              "</style>\n",
              "<table border=\"1\" class=\"dataframe\">\n",
              "  <thead>\n",
              "    <tr style=\"text-align: right;\">\n",
              "      <th></th>\n",
              "      <th>0</th>\n",
              "      <th>1</th>\n",
              "      <th>2</th>\n",
              "      <th>3</th>\n",
              "      <th>4</th>\n",
              "      <th>5</th>\n",
              "      <th>6</th>\n",
              "      <th>7</th>\n",
              "      <th>8</th>\n",
              "      <th>9</th>\n",
              "      <th>labels</th>\n",
              "    </tr>\n",
              "  </thead>\n",
              "  <tbody>\n",
              "    <tr>\n",
              "      <th>9</th>\n",
              "      <td>0.009016</td>\n",
              "      <td>-0.044642</td>\n",
              "      <td>0.014272</td>\n",
              "      <td>0.014987</td>\n",
              "      <td>0.054845</td>\n",
              "      <td>0.047224</td>\n",
              "      <td>0.070730</td>\n",
              "      <td>-0.039493</td>\n",
              "      <td>-0.033249</td>\n",
              "      <td>-0.059067</td>\n",
              "      <td>1</td>\n",
              "    </tr>\n",
              "    <tr>\n",
              "      <th>10</th>\n",
              "      <td>0.092564</td>\n",
              "      <td>-0.044642</td>\n",
              "      <td>0.036907</td>\n",
              "      <td>0.021872</td>\n",
              "      <td>-0.024960</td>\n",
              "      <td>-0.016658</td>\n",
              "      <td>0.000779</td>\n",
              "      <td>-0.039493</td>\n",
              "      <td>-0.022512</td>\n",
              "      <td>-0.021788</td>\n",
              "      <td>0</td>\n",
              "    </tr>\n",
              "    <tr>\n",
              "      <th>11</th>\n",
              "      <td>0.067136</td>\n",
              "      <td>-0.044642</td>\n",
              "      <td>0.003494</td>\n",
              "      <td>0.035644</td>\n",
              "      <td>0.049341</td>\n",
              "      <td>0.031254</td>\n",
              "      <td>0.070730</td>\n",
              "      <td>-0.039493</td>\n",
              "      <td>-0.000609</td>\n",
              "      <td>0.019633</td>\n",
              "      <td>0</td>\n",
              "    </tr>\n",
              "    <tr>\n",
              "      <th>12</th>\n",
              "      <td>0.001751</td>\n",
              "      <td>-0.044642</td>\n",
              "      <td>-0.070875</td>\n",
              "      <td>-0.022885</td>\n",
              "      <td>-0.001569</td>\n",
              "      <td>-0.001001</td>\n",
              "      <td>0.026550</td>\n",
              "      <td>-0.039493</td>\n",
              "      <td>-0.022512</td>\n",
              "      <td>0.007207</td>\n",
              "      <td>0</td>\n",
              "    </tr>\n",
              "    <tr>\n",
              "      <th>13</th>\n",
              "      <td>0.030811</td>\n",
              "      <td>-0.044642</td>\n",
              "      <td>-0.033151</td>\n",
              "      <td>-0.022885</td>\n",
              "      <td>-0.046975</td>\n",
              "      <td>-0.081167</td>\n",
              "      <td>0.103865</td>\n",
              "      <td>-0.076395</td>\n",
              "      <td>-0.039810</td>\n",
              "      <td>-0.054925</td>\n",
              "      <td>0</td>\n",
              "    </tr>\n",
              "  </tbody>\n",
              "</table>\n",
              "</div>"
            ],
            "text/plain": [
              "           0         1         2  ...         8         9  labels\n",
              "9   0.009016 -0.044642  0.014272  ... -0.033249 -0.059067       1\n",
              "10  0.092564 -0.044642  0.036907  ... -0.022512 -0.021788       0\n",
              "11  0.067136 -0.044642  0.003494  ... -0.000609  0.019633       0\n",
              "12  0.001751 -0.044642 -0.070875  ... -0.022512  0.007207       0\n",
              "13  0.030811 -0.044642 -0.033151  ... -0.039810 -0.054925       0\n",
              "\n",
              "[5 rows x 11 columns]"
            ]
          },
          "metadata": {},
          "execution_count": 33
        }
      ]
    },
    {
      "cell_type": "code",
      "metadata": {
        "id": "HAMGiRq8xXs9"
      },
      "source": [
        "X_train=train_data.iloc[:,0:9].values\n",
        "y_train=train_data['labels']\n",
        "X_test=test_data.iloc[:,0:9].values\n",
        "y_test=test_data['labels']"
      ],
      "execution_count": null,
      "outputs": []
    },
    {
      "cell_type": "code",
      "metadata": {
        "colab": {
          "base_uri": "https://localhost:8080/"
        },
        "id": "wb5OI9Oezkh1",
        "outputId": "75d7beb3-4eee-42a7-e136-fe541bde90a9"
      },
      "source": [
        "X_train.shape"
      ],
      "execution_count": null,
      "outputs": [
        {
          "output_type": "execute_result",
          "data": {
            "text/plain": [
              "(181, 9)"
            ]
          },
          "metadata": {},
          "execution_count": 39
        }
      ]
    },
    {
      "cell_type": "markdown",
      "metadata": {
        "id": "KTMo55z6C4kE"
      },
      "source": [
        "#  Your Training and test data are now ready! Now, select your favourite classifier and beginning fitting models. "
      ]
    },
    {
      "cell_type": "code",
      "metadata": {
        "id": "wDoaSoRADUqe"
      },
      "source": [
        "# Write code here to fit an ML model using (X_train,y_train) and evaluate on X_test\n",
        "pred=None"
      ],
      "execution_count": null,
      "outputs": []
    },
    {
      "cell_type": "code",
      "metadata": {
        "id": "CqZnly8Rz3LQ"
      },
      "source": [
        "# This function generates eclassifier evaluations\n",
        "def evaluate_classifier(z_test,reg_pred):\n",
        "  cm_1 = metrics.confusion_matrix(z_test, reg_pred)\n",
        "  acc_1   = metrics.accuracy_score(z_test, reg_pred)\n",
        "  rec_1   = metrics.recall_score(z_test, reg_pred)\n",
        "  prec_1  = metrics.precision_score(z_test, reg_pred) \n",
        "  print(f'Accuracy = {acc_1}, Precision = {prec_1}, Recall = {rec_1}')\n",
        "  print('Confusion Matrix is:')\n",
        "  print(cm_1)"
      ],
      "execution_count": null,
      "outputs": []
    },
    {
      "cell_type": "code",
      "metadata": {
        "colab": {
          "base_uri": "https://localhost:8080/"
        },
        "id": "zs254CjmtznK",
        "outputId": "57fddb02-5630-4bb0-d7f8-c65868f0542e"
      },
      "source": [
        "evaluate_classifier(y_test,pred)"
      ],
      "execution_count": null,
      "outputs": [
        {
          "output_type": "stream",
          "name": "stdout",
          "text": [
            "Accuracy = 0.4956896551724138, Precision = 0.509009009009009, Recall = 0.9338842975206612\n",
            "Confusion Matrix is:\n",
            "[[  2 109]\n",
            " [  8 113]]\n"
          ]
        }
      ]
    },
    {
      "cell_type": "markdown",
      "metadata": {
        "id": "4q3zi3Sc0WgO"
      },
      "source": [
        "### Step 2: Now build model for \"Easy\" samples only and test on easy samples only"
      ]
    },
    {
      "cell_type": "code",
      "metadata": {
        "colab": {
          "base_uri": "https://localhost:8080/",
          "height": 206
        },
        "id": "w2LD83VT0iN2",
        "outputId": "fd2865a3-9807-4266-ecc4-e1163d3a4475"
      },
      "source": [
        "train_data_tagged=return_tagged_data(train_data)\n",
        "test_data_tagged=return_tagged_data(test_data)\n",
        "train_data_tagged.head()"
      ],
      "execution_count": null,
      "outputs": [
        {
          "output_type": "execute_result",
          "data": {
            "text/html": [
              "<div>\n",
              "<style scoped>\n",
              "    .dataframe tbody tr th:only-of-type {\n",
              "        vertical-align: middle;\n",
              "    }\n",
              "\n",
              "    .dataframe tbody tr th {\n",
              "        vertical-align: top;\n",
              "    }\n",
              "\n",
              "    .dataframe thead th {\n",
              "        text-align: right;\n",
              "    }\n",
              "</style>\n",
              "<table border=\"1\" class=\"dataframe\">\n",
              "  <thead>\n",
              "    <tr style=\"text-align: right;\">\n",
              "      <th></th>\n",
              "      <th>0</th>\n",
              "      <th>1</th>\n",
              "      <th>2</th>\n",
              "      <th>3</th>\n",
              "      <th>4</th>\n",
              "      <th>5</th>\n",
              "      <th>6</th>\n",
              "      <th>7</th>\n",
              "      <th>8</th>\n",
              "      <th>9</th>\n",
              "      <th>labels</th>\n",
              "      <th>Easy</th>\n",
              "    </tr>\n",
              "  </thead>\n",
              "  <tbody>\n",
              "    <tr>\n",
              "      <th>9</th>\n",
              "      <td>-0.070900</td>\n",
              "      <td>-0.044642</td>\n",
              "      <td>0.039062</td>\n",
              "      <td>-0.033214</td>\n",
              "      <td>-0.012577</td>\n",
              "      <td>-0.034508</td>\n",
              "      <td>-0.024993</td>\n",
              "      <td>-0.002592</td>\n",
              "      <td>0.067736</td>\n",
              "      <td>-0.013504</td>\n",
              "      <td>1</td>\n",
              "      <td>0</td>\n",
              "    </tr>\n",
              "    <tr>\n",
              "      <th>10</th>\n",
              "      <td>-0.096328</td>\n",
              "      <td>-0.044642</td>\n",
              "      <td>-0.083808</td>\n",
              "      <td>0.008101</td>\n",
              "      <td>-0.103389</td>\n",
              "      <td>-0.090561</td>\n",
              "      <td>-0.013948</td>\n",
              "      <td>-0.076395</td>\n",
              "      <td>-0.062913</td>\n",
              "      <td>-0.034215</td>\n",
              "      <td>0</td>\n",
              "      <td>1</td>\n",
              "    </tr>\n",
              "    <tr>\n",
              "      <th>11</th>\n",
              "      <td>0.027178</td>\n",
              "      <td>0.050680</td>\n",
              "      <td>0.017506</td>\n",
              "      <td>-0.033214</td>\n",
              "      <td>-0.007073</td>\n",
              "      <td>0.045972</td>\n",
              "      <td>-0.065491</td>\n",
              "      <td>0.071210</td>\n",
              "      <td>-0.096433</td>\n",
              "      <td>-0.059067</td>\n",
              "      <td>0</td>\n",
              "      <td>1</td>\n",
              "    </tr>\n",
              "    <tr>\n",
              "      <th>12</th>\n",
              "      <td>0.016281</td>\n",
              "      <td>-0.044642</td>\n",
              "      <td>-0.028840</td>\n",
              "      <td>-0.009113</td>\n",
              "      <td>-0.004321</td>\n",
              "      <td>-0.009769</td>\n",
              "      <td>0.044958</td>\n",
              "      <td>-0.039493</td>\n",
              "      <td>-0.030751</td>\n",
              "      <td>-0.042499</td>\n",
              "      <td>1</td>\n",
              "      <td>1</td>\n",
              "    </tr>\n",
              "    <tr>\n",
              "      <th>13</th>\n",
              "      <td>0.005383</td>\n",
              "      <td>0.050680</td>\n",
              "      <td>-0.001895</td>\n",
              "      <td>0.008101</td>\n",
              "      <td>-0.004321</td>\n",
              "      <td>-0.015719</td>\n",
              "      <td>-0.002903</td>\n",
              "      <td>-0.002592</td>\n",
              "      <td>0.038393</td>\n",
              "      <td>-0.013504</td>\n",
              "      <td>1</td>\n",
              "      <td>1</td>\n",
              "    </tr>\n",
              "  </tbody>\n",
              "</table>\n",
              "</div>"
            ],
            "text/plain": [
              "           0         1         2         3  ...         8         9  labels  Easy\n",
              "9  -0.070900 -0.044642  0.039062 -0.033214  ...  0.067736 -0.013504       1     0\n",
              "10 -0.096328 -0.044642 -0.083808  0.008101  ... -0.062913 -0.034215       0     1\n",
              "11  0.027178  0.050680  0.017506 -0.033214  ... -0.096433 -0.059067       0     1\n",
              "12  0.016281 -0.044642 -0.028840 -0.009113  ... -0.030751 -0.042499       1     1\n",
              "13  0.005383  0.050680 -0.001895  0.008101  ...  0.038393 -0.013504       1     1\n",
              "\n",
              "[5 rows x 12 columns]"
            ]
          },
          "metadata": {},
          "execution_count": 58
        }
      ]
    },
    {
      "cell_type": "markdown",
      "metadata": {
        "id": "usWZmXSTEbPy"
      },
      "source": [
        "# Extract the 'Easy' samples only and create [X_train_e, y_train_e, X_test_e, y_yest_e]."
      ]
    },
    {
      "cell_type": "code",
      "metadata": {
        "id": "ec0iPpDL4s1i"
      },
      "source": [
        "# Enter code here to create [X_train_e, y_train_e, X_test_e, y_yest_e]"
      ],
      "execution_count": null,
      "outputs": []
    },
    {
      "cell_type": "code",
      "metadata": {
        "id": "4WAK1IgI7lti"
      },
      "source": [
        "pred_e = None"
      ],
      "execution_count": null,
      "outputs": []
    },
    {
      "cell_type": "code",
      "metadata": {
        "colab": {
          "base_uri": "https://localhost:8080/"
        },
        "id": "9uSgAU7M8S_9",
        "outputId": "c77f396e-0fe6-444e-b53d-0526cdac2045"
      },
      "source": [
        "evaluate_classifier(y_test_e,pred_e)"
      ],
      "execution_count": null,
      "outputs": [
        {
          "output_type": "stream",
          "name": "stdout",
          "text": [
            "Accuracy = 0.5104166666666666, Precision = 0.518918918918919, Recall = 0.9504950495049505\n",
            "Confusion Matrix is:\n",
            "[[ 2 89]\n",
            " [ 5 96]]\n"
          ]
        }
      ]
    },
    {
      "cell_type": "markdown",
      "metadata": {
        "id": "4mBJlw4g8Zjs"
      },
      "source": [
        "# Step 3: Build the classifier for \"Not easy samples now\""
      ]
    },
    {
      "cell_type": "code",
      "metadata": {
        "id": "WJzaddkB8eCh"
      },
      "source": [
        "# Enter code here to create [X_train_d, y_train_d, X_test_d, y_yest_d]"
      ],
      "execution_count": null,
      "outputs": []
    },
    {
      "cell_type": "code",
      "metadata": {
        "id": "4LE9UdBc8wGl"
      },
      "source": [
        "pred_d = None"
      ],
      "execution_count": null,
      "outputs": []
    },
    {
      "cell_type": "code",
      "metadata": {
        "colab": {
          "base_uri": "https://localhost:8080/"
        },
        "id": "mh1R0Urt80l8",
        "outputId": "fa24ca1c-78e2-4177-e94f-72f38d7ed0cf"
      },
      "source": [
        "evaluate_classifier(y_test_d,pred_d)"
      ],
      "execution_count": null,
      "outputs": [
        {
          "output_type": "stream",
          "name": "stdout",
          "text": [
            "Accuracy = 0.5, Precision = 0.0, Recall = 0.0\n",
            "Confusion Matrix is:\n",
            "[[20  0]\n",
            " [20  0]]\n"
          ]
        },
        {
          "output_type": "stream",
          "name": "stderr",
          "text": [
            "/usr/local/lib/python3.7/dist-packages/sklearn/metrics/_classification.py:1272: UndefinedMetricWarning:\n",
            "\n",
            "Precision is ill-defined and being set to 0.0 due to no predicted samples. Use `zero_division` parameter to control this behavior.\n",
            "\n"
          ]
        }
      ]
    },
    {
      "cell_type": "markdown",
      "metadata": {
        "id": "oNl2gtmM862k"
      },
      "source": [
        "## Notice that the same classifier performs poorly on Not Easy samples than on the Easy samples. Thus, it is best practize to fine tune for the \"Difficult\" samples while fitting the \"Best ML Model\". Report the following below:\n",
        "* Accuracy/Precision/Recall for all samples (train on first 200 samples test on the rest)\n",
        "* Accuracy/Precision/Recall for Easy samples (train on first 200 samples test on the rest)\n",
        "* Accuracy/Precision/Recall for Not Easy samples (train on first 200 samples test on the rest)\n",
        "\n",
        "# **Now we see the importance of Data Pipeline and metadata tagging to improve ML model tuning process. Samples on decision boundary are more important that samples that lie close to cluster centers!**"
      ]
    },
    {
      "cell_type": "markdown",
      "metadata": {
        "id": "Z1iw509cCxUy"
      },
      "source": [
        "# Food for thought: How would you script the entire ML Data pipline that will receive data in continuous batches and store viable samples with tagged metadata that will trigger ML model tuning as soon as a critical mass of data is acquired!"
      ]
    },
    {
      "cell_type": "code",
      "metadata": {
        "id": "Va-6bNliDG_E"
      },
      "source": [
        ""
      ],
      "execution_count": null,
      "outputs": []
    }
  ]
}