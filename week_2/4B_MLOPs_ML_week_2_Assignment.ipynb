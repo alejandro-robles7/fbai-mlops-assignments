{
  "nbformat": 4,
  "nbformat_minor": 0,
  "metadata": {
    "anaconda-cloud": {},
    "kernelspec": {
      "display_name": "Python 3",
      "language": "python",
      "name": "python3"
    },
    "language_info": {
      "codemirror_mode": {
        "name": "ipython",
        "version": 3
      },
      "file_extension": ".py",
      "mimetype": "text/x-python",
      "name": "python",
      "nbconvert_exporter": "python",
      "pygments_lexer": "ipython3",
      "version": "3.5.1"
    },
    "colab": {
      "name": "4B_MLOPs_ML_week_2_Assignment.ipynb",
      "provenance": [],
      "collapsed_sections": [],
      "include_colab_link": true
    }
  },
  "cells": [
    {
      "cell_type": "markdown",
      "metadata": {
        "id": "view-in-github",
        "colab_type": "text"
      },
      "source": [
        "<a href=\"https://colab.research.google.com/github/alejandro-robles7/fbai-mlops-assignments/blob/main/week_2/4B_MLOPs_ML_week_2_Assignment.ipynb\" target=\"_parent\"><img src=\"https://colab.research.google.com/assets/colab-badge.svg\" alt=\"Open In Colab\"/></a>"
      ]
    },
    {
      "cell_type": "markdown",
      "metadata": {
        "id": "PvehUMGWMneQ"
      },
      "source": [
        "# Machine Learning and Visualizations\n",
        "In this assignment, we will look into supervised and unsupervised algorithms for ML modeling and visualization methods. Our intention is to identify misclassifications and understand the reason for such limitations. Are the limitations at model level or at data level? \n",
        "\n",
        "We start by loading libraries.\n"
      ]
    },
    {
      "cell_type": "code",
      "metadata": {
        "id": "C4iwSSXfMneR"
      },
      "source": [
        "%matplotlib inline\n",
        "import numpy as np\n",
        "import matplotlib.pyplot as plt\n",
        "import seaborn as sns; sns.set()"
      ],
      "execution_count": 1,
      "outputs": []
    },
    {
      "cell_type": "markdown",
      "metadata": {
        "id": "YSlNPFyjMneb"
      },
      "source": [
        "## Load the Handwritten digit data set\n",
        "This data set is a simpler sub-sampled version of the MNIST data set (http://yann.lecun.com/exdb/mnist/), such that \n",
        "\n",
        "For additional details on the data set see [Introducing Scikit-Learn](05.02-Introducing-Scikit-Learn.ipynb))."
      ]
    },
    {
      "cell_type": "markdown",
      "metadata": {
        "id": "RkdzL43qnjF9"
      },
      "source": [
        "We are going to access the data from the sklearn datasets. We are going to use key function to display the keys from the digits dataset. More information on how to use keys function can be found at https://python-reference.readthedocs.io/en/latest/docs/dict/keys.html\n",
        "Use the keys function to print the keys from the dataset below."
      ]
    },
    {
      "cell_type": "code",
      "metadata": {
        "id": "yT531cyxMnec",
        "colab": {
          "base_uri": "https://localhost:8080/"
        },
        "outputId": "f54bf88b-1dc3-4c6f-e46a-930370071439"
      },
      "source": [
        "from sklearn.datasets import load_digits\n",
        "digits = load_digits()\n",
        "\n",
        "# Print keys from the digits dataset\n",
        "# ADD YOUR CODE HERE\n",
        "print(digits.keys())"
      ],
      "execution_count": 2,
      "outputs": [
        {
          "output_type": "stream",
          "name": "stdout",
          "text": [
            "dict_keys(['data', 'target', 'frame', 'feature_names', 'target_names', 'images', 'DESCR'])\n"
          ]
        }
      ]
    },
    {
      "cell_type": "markdown",
      "metadata": {
        "id": "gMq_hnU1t6Cr"
      },
      "source": [
        "We are going to print the shape of the dataset we have. Usage of the shape function can be found at https://pandas.pydata.org/docs/reference/api/pandas.DataFrame.shape.html"
      ]
    },
    {
      "cell_type": "code",
      "metadata": {
        "colab": {
          "base_uri": "https://localhost:8080/"
        },
        "id": "PARyF5ZAOwRd",
        "outputId": "06deb2de-71a5-4c31-ade7-c236e5d70f54"
      },
      "source": [
        "#Print the shape of data and target of the digits dataset\n",
        "\n",
        "#ADD YOUR CODE HERE\n",
        "print(digits['data'].shape, digits['target'].shape)"
      ],
      "execution_count": 3,
      "outputs": [
        {
          "output_type": "stream",
          "name": "stdout",
          "text": [
            "(1797, 64) (1797,)\n"
          ]
        }
      ]
    },
    {
      "cell_type": "markdown",
      "metadata": {
        "id": "rdjbgujEMnec"
      },
      "source": [
        "To remind us what we're looking at, we'll visualize the first few data points:"
      ]
    },
    {
      "cell_type": "code",
      "metadata": {
        "id": "oGROZYqXMnec",
        "colab": {
          "base_uri": "https://localhost:8080/",
          "height": 463
        },
        "outputId": "0afeff5b-c0ee-4e9d-b5b6-6ad1f18ba6b0"
      },
      "source": [
        "# set up the figure\n",
        "fig = plt.figure(figsize=(6, 6))  # figure size in inches\n",
        "fig.subplots_adjust(left=0, right=1, bottom=0, top=1, hspace=0.05, wspace=0.05)\n",
        "\n",
        "# plot the digits: each image is 8x8 pixels\n",
        "for i in range(64):\n",
        "    ax = fig.add_subplot(8, 8, i + 1, xticks=[], yticks=[])\n",
        "    ax.imshow(digits.images[i], cmap=plt.cm.binary, interpolation='nearest')\n",
        "    \n",
        "    # label the image with the target value\n",
        "    ax.text(0, 7, str(digits.target[i]))"
      ],
      "execution_count": 4,
      "outputs": [
        {
          "output_type": "display_data",
          "data": {
            "image/png": "[encoded data removed]",
            "text/plain": [
              "<Figure size 432x432 with 64 Axes>"
            ]
          },
          "metadata": {}
        }
      ]
    },
    {
      "cell_type": "markdown",
      "metadata": {
        "id": "IlOjsyR1SPed"
      },
      "source": [
        "Matplotlib is a data visualization library used in Python. \n",
        "In the above code block, we are subploting the images from the dataset. \n",
        "For more information on Matplotlib see https://matplotlib.org/"
      ]
    },
    {
      "cell_type": "markdown",
      "metadata": {
        "id": "NEU3jxrzMnec"
      },
      "source": [
        "Next, let us first split the data into training and testing."
      ]
    },
    {
      "cell_type": "code",
      "metadata": {
        "id": "hbROzxo1Mned",
        "colab": {
          "base_uri": "https://localhost:8080/"
        },
        "outputId": "d38f61ff-8bd4-4b9d-b528-3775e854c839"
      },
      "source": [
        "from sklearn.model_selection import train_test_split\n",
        "from sklearn.ensemble import RandomForestClassifier\n",
        "\n",
        "Xtrain, Xtest, ytrain, ytest = train_test_split(digits.data, digits.target,\n",
        "                                                random_state=42)\n",
        "# Print shape of the splitted data\n",
        "\n",
        "# ADD YOUR CODE HERE\n",
        "print(Xtrain.shape, ytrain.shape, Xtest.shape)"
      ],
      "execution_count": 5,
      "outputs": [
        {
          "output_type": "stream",
          "name": "stdout",
          "text": [
            "(1347, 64) (1347,) (450, 64)\n"
          ]
        }
      ]
    },
    {
      "cell_type": "markdown",
      "metadata": {
        "id": "3Gy8W99QS31R"
      },
      "source": [
        "train_test_split function from sklearn splits the data in specified format. For more information on how train_test_split works, see https://scikit-learn.org/stable/modules/generated/sklearn.model_selection.train_test_split.html"
      ]
    },
    {
      "cell_type": "markdown",
      "metadata": {
        "id": "gWH7oBukYih6"
      },
      "source": [
        "# Our first investigation is at model level. \n",
        "## Questions include:\n",
        "* Can we identify a best data model that correctly identifies each digit?\n",
        "* Can we identify samples that get misclassified by the best data model and understand why?\n",
        "\n",
        "\n"
      ]
    },
    {
      "cell_type": "markdown",
      "metadata": {
        "id": "BKA5hEk2S5bP"
      },
      "source": [
        "# Task 1: Fit a Random Forest Classifier and predict outcome on test data"
      ]
    },
    {
      "cell_type": "code",
      "metadata": {
        "id": "uvbg4V2PPNg1"
      },
      "source": [
        "model = RandomForestClassifier(n_estimators=500)\n",
        "model.fit(Xtrain, ytrain)\n",
        "ypred = model.predict(Xtest)"
      ],
      "execution_count": 6,
      "outputs": []
    },
    {
      "cell_type": "markdown",
      "metadata": {
        "id": "gxfpF_kiUs4U"
      },
      "source": [
        "We are using RandomForestClassifier to classify the digits for the above dataset. What other classifiers do you think can be used for the training ?\n",
        "and Why ? For information on various classification models see https://monkeylearn.com/blog/classification-algorithms/"
      ]
    },
    {
      "cell_type": "markdown",
      "metadata": {
        "id": "Y5HzERFMMned"
      },
      "source": [
        "We can take a look at the classification report for this classifier:"
      ]
    },
    {
      "cell_type": "code",
      "metadata": {
        "id": "5XOaG-TvMned",
        "colab": {
          "base_uri": "https://localhost:8080/"
        },
        "outputId": "b6d88357-37a9-4b73-f4d3-0dde2bcfeed8"
      },
      "source": [
        "from sklearn import metrics\n",
        "print(metrics.classification_report(ytest, ypred))"
      ],
      "execution_count": 7,
      "outputs": [
        {
          "output_type": "stream",
          "name": "stdout",
          "text": [
            "              precision    recall  f1-score   support\n",
            "\n",
            "           0       1.00      0.98      0.99        43\n",
            "           1       0.95      1.00      0.97        37\n",
            "           2       1.00      1.00      1.00        38\n",
            "           3       1.00      0.93      0.97        46\n",
            "           4       0.98      1.00      0.99        55\n",
            "           5       0.95      0.98      0.97        59\n",
            "           6       0.98      0.98      0.98        45\n",
            "           7       0.98      0.98      0.98        41\n",
            "           8       0.95      0.95      0.95        38\n",
            "           9       0.98      0.96      0.97        48\n",
            "\n",
            "    accuracy                           0.98       450\n",
            "   macro avg       0.98      0.98      0.98       450\n",
            "weighted avg       0.98      0.98      0.98       450\n",
            "\n"
          ]
        }
      ]
    },
    {
      "cell_type": "markdown",
      "metadata": {
        "id": "U1YO7AEbXRFO"
      },
      "source": [
        "classification_report is the function used to evaluate the model and check the accuracy. We have talked about precision and recall in earlier assignment, f1-score is the harmonic mean of precision and recall. More information on classification_report can be found at https://scikit-learn.org/stable/modules/generated/sklearn.metrics.classification_report.html"
      ]
    },
    {
      "cell_type": "markdown",
      "metadata": {
        "id": "8bVxquMyMned"
      },
      "source": [
        "## Observe here, that the classification of digit '3' has most error (false positives), followed by digits '8' and '9'!\n",
        "And for good measure, plot the confusion matrix:"
      ]
    },
    {
      "cell_type": "code",
      "metadata": {
        "id": "FE5MDYC0Mned",
        "colab": {
          "base_uri": "https://localhost:8080/",
          "height": 285
        },
        "outputId": "e2b34337-f4d7-4cc4-def9-14fbd90804d0"
      },
      "source": [
        "from sklearn.metrics import confusion_matrix\n",
        "mat = confusion_matrix(ytest, ypred)\n",
        "sns.heatmap(mat.T, square=True, annot=True, fmt='d', cbar=False)\n",
        "plt.xlabel('true label')\n",
        "plt.ylabel('predicted label');"
      ],
      "execution_count": 8,
      "outputs": [
        {
          "output_type": "display_data",
          "data": {
            "image/png": "[encoded data removed]",
            "text/plain": [
              "<Figure size 432x288 with 1 Axes>"
            ]
          },
          "metadata": {
            "needs_background": "light"
          }
        }
      ]
    },
    {
      "cell_type": "markdown",
      "metadata": {
        "id": "Z4JSXGJgYmj9"
      },
      "source": [
        "Confusion_matrix is another matrix used to evaluate accuracy. A confusion matrix is a table that is often used to describe the performance of a classification model. For more information on confusion matrix https://towardsdatascience.com/understanding-confusion-matrix-a9ad42dcfd62"
      ]
    },
    {
      "cell_type": "code",
      "metadata": {
        "id": "bqLHckXQdH_S"
      },
      "source": [
        "# Write a function to print the number of erroneous classifications in test data. i.e. the sum of non diagonal entries\n",
        "def sum_errors(mat):\n",
        "  n=len(mat[0])\n",
        "  #mat is a square matrix\n",
        "  dia = np.diag_indices(n) # indices of diagonal elements\n",
        "  dia_sum = sum(mat[dia]) # sum of diagonal elements\n",
        "  off_dia_sum = np.sum(mat) - dia_sum # subtract the diagonal sum from total array sum\n",
        "  return off_dia_sum"
      ],
      "execution_count": 9,
      "outputs": []
    },
    {
      "cell_type": "code",
      "metadata": {
        "colab": {
          "base_uri": "https://localhost:8080/"
        },
        "id": "45-MM0ZFdtVm",
        "outputId": "2c716e44-65a8-4790-a0f4-fd76717295ff"
      },
      "source": [
        "# Print the number of erroneors predictions by the random forest model\n",
        "# ADD YOUR CODE HERE\n",
        "print(\"Number of erroneors predictions by Random Forest=\", sum_errors(mat))"
      ],
      "execution_count": 10,
      "outputs": [
        {
          "output_type": "stream",
          "name": "stdout",
          "text": [
            "Number of erroneors predictions by Random Forest= 11\n"
          ]
        }
      ]
    },
    {
      "cell_type": "markdown",
      "metadata": {
        "id": "y6Q6r9Q_RazJ"
      },
      "source": [
        "# Task 2: Apply any other classifier (SVM, logistic regression, neural network etc.) and compare performance. Report the best model!"
      ]
    },
    {
      "cell_type": "markdown",
      "metadata": {
        "id": "WTEfrWtVukng"
      },
      "source": [
        "We are going to create the SVM algorithm for the next classifier. More information on how SVM works and its implementation can be found at https://scikit-learn.org/stable/modules/svm.html"
      ]
    },
    {
      "cell_type": "code",
      "metadata": {
        "id": "wgHdTVZORvE6"
      },
      "source": [
        "from sklearn.svm import SVC\n",
        "\n",
        "# Use the above link for reference and build a svm model using linear kernel \n",
        "\n",
        "# ADD YOUR CODE HERE\n",
        "svc_model = SVC(kernel='linear')"
      ],
      "execution_count": 11,
      "outputs": []
    },
    {
      "cell_type": "code",
      "metadata": {
        "id": "WTvylG00R1g9"
      },
      "source": [
        "# Use fit function from the link above to train the created model\n",
        "# ADD THE TRAINING CODE HERE\n",
        "svc_model.fit(Xtrain, ytrain)\n",
        "\n",
        "# Use predict function from the link above to predict the values for Xtest using the created model\n",
        "# ADD THE PREDICTION CODE HERE\n",
        "ypred = svc_model.predict(Xtest)"
      ],
      "execution_count": 12,
      "outputs": []
    },
    {
      "cell_type": "code",
      "metadata": {
        "colab": {
          "base_uri": "https://localhost:8080/"
        },
        "id": "VVe5ODN_SB4o",
        "outputId": "66db88ce-00a6-4863-8f4d-12e254403174"
      },
      "source": [
        "# Print the classification report for the created smv model the way we did for random forest classifier.\n",
        "# ADD YOUR CODE HERE\n",
        "print(metrics.classification_report(ytest, ypred))"
      ],
      "execution_count": 13,
      "outputs": [
        {
          "output_type": "stream",
          "name": "stdout",
          "text": [
            "              precision    recall  f1-score   support\n",
            "\n",
            "           0       1.00      1.00      1.00        43\n",
            "           1       0.97      1.00      0.99        37\n",
            "           2       0.97      1.00      0.99        38\n",
            "           3       0.98      0.93      0.96        46\n",
            "           4       1.00      0.98      0.99        55\n",
            "           5       0.97      1.00      0.98        59\n",
            "           6       1.00      1.00      1.00        45\n",
            "           7       0.98      0.98      0.98        41\n",
            "           8       1.00      0.97      0.99        38\n",
            "           9       0.96      0.96      0.96        48\n",
            "\n",
            "    accuracy                           0.98       450\n",
            "   macro avg       0.98      0.98      0.98       450\n",
            "weighted avg       0.98      0.98      0.98       450\n",
            "\n"
          ]
        }
      ]
    },
    {
      "cell_type": "markdown",
      "metadata": {
        "id": "hIrGZj6tZ7J2"
      },
      "source": [
        "# Observe here that the most error is still in digit '3' and then in '9'!"
      ]
    },
    {
      "cell_type": "code",
      "metadata": {
        "colab": {
          "base_uri": "https://localhost:8080/",
          "height": 285
        },
        "id": "LPIlx6FoSIad",
        "outputId": "127f6f48-0894-4ac8-dd03-6744a71031eb"
      },
      "source": [
        "# Create a confusion matrix heatmap for the svm model the way we did for random forest\n",
        "\n",
        "# ADD YOUR CODE HERE\n",
        "mat = confusion_matrix(ytest, ypred)\n",
        "sns.heatmap(mat.T, square=True, annot=True, fmt='d', cbar=False)\n",
        "plt.xlabel('true label')\n",
        "plt.ylabel('predicted label');"
      ],
      "execution_count": 14,
      "outputs": [
        {
          "output_type": "display_data",
          "data": {
            "image/png": "[encoded data removed]",
            "text/plain": [
              "<Figure size 432x288 with 1 Axes>"
            ]
          },
          "metadata": {
            "needs_background": "light"
          }
        }
      ]
    },
    {
      "cell_type": "code",
      "metadata": {
        "colab": {
          "base_uri": "https://localhost:8080/"
        },
        "id": "7VWlfUMHd9Ei",
        "outputId": "910b2c0f-3531-4ba3-df34-b9a5601fbb70"
      },
      "source": [
        "# Print the number of erroneors predictions by the svm model\n",
        "# ADD YOUR CODE HERE\n",
        "print(\"Number of erroneors predictions by SVM=\", sum_errors(mat))"
      ],
      "execution_count": 15,
      "outputs": [
        {
          "output_type": "stream",
          "name": "stdout",
          "text": [
            "Number of erroneors predictions by SVM= 8\n"
          ]
        }
      ]
    },
    {
      "cell_type": "markdown",
      "metadata": {
        "id": "sTALLzhTeQJX"
      },
      "source": [
        "## Next, let us try neural network classifier"
      ]
    },
    {
      "cell_type": "markdown",
      "metadata": {
        "id": "uCYIeHMgwYji"
      },
      "source": [
        "Neural networks are a set of algorithms, modeled loosely after the human brain. For more information on neural networks see https://www.ibm.com/cloud/learn/neural-networks"
      ]
    },
    {
      "cell_type": "markdown",
      "metadata": {
        "id": "24Ct4puFwdc6"
      },
      "source": [
        "MLPClassifier is a type of neural network implemented using sklearn. For more information on sklearn implementation see https://scikit-learn.org/stable/modules/generated/sklearn.neural_network.MLPClassifier.html"
      ]
    },
    {
      "cell_type": "code",
      "metadata": {
        "colab": {
          "base_uri": "https://localhost:8080/"
        },
        "id": "T5a2ZDrgeBMk",
        "outputId": "546efaef-f14b-440b-d83d-6d20971a0668"
      },
      "source": [
        "from sklearn.neural_network import MLPClassifier\n",
        "# Refering the above link implement a MLPClassifier model using the following configuration.\n",
        "solver = 'adam'\n",
        "alpha = 1e-5\n",
        "hidden_layer_sizes = (500,)\n",
        "random_state = 42\n",
        "\n",
        "# ADD MODEL IMPLEMENTATION CODE BELOW\n",
        "mlp_model = MLPClassifier(random_state=random_state, solver=solver, alpha=alpha, \n",
        "                    hidden_layer_sizes=hidden_layer_sizes)\n",
        "\n",
        "# ADD TRAINING CODE USING fit METHOD REFERING THE LINK ABOVE\n",
        "mlp_model.fit(Xtrain, ytrain)"
      ],
      "execution_count": 16,
      "outputs": [
        {
          "output_type": "execute_result",
          "data": {
            "text/plain": [
              "MLPClassifier(alpha=1e-05, hidden_layer_sizes=(500,), random_state=42)"
            ]
          },
          "metadata": {},
          "execution_count": 16
        }
      ]
    },
    {
      "cell_type": "code",
      "metadata": {
        "id": "bRxL40E9eXLH"
      },
      "source": [
        "# Use predict function from the link above to predict the values for Xtest using the created model\n",
        "# ADD THE PREDICTION CODE HERE\n",
        "ypred = mlp_model.predict(Xtest)"
      ],
      "execution_count": 17,
      "outputs": []
    },
    {
      "cell_type": "code",
      "metadata": {
        "colab": {
          "base_uri": "https://localhost:8080/"
        },
        "id": "aVDKIHC_erKA",
        "outputId": "422923c1-4e24-40b1-fe40-d7876ecf1648"
      },
      "source": [
        "# Print the classification report for neural network classifier the way we did for random forest classifier.\n",
        "# ADD YOUR CODE HERE\n",
        "print(metrics.classification_report(ytest, ypred))"
      ],
      "execution_count": 18,
      "outputs": [
        {
          "output_type": "stream",
          "name": "stdout",
          "text": [
            "              precision    recall  f1-score   support\n",
            "\n",
            "           0       1.00      1.00      1.00        43\n",
            "           1       0.97      0.97      0.97        37\n",
            "           2       0.95      1.00      0.97        38\n",
            "           3       0.98      0.96      0.97        46\n",
            "           4       1.00      1.00      1.00        55\n",
            "           5       0.95      0.97      0.96        59\n",
            "           6       0.98      0.98      0.98        45\n",
            "           7       0.97      0.95      0.96        41\n",
            "           8       1.00      0.95      0.97        38\n",
            "           9       0.96      0.98      0.97        48\n",
            "\n",
            "    accuracy                           0.98       450\n",
            "   macro avg       0.98      0.98      0.98       450\n",
            "weighted avg       0.98      0.98      0.98       450\n",
            "\n"
          ]
        }
      ]
    },
    {
      "cell_type": "markdown",
      "metadata": {
        "id": "-bSOBJOqaTsv"
      },
      "source": [
        "# Observe here, the worst performances are for digits '2', '7', '8'!"
      ]
    },
    {
      "cell_type": "code",
      "metadata": {
        "colab": {
          "base_uri": "https://localhost:8080/",
          "height": 285
        },
        "id": "Hx29U2p4e6CI",
        "outputId": "c50a228b-d2d1-44c1-b352-80950afeab17"
      },
      "source": [
        "# Create a confusion matrix heatmap for neural network classifier the way we did for random forest\n",
        "\n",
        "# ADD YOUR CODE HERE\n",
        "mat = confusion_matrix(ytest, ypred)\n",
        "sns.heatmap(mat.T, square=True, annot=True, fmt='d', cbar=False)\n",
        "plt.xlabel('true label')\n",
        "plt.ylabel('predicted label');"
      ],
      "execution_count": 19,
      "outputs": [
        {
          "output_type": "display_data",
          "data": {
            "image/png": "[encoded data removed]",
            "text/plain": [
              "<Figure size 432x288 with 1 Axes>"
            ]
          },
          "metadata": {
            "needs_background": "light"
          }
        }
      ]
    },
    {
      "cell_type": "code",
      "metadata": {
        "colab": {
          "base_uri": "https://localhost:8080/"
        },
        "id": "tcjHbWQdfCHl",
        "outputId": "f81939c0-ebe1-4298-e8cc-b732267dffff"
      },
      "source": [
        "# Print the number of erroneors predictions by the neural network classifier\n",
        "# ADD YOUR CODE HERE\n",
        "print(\"Number of erroneors predictions by Neural Network=\", sum_errors(mat))"
      ],
      "execution_count": 20,
      "outputs": [
        {
          "output_type": "stream",
          "name": "stdout",
          "text": [
            "Number of erroneors predictions by Neural Network= 11\n"
          ]
        }
      ]
    },
    {
      "cell_type": "markdown",
      "metadata": {
        "id": "nWZsI5-KfWCt"
      },
      "source": [
        "## Next, let us try logistic regression"
      ]
    },
    {
      "cell_type": "markdown",
      "metadata": {
        "id": "p_K1xi9KzHF4"
      },
      "source": [
        "Logistic Regression is an algorithm which is mostly used for binary classification. For more information on logistic regression see https://scikit-learn.org/stable/modules/generated/sklearn.linear_model.LogisticRegression.html"
      ]
    },
    {
      "cell_type": "code",
      "metadata": {
        "colab": {
          "base_uri": "https://localhost:8080/"
        },
        "id": "Ea914vryfRki",
        "outputId": "f031b49a-40b6-40ee-a176-36c477ec4b6c"
      },
      "source": [
        "from sklearn.linear_model import LogisticRegression\n",
        "\n",
        "# Refering the link above, create a logistic regression model \n",
        "# ADD MODEL CREATION CODE HERE\n",
        "lr_model = LogisticRegression()\n",
        "\n",
        "# Train the created model using the fir function refering the link.\n",
        "# ADD MODEL TRAINING CODE HERE\n",
        "lr_model.fit(Xtrain, ytrain)\n",
        "\n",
        "\n",
        "# Predict the trained model on Xtest using the predict function below\n",
        "# ADD PREDICTION CODE HERE\n",
        "ypred = lr_model.predict(Xtest)"
      ],
      "execution_count": 21,
      "outputs": [
        {
          "output_type": "stream",
          "name": "stderr",
          "text": [
            "/usr/local/lib/python3.7/dist-packages/sklearn/linear_model/_logistic.py:818: ConvergenceWarning: lbfgs failed to converge (status=1):\n",
            "STOP: TOTAL NO. of ITERATIONS REACHED LIMIT.\n",
            "\n",
            "Increase the number of iterations (max_iter) or scale the data as shown in:\n",
            "    https://scikit-learn.org/stable/modules/preprocessing.html\n",
            "Please also refer to the documentation for alternative solver options:\n",
            "    https://scikit-learn.org/stable/modules/linear_model.html#logistic-regression\n",
            "  extra_warning_msg=_LOGISTIC_SOLVER_CONVERGENCE_MSG,\n"
          ]
        }
      ]
    },
    {
      "cell_type": "markdown",
      "metadata": {
        "id": "xkqJeCkpeag7"
      },
      "source": [
        "Logistic Regression is an algorithm which is mostly used for binary classification. For more information on logistic regression see https://scikit-learn.org/stable/modules/generated/sklearn.linear_model.LogisticRegression.html "
      ]
    },
    {
      "cell_type": "code",
      "metadata": {
        "colab": {
          "base_uri": "https://localhost:8080/"
        },
        "id": "Nrpg087ifvx5",
        "outputId": "0f915e12-f15c-496f-f3c0-64cb4a44e4fa"
      },
      "source": [
        "# Print the classification report for logistic regression the way we did for random forest classifier.\n",
        "# ADD YOUR CODE HERE\n",
        "print(metrics.classification_report(ytest, ypred))"
      ],
      "execution_count": 22,
      "outputs": [
        {
          "output_type": "stream",
          "name": "stdout",
          "text": [
            "              precision    recall  f1-score   support\n",
            "\n",
            "           0       1.00      1.00      1.00        43\n",
            "           1       0.97      0.97      0.97        37\n",
            "           2       0.97      1.00      0.99        38\n",
            "           3       0.98      0.96      0.97        46\n",
            "           4       1.00      0.96      0.98        55\n",
            "           5       0.95      0.97      0.96        59\n",
            "           6       0.96      0.98      0.97        45\n",
            "           7       1.00      0.98      0.99        41\n",
            "           8       0.95      0.97      0.96        38\n",
            "           9       0.96      0.96      0.96        48\n",
            "\n",
            "    accuracy                           0.97       450\n",
            "   macro avg       0.97      0.97      0.97       450\n",
            "weighted avg       0.97      0.97      0.97       450\n",
            "\n"
          ]
        }
      ]
    },
    {
      "cell_type": "code",
      "metadata": {
        "colab": {
          "base_uri": "https://localhost:8080/",
          "height": 285
        },
        "id": "I03gIFmDf4uW",
        "outputId": "3088a629-04b5-4a41-d4e1-cd4b25cef469"
      },
      "source": [
        "# Create a confusion matrix heatmap for logistic regression the way we did for random forest\n",
        "\n",
        "# ADD YOUR CODE HERE\n",
        "mat = confusion_matrix(ytest, ypred)\n",
        "sns.heatmap(mat.T, square=True, annot=True, fmt='d', cbar=False)\n",
        "plt.xlabel('true label')\n",
        "plt.ylabel('predicted label');"
      ],
      "execution_count": 23,
      "outputs": [
        {
          "output_type": "display_data",
          "data": {
            "image/png": "[encoded data removed]",
            "text/plain": [
              "<Figure size 432x288 with 1 Axes>"
            ]
          },
          "metadata": {
            "needs_background": "light"
          }
        }
      ]
    },
    {
      "cell_type": "code",
      "metadata": {
        "colab": {
          "base_uri": "https://localhost:8080/"
        },
        "id": "ruC_Ff3BgAT4",
        "outputId": "7deaced1-7bd8-43aa-a094-22108eaf3992"
      },
      "source": [
        "# Print the number of erroneors predictions by the logistic regression\n",
        "# ADD YOUR CODE HERE\n",
        "print(\"Number of erroneors predictions by Logistic Regression=\", sum_errors(mat))"
      ],
      "execution_count": 24,
      "outputs": [
        {
          "output_type": "stream",
          "name": "stdout",
          "text": [
            "Number of erroneors predictions by Logistic Regression= 12\n"
          ]
        }
      ]
    },
    {
      "cell_type": "markdown",
      "metadata": {
        "id": "rbKGALHNgIi6"
      },
      "source": [
        "# Thus, at model-level, the best model is Linear SVM with least errors!\n",
        "## Also, some digits of '3', and '8' and '9' are the most commonly misclassified. \n",
        "# Next, let us analyze at data-level to see if we can uncover some additional reasons for misclassification!"
      ]
    },
    {
      "cell_type": "markdown",
      "metadata": {
        "id": "QTTsJ4pRTKjJ"
      },
      "source": [
        "# Task 3: Apply k-means (unsupervised learning) to cluster training samples and predict digit cluster IDs for test data. What are the new learnings from unsupervised learning?\n",
        "## Step 1: Load the necessary libraries"
      ]
    },
    {
      "cell_type": "code",
      "metadata": {
        "id": "HHpYta-yTJXw"
      },
      "source": [
        "from sklearn.preprocessing import StandardScaler\n",
        "from sklearn.decomposition import PCA\n",
        "from sklearn.cluster import KMeans"
      ],
      "execution_count": 25,
      "outputs": []
    },
    {
      "cell_type": "markdown",
      "metadata": {
        "id": "HOJ4vexPiiDq"
      },
      "source": [
        "## Step 2: Use k-means to cluster training data (Xtrain) to 10 clusters. Although similar data points should appear ina  cluster, the cluster labels may differ from actual labels. i.e. cluster ID 1 may belong to digit label 8 and so on. So we have to reassign the cluster labels based on labels of most occuring samples per cluster.\n",
        "\n",
        "## We prefer using all 64 features for this task, since the reduced dimension data (Xtrain_red) would incur higher error due to data compression. Xtrain_red is used for visualization only!\n",
        "\n",
        "[OPTIONAL] For additional resources on k-means look at https://colab.research.google.com/github/jakevdp/PythonDataScienceHandbook/blob/master/notebooks/05.11-K-Means.ipynb"
      ]
    },
    {
      "cell_type": "markdown",
      "metadata": {
        "id": "0J-uOntL3A2T"
      },
      "source": [
        "KMeans is an unsupervised clustering algorthim. For more information on KMeans clustering see https://towardsdatascience.com/understanding-k-means-clustering-in-machine-learning-6a6e67336aa1\n",
        "For implementation of KMeans clustering see\n",
        "https://scikit-learn.org/stable/modules/generated/sklearn.cluster.KMeans.html"
      ]
    },
    {
      "cell_type": "code",
      "metadata": {
        "colab": {
          "base_uri": "https://localhost:8080/"
        },
        "id": "IgJiAQVuhYYm",
        "outputId": "bccff6b4-a2c4-49eb-ef38-6ff0703c7be9"
      },
      "source": [
        "# Implement KMeans clustering for 10 clusters refering the above link.\n",
        "# ADD IMPLEMENTATION CODE HERE\n",
        "n_clusters = 10\n",
        "k_model = KMeans(n_clusters=n_clusters, random_state=0)\n",
        "\n",
        "# Train the clustering model using fit function refering the link.\n",
        "# ADD TRAINING CODE HERE\n",
        "k_model.fit(Xtrain)\n",
        "\n",
        "# Print shape of the cluster_centers_ of the model refering the link.\n",
        "# ADD PRINTING CODE HERE\n",
        "print(k_model.cluster_centers_.shape)"
      ],
      "execution_count": 26,
      "outputs": [
        {
          "output_type": "stream",
          "name": "stdout",
          "text": [
            "(10, 64)\n"
          ]
        }
      ]
    },
    {
      "cell_type": "code",
      "metadata": {
        "colab": {
          "base_uri": "https://localhost:8080/"
        },
        "id": "31xN6TTEy-G1",
        "outputId": "9a342346-9bb2-416e-e05f-30ee5470a9b4"
      },
      "source": [
        "# Print the 64-dimensional cluster centers for the 10 data sample clusters\n",
        "\n",
        "# ADD YOUR CODE HERE\n",
        "print(k_model.cluster_centers_)"
      ],
      "execution_count": 27,
      "outputs": [
        {
          "output_type": "stream",
          "name": "stdout",
          "text": [
            "[[ 0.00000000e+00 -2.22044605e-16  4.16666667e-02  1.90277778e+00\n",
            "   1.10555556e+01  1.32361111e+01  4.55555556e+00  3.19444444e-01\n",
            "   2.60208521e-18  6.94444444e-02  2.13888889e+00  9.09722222e+00\n",
            "   1.38194444e+01  1.31388889e+01  5.69444444e+00  3.19444444e-01\n",
            "   2.16840434e-18  1.76388889e+00  9.04166667e+00  1.23055556e+01\n",
            "   1.21944444e+01  1.36111111e+01  4.23611111e+00  1.11111111e-01\n",
            "   6.50521303e-19  3.72222222e+00  1.19861111e+01  1.16666667e+01\n",
            "   1.32916667e+01  1.38750000e+01  2.65277778e+00 -8.67361738e-19\n",
            "   0.00000000e+00  1.62500000e+00  6.18055556e+00  6.97222222e+00\n",
            "   1.15833333e+01  1.28611111e+01  1.72222222e+00  0.00000000e+00\n",
            "  -6.93889390e-18  6.80555556e-01  1.73611111e+00  3.34722222e+00\n",
            "   1.15416667e+01  1.20555556e+01  9.86111111e-01  1.38777878e-17\n",
            "  -3.46944695e-18  4.16666667e-02  3.75000000e-01  3.06944444e+00\n",
            "   1.25972222e+01  1.16388889e+01  1.70833333e+00  1.38777878e-16\n",
            "   3.25260652e-19 -2.22044605e-16  1.77635684e-15  2.05555556e+00\n",
            "   1.13750000e+01  1.05972222e+01  1.79166667e+00 -1.66533454e-16]\n",
            " [ 0.00000000e+00  1.11801242e-01  3.73291925e+00  1.16708075e+01\n",
            "   1.23540373e+01  5.16770186e+00  3.91304348e-01 -5.55111512e-17\n",
            "  -7.80625564e-18  5.40372671e-01  7.45341615e+00  1.40434783e+01\n",
            "   1.31863354e+01  9.52795031e+00  1.19875776e+00  1.80411242e-16\n",
            "  -3.03576608e-18  8.19875776e-01  7.67701863e+00  1.28074534e+01\n",
            "   1.27391304e+01  9.18633540e+00  8.75776398e-01  2.08166817e-17\n",
            "  -1.95156391e-18  8.69565217e-01  7.05590062e+00  1.43229814e+01\n",
            "   1.42795031e+01  4.98136646e+00  2.11180124e-01  2.16840434e-18\n",
            "   0.00000000e+00  7.82608696e-01  8.36645963e+00  1.49316770e+01\n",
            "   1.29875776e+01  2.35403727e+00  7.45341615e-02  0.00000000e+00\n",
            "  -1.56125113e-17  1.13664596e+00  1.07950311e+01  1.22422360e+01\n",
            "   1.20621118e+01  4.04347826e+00  2.73291925e-01  7.28583860e-17\n",
            "   1.86335404e-02  8.26086957e-01  9.59627329e+00  1.20683230e+01\n",
            "   1.22608696e+01  5.57763975e+00  7.39130435e-01  6.21118012e-03\n",
            "   6.21118012e-03  1.30434783e-01  3.95031056e+00  1.16273292e+01\n",
            "   1.27391304e+01  4.88198758e+00  7.95031056e-01  1.24223602e-02]\n",
            " [ 0.00000000e+00  1.62162162e-01  6.43243243e+00  1.25405405e+01\n",
            "   1.22432432e+01  5.98378378e+00  6.16216216e-01  1.08108108e-02\n",
            "   5.40540541e-03  2.58918919e+00  1.40648649e+01  9.04864865e+00\n",
            "   9.00540541e+00  1.06486486e+01  1.58378378e+00  5.40540541e-03\n",
            "  -4.33680869e-18  4.18918919e+00  1.28594595e+01  4.22162162e+00\n",
            "   6.30270270e+00  1.12378378e+01  2.05405405e+00  1.38777878e-17\n",
            "  -1.08420217e-18  2.32972973e+00  1.04270270e+01  1.19945946e+01\n",
            "   1.30702703e+01  1.16540541e+01  2.45405405e+00  3.46944695e-18\n",
            "   0.00000000e+00  4.70270270e-01  3.73513514e+00  6.70810811e+00\n",
            "   7.36756757e+00  1.08486486e+01  4.05405405e+00  0.00000000e+00\n",
            "  -1.90819582e-17  3.02702703e-01  2.74054054e+00  2.12432432e+00\n",
            "   2.08648649e+00  1.09675676e+01  6.16216216e+00  7.28583860e-17\n",
            "   1.38777878e-17  8.64864865e-01  8.08108108e+00  5.62162162e+00\n",
            "   4.79459459e+00  1.21459459e+01  5.65945946e+00  6.48648649e-02\n",
            "  -5.42101086e-19  1.51351351e-01  6.32972973e+00  1.34270270e+01\n",
            "   1.44918919e+01  9.78378378e+00  2.13513514e+00  7.02702703e-02]\n",
            " [ 0.00000000e+00 -2.77555756e-16  2.54237288e-01  7.00847458e+00\n",
            "   1.20169492e+01  2.34745763e+00  1.61016949e-01  7.62711864e-02\n",
            "  -4.33680869e-18  8.47457627e-03  3.11016949e+00  1.36016949e+01\n",
            "   8.72881356e+00  1.35593220e+00  9.91525424e-01  3.89830508e-01\n",
            "  -2.16840434e-18  6.10169492e-01  1.03813559e+01  1.18559322e+01\n",
            "   4.40677966e+00  4.89830508e+00  3.86440678e+00  3.38983051e-01\n",
            "   8.47457627e-03  4.58474576e+00  1.46271186e+01  6.21186441e+00\n",
            "   6.55084746e+00  1.08898305e+01  6.50847458e+00  1.69491525e-02\n",
            "   0.00000000e+00  8.82203390e+00  1.48305085e+01  9.44915254e+00\n",
            "   1.26101695e+01  1.43898305e+01  5.42372881e+00  0.00000000e+00\n",
            "   1.27118644e-01  6.43220339e+00  1.14830508e+01  1.21779661e+01\n",
            "   1.46186441e+01  1.10932203e+01  1.64406780e+00  5.20417043e-17\n",
            "   7.62711864e-02  1.16101695e+00  3.05084746e+00  7.66949153e+00\n",
            "   1.39406780e+01  4.77966102e+00  2.54237288e-02  1.38777878e-16\n",
            "  -5.42101086e-19  8.47457627e-03  3.13559322e-01  7.74576271e+00\n",
            "   1.25593220e+01  2.01694915e+00  1.33226763e-15 -2.22044605e-16]\n",
            " [ 0.00000000e+00  1.00746269e+00  1.03731343e+01  1.45149254e+01\n",
            "   7.62686567e+00  9.92537313e-01  2.22044605e-16  2.77555756e-17\n",
            "   2.98507463e-02  5.35820896e+00  1.37611940e+01  1.25149254e+01\n",
            "   1.16716418e+01  3.23134328e+00  2.23880597e-02  1.38777878e-16\n",
            "   1.49253731e-02  4.59701493e+00  8.11194030e+00  5.94029851e+00\n",
            "   1.21492537e+01  3.58955224e+00  2.23880597e-02  1.38777878e-17\n",
            "  -1.73472348e-18  8.28358209e-01  2.71641791e+00  6.75373134e+00\n",
            "   1.26417910e+01  2.61940299e+00  5.22388060e-02  4.33680869e-19\n",
            "   0.00000000e+00  2.23880597e-02  1.53731343e+00  9.91791045e+00\n",
            "   1.07686567e+01  1.50746269e+00  1.77635684e-15  0.00000000e+00\n",
            "  -1.38777878e-17  2.23880597e-01  4.44029851e+00  1.13582090e+01\n",
            "   7.83582090e+00  2.37313433e+00  8.35820896e-01  7.46268657e-03\n",
            "   1.73472348e-18  1.20895522e+00  1.11791045e+01  1.37313433e+01\n",
            "   1.18955224e+01  1.12014925e+01  7.66417910e+00  9.85074627e-01\n",
            "  -8.67361738e-19  9.32835821e-01  1.06044776e+01  1.44925373e+01\n",
            "   1.35149254e+01  1.24253731e+01  9.11194030e+00  2.91044776e+00]\n",
            " [ 0.00000000e+00  9.09090909e-02  4.81818182e+00  1.29220779e+01\n",
            "   1.40129870e+01  1.07922078e+01  5.07792208e+00  9.28571429e-01\n",
            "  -5.20417043e-18  8.89610390e-01  1.05779221e+01  1.16948052e+01\n",
            "   1.04610390e+01  1.26103896e+01  5.49350649e+00  5.45454545e-01\n",
            "  -3.46944695e-18  9.80519481e-01  5.47402597e+00  2.44805195e+00\n",
            "   6.74025974e+00  1.16688312e+01  3.44155844e+00  1.36363636e-01\n",
            "  -1.30104261e-18  8.18181818e-01  4.83766234e+00  6.40909091e+00\n",
            "   1.21818182e+01  1.23831169e+01  4.90909091e+00  6.49350649e-03\n",
            "   0.00000000e+00  1.24675325e+00  8.44155844e+00  1.31493506e+01\n",
            "   1.48116883e+01  1.06883117e+01  3.98051948e+00  0.00000000e+00\n",
            "  -1.56125113e-17  1.12987013e+00  5.12337662e+00  1.17922078e+01\n",
            "   1.12142857e+01  3.82467532e+00  5.97402597e-01  6.24500451e-17\n",
            "   6.93889390e-18  9.74025974e-02  2.90909091e+00  1.25649351e+01\n",
            "   6.22727273e+00  3.83116883e-01  1.29870130e-02  1.11022302e-16\n",
            "  -6.50521303e-19  8.44155844e-02  6.02597403e+00  1.21493506e+01\n",
            "   2.54545455e+00  2.79220779e-01  4.54545455e-02  0.00000000e+00]\n",
            " [ 0.00000000e+00  1.17117117e+00  1.02342342e+01  1.31081081e+01\n",
            "   1.33603604e+01  1.15945946e+01  3.83783784e+00  1.80180180e-02\n",
            "   9.00900901e-03  4.87387387e+00  1.48828829e+01  1.19099099e+01\n",
            "   8.55855856e+00  7.74774775e+00  2.61261261e+00  2.70270270e-02\n",
            "   1.80180180e-02  5.90990991e+00  1.39639640e+01  5.97297297e+00\n",
            "   3.00000000e+00  2.32432432e+00  3.87387387e-01  1.38777878e-17\n",
            "   9.00900901e-03  4.19819820e+00  1.35765766e+01  1.25225225e+01\n",
            "   8.02702703e+00  1.91891892e+00  1.17117117e-01 -4.33680869e-19\n",
            "   0.00000000e+00  1.46846847e+00  6.98198198e+00  1.06216216e+01\n",
            "   1.00000000e+01  4.07207207e+00  3.51351351e-01  0.00000000e+00\n",
            "  -1.21430643e-17  3.51351351e-01  1.67567568e+00  5.92792793e+00\n",
            "   1.00270270e+01  5.92792793e+00  5.67567568e-01  4.85722573e-17\n",
            "  -1.73472348e-18  9.18918919e-01  5.62162162e+00  9.20720721e+00\n",
            "   1.14594595e+01  4.81081081e+00  3.60360360e-01  1.38777878e-16\n",
            "  -3.25260652e-19  1.02702703e+00  1.11621622e+01  1.44864865e+01\n",
            "   7.58558559e+00  1.02702703e+00  1.80180180e-02 -1.66533454e-16]\n",
            " [ 0.00000000e+00  1.48148148e-02  4.17037037e+00  1.32444444e+01\n",
            "   1.16740741e+01  3.20000000e+00  4.44444444e-02  0.00000000e+00\n",
            "  -6.93889390e-18  8.59259259e-01  1.27333333e+01  1.34740741e+01\n",
            "   1.15555556e+01  1.13629630e+01  1.04444444e+00  1.24900090e-16\n",
            "  -2.60208521e-18  3.84444444e+00  1.43407407e+01  5.14814815e+00\n",
            "   2.01481481e+00  1.21259259e+01  3.51851852e+00  1.38777878e-17\n",
            "  -1.73472348e-18  5.33333333e+00  1.26888889e+01  1.85185185e+00\n",
            "   1.48148148e-01  9.10370370e+00  6.61481481e+00  8.67361738e-19\n",
            "   0.00000000e+00  5.82222222e+00  1.14740741e+01  9.03703704e-01\n",
            "   2.22222222e-02  8.71851852e+00  7.27407407e+00  0.00000000e+00\n",
            "  -1.56125113e-17  3.43703704e+00  1.33259259e+01  1.68888889e+00\n",
            "   1.37777778e+00  1.13925926e+01  5.85185185e+00  5.55111512e-17\n",
            "   3.46944695e-18  7.18518519e-01  1.32370370e+01  1.01629630e+01\n",
            "   1.06296296e+01  1.35629630e+01  2.48148148e+00  2.96296296e-02\n",
            "  -8.67361738e-19 -1.11022302e-16  4.14074074e+00  1.36888889e+01\n",
            "   1.35111111e+01  5.37777778e+00  2.88888889e-01  2.22222222e-02]\n",
            " [ 0.00000000e+00 -2.77555756e-16  1.11510791e+00  1.12230216e+01\n",
            "   9.67625899e+00  1.33812950e+00  5.03597122e-02 -5.55111512e-17\n",
            "  -6.93889390e-18  7.19424460e-02  6.81294964e+00  1.46906475e+01\n",
            "   6.54676259e+00  7.84172662e-01  2.15827338e-02  1.24900090e-16\n",
            "  -3.03576608e-18  7.48201439e-01  1.19856115e+01  1.00791367e+01\n",
            "   1.18705036e+00  1.43884892e-01 -1.55431223e-15  1.38777878e-17\n",
            "  -1.73472348e-18  2.21582734e+00  1.34676259e+01  8.65467626e+00\n",
            "   4.07194245e+00  1.95683453e+00  1.15107914e-01  1.30104261e-18\n",
            "   0.00000000e+00  3.41007194e+00  1.45107914e+01  1.29712230e+01\n",
            "   1.24100719e+01  1.01223022e+01  2.75539568e+00  0.00000000e+00\n",
            "  -1.56125113e-17  1.86330935e+00  1.42877698e+01  1.10431655e+01\n",
            "   5.85611511e+00  1.02446043e+01  8.97122302e+00  2.94964029e-01\n",
            "   5.20417043e-18  1.65467626e-01  1.00647482e+01  1.28920863e+01\n",
            "   5.76978417e+00  1.13453237e+01  1.08489209e+01  7.84172662e-01\n",
            "  -8.67361738e-19  5.55111512e-17  1.38129496e+00  1.07553957e+01\n",
            "   1.51294964e+01  1.32230216e+01  4.66906475e+00  2.15827338e-01]\n",
            " [ 0.00000000e+00  6.66666667e-01  8.94202899e+00  1.46521739e+01\n",
            "   1.38405797e+01  6.96376812e+00  5.79710145e-01  0.00000000e+00\n",
            "   1.44927536e-02  4.28985507e+00  1.25289855e+01  9.35507246e+00\n",
            "   1.16376812e+01  1.20144928e+01  1.71014493e+00  1.44927536e-02\n",
            "   7.24637681e-03  1.97101449e+00  3.81159420e+00  4.03623188e+00\n",
            "   1.18913043e+01  9.89855072e+00  8.55072464e-01  1.38777878e-17\n",
            "  -1.95156391e-18  7.97101449e-02  1.15217391e+00  8.36956522e+00\n",
            "   1.36231884e+01  7.02173913e+00  3.26086957e-01  8.67361738e-19\n",
            "   0.00000000e+00  7.24637681e-02  6.15942029e-01  4.29710145e+00\n",
            "   1.13623188e+01  1.24565217e+01  2.34057971e+00  0.00000000e+00\n",
            "  -1.56125113e-17  4.34782609e-01  1.29710145e+00  7.53623188e-01\n",
            "   4.18115942e+00  1.22608696e+01  6.31159420e+00  5.89805982e-17\n",
            "   3.46944695e-18  9.05797101e-01  7.28260870e+00  6.93478261e+00\n",
            "   9.04347826e+00  1.36594203e+01  6.22463768e+00  1.73913043e-01\n",
            "  -9.75781955e-19  4.85507246e-01  9.60869565e+00  1.49492754e+01\n",
            "   1.39565217e+01  8.69565217e+00  2.02898551e+00  5.43478261e-01]]\n"
          ]
        }
      ]
    },
    {
      "cell_type": "markdown",
      "metadata": {
        "id": "8VomScLB-Pat"
      },
      "source": [
        "## Step 2: Use the trained clusters to assign cluster IDs to Xtest"
      ]
    },
    {
      "cell_type": "code",
      "metadata": {
        "id": "Iu5cTP8x1dLc"
      },
      "source": [
        "# Predict the trained model on Xtest using the predict function below\n",
        "# ADD PREDICTION CODE HERE\n",
        "ymeans = k_model.predict(Xtest)"
      ],
      "execution_count": 28,
      "outputs": []
    },
    {
      "cell_type": "markdown",
      "metadata": {
        "id": "fD9CXvgD-dWE"
      },
      "source": [
        "## Step 3a: Let us visualize the samples that are the cluster **centers**"
      ]
    },
    {
      "cell_type": "code",
      "metadata": {
        "colab": {
          "base_uri": "https://localhost:8080/",
          "height": 207
        },
        "id": "oySD6Lxdl6Kq",
        "outputId": "bb73c2ed-5bc3-486b-c6cb-c98a63447b0a"
      },
      "source": [
        "#Next, let us analyze the digits corresponding to the cluster centers, or samples that are easy to classify since they are far away from decision boundaries.\n",
        "# This only helps visualization\n",
        "fig, axes = plt.subplots(2,5, subplot_kw=dict(xticks=[], yticks=[]))\n",
        "for ax, digit in zip(axes.flat, k_model.cluster_centers_):\n",
        "    ax.imshow(digit.reshape(8,8), cmap=\"gray\")"
      ],
      "execution_count": 29,
      "outputs": [
        {
          "output_type": "display_data",
          "data": {
            "image/png": "[encoded data removed]",
            "text/plain": [
              "<Figure size 432x288 with 10 Axes>"
            ]
          },
          "metadata": {}
        }
      ]
    },
    {
      "cell_type": "code",
      "metadata": {
        "id": "GfFJZhE_mJ0t"
      },
      "source": [
        "#Next, we create a function to reaasign cluster labels to actual digit labels\n",
        "import scipy\n",
        "def find_permutation(n_clusters, real_labels, labels):\n",
        "    permutation=[]\n",
        "    for i in range(n_clusters):\n",
        "        idx = labels == i\n",
        "        new_label=scipy.stats.mode(real_labels[idx])[0][0]  # Choose the most common label among data points in the cluster\n",
        "        permutation.append(new_label)\n",
        "    return permutation"
      ],
      "execution_count": 30,
      "outputs": []
    },
    {
      "cell_type": "markdown",
      "metadata": {
        "id": "ctEwCVMApV_Q"
      },
      "source": [
        "## Step 3b: Use the cluster labels (k_model.labels_) and find_permutation function above to print the labels for the 10 image examples shown above."
      ]
    },
    {
      "cell_type": "code",
      "metadata": {
        "colab": {
          "base_uri": "https://localhost:8080/"
        },
        "id": "hbKaznvTmA56",
        "outputId": "b591a0ec-6c0a-4dd2-c8de-e58d81d355ac"
      },
      "source": [
        "from sklearn.metrics import accuracy_score\n",
        "permutation3 = find_permutation(10, ytrain, k_model.labels_)\n",
        "print(\"Cluster IDs from Xtrain now correspond to folllowing digits=\",permutation3)"
      ],
      "execution_count": 31,
      "outputs": [
        {
          "output_type": "stream",
          "name": "stdout",
          "text": [
            "Cluster IDs from Xtrain now correspond to folllowing digits= [1, 1, 9, 4, 2, 7, 5, 0, 6, 3]\n"
          ]
        }
      ]
    },
    {
      "cell_type": "markdown",
      "metadata": {
        "id": "rEQic1i4-xwf"
      },
      "source": [
        "## Step 4: Check the accuracy for clustered IDS after applying find_permutation on Xtest."
      ]
    },
    {
      "cell_type": "code",
      "metadata": {
        "colab": {
          "base_uri": "https://localhost:8080/"
        },
        "id": "rzzwhO4s-wcq",
        "outputId": "e66f0b95-45c8-4455-bade-41fef150a61d"
      },
      "source": [
        "perm_test=find_permutation(10,ytest, ymeans)\n",
        "ym_labs=[perm_test[label] for label in ymeans]\n",
        "print(ym_labs)"
      ],
      "execution_count": 32,
      "outputs": [
        {
          "output_type": "stream",
          "name": "stdout",
          "text": [
            "[6, 9, 3, 7, 2, 2, 5, 3, 5, 2, 8, 1, 4, 0, 4, 2, 3, 7, 9, 9, 4, 3, 9, 7, 5, 6, 3, 5, 6, 3, 4, 9, 2, 4, 4, 6, 9, 4, 7, 6, 6, 9, 8, 3, 6, 1, 3, 0, 6, 5, 5, 8, 9, 5, 6, 0, 9, 0, 0, 1, 0, 4, 5, 2, 4, 9, 7, 0, 7, 9, 9, 9, 9, 7, 7, 0, 4, 5, 9, 9, 9, 0, 2, 3, 9, 0, 6, 4, 4, 3, 8, 2, 8, 3, 9, 2, 9, 0, 4, 7, 4, 3, 5, 3, 1, 8, 5, 1, 4, 2, 7, 7, 4, 4, 1, 9, 8, 7, 9, 7, 2, 6, 9, 4, 0, 7, 2, 7, 5, 8, 7, 5, 7, 7, 0, 6, 6, 4, 2, 8, 0, 9, 4, 6, 9, 1, 6, 9, 0, 9, 9, 6, 6, 0, 6, 4, 9, 9, 3, 7, 7, 2, 9, 0, 4, 5, 3, 6, 5, 7, 9, 8, 4, 2, 8, 3, 7, 7, 2, 2, 3, 9, 9, 0, 3, 2, 3, 5, 6, 9, 9, 4, 8, 5, 4, 2, 3, 6, 4, 8, 9, 9, 5, 7, 8, 9, 4, 8, 8, 5, 4, 4, 9, 6, 8, 9, 6, 0, 4, 5, 2, 7, 1, 6, 4, 5, 6, 0, 3, 2, 3, 6, 7, 1, 9, 2, 4, 7, 6, 5, 8, 9, 5, 8, 0, 2, 8, 8, 7, 5, 7, 6, 2, 2, 2, 3, 4, 9, 8, 3, 6, 0, 9, 7, 7, 0, 8, 0, 4, 9, 8, 5, 3, 6, 0, 4, 2, 0, 0, 3, 6, 9, 9, 7, 3, 5, 9, 9, 9, 8, 5, 3, 3, 8, 0, 5, 8, 3, 4, 0, 2, 4, 6, 4, 3, 4, 9, 0, 5, 2, 2, 3, 1, 4, 8, 8, 7, 0, 8, 5, 2, 8, 2, 9, 7, 0, 6, 4, 8, 8, 5, 8, 8, 4, 5, 8, 7, 9, 8, 6, 0, 6, 2, 0, 7, 9, 8, 9, 5, 2, 7, 7, 1, 9, 7, 4, 3, 7, 3, 9, 6, 0, 0, 3, 0, 5, 0, 0, 4, 1, 2, 3, 8, 5, 5, 6, 3, 8, 9, 8, 4, 2, 3, 9, 9, 9, 8, 5, 0, 6, 3, 3, 7, 8, 6, 4, 2, 2, 1, 8, 6, 4, 7, 4, 5, 3, 4, 0, 5, 1, 3, 4, 5, 7, 6, 9, 7, 0, 5, 9, 7, 5, 9, 7, 4, 8, 2, 9, 0, 7, 5, 8, 3, 6, 3, 9, 6, 9, 9, 0, 8, 9, 5, 9, 3, 7, 6, 2, 6, 5]\n"
          ]
        }
      ]
    },
    {
      "cell_type": "code",
      "metadata": {
        "colab": {
          "base_uri": "https://localhost:8080/"
        },
        "id": "xwJ8aC0S_r0_",
        "outputId": "d853bf05-7071-4d13-e8db-3d824d665e91"
      },
      "source": [
        "acc_means = accuracy_score(ytest, ym_labs)\n",
        "print(\"Accuracy on Xtest=\", acc_means)"
      ],
      "execution_count": 33,
      "outputs": [
        {
          "output_type": "stream",
          "name": "stdout",
          "text": [
            "Accuracy on Xtest= 0.8044444444444444\n"
          ]
        }
      ]
    },
    {
      "cell_type": "code",
      "metadata": {
        "colab": {
          "base_uri": "https://localhost:8080/",
          "height": 285
        },
        "id": "N3WBxnAoBCn5",
        "outputId": "4945ec9c-7527-46ba-ef82-abecef0dd6fc"
      },
      "source": [
        "# Create a confusion matrix heatmap for cluster labels the way we did for random forest\n",
        "\n",
        "# ADD YOUR CODE HERE\n",
        "mat = confusion_matrix(ytest, ymeans)\n",
        "sns.heatmap(mat.T, square=True, annot=True, fmt='d', cbar=False)\n",
        "plt.xlabel('true label')\n",
        "plt.ylabel('predicted label');"
      ],
      "execution_count": 34,
      "outputs": [
        {
          "output_type": "display_data",
          "data": {
            "image/png": "[encoded data removed]",
            "text/plain": [
              "<Figure size 432x288 with 1 Axes>"
            ]
          },
          "metadata": {
            "needs_background": "light"
          }
        }
      ]
    },
    {
      "cell_type": "markdown",
      "metadata": {
        "id": "8r2NW3L-BTG8"
      },
      "source": [
        "# Thus, we see that is we only look at the pixel-feature space, samples from digit '1', '5' and '8' end up in significant errors. So the decision boundaries along those digit clusters needs to be more accurately placed than the other clusters. \n",
        "#**What other observations do you make for unsupervised vs. supervised method applied to this digits data? List them here!**"
      ]
    },
    {
      "cell_type": "markdown",
      "metadata": {
        "id": "fpMTYrdWTYo0"
      },
      "source": [
        "# Task 4: Reduce the dimension of each sample from 64 to 3 (visible dimensions) using PCA. Then use Plotly OR Bokeh visualizations for the reduced dimension training and test data clusters. The goal is to identify sample clusters and verify which cluster samples need more attention than others.\n",
        "\n",
        "## Step 1: Reduce the data dimensions to 3 principle components for visualization!"
      ]
    },
    {
      "cell_type": "markdown",
      "metadata": {
        "id": "luUyysCCiTOL"
      },
      "source": [
        "PCA is used for dimention reductionality for features. For more information on PCA see https://towardsdatascience.com/all-you-need-to-know-about-pca-technique-in-machine-learning-443b0c2be9a1\n",
        "For PCA implementation information see https://scikit-learn.org/stable/modules/generated/sklearn.decomposition.PCA.html"
      ]
    },
    {
      "cell_type": "code",
      "metadata": {
        "id": "LGRpTEtoDErb"
      },
      "source": [
        "pca = PCA(n_components=3)\n",
        "Xtrain_red = pca.fit_transform(Xtrain)\n",
        "Xtest_red=pca.fit_transform(Xtest)\n"
      ],
      "execution_count": 35,
      "outputs": []
    },
    {
      "cell_type": "markdown",
      "metadata": {
        "id": "93VW8w1rJUGW"
      },
      "source": [
        "# Step 2: Visualize scatter plot for Xtest_red with original labels and with labels predicted from k-means"
      ]
    },
    {
      "cell_type": "markdown",
      "metadata": {
        "id": "Nr8Lrer05czJ"
      },
      "source": [
        "We are visualizing the original labels and predicted labels using scatter plot. The implementation of the scatter plot can be found at https://matplotlib.org/stable/api/_as_gen/matplotlib.pyplot.scatter.html#matplotlib.pyplot.scatter"
      ]
    },
    {
      "cell_type": "code",
      "metadata": {
        "colab": {
          "base_uri": "https://localhost:8080/",
          "height": 369
        },
        "id": "REsJFPuJDQmY",
        "outputId": "fc09e5ec-2e1e-4eb4-e88f-78c120ea4f1f"
      },
      "source": [
        "# Refer the above link to plot scatter plot for orginal data\n",
        "\n",
        "# YOUR CODE HERE\n",
        "# plt.scatter(Xtest_red[:, 0], Xtest_red[:, 1],  c=ytest)\n",
        "# plt.legend(ytest)\n",
        "import pandas as pd\n",
        "dat1 = pd.DataFrame({'x': Xtest_red[:, 0], 'y': Xtest_red[:, 1],  'label': ytest})\n",
        "\n",
        "facet = sns.lmplot(data=dat1, x='x', y='y', hue='label', \n",
        "                   fit_reg=False, legend=True)"
      ],
      "execution_count": 36,
      "outputs": [
        {
          "output_type": "display_data",
          "data": {
            "image/png": "[encoded data removed]",
            "text/plain": [
              "<Figure size 406.6x360 with 1 Axes>"
            ]
          },
          "metadata": {
            "needs_background": "light"
          }
        }
      ]
    },
    {
      "cell_type": "code",
      "metadata": {
        "colab": {
          "base_uri": "https://localhost:8080/",
          "height": 369
        },
        "id": "0_1nMc1FJD3d",
        "outputId": "b0f84cba-563c-4524-9147-2634316ea270"
      },
      "source": [
        "# Refer the above link to plot scatter plot for predicted labels\n",
        "\n",
        "# YOUR CODE HERE\n",
        "dat2 = pd.DataFrame({'x': Xtest_red[:, 0], 'y': Xtest_red[:, 1],  'label': ymeans})\n",
        "\n",
        "facet = sns.lmplot(data=dat2, x='x', y='y', hue='label', \n",
        "                   fit_reg=False, legend=True)"
      ],
      "execution_count": 37,
      "outputs": [
        {
          "output_type": "display_data",
          "data": {
            "image/png": "[encoded data removed]",
            "text/plain": [
              "<Figure size 406.6x360 with 1 Axes>"
            ]
          },
          "metadata": {
            "needs_background": "light"
          }
        }
      ]
    },
    {
      "cell_type": "markdown",
      "metadata": {
        "id": "YoNYygrhKunS"
      },
      "source": [
        "## Notice that you can now find the clusters that are in error but it is still difficult to pinpoint erroneous cluster ids!\n",
        "\n",
        "## Step 3: Install plotly or Bokeh"
      ]
    },
    {
      "cell_type": "code",
      "metadata": {
        "id": "XlHBWKelqQVZ"
      },
      "source": [
        "!pip install -q plotly==4.2.1"
      ],
      "execution_count": 38,
      "outputs": []
    },
    {
      "cell_type": "code",
      "metadata": {
        "id": "GIQGjD9drhhv"
      },
      "source": [
        "import pandas as pd\n",
        "df = pd.DataFrame(Xtest_red, columns = ['PCA_1','PCA_2','PCA_3'])\n",
        "df.insert(3, 'label', ytest, True)\n",
        "df.insert(4, 'pred', ym_labs, True)"
      ],
      "execution_count": 39,
      "outputs": []
    },
    {
      "cell_type": "markdown",
      "metadata": {
        "id": "EOH_bi126EFI"
      },
      "source": [
        "We are going to plot the PCA using scatter_3d. For more details on scatter_3d see https://plotly.com/python-api-reference/generated/plotly.express.scatter_3d"
      ]
    },
    {
      "cell_type": "code",
      "metadata": {
        "id": "FFMXZjWoUIPN",
        "colab": {
          "base_uri": "https://localhost:8080/",
          "height": 617
        },
        "outputId": "cdcf33cb-c026-4488-d9be-d2d3d263aeb8"
      },
      "source": [
        "import plotly.express as px\n",
        "\n",
        "# Plot a 3d scatter plot of label refering the above link \n",
        "# PLOTTING CODE HERE\n",
        "px.scatter_3d(df, x='PCA_1',y='PCA_2',z='PCA_3', color='label')\n",
        "\n",
        "# DISPLAY THE PLOT USING SHOW METHOD HERE\n",
        "#plotly.show()"
      ],
      "execution_count": 40,
      "outputs": [
        {
          "output_type": "display_data",
          "data": {
            "text/html": [
              "<html>\n",
              "<head><meta charset=\"utf-8\" /></head>\n",
              "<body>\n",
              "    <div>\n",
              "            <script src=\"https://cdnjs.cloudflare.com/ajax/libs/mathjax/2.7.5/MathJax.js?config=TeX-AMS-MML_SVG\"></script><script type=\"text/javascript\">if (window.MathJax) {MathJax.Hub.Config({SVG: {font: \"STIX-Web\"}});}</script>\n",
              "                <script type=\"text/javascript\">window.PlotlyConfig = {MathJaxConfig: 'local'};</script>\n",
              "        <script src=\"https://cdn.plot.ly/plotly-latest.min.js\"></script>    \n",
              "            <div id=\"65ed6727-8048-4bf1-b138-436d8a46b637\" class=\"plotly-graph-div\" style=\"height:600px; width:100%;\"></div>\n",
              "            <script type=\"text/javascript\">\n",
              "                \n",
              "                    window.PLOTLYENV=window.PLOTLYENV || {};\n",
              "                    \n",
              "                if (document.getElementById(\"65ed6727-8048-4bf1-b138-436d8a46b637\")) {\n",
              "                    Plotly.newPlot(\n",
              "                        '65ed6727-8048-4bf1-b138-436d8a46b637',\n",
              "                        [{\"hoverlabel\": {\"namelength\": 0}, \"hovertemplate\": \"PCA_1=%{x}<br>PCA_2=%{y}<br>PCA_3=%{z}<br>label=%{marker.color}\", \"legendgroup\": \"\", \"marker\": {\"color\": [6, 9, 3, 7, 2, 1, 5, 2, 5, 2, 1, 9, 4, 0, 4, 2, 3, 7, 8, 8, 4, 3, 9, 7, 5, 6, 3, 5, 6, 3, 4, 9, 1, 4, 4, 6, 9, 4, 7, 6, 6, 9, 1, 3, 6, 1, 3, 0, 6, 5, 5, 1, 9, 5, 6, 0, 9, 0, 0, 1, 0, 4, 5, 2, 4, 5, 7, 0, 7, 5, 9, 5, 5, 4, 7, 0, 4, 5, 5, 9, 9, 0, 2, 3, 8, 0, 6, 4, 4, 9, 1, 2, 8, 3, 5, 2, 9, 0, 4, 4, 4, 3, 5, 3, 1, 3, 5, 9, 4, 2, 7, 7, 4, 4, 1, 9, 2, 7, 8, 7, 2, 6, 9, 4, 0, 7, 2, 7, 5, 8, 7, 5, 7, 7, 0, 6, 6, 4, 2, 8, 0, 9, 4, 6, 9, 9, 6, 9, 0, 3, 5, 6, 6, 0, 6, 4, 3, 9, 3, 9, 7, 2, 9, 0, 4, 5, 3, 6, 5, 9, 9, 8, 4, 2, 1, 3, 7, 7, 2, 2, 3, 9, 8, 0, 3, 2, 2, 5, 6, 9, 9, 4, 1, 5, 4, 2, 3, 6, 4, 8, 5, 9, 5, 7, 8, 9, 4, 8, 1, 5, 4, 4, 9, 6, 1, 8, 6, 0, 4, 5, 2, 7, 4, 6, 4, 5, 6, 0, 3, 2, 3, 6, 7, 1, 5, 1, 4, 7, 6, 8, 8, 5, 5, 1, 6, 2, 8, 8, 9, 9, 7, 6, 2, 2, 2, 3, 4, 8, 8, 3, 6, 0, 9, 7, 7, 0, 1, 0, 4, 5, 1, 5, 3, 6, 0, 4, 1, 0, 0, 3, 6, 5, 9, 7, 3, 5, 5, 9, 9, 8, 5, 3, 3, 2, 0, 5, 8, 3, 4, 0, 2, 4, 6, 4, 3, 4, 5, 0, 5, 2, 1, 3, 1, 4, 1, 1, 7, 0, 1, 5, 2, 1, 2, 8, 7, 0, 6, 4, 8, 8, 5, 1, 8, 4, 5, 8, 7, 9, 8, 5, 0, 6, 2, 0, 7, 9, 8, 9, 5, 2, 7, 7, 1, 8, 7, 4, 3, 8, 3, 5, 6, 0, 0, 3, 0, 5, 0, 0, 4, 1, 2, 8, 4, 5, 9, 6, 3, 1, 8, 8, 4, 2, 3, 8, 9, 8, 8, 5, 0, 6, 3, 3, 7, 1, 6, 4, 1, 2, 1, 1, 6, 4, 7, 4, 8, 3, 4, 0, 5, 1, 9, 4, 5, 7, 6, 3, 7, 0, 5, 9, 7, 5, 9, 7, 4, 2, 1, 9, 0, 7, 5, 3, 3, 6, 3, 9, 6, 9, 5, 0, 1, 5, 5, 8, 3, 3, 6, 2, 6, 5], \"coloraxis\": \"coloraxis\", \"symbol\": \"circle\"}, \"mode\": \"markers\", \"name\": \"\", \"scene\": \"scene\", \"showlegend\": false, \"type\": \"scatter3d\", \"x\": [-9.977773241197527, 13.126042766767485, 23.132494898914942, -6.250089461150256, 12.31308316476653, 1.6229142337013458, -7.310002858656884, 7.694263674456252, -6.443429187741363, 7.505409718346384, 0.05683267207248308, -10.269108045537315, -16.708099568082456, 5.1271388387778325, -29.652821023906665, 8.175033675435143, 21.215678803790933, -6.422618022567153, 8.652761267758263, 5.465464274735152, -21.352418036722042, 19.83833769687525, 14.543942217191288, -4.508508564447526, -10.779251819128296, -12.551384580445498, 19.093345513138175, -4.679477584767338, -6.6267789993052135, 21.524226628193095, -23.867264005310563, 17.323590618119997, 6.89543765857027, -27.102261941355128, -19.703311020147176, -10.756875280445781, 21.32872904604915, -27.16869095349532, 2.36789278188687, -16.115783819080434, -10.156799549302088, 16.325864998977526, -14.498961169314548, 21.76049683275921, -17.30843611427872, -2.0336625835957944, 20.441741984085134, 5.078592884114145, -6.20571252171547, 4.687680210902385, 0.2779075381858467, -9.523998917723883, 14.03649948982623, -2.7894319014339906, -8.276463019109332, 4.23545797090208, 18.27650880610017, -9.29619222086495, 7.475289179648282, -8.765988146075824, 0.5883867599896427, -27.087047592159195, -1.4607296952618476, 6.792451528118393, -27.76258772141602, 15.497296498828252, -5.6885224682767594, 1.0323373751804406, -1.540720813429571, 0.8000667028958308, 10.413856513722829, 16.96876739321768, 3.2784376716759374, -14.3146563150112, 0.6290576216581281, -0.752480745888693, -13.13915410870967, -9.985905257421798, 14.38730917112683, 26.51682097367113, 17.051617257463686, 1.3391694254333462, 11.439979700049317, 16.136058928187946, 6.4374736683962235, 3.3028079013941127, -12.043324676124664, -27.0826698136016, -28.71848639476115, 17.791908745297846, -6.961900644329153, 11.939235530571427, -0.7706302257830494, 20.02926847055723, 17.40041339966537, 7.71128351555494, 20.658147716135286, -13.496582992618123, -19.506544789705735, -14.444442866762557, -22.97359904897026, 27.959231507169292, 2.6654209961457203, 14.755570754855398, -2.028807624625605, 4.763695491018758, -10.288426506647525, -11.329550364604076, -22.091897698413337, 10.124396338555703, -3.0036170033140768, -6.967130581910122, -21.403394674058113, -29.150341744195515, -12.511412008162145, 23.712014449465656, -3.5961879934353482, 3.1890213850571403, 3.371957471066896, -10.071117328493498, 18.294607502467148, -10.701437876218789, 11.279402000561367, -14.39807955910107, 3.998208109341347, -1.1603826813458793, 12.791573724643827, -5.136734049619313, -2.990083137697596, -4.855475656325387, -0.5739857418015013, 9.03143097590804, -0.9576984953616703, -2.376308761503457, -0.5676041981290341, -9.830302416042995, -10.4043691931224, -24.813663120983147, 5.901529528306663, -4.574038297466804, 0.12889821386256872, 22.346669291754797, -24.691399202118603, -5.003492305840524, 5.176569944990724, -2.3881292312584006, -6.437082484003281, 21.452713495249412, 3.0537064377759853, 3.568804832717323, 9.544428225007717, -12.166977703809687, -14.16507385383728, 7.263519554735855, -12.988484215521597, -20.98097094787677, 15.7147463359084, 21.79195115360542, 22.715315495166777, 4.269933272242118, -8.922773025163155, 12.127260463104511, 24.776823452381667, -6.644533088101303, -16.906658355248524, -5.480471456966132, 6.88858930912699, -9.560440638852967, -11.386706742719992, -1.1107411668749643, 10.567220452527058, -4.476257429316312, -26.964842666078972, 11.55167737428187, -12.35932787633197, 13.001193487548562, -2.9915895537763677, 1.0861120417253307, 11.241201424551472, 15.075634265291217, 22.772712954145103, 15.66644596271916, 4.399982695396679, 1.9174839825869994, 21.730049565186125, 13.28520312602211, 8.431699516013245, 6.621405433662001, -12.799911158480182, 23.604057281667455, 18.84748408686972, -22.7826501270249, -20.57917040109601, -6.8715865349675775, -15.199185626239247, 12.394938306473737, 30.278125100574627, -7.424450753100943, -22.728583201735795, -4.201419648765334, 16.026836184183914, 21.40681892654335, 6.195335338804884, -5.848226688030238, -2.3524801400341095, 14.156110169701538, -27.150587175154392, 5.479466691639151, -8.506568011846209, 2.7077395744843162, -24.4647416044259, -27.50770365630847, 14.060904449554931, -4.7236431310419595, -10.3770739694918, 10.852003095463264, -8.739713284059746, -6.90863944209146, -18.741008253902347, -11.042597513141347, 15.814187415367895, -1.7452427976888567, -16.850439558438982, -13.612343668678811, -25.429288441936798, -1.8867672552423354, -13.363719690432204, -7.048790066966718, 24.75503545228472, 12.843993310156979, 18.18885348292491, -12.821426760823996, -1.320216755258525, 9.341081192414816, 16.655103507847965, 2.194469007852049, -27.776410005673135, -7.411761003939822, -8.750024256660224, 0.09098238912063526, 4.25745311905112, 12.233391298075945, -11.625111056256198, -9.13461938840318, -3.8553731308302135, 2.492882780490756, -5.906129406508642, 1.9619420367288778, -4.299792718275992, 2.342204330034397, -5.048989179265053, -7.02438029542511, 12.621655622342322, 13.224596545605662, 11.217977441836261, 18.698119527428144, -26.50362452034939, -0.885911680851128, 6.307328201623358, 14.717101006676884, -10.169703072709922, 1.8449886998170788, 9.455042908719014, 4.261016875478562, 5.415057825423738, -2.6851626980343863, -10.665957506668637, 1.4986774210207867, -27.391034871117927, 18.801045525642557, -12.222763275919517, -5.830779807052359, 19.46379583701438, -6.676334339365867, 3.7123180606756057, -21.740741552395313, 2.0929360841873357, 3.0321660568616724, 1.2298881586424484, 16.71765937402535, -13.265424834825575, 13.318082744086094, 16.654280757388136, -8.595101996107772, 14.388191565853287, -5.533134010095359, 19.123266232409215, 24.455228883718835, 25.9042926687455, -10.552650225979113, 2.8752159231591974, 21.037740794736088, 21.639215203429334, -7.0291664575468245, 7.144616257692206, -9.551300559144506, -1.7732422390164964, 22.45880805150226, -23.758603071877523, 1.334256913495461, 7.641115514123178, -18.814349595389015, -7.479657239389891, -27.23964282865465, 22.81941099636176, -22.242514389639965, 9.549542220344502, 5.459677354730774, -1.617625137110863, 10.630541420838293, 8.554576498151876, 25.942489542812638, -4.210697503462531, -25.999817676869398, -3.592378166633632, -17.382776632255812, -10.070481923597102, 1.4431461960675636, -16.72365931480801, 2.9471353669562417, 1.9405984496022297, -11.437721026302556, 4.625921083520525, 0.18196571515685206, -2.1241108237825896, 0.13130465484126086, -9.441717213356798, -21.09178891607439, -5.689437435966785, -1.7094775783104108, -1.6870025459994584, -7.608222680333634, -3.330914143307916, -23.37598816872043, 4.194640956774513, -1.4053762648305095, -10.73983357212398, 19.505383714387893, -2.5586673035561796, -6.346623214069355, 9.170473962909073, -10.797561356283031, 5.265671714383415, -4.324269918406321, -9.051557901065925, 16.85389130091132, -4.206373257353937, 20.075233812537206, -1.429382993689828, 5.658837044966352, -6.425767125742214, -13.724845909461783, 7.511795329459698, 7.565381818618708, 3.069945396043284, -28.85463609153927, 16.258264205334367, -3.7261447479444736, 21.595521186073416, 19.050593627405384, -7.884502443681717, 7.34840880322792, -8.106200359645305, 19.015116429222516, 7.501720068324059, 10.45094008672644, -13.523873710131781, 0.3389310698072811, -16.55669186822044, -1.362944479696817, 6.94410232007924, 10.63114062027255, -20.436663610247592, -2.4978302305812807, 3.599016552570236, -17.162245207308253, 23.853989910227998, -17.596933778500066, 6.093366496855568, -1.6054343414955219, -26.376637027324225, 14.513510631777315, 11.09692712096828, -4.52998843535819, 12.872330620805592, 11.474148968614086, 8.37997170552326, -8.986232340066218, 3.5319982528594323, -12.47760797191526, 19.77529587355656, 25.126030615645195, -7.807445852422577, -12.590523902483426, -10.72132780267417, -21.69273055965612, -6.813124697643847, 13.20991273311272, -4.411497078305728, -12.27829749430288, -6.97081905764017, -27.096424913166178, -9.66283936533508, -20.787506665828342, -3.8421687319031648, 24.156702352289297, -29.031985006280934, -2.6793967951003, 4.20585296489528, -0.4220325161377005, 22.07912432563163, -18.726591935922663, -3.976912068299785, -1.7954560926914684, -12.289878499852412, 20.576504838668843, -8.063889164174759, 13.14634547958246, -7.903222608992342, 18.379292729615287, -8.406443705680902, -11.849072696760823, 23.01937543064229, -7.311887424640094, -23.148991687367044, 8.636335913810612, 2.960826216301941, 26.330149481347462, -2.54525850139122, 2.729493069942719, -3.2884247280628633, 1.912532526191525, 25.199212597807662, -13.412880918993842, 25.00176217363252, 20.12410278641092, -14.890368327350776, 16.68929270950147, 15.93001651039299, 8.267100388790793, -8.905856575316239, 16.24953985945315, 5.710585169788164, 6.774870403298731, 12.920967406876974, 9.121286440347918, -10.298614102320249, 16.534829342102135, -8.693787219312759, -8.81736472972296], \"y\": [16.718601670752577, -1.0747991118951075, -2.592961428687264, -9.954296165605019, 1.199692525844726, -0.7918502143458532, -12.302126276381802, -8.293611144485515, -15.007597715256864, -14.32954033587113, -19.499669487424537, 2.5734862314271245, -7.05065073035039, 15.912331854873257, 11.007307258678175, -9.31015084516453, -4.893643937461095, -22.963709843851944, -2.743924087359242, -0.5670079939283145, 0.05045682785569107, -17.763766100871567, -0.6508178390586982, -17.569174368222626, -12.102667214838972, 20.741679957884653, 3.9032802693128916, -16.880466595598367, 22.72417579480864, 10.841930219460904, 13.126500171878805, 8.594430276835025, 1.2876153484703694, 13.751190376077327, 0.3913645264826657, 17.875213010258896, 8.077916215036488, 0.6916791615327558, -17.605290747075436, 17.66457680484184, 17.80965255812051, 5.963577622226756, -13.70001360970403, 4.514628214055757, 12.30003649100745, -12.448372891731655, -3.974623664452973, 18.862279110704964, 20.357732913936758, 2.57286708161961, -7.664656482684604, -13.70965006469379, 8.740280875985732, -9.825686678344402, 17.340095132831618, 22.14843909106614, 7.71123771724603, 9.777346099365927, 22.668942965914674, -9.726695580628155, 3.135863494306509, 3.6783589223656605, -2.774028967625571, -5.150222794870344, 3.965127318277862, 6.5467906638161155, -17.2162273587997, 17.964030097616405, -18.765381283661505, 8.971038088935716, 8.66068199179304, 11.784700444441809, 11.092721054822853, -6.024261416385122, -20.205701778885576, 21.33537957467829, 0.19566473098050344, -9.007508443226758, 12.652195781432201, 5.924344755211753, 7.8027009340720195, 16.889608346136836, -9.922728575346717, -11.023784825850964, 2.986371729067446, 20.328809165058956, 15.990312005769377, -0.6788552094777268, 3.1747320484110944, 2.253150963101929, -16.69655129862875, -6.7610606756124705, -3.6905294973805893, -7.69041893583614, 13.143415255554308, -1.9238640697810943, 4.811863775715909, 9.021484481253365, 3.7461963225574095, -3.928970591544741, -11.098120344357202, -4.591189387195046, -0.12523725921201284, -11.406555903669847, -7.0322312226644215, -18.32178021684545, -15.4628137183644, -12.843257034644983, -0.9540816608238832, -6.275146113123442, -19.66264085105522, -19.096425436592376, -0.6793071543044464, 3.348628897641494, -9.894473975217185, 5.129373554184779, -5.271716571647084, -19.583815379106678, 7.892157945678283, -14.701250960923721, -11.246163641867682, 21.00852655958356, 3.223200685907743, 8.861711001149036, 20.657582809199035, -17.084027810179457, 1.8589429569045255, -15.036390352301382, -15.854627483422899, -0.413885763972238, -13.557601995501425, -8.507506949694381, -16.79753638834438, -7.3287293485778715, 15.149776358873739, 19.64304440256283, 18.306903805926265, 3.435326043021728, -8.207581925335678, -10.581331569376564, 20.026702665788203, 5.378639591341808, -6.84137667182179, 27.623671702447872, 5.17190739387071, 3.8073252602776027, 19.256909231177293, 9.302791484422295, 19.83170149975573, 7.352291405650019, 9.669359211332843, 19.30643819595477, 17.092904842811766, 21.30873424677857, 15.338171004899028, -0.5680702716413527, 3.750851740765465, 8.146571158614762, -2.713645794080978, -20.94006190287635, -17.810664205756154, -3.022352902995116, 8.225187222118384, 14.515114533386843, 16.407255336741887, -7.957858648837561, -14.962345057258654, 19.95701695005264, -13.290948788125752, -21.276920948033247, 9.66842277661753, -11.146804460080114, 5.019527204423423, -5.179982100211631, -18.475804861631467, 0.902831233565797, -22.874149898118038, -19.810767259331804, -11.204931735932789, -12.241450955267695, -3.6880602793498554, 7.983499437699681, 3.213085262091934, 22.158320492861183, -12.554785937224413, -11.8760479907962, -2.4263270773163703, -6.8989118959911035, 16.17449265296251, 6.495673126077476, 4.119431308807622, -0.18776567281809467, -13.794536744153989, -3.7716213905469917, 0.11812909081750085, -6.021149386614145, 6.3229887067922235, 16.107058199838512, -4.581323613341616, -6.876912291793255, 7.283898103486317, 4.153742257788718, -1.068849398354728, -19.141573385026007, -17.182754228616368, 5.16478627626714, -0.6182550743658941, -0.9779349203839711, -18.675393685292644, -8.940695184394752, 4.8260592669053155, 4.446206908660503, 6.331396903462887, 22.469867443888997, -15.570638756702646, -3.3739465368703545, 23.212837744921888, 20.847935085933475, -1.0148255034073106, -8.952069306803605, -9.071766965099615, -21.320934546501384, -4.728618120460215, 16.232497564224747, 13.904364859101936, -8.529490593060393, 18.932278870828597, 12.703990017720963, -0.6771400045259344, -7.10170310997298, -11.453295226013834, 18.02119660032977, -16.79581203261494, 7.215105579907841, 15.659491339517656, -0.764994885714665, -4.48940009173527, -17.786868984274182, 18.397727165311924, -12.945537967754223, -12.897764805586187, 11.005185720029626, -6.6361783434630786, -12.040286947657364, 19.709216513102017, -3.80400848740542, -12.92927825366888, -1.1206191357739628, -16.35664342356556, -23.33793818375481, -21.521172695231307, 12.029132972015518, -8.387333715021246, -11.764884639316305, -10.630051059085803, 1.7641940830299618, 6.1670886134885565, -5.492982830532143, -18.714936999870204, -11.431901126262188, 21.772604486849904, 23.187647262894938, 3.616278034103238, -17.536745859061188, -19.415655695705777, 18.245264056702997, -21.5969124961443, 16.382502439960547, 7.900141872110075, 13.308675898592732, -7.010009157330145, -10.126298520269644, -14.370172018276591, 21.50731670303731, 18.540645646794758, -3.580471055959816, -5.191113957995651, 18.115403166213884, 11.756799772575535, 9.66278018394525, 15.01729461529119, 5.918384643935405, 7.718540203250071, -17.247658207797745, -7.3028592060471, -1.0985950115267196, 11.796462760958192, 7.152765100367174, 10.319806221069145, -7.765843858252044, -10.647975243306762, 5.707525943318386, 0.40416797328014736, -4.848101475301908, 26.11784268893266, -10.35741986272586, -0.30085800317746464, -0.04904640848494942, -1.2927878346560169, 18.457023409023606, -5.299541165847355, -4.908505039604529, 14.667906019738815, 9.046962821446627, -1.768791254101572, -3.465818007046279, 8.937946026949808, 28.24033774221762, -0.6613809739965639, -11.154180249603588, 4.325882911886285, 0.03639125406162406, -8.529005237547263, 13.260727251509843, -21.319024127249143, -13.82637880240366, -13.657689249069001, 24.38634325880194, -7.3620267612998145, -19.727074065293866, -1.4476984298061335, -11.897017085647631, -11.47799156888203, -2.3801807283026255, -20.12693494884725, 27.336756056413403, 21.406168454457465, -4.314194215504307, -14.63032213874012, -6.300155327433318, 1.2025645818018513, -22.589954649674617, -13.641238251104483, -9.052777401520869, -5.757929427223437, -9.409425128274128, -5.063156968684327, 8.040527944735993, -5.979530280096365, 8.456189546234606, 13.608789519979103, 6.713298404796249, -3.73690219774951, 20.99399288797434, -6.6404793255351535, 11.926805552460408, -9.260199649377437, 12.404357180488375, -9.046071803597146, -4.555755732790028, -16.081100909675683, -14.62933113666637, 11.341747662421263, -0.08366642198601038, -23.526622694795932, 3.897185166614153, -6.130249503177081, -5.516291730464245, 11.196576051758667, 8.609419152015633, 24.94500303605359, 17.98235282360758, 19.351000699553083, -14.071899816199734, 19.825712684187998, -4.706192035606275, 16.672431742420198, 22.241779631620677, 0.8753564745742457, -8.20559472310909, 0.5559035070941537, -4.480690516127837, -7.112647191100569, -18.813609527565553, -13.772337471480707, 12.783377683759246, 6.26542923146257, -10.270936989681273, -3.001620678286881, -14.231348100226437, -2.9715664142834695, -2.777059445446115, -2.047337004629796, 5.393644606076468, 7.330677446328311, -0.01878328704829388, -16.94834621840374, -2.988735253851341, 12.267362882345497, 15.855523249143355, 3.9511112212087975, -4.178478661197113, -14.615700990625882, -17.253140782937905, 14.48501279937267, 2.2339433219120144, -2.0376015296523233, -9.637134830204044, -10.38617665360176, -15.576615317884007, 10.783429871695935, 7.727582493004053, -11.82594284218803, 8.411955517012814, -10.357891153107216, -3.1023386534276005, 11.905818880046308, 24.784868547576917, -8.598901598636328, -9.78892194851512, 9.087716974056168, 5.535534931559254, -13.951015466746382, -19.44139452970593, 17.061874601384623, 2.4074352080815333, -15.711335306887051, 19.83633091484151, -5.610829416729964, 9.272823310573317, -9.251539745544772, 0.17068070467665736, 6.652978068416514, -14.463865553411601, 13.202557221114253, -11.687240516953024, -4.573264398085709, 6.434530388655712, 15.482677118457957, -21.120143842838583, -14.653658925263152, -17.746477835914654, 0.261574207275858, 17.401870136719552, -0.25125030761599754, 7.983169591146546, 23.541888883214014, 8.7980713602445, 8.626017681163576, 19.619592743372223, -22.96446713191442, 6.314065097884204, -19.29885090866416, -5.450598448046513, -15.686175043700802, -14.9706699219854, 22.20328167027305, -11.74518280008222, 17.5443629321307, -13.047898641293894], \"z\": [13.98248961330649, -12.412679804103012, 6.870460812154649, -17.340447988474704, 25.628226921315502, 24.77241538562221, 1.0155805387168806, -2.791372379063491, 2.759380143572902, 11.372605894276028, 5.708478538588512, -21.45610408894206, 3.469843363321244, -7.7640672453201525, -9.430445515281026, 11.760291330707258, 1.7827433668665498, -18.22944352030173, -3.2885339224299406, 9.037626240508589, -5.3383984227288215, -7.922650515979285, -12.783913222555872, -3.4315097369199905, 6.619697357133446, 18.64179229516342, 5.394065187494244, 8.793563990775574, 11.947066561912882, 6.366546093315017, -3.1546460558669516, -4.809182501082267, 15.818201510472456, 0.1946079291286258, -12.282724244828659, 12.03770521133663, -9.70913991885881, -6.276861588331357, -2.037091217548744, 17.648739424903866, 15.961095068883026, -8.251288539708963, 22.861644704948795, -0.650277529595947, 16.784290480443037, -8.789807883312967, 6.386468805804347, -9.693035515203695, 14.40191837858347, 0.19743760499292615, -9.524918530954126, 9.69594772263724, 4.336845023352551, 4.1238774037535855, 8.994251071111767, -3.89343666786434, 3.633889441155145, -4.49010463519065, -3.0574052926873168, -3.9942788041907966, -11.9371181780235, -12.22913520462673, -14.20749956660355, 21.343240676032885, -2.145941923729738, -4.115108658820443, -2.649758668278761, -5.642561618145792, 1.6314328133511227, -11.374265628812582, -10.951186444881111, 4.8585349145310275, 0.9584310815144987, -0.3323525917471613, -5.421494119285956, -7.675936403754542, -6.118822833461815, 9.968654135615916, -8.132001641764596, -2.598620309565293, -8.135352897041173, -10.060976917256173, 26.61388109216021, -14.55162673095191, 1.737834772075095, -11.624353019133812, 16.482277935338338, -4.10007918674099, -4.314520665795191, -13.597853096244176, 1.0690802853526877, 11.684539261819353, 6.460606646172445, -8.134589330124241, -2.1769282335908104, 12.499659502722203, -7.456375126214642, -14.513818075980398, -8.437855881445058, 3.5316761339416605, 1.0282857263228702, -11.105782551939999, -15.764361189568449, -14.214486288247087, -21.666282441898044, -3.7812974553141463, 2.7753260123184185, -22.23006532020456, -4.666210266571812, 9.804081122660314, -21.635441888534324, -3.719387674337624, -6.840181672988786, 0.3542613580638631, 0.86823594499202, -17.60668153558321, 1.1885921795389378, 0.12355004695249314, -5.498910226886621, -22.24882797817046, 19.243018543040975, 13.775037925686062, -16.058594007508056, -10.857152692875, 6.26024238378247, 11.004420020962973, 23.187471871265252, -6.869554333096276, 7.827948272347415, -0.9710506932335435, 4.5498580159744275, -6.936975524410435, -4.178828377239619, -21.66050735723446, -7.993453839826556, 15.31612456394029, 20.497883023692086, -9.231832327444184, 18.056502801826536, 2.969777419232883, -1.1148719571442773, -5.969633912373017, -5.284988071285399, 6.996040089553035, -9.839476822604071, -25.90406725771625, 12.931645343385265, -5.168495121252527, -8.793552882380451, 1.1186502637221805, 1.7576838294799435, 18.279843952184343, 11.237265826393173, 0.7440175119432724, 17.363066273977545, -8.458279297743658, 4.810262710621433, -0.6206802714808969, -1.3409462278011064, 4.0264660030071555, -2.8775318386251767, 27.71109017087716, -3.237089300701838, -13.55034353844857, -4.1905257421946995, -3.0285563911500266, -2.6217831935853138, 14.054492451364757, 3.042573511108615, -12.061526653278605, -12.672920227758187, 10.17195162204307, -5.048274219980281, 20.318215485053095, 15.932406563792414, 16.092078541736203, -11.867433612697123, -2.9267550033456025, 23.543051000247427, 18.260442899360005, 0.5115639123625563, -16.77884435937252, 3.0612071621772436, -13.062529672830903, -2.6196699503190795, 12.892042037668816, -2.5155205049558336, -3.2332278995272494, 14.629426494022288, -1.4415336636172962, -15.795967844431573, -2.531899542922042, 16.178943178510544, 5.855033464844633, -18.200014112596648, 23.811937904821917, -3.6036470645948717, 6.2466082866865165, -8.829808068368294, 2.870204962510149, -6.343582724486685, -8.626380670076365, -10.281206815817118, -19.093613956994027, 7.116782787890965, -4.004447115428969, -7.057927554372101, 8.72768994182534, 19.896062548874408, -7.213442457637432, -12.657637863494822, -10.24732203611828, -10.982144838244391, 10.336805146092983, 12.738194065844988, 5.921471982304684, 13.068320195344207, -6.4798013744421965, -13.068909628783986, 2.6564658126189005, 22.24866640418059, -10.183540863187767, -4.540264193228097, 10.975818763383566, -10.780427607476698, 9.729648823822702, 17.4112390745857, -10.092527779406437, -10.932910177474879, 27.576819420391427, 1.5855766353099892, 19.805896106989557, 5.602403146411092, -18.284301690747803, -0.5750115716532234, 20.95395893417553, -2.972754011323705, 2.479995719866456, 8.002804999913788, -0.4406015283799626, 17.034380805730592, -5.79458369334063, 4.72739223616671, 13.063310987342902, -1.4922618863959711, 2.6139874695270064, 0.14137617172360337, 7.036793857558613, -14.031908539070722, -3.550568787053334, -17.188935256530115, 10.890517366019578, 21.79831405694219, 14.919880824574328, 15.938845642385928, 1.824338811198973, 2.9060697612820583, -5.419690432172111, 8.96953457786559, -10.162536489627936, 17.755444423827534, -0.4985631625982424, -6.2332465383757025, 7.686068897232541, -2.9890688716275777, -11.491488404326947, 14.600972081447535, -7.745206925110828, -6.402651514811914, 1.898533458257342, 8.688912450996986, 7.385854842519424, -0.8404609090517772, 10.671439891498181, -7.830381619618727, -4.429482991017259, 22.3733264524275, -10.047883159969933, -8.966852903809796, -2.6416896541253596, 17.546867304850796, -7.368615789635432, -5.771879005224931, 7.292782326493874, 1.713289277791456, -8.883815851467874, 2.6673874805504627, -6.90924009905144, 1.219477673524556, -1.7342080218853666, -7.282124062931468, -6.888691919433959, 8.80296630103218, -2.2117044573591818, -3.972463233308239, 5.255739095728857, 9.459565874017402, 2.2770462269518443, -5.676140950547575, -8.896426048946948, 6.433660379046904, -4.595239341210375, 11.37248552898518, -10.159071993761248, 1.4271299193002172, -8.111315232105593, -8.340268356078228, -1.7144942499382727, -10.390904896849428, 21.61274225420881, 17.120182475911417, -0.22528293572410868, -21.404621690626183, -10.924529650159275, 4.406615633465945, 4.589697662803652, -17.36112655380684, 0.18436485431202518, 14.231977352437896, 8.59277298333523, 27.899065367410092, 5.3728970958985585, 19.227856079042773, -8.067532277269025, -5.454315498318848, -4.303291921399069, 15.921700995610783, -12.354779018904994, -0.41869383477781, -3.5440868893160027, -4.5891131856775305, 17.11492329814904, 11.498302561952608, 0.7933502173695477, -0.43745564218629657, 10.363235228721344, -23.986166461819273, -10.742071485024876, 0.3459300297046089, 4.083115983793922, -19.339876970685204, 11.455364146167888, 28.550713260985148, -9.042071833634292, -15.926495402493858, -2.8670199331556687, 12.352621495030682, -11.467044279979318, -4.3954658996481495, 17.666349714044387, -17.773465016765883, -17.84426801963635, -23.393540429178834, -9.249164388930579, -7.044882179741809, -8.062899981926, -6.585008443216897, -4.644351763445671, 6.723361346289159, -5.34819026787373, 12.69085613699236, -8.22124761338987, -13.51835708290244, -6.140697353306171, -5.012844996924399, -12.75965986014859, -5.017337078968982, -10.537118555896154, -5.210770795187767, -3.365988711930822, 28.531529934064526, 3.633249622929877, 9.589673394971634, 5.001324278445219, -14.191777524489599, 12.851033575912155, 2.2973896799197155, 15.845867738762745, 2.018101915280243, 5.805650174928871, -6.142265987186381, 23.287104511781305, 5.48254908588148, -7.760024122941646, -5.872344599064766, 10.6586426314188, 6.90792494346401, -4.61101630107714, -16.044075698810673, 9.299245074856405, 5.322330473421931, -8.34928065504201, -13.325432186371293, 18.8346668375899, 5.455980472538278, -12.515496503776113, 20.51485530127712, 20.003518592146683, -13.940591212224426, 9.286816945497916, -3.80723525903693, 8.54762332339996, -17.876718637771837, -9.36423819157629, 0.9126895634467183, 0.28514671597670244, -5.80033674443588, -0.24643811668319737, -5.1341876568758105, -15.088909733032075, -6.563238233746947, -9.522347894471379, 1.5739029051920803, 0.14059101029168675, 16.362712969155133, 0.5334981482906995, -21.286326248263535, -4.804689835607439, 3.020521227844404, -11.76124309854463, -20.665363961794267, -9.37077592044732, -6.793241860569152, -16.13575780074364, -9.44217503102905, 1.7040891179438922, 24.634555953490487, -10.988226035222954, -5.029387506555427, -6.449532951306163, 0.25188133993908135, -2.18967736000611, 5.779332608573895, 13.799648274494851, -11.902907983185857, -2.9131266139881986, 16.459541641174226, -1.7025561455170313, -3.426950602242867, -8.591666392549188, 11.48557324228966, -3.6015145919417044, 0.04319082405874239, -6.011046497312423, -19.08110976264253, -18.251319266653276, 16.882574911171922, 8.696530968478637, 3.7272721268101336, 6.411251897085974]}],\n",
              "                        {\"coloraxis\": {\"colorbar\": {\"title\": {\"text\": \"label\"}}, \"colorscale\": [[0.0, \"#0d0887\"], [0.1111111111111111, \"#46039f\"], [0.2222222222222222, \"#7201a8\"], [0.3333333333333333, \"#9c179e\"], [0.4444444444444444, \"#bd3786\"], [0.5555555555555556, \"#d8576b\"], [0.6666666666666666, \"#ed7953\"], [0.7777777777777778, \"#fb9f3a\"], [0.8888888888888888, \"#fdca26\"], [1.0, \"#f0f921\"]]}, \"height\": 600, \"legend\": {\"tracegroupgap\": 0}, \"margin\": {\"t\": 60}, \"scene\": {\"domain\": {\"x\": [0.0, 0.98], \"y\": [0.0, 1.0]}, \"xaxis\": {\"title\": {\"text\": \"PCA_1\"}}, \"yaxis\": {\"title\": {\"text\": \"PCA_2\"}}, \"zaxis\": {\"title\": {\"text\": \"PCA_3\"}}}, \"template\": {\"data\": {\"bar\": [{\"error_x\": {\"color\": \"#2a3f5f\"}, \"error_y\": {\"color\": \"#2a3f5f\"}, \"marker\": {\"line\": {\"color\": \"#E5ECF6\", \"width\": 0.5}}, \"type\": \"bar\"}], \"barpolar\": [{\"marker\": {\"line\": {\"color\": \"#E5ECF6\", \"width\": 0.5}}, \"type\": \"barpolar\"}], \"carpet\": [{\"aaxis\": {\"endlinecolor\": \"#2a3f5f\", \"gridcolor\": \"white\", \"linecolor\": \"white\", \"minorgridcolor\": \"white\", \"startlinecolor\": \"#2a3f5f\"}, \"baxis\": {\"endlinecolor\": \"#2a3f5f\", \"gridcolor\": \"white\", \"linecolor\": \"white\", \"minorgridcolor\": \"white\", \"startlinecolor\": \"#2a3f5f\"}, \"type\": \"carpet\"}], \"choropleth\": [{\"colorbar\": {\"outlinewidth\": 0, \"ticks\": \"\"}, \"type\": \"choropleth\"}], \"contour\": [{\"colorbar\": {\"outlinewidth\": 0, \"ticks\": \"\"}, \"colorscale\": [[0.0, \"#0d0887\"], [0.1111111111111111, \"#46039f\"], [0.2222222222222222, \"#7201a8\"], [0.3333333333333333, \"#9c179e\"], [0.4444444444444444, \"#bd3786\"], [0.5555555555555556, \"#d8576b\"], [0.6666666666666666, \"#ed7953\"], [0.7777777777777778, \"#fb9f3a\"], [0.8888888888888888, \"#fdca26\"], [1.0, \"#f0f921\"]], \"type\": \"contour\"}], \"contourcarpet\": [{\"colorbar\": {\"outlinewidth\": 0, \"ticks\": \"\"}, \"type\": \"contourcarpet\"}], \"heatmap\": [{\"colorbar\": {\"outlinewidth\": 0, \"ticks\": \"\"}, \"colorscale\": [[0.0, \"#0d0887\"], [0.1111111111111111, \"#46039f\"], [0.2222222222222222, \"#7201a8\"], [0.3333333333333333, \"#9c179e\"], [0.4444444444444444, \"#bd3786\"], [0.5555555555555556, \"#d8576b\"], [0.6666666666666666, \"#ed7953\"], [0.7777777777777778, \"#fb9f3a\"], [0.8888888888888888, \"#fdca26\"], [1.0, \"#f0f921\"]], \"type\": \"heatmap\"}], \"heatmapgl\": [{\"colorbar\": {\"outlinewidth\": 0, \"ticks\": \"\"}, \"colorscale\": [[0.0, \"#0d0887\"], [0.1111111111111111, \"#46039f\"], [0.2222222222222222, \"#7201a8\"], [0.3333333333333333, \"#9c179e\"], [0.4444444444444444, \"#bd3786\"], [0.5555555555555556, \"#d8576b\"], [0.6666666666666666, \"#ed7953\"], [0.7777777777777778, \"#fb9f3a\"], [0.8888888888888888, \"#fdca26\"], [1.0, \"#f0f921\"]], \"type\": \"heatmapgl\"}], \"histogram\": [{\"marker\": {\"colorbar\": {\"outlinewidth\": 0, \"ticks\": \"\"}}, \"type\": \"histogram\"}], \"histogram2d\": [{\"colorbar\": {\"outlinewidth\": 0, \"ticks\": \"\"}, \"colorscale\": [[0.0, \"#0d0887\"], [0.1111111111111111, \"#46039f\"], [0.2222222222222222, \"#7201a8\"], [0.3333333333333333, \"#9c179e\"], [0.4444444444444444, \"#bd3786\"], [0.5555555555555556, \"#d8576b\"], [0.6666666666666666, \"#ed7953\"], [0.7777777777777778, \"#fb9f3a\"], [0.8888888888888888, \"#fdca26\"], [1.0, \"#f0f921\"]], \"type\": \"histogram2d\"}], \"histogram2dcontour\": [{\"colorbar\": {\"outlinewidth\": 0, \"ticks\": \"\"}, \"colorscale\": [[0.0, \"#0d0887\"], [0.1111111111111111, \"#46039f\"], [0.2222222222222222, \"#7201a8\"], [0.3333333333333333, \"#9c179e\"], [0.4444444444444444, \"#bd3786\"], [0.5555555555555556, \"#d8576b\"], [0.6666666666666666, \"#ed7953\"], [0.7777777777777778, \"#fb9f3a\"], [0.8888888888888888, \"#fdca26\"], [1.0, \"#f0f921\"]], \"type\": \"histogram2dcontour\"}], \"mesh3d\": [{\"colorbar\": {\"outlinewidth\": 0, \"ticks\": \"\"}, \"type\": \"mesh3d\"}], \"parcoords\": [{\"line\": {\"colorbar\": {\"outlinewidth\": 0, \"ticks\": \"\"}}, \"type\": \"parcoords\"}], \"scatter\": [{\"marker\": {\"colorbar\": {\"outlinewidth\": 0, \"ticks\": \"\"}}, \"type\": \"scatter\"}], \"scatter3d\": [{\"line\": {\"colorbar\": {\"outlinewidth\": 0, \"ticks\": \"\"}}, \"marker\": {\"colorbar\": {\"outlinewidth\": 0, \"ticks\": \"\"}}, \"type\": \"scatter3d\"}], \"scattercarpet\": [{\"marker\": {\"colorbar\": {\"outlinewidth\": 0, \"ticks\": \"\"}}, \"type\": \"scattercarpet\"}], \"scattergeo\": [{\"marker\": {\"colorbar\": {\"outlinewidth\": 0, \"ticks\": \"\"}}, \"type\": \"scattergeo\"}], \"scattergl\": [{\"marker\": {\"colorbar\": {\"outlinewidth\": 0, \"ticks\": \"\"}}, \"type\": \"scattergl\"}], \"scattermapbox\": [{\"marker\": {\"colorbar\": {\"outlinewidth\": 0, \"ticks\": \"\"}}, \"type\": \"scattermapbox\"}], \"scatterpolar\": [{\"marker\": {\"colorbar\": {\"outlinewidth\": 0, \"ticks\": \"\"}}, \"type\": \"scatterpolar\"}], \"scatterpolargl\": [{\"marker\": {\"colorbar\": {\"outlinewidth\": 0, \"ticks\": \"\"}}, \"type\": \"scatterpolargl\"}], \"scatterternary\": [{\"marker\": {\"colorbar\": {\"outlinewidth\": 0, \"ticks\": \"\"}}, \"type\": \"scatterternary\"}], \"surface\": [{\"colorbar\": {\"outlinewidth\": 0, \"ticks\": \"\"}, \"colorscale\": [[0.0, \"#0d0887\"], [0.1111111111111111, \"#46039f\"], [0.2222222222222222, \"#7201a8\"], [0.3333333333333333, \"#9c179e\"], [0.4444444444444444, \"#bd3786\"], [0.5555555555555556, \"#d8576b\"], [0.6666666666666666, \"#ed7953\"], [0.7777777777777778, \"#fb9f3a\"], [0.8888888888888888, \"#fdca26\"], [1.0, \"#f0f921\"]], \"type\": \"surface\"}], \"table\": [{\"cells\": {\"fill\": {\"color\": \"#EBF0F8\"}, \"line\": {\"color\": \"white\"}}, \"header\": {\"fill\": {\"color\": \"#C8D4E3\"}, \"line\": {\"color\": \"white\"}}, \"type\": \"table\"}]}, \"layout\": {\"annotationdefaults\": {\"arrowcolor\": \"#2a3f5f\", \"arrowhead\": 0, \"arrowwidth\": 1}, \"colorscale\": {\"diverging\": [[0, \"#8e0152\"], [0.1, \"#c51b7d\"], [0.2, \"#de77ae\"], [0.3, \"#f1b6da\"], [0.4, \"#fde0ef\"], [0.5, \"#f7f7f7\"], [0.6, \"#e6f5d0\"], [0.7, \"#b8e186\"], [0.8, \"#7fbc41\"], [0.9, \"#4d9221\"], [1, \"#276419\"]], \"sequential\": [[0.0, \"#0d0887\"], [0.1111111111111111, \"#46039f\"], [0.2222222222222222, \"#7201a8\"], [0.3333333333333333, \"#9c179e\"], [0.4444444444444444, \"#bd3786\"], [0.5555555555555556, \"#d8576b\"], [0.6666666666666666, \"#ed7953\"], [0.7777777777777778, \"#fb9f3a\"], [0.8888888888888888, \"#fdca26\"], [1.0, \"#f0f921\"]], \"sequentialminus\": [[0.0, \"#0d0887\"], [0.1111111111111111, \"#46039f\"], [0.2222222222222222, \"#7201a8\"], [0.3333333333333333, \"#9c179e\"], [0.4444444444444444, \"#bd3786\"], [0.5555555555555556, \"#d8576b\"], [0.6666666666666666, \"#ed7953\"], [0.7777777777777778, \"#fb9f3a\"], [0.8888888888888888, \"#fdca26\"], [1.0, \"#f0f921\"]]}, \"colorway\": [\"#636efa\", \"#EF553B\", \"#00cc96\", \"#ab63fa\", \"#FFA15A\", \"#19d3f3\", \"#FF6692\", \"#B6E880\", \"#FF97FF\", \"#FECB52\"], \"font\": {\"color\": \"#2a3f5f\"}, \"geo\": {\"bgcolor\": \"white\", \"lakecolor\": \"white\", \"landcolor\": \"#E5ECF6\", \"showlakes\": true, \"showland\": true, \"subunitcolor\": \"white\"}, \"hoverlabel\": {\"align\": \"left\"}, \"hovermode\": \"closest\", \"mapbox\": {\"style\": \"light\"}, \"paper_bgcolor\": \"white\", \"plot_bgcolor\": \"#E5ECF6\", \"polar\": {\"angularaxis\": {\"gridcolor\": \"white\", \"linecolor\": \"white\", \"ticks\": \"\"}, \"bgcolor\": \"#E5ECF6\", \"radialaxis\": {\"gridcolor\": \"white\", \"linecolor\": \"white\", \"ticks\": \"\"}}, \"scene\": {\"xaxis\": {\"backgroundcolor\": \"#E5ECF6\", \"gridcolor\": \"white\", \"gridwidth\": 2, \"linecolor\": \"white\", \"showbackground\": true, \"ticks\": \"\", \"zerolinecolor\": \"white\"}, \"yaxis\": {\"backgroundcolor\": \"#E5ECF6\", \"gridcolor\": \"white\", \"gridwidth\": 2, \"linecolor\": \"white\", \"showbackground\": true, \"ticks\": \"\", \"zerolinecolor\": \"white\"}, \"zaxis\": {\"backgroundcolor\": \"#E5ECF6\", \"gridcolor\": \"white\", \"gridwidth\": 2, \"linecolor\": \"white\", \"showbackground\": true, \"ticks\": \"\", \"zerolinecolor\": \"white\"}}, \"shapedefaults\": {\"line\": {\"color\": \"#2a3f5f\"}}, \"ternary\": {\"aaxis\": {\"gridcolor\": \"white\", \"linecolor\": \"white\", \"ticks\": \"\"}, \"baxis\": {\"gridcolor\": \"white\", \"linecolor\": \"white\", \"ticks\": \"\"}, \"bgcolor\": \"#E5ECF6\", \"caxis\": {\"gridcolor\": \"white\", \"linecolor\": \"white\", \"ticks\": \"\"}}, \"title\": {\"x\": 0.05}, \"xaxis\": {\"automargin\": true, \"gridcolor\": \"white\", \"linecolor\": \"white\", \"ticks\": \"\", \"zerolinecolor\": \"white\", \"zerolinewidth\": 2}, \"yaxis\": {\"automargin\": true, \"gridcolor\": \"white\", \"linecolor\": \"white\", \"ticks\": \"\", \"zerolinecolor\": \"white\", \"zerolinewidth\": 2}}}},\n",
              "                        {\"responsive\": true}\n",
              "                    ).then(function(){\n",
              "                            \n",
              "var gd = document.getElementById('65ed6727-8048-4bf1-b138-436d8a46b637');\n",
              "var x = new MutationObserver(function (mutations, observer) {{\n",
              "        var display = window.getComputedStyle(gd).display;\n",
              "        if (!display || display === 'none') {{\n",
              "            console.log([gd, 'removed!']);\n",
              "            Plotly.purge(gd);\n",
              "            observer.disconnect();\n",
              "        }}\n",
              "}});\n",
              "\n",
              "// Listen for the removal of the full notebook cells\n",
              "var notebookContainer = gd.closest('#notebook-container');\n",
              "if (notebookContainer) {{\n",
              "    x.observe(notebookContainer, {childList: true});\n",
              "}}\n",
              "\n",
              "// Listen for the clearing of the current output cell\n",
              "var outputEl = gd.closest('.output');\n",
              "if (outputEl) {{\n",
              "    x.observe(outputEl, {childList: true});\n",
              "}}\n",
              "\n",
              "                        })\n",
              "                };\n",
              "                \n",
              "            </script>\n",
              "        </div>\n",
              "</body>\n",
              "</html>"
            ]
          },
          "metadata": {}
        }
      ]
    },
    {
      "cell_type": "code",
      "metadata": {
        "id": "i8ZbZ3nDtOiP",
        "colab": {
          "base_uri": "https://localhost:8080/",
          "height": 617
        },
        "outputId": "41b4ca56-a1e3-4b6e-cc51-679231f3e62d"
      },
      "source": [
        "# Plot a 3d scatter plot of predeictions refering the above link \n",
        "# PLOTTING CODE HERE\n",
        "px.scatter_3d(df, x='PCA_1',y='PCA_2',z='PCA_3', color='pred')\n",
        "\n",
        "# DISPLAY THE PLOT USING SHOW METHOD HERE"
      ],
      "execution_count": 41,
      "outputs": [
        {
          "output_type": "display_data",
          "data": {
            "text/html": [
              "<html>\n",
              "<head><meta charset=\"utf-8\" /></head>\n",
              "<body>\n",
              "    <div>\n",
              "            <script src=\"https://cdnjs.cloudflare.com/ajax/libs/mathjax/2.7.5/MathJax.js?config=TeX-AMS-MML_SVG\"></script><script type=\"text/javascript\">if (window.MathJax) {MathJax.Hub.Config({SVG: {font: \"STIX-Web\"}});}</script>\n",
              "                <script type=\"text/javascript\">window.PlotlyConfig = {MathJaxConfig: 'local'};</script>\n",
              "        <script src=\"https://cdn.plot.ly/plotly-latest.min.js\"></script>    \n",
              "            <div id=\"a8b0b1c7-0ea7-44ec-917a-61b74411e68b\" class=\"plotly-graph-div\" style=\"height:600px; width:100%;\"></div>\n",
              "            <script type=\"text/javascript\">\n",
              "                \n",
              "                    window.PLOTLYENV=window.PLOTLYENV || {};\n",
              "                    \n",
              "                if (document.getElementById(\"a8b0b1c7-0ea7-44ec-917a-61b74411e68b\")) {\n",
              "                    Plotly.newPlot(\n",
              "                        'a8b0b1c7-0ea7-44ec-917a-61b74411e68b',\n",
              "                        [{\"hoverlabel\": {\"namelength\": 0}, \"hovertemplate\": \"PCA_1=%{x}<br>PCA_2=%{y}<br>PCA_3=%{z}<br>pred=%{marker.color}\", \"legendgroup\": \"\", \"marker\": {\"color\": [6, 9, 3, 7, 2, 2, 5, 3, 5, 2, 8, 1, 4, 0, 4, 2, 3, 7, 9, 9, 4, 3, 9, 7, 5, 6, 3, 5, 6, 3, 4, 9, 2, 4, 4, 6, 9, 4, 7, 6, 6, 9, 8, 3, 6, 1, 3, 0, 6, 5, 5, 8, 9, 5, 6, 0, 9, 0, 0, 1, 0, 4, 5, 2, 4, 9, 7, 0, 7, 9, 9, 9, 9, 7, 7, 0, 4, 5, 9, 9, 9, 0, 2, 3, 9, 0, 6, 4, 4, 3, 8, 2, 8, 3, 9, 2, 9, 0, 4, 7, 4, 3, 5, 3, 1, 8, 5, 1, 4, 2, 7, 7, 4, 4, 1, 9, 8, 7, 9, 7, 2, 6, 9, 4, 0, 7, 2, 7, 5, 8, 7, 5, 7, 7, 0, 6, 6, 4, 2, 8, 0, 9, 4, 6, 9, 1, 6, 9, 0, 9, 9, 6, 6, 0, 6, 4, 9, 9, 3, 7, 7, 2, 9, 0, 4, 5, 3, 6, 5, 7, 9, 8, 4, 2, 8, 3, 7, 7, 2, 2, 3, 9, 9, 0, 3, 2, 3, 5, 6, 9, 9, 4, 8, 5, 4, 2, 3, 6, 4, 8, 9, 9, 5, 7, 8, 9, 4, 8, 8, 5, 4, 4, 9, 6, 8, 9, 6, 0, 4, 5, 2, 7, 1, 6, 4, 5, 6, 0, 3, 2, 3, 6, 7, 1, 9, 2, 4, 7, 6, 5, 8, 9, 5, 8, 0, 2, 8, 8, 7, 5, 7, 6, 2, 2, 2, 3, 4, 9, 8, 3, 6, 0, 9, 7, 7, 0, 8, 0, 4, 9, 8, 5, 3, 6, 0, 4, 2, 0, 0, 3, 6, 9, 9, 7, 3, 5, 9, 9, 9, 8, 5, 3, 3, 8, 0, 5, 8, 3, 4, 0, 2, 4, 6, 4, 3, 4, 9, 0, 5, 2, 2, 3, 1, 4, 8, 8, 7, 0, 8, 5, 2, 8, 2, 9, 7, 0, 6, 4, 8, 8, 5, 8, 8, 4, 5, 8, 7, 9, 8, 6, 0, 6, 2, 0, 7, 9, 8, 9, 5, 2, 7, 7, 1, 9, 7, 4, 3, 7, 3, 9, 6, 0, 0, 3, 0, 5, 0, 0, 4, 1, 2, 3, 8, 5, 5, 6, 3, 8, 9, 8, 4, 2, 3, 9, 9, 9, 8, 5, 0, 6, 3, 3, 7, 8, 6, 4, 2, 2, 1, 8, 6, 4, 7, 4, 5, 3, 4, 0, 5, 1, 3, 4, 5, 7, 6, 9, 7, 0, 5, 9, 7, 5, 9, 7, 4, 8, 2, 9, 0, 7, 5, 8, 3, 6, 3, 9, 6, 9, 9, 0, 8, 9, 5, 9, 3, 7, 6, 2, 6, 5], \"coloraxis\": \"coloraxis\", \"symbol\": \"circle\"}, \"mode\": \"markers\", \"name\": \"\", \"scene\": \"scene\", \"showlegend\": false, \"type\": \"scatter3d\", \"x\": [-9.977773241197527, 13.126042766767485, 23.132494898914942, -6.250089461150256, 12.31308316476653, 1.6229142337013458, -7.310002858656884, 7.694263674456252, -6.443429187741363, 7.505409718346384, 0.05683267207248308, -10.269108045537315, -16.708099568082456, 5.1271388387778325, -29.652821023906665, 8.175033675435143, 21.215678803790933, -6.422618022567153, 8.652761267758263, 5.465464274735152, -21.352418036722042, 19.83833769687525, 14.543942217191288, -4.508508564447526, -10.779251819128296, -12.551384580445498, 19.093345513138175, -4.679477584767338, -6.6267789993052135, 21.524226628193095, -23.867264005310563, 17.323590618119997, 6.89543765857027, -27.102261941355128, -19.703311020147176, -10.756875280445781, 21.32872904604915, -27.16869095349532, 2.36789278188687, -16.115783819080434, -10.156799549302088, 16.325864998977526, -14.498961169314548, 21.76049683275921, -17.30843611427872, -2.0336625835957944, 20.441741984085134, 5.078592884114145, -6.20571252171547, 4.687680210902385, 0.2779075381858467, -9.523998917723883, 14.03649948982623, -2.7894319014339906, -8.276463019109332, 4.23545797090208, 18.27650880610017, -9.29619222086495, 7.475289179648282, -8.765988146075824, 0.5883867599896427, -27.087047592159195, -1.4607296952618476, 6.792451528118393, -27.76258772141602, 15.497296498828252, -5.6885224682767594, 1.0323373751804406, -1.540720813429571, 0.8000667028958308, 10.413856513722829, 16.96876739321768, 3.2784376716759374, -14.3146563150112, 0.6290576216581281, -0.752480745888693, -13.13915410870967, -9.985905257421798, 14.38730917112683, 26.51682097367113, 17.051617257463686, 1.3391694254333462, 11.439979700049317, 16.136058928187946, 6.4374736683962235, 3.3028079013941127, -12.043324676124664, -27.0826698136016, -28.71848639476115, 17.791908745297846, -6.961900644329153, 11.939235530571427, -0.7706302257830494, 20.02926847055723, 17.40041339966537, 7.71128351555494, 20.658147716135286, -13.496582992618123, -19.506544789705735, -14.444442866762557, -22.97359904897026, 27.959231507169292, 2.6654209961457203, 14.755570754855398, -2.028807624625605, 4.763695491018758, -10.288426506647525, -11.329550364604076, -22.091897698413337, 10.124396338555703, -3.0036170033140768, -6.967130581910122, -21.403394674058113, -29.150341744195515, -12.511412008162145, 23.712014449465656, -3.5961879934353482, 3.1890213850571403, 3.371957471066896, -10.071117328493498, 18.294607502467148, -10.701437876218789, 11.279402000561367, -14.39807955910107, 3.998208109341347, -1.1603826813458793, 12.791573724643827, -5.136734049619313, -2.990083137697596, -4.855475656325387, -0.5739857418015013, 9.03143097590804, -0.9576984953616703, -2.376308761503457, -0.5676041981290341, -9.830302416042995, -10.4043691931224, -24.813663120983147, 5.901529528306663, -4.574038297466804, 0.12889821386256872, 22.346669291754797, -24.691399202118603, -5.003492305840524, 5.176569944990724, -2.3881292312584006, -6.437082484003281, 21.452713495249412, 3.0537064377759853, 3.568804832717323, 9.544428225007717, -12.166977703809687, -14.16507385383728, 7.263519554735855, -12.988484215521597, -20.98097094787677, 15.7147463359084, 21.79195115360542, 22.715315495166777, 4.269933272242118, -8.922773025163155, 12.127260463104511, 24.776823452381667, -6.644533088101303, -16.906658355248524, -5.480471456966132, 6.88858930912699, -9.560440638852967, -11.386706742719992, -1.1107411668749643, 10.567220452527058, -4.476257429316312, -26.964842666078972, 11.55167737428187, -12.35932787633197, 13.001193487548562, -2.9915895537763677, 1.0861120417253307, 11.241201424551472, 15.075634265291217, 22.772712954145103, 15.66644596271916, 4.399982695396679, 1.9174839825869994, 21.730049565186125, 13.28520312602211, 8.431699516013245, 6.621405433662001, -12.799911158480182, 23.604057281667455, 18.84748408686972, -22.7826501270249, -20.57917040109601, -6.8715865349675775, -15.199185626239247, 12.394938306473737, 30.278125100574627, -7.424450753100943, -22.728583201735795, -4.201419648765334, 16.026836184183914, 21.40681892654335, 6.195335338804884, -5.848226688030238, -2.3524801400341095, 14.156110169701538, -27.150587175154392, 5.479466691639151, -8.506568011846209, 2.7077395744843162, -24.4647416044259, -27.50770365630847, 14.060904449554931, -4.7236431310419595, -10.3770739694918, 10.852003095463264, -8.739713284059746, -6.90863944209146, -18.741008253902347, -11.042597513141347, 15.814187415367895, -1.7452427976888567, -16.850439558438982, -13.612343668678811, -25.429288441936798, -1.8867672552423354, -13.363719690432204, -7.048790066966718, 24.75503545228472, 12.843993310156979, 18.18885348292491, -12.821426760823996, -1.320216755258525, 9.341081192414816, 16.655103507847965, 2.194469007852049, -27.776410005673135, -7.411761003939822, -8.750024256660224, 0.09098238912063526, 4.25745311905112, 12.233391298075945, -11.625111056256198, -9.13461938840318, -3.8553731308302135, 2.492882780490756, -5.906129406508642, 1.9619420367288778, -4.299792718275992, 2.342204330034397, -5.048989179265053, -7.02438029542511, 12.621655622342322, 13.224596545605662, 11.217977441836261, 18.698119527428144, -26.50362452034939, -0.885911680851128, 6.307328201623358, 14.717101006676884, -10.169703072709922, 1.8449886998170788, 9.455042908719014, 4.261016875478562, 5.415057825423738, -2.6851626980343863, -10.665957506668637, 1.4986774210207867, -27.391034871117927, 18.801045525642557, -12.222763275919517, -5.830779807052359, 19.46379583701438, -6.676334339365867, 3.7123180606756057, -21.740741552395313, 2.0929360841873357, 3.0321660568616724, 1.2298881586424484, 16.71765937402535, -13.265424834825575, 13.318082744086094, 16.654280757388136, -8.595101996107772, 14.388191565853287, -5.533134010095359, 19.123266232409215, 24.455228883718835, 25.9042926687455, -10.552650225979113, 2.8752159231591974, 21.037740794736088, 21.639215203429334, -7.0291664575468245, 7.144616257692206, -9.551300559144506, -1.7732422390164964, 22.45880805150226, -23.758603071877523, 1.334256913495461, 7.641115514123178, -18.814349595389015, -7.479657239389891, -27.23964282865465, 22.81941099636176, -22.242514389639965, 9.549542220344502, 5.459677354730774, -1.617625137110863, 10.630541420838293, 8.554576498151876, 25.942489542812638, -4.210697503462531, -25.999817676869398, -3.592378166633632, -17.382776632255812, -10.070481923597102, 1.4431461960675636, -16.72365931480801, 2.9471353669562417, 1.9405984496022297, -11.437721026302556, 4.625921083520525, 0.18196571515685206, -2.1241108237825896, 0.13130465484126086, -9.441717213356798, -21.09178891607439, -5.689437435966785, -1.7094775783104108, -1.6870025459994584, -7.608222680333634, -3.330914143307916, -23.37598816872043, 4.194640956774513, -1.4053762648305095, -10.73983357212398, 19.505383714387893, -2.5586673035561796, -6.346623214069355, 9.170473962909073, -10.797561356283031, 5.265671714383415, -4.324269918406321, -9.051557901065925, 16.85389130091132, -4.206373257353937, 20.075233812537206, -1.429382993689828, 5.658837044966352, -6.425767125742214, -13.724845909461783, 7.511795329459698, 7.565381818618708, 3.069945396043284, -28.85463609153927, 16.258264205334367, -3.7261447479444736, 21.595521186073416, 19.050593627405384, -7.884502443681717, 7.34840880322792, -8.106200359645305, 19.015116429222516, 7.501720068324059, 10.45094008672644, -13.523873710131781, 0.3389310698072811, -16.55669186822044, -1.362944479696817, 6.94410232007924, 10.63114062027255, -20.436663610247592, -2.4978302305812807, 3.599016552570236, -17.162245207308253, 23.853989910227998, -17.596933778500066, 6.093366496855568, -1.6054343414955219, -26.376637027324225, 14.513510631777315, 11.09692712096828, -4.52998843535819, 12.872330620805592, 11.474148968614086, 8.37997170552326, -8.986232340066218, 3.5319982528594323, -12.47760797191526, 19.77529587355656, 25.126030615645195, -7.807445852422577, -12.590523902483426, -10.72132780267417, -21.69273055965612, -6.813124697643847, 13.20991273311272, -4.411497078305728, -12.27829749430288, -6.97081905764017, -27.096424913166178, -9.66283936533508, -20.787506665828342, -3.8421687319031648, 24.156702352289297, -29.031985006280934, -2.6793967951003, 4.20585296489528, -0.4220325161377005, 22.07912432563163, -18.726591935922663, -3.976912068299785, -1.7954560926914684, -12.289878499852412, 20.576504838668843, -8.063889164174759, 13.14634547958246, -7.903222608992342, 18.379292729615287, -8.406443705680902, -11.849072696760823, 23.01937543064229, -7.311887424640094, -23.148991687367044, 8.636335913810612, 2.960826216301941, 26.330149481347462, -2.54525850139122, 2.729493069942719, -3.2884247280628633, 1.912532526191525, 25.199212597807662, -13.412880918993842, 25.00176217363252, 20.12410278641092, -14.890368327350776, 16.68929270950147, 15.93001651039299, 8.267100388790793, -8.905856575316239, 16.24953985945315, 5.710585169788164, 6.774870403298731, 12.920967406876974, 9.121286440347918, -10.298614102320249, 16.534829342102135, -8.693787219312759, -8.81736472972296], \"y\": [16.718601670752577, -1.0747991118951075, -2.592961428687264, -9.954296165605019, 1.199692525844726, -0.7918502143458532, -12.302126276381802, -8.293611144485515, -15.007597715256864, -14.32954033587113, -19.499669487424537, 2.5734862314271245, -7.05065073035039, 15.912331854873257, 11.007307258678175, -9.31015084516453, -4.893643937461095, -22.963709843851944, -2.743924087359242, -0.5670079939283145, 0.05045682785569107, -17.763766100871567, -0.6508178390586982, -17.569174368222626, -12.102667214838972, 20.741679957884653, 3.9032802693128916, -16.880466595598367, 22.72417579480864, 10.841930219460904, 13.126500171878805, 8.594430276835025, 1.2876153484703694, 13.751190376077327, 0.3913645264826657, 17.875213010258896, 8.077916215036488, 0.6916791615327558, -17.605290747075436, 17.66457680484184, 17.80965255812051, 5.963577622226756, -13.70001360970403, 4.514628214055757, 12.30003649100745, -12.448372891731655, -3.974623664452973, 18.862279110704964, 20.357732913936758, 2.57286708161961, -7.664656482684604, -13.70965006469379, 8.740280875985732, -9.825686678344402, 17.340095132831618, 22.14843909106614, 7.71123771724603, 9.777346099365927, 22.668942965914674, -9.726695580628155, 3.135863494306509, 3.6783589223656605, -2.774028967625571, -5.150222794870344, 3.965127318277862, 6.5467906638161155, -17.2162273587997, 17.964030097616405, -18.765381283661505, 8.971038088935716, 8.66068199179304, 11.784700444441809, 11.092721054822853, -6.024261416385122, -20.205701778885576, 21.33537957467829, 0.19566473098050344, -9.007508443226758, 12.652195781432201, 5.924344755211753, 7.8027009340720195, 16.889608346136836, -9.922728575346717, -11.023784825850964, 2.986371729067446, 20.328809165058956, 15.990312005769377, -0.6788552094777268, 3.1747320484110944, 2.253150963101929, -16.69655129862875, -6.7610606756124705, -3.6905294973805893, -7.69041893583614, 13.143415255554308, -1.9238640697810943, 4.811863775715909, 9.021484481253365, 3.7461963225574095, -3.928970591544741, -11.098120344357202, -4.591189387195046, -0.12523725921201284, -11.406555903669847, -7.0322312226644215, -18.32178021684545, -15.4628137183644, -12.843257034644983, -0.9540816608238832, -6.275146113123442, -19.66264085105522, -19.096425436592376, -0.6793071543044464, 3.348628897641494, -9.894473975217185, 5.129373554184779, -5.271716571647084, -19.583815379106678, 7.892157945678283, -14.701250960923721, -11.246163641867682, 21.00852655958356, 3.223200685907743, 8.861711001149036, 20.657582809199035, -17.084027810179457, 1.8589429569045255, -15.036390352301382, -15.854627483422899, -0.413885763972238, -13.557601995501425, -8.507506949694381, -16.79753638834438, -7.3287293485778715, 15.149776358873739, 19.64304440256283, 18.306903805926265, 3.435326043021728, -8.207581925335678, -10.581331569376564, 20.026702665788203, 5.378639591341808, -6.84137667182179, 27.623671702447872, 5.17190739387071, 3.8073252602776027, 19.256909231177293, 9.302791484422295, 19.83170149975573, 7.352291405650019, 9.669359211332843, 19.30643819595477, 17.092904842811766, 21.30873424677857, 15.338171004899028, -0.5680702716413527, 3.750851740765465, 8.146571158614762, -2.713645794080978, -20.94006190287635, -17.810664205756154, -3.022352902995116, 8.225187222118384, 14.515114533386843, 16.407255336741887, -7.957858648837561, -14.962345057258654, 19.95701695005264, -13.290948788125752, -21.276920948033247, 9.66842277661753, -11.146804460080114, 5.019527204423423, -5.179982100211631, -18.475804861631467, 0.902831233565797, -22.874149898118038, -19.810767259331804, -11.204931735932789, -12.241450955267695, -3.6880602793498554, 7.983499437699681, 3.213085262091934, 22.158320492861183, -12.554785937224413, -11.8760479907962, -2.4263270773163703, -6.8989118959911035, 16.17449265296251, 6.495673126077476, 4.119431308807622, -0.18776567281809467, -13.794536744153989, -3.7716213905469917, 0.11812909081750085, -6.021149386614145, 6.3229887067922235, 16.107058199838512, -4.581323613341616, -6.876912291793255, 7.283898103486317, 4.153742257788718, -1.068849398354728, -19.141573385026007, -17.182754228616368, 5.16478627626714, -0.6182550743658941, -0.9779349203839711, -18.675393685292644, -8.940695184394752, 4.8260592669053155, 4.446206908660503, 6.331396903462887, 22.469867443888997, -15.570638756702646, -3.3739465368703545, 23.212837744921888, 20.847935085933475, -1.0148255034073106, -8.952069306803605, -9.071766965099615, -21.320934546501384, -4.728618120460215, 16.232497564224747, 13.904364859101936, -8.529490593060393, 18.932278870828597, 12.703990017720963, -0.6771400045259344, -7.10170310997298, -11.453295226013834, 18.02119660032977, -16.79581203261494, 7.215105579907841, 15.659491339517656, -0.764994885714665, -4.48940009173527, -17.786868984274182, 18.397727165311924, -12.945537967754223, -12.897764805586187, 11.005185720029626, -6.6361783434630786, -12.040286947657364, 19.709216513102017, -3.80400848740542, -12.92927825366888, -1.1206191357739628, -16.35664342356556, -23.33793818375481, -21.521172695231307, 12.029132972015518, -8.387333715021246, -11.764884639316305, -10.630051059085803, 1.7641940830299618, 6.1670886134885565, -5.492982830532143, -18.714936999870204, -11.431901126262188, 21.772604486849904, 23.187647262894938, 3.616278034103238, -17.536745859061188, -19.415655695705777, 18.245264056702997, -21.5969124961443, 16.382502439960547, 7.900141872110075, 13.308675898592732, -7.010009157330145, -10.126298520269644, -14.370172018276591, 21.50731670303731, 18.540645646794758, -3.580471055959816, -5.191113957995651, 18.115403166213884, 11.756799772575535, 9.66278018394525, 15.01729461529119, 5.918384643935405, 7.718540203250071, -17.247658207797745, -7.3028592060471, -1.0985950115267196, 11.796462760958192, 7.152765100367174, 10.319806221069145, -7.765843858252044, -10.647975243306762, 5.707525943318386, 0.40416797328014736, -4.848101475301908, 26.11784268893266, -10.35741986272586, -0.30085800317746464, -0.04904640848494942, -1.2927878346560169, 18.457023409023606, -5.299541165847355, -4.908505039604529, 14.667906019738815, 9.046962821446627, -1.768791254101572, -3.465818007046279, 8.937946026949808, 28.24033774221762, -0.6613809739965639, -11.154180249603588, 4.325882911886285, 0.03639125406162406, -8.529005237547263, 13.260727251509843, -21.319024127249143, -13.82637880240366, -13.657689249069001, 24.38634325880194, -7.3620267612998145, -19.727074065293866, -1.4476984298061335, -11.897017085647631, -11.47799156888203, -2.3801807283026255, -20.12693494884725, 27.336756056413403, 21.406168454457465, -4.314194215504307, -14.63032213874012, -6.300155327433318, 1.2025645818018513, -22.589954649674617, -13.641238251104483, -9.052777401520869, -5.757929427223437, -9.409425128274128, -5.063156968684327, 8.040527944735993, -5.979530280096365, 8.456189546234606, 13.608789519979103, 6.713298404796249, -3.73690219774951, 20.99399288797434, -6.6404793255351535, 11.926805552460408, -9.260199649377437, 12.404357180488375, -9.046071803597146, -4.555755732790028, -16.081100909675683, -14.62933113666637, 11.341747662421263, -0.08366642198601038, -23.526622694795932, 3.897185166614153, -6.130249503177081, -5.516291730464245, 11.196576051758667, 8.609419152015633, 24.94500303605359, 17.98235282360758, 19.351000699553083, -14.071899816199734, 19.825712684187998, -4.706192035606275, 16.672431742420198, 22.241779631620677, 0.8753564745742457, -8.20559472310909, 0.5559035070941537, -4.480690516127837, -7.112647191100569, -18.813609527565553, -13.772337471480707, 12.783377683759246, 6.26542923146257, -10.270936989681273, -3.001620678286881, -14.231348100226437, -2.9715664142834695, -2.777059445446115, -2.047337004629796, 5.393644606076468, 7.330677446328311, -0.01878328704829388, -16.94834621840374, -2.988735253851341, 12.267362882345497, 15.855523249143355, 3.9511112212087975, -4.178478661197113, -14.615700990625882, -17.253140782937905, 14.48501279937267, 2.2339433219120144, -2.0376015296523233, -9.637134830204044, -10.38617665360176, -15.576615317884007, 10.783429871695935, 7.727582493004053, -11.82594284218803, 8.411955517012814, -10.357891153107216, -3.1023386534276005, 11.905818880046308, 24.784868547576917, -8.598901598636328, -9.78892194851512, 9.087716974056168, 5.535534931559254, -13.951015466746382, -19.44139452970593, 17.061874601384623, 2.4074352080815333, -15.711335306887051, 19.83633091484151, -5.610829416729964, 9.272823310573317, -9.251539745544772, 0.17068070467665736, 6.652978068416514, -14.463865553411601, 13.202557221114253, -11.687240516953024, -4.573264398085709, 6.434530388655712, 15.482677118457957, -21.120143842838583, -14.653658925263152, -17.746477835914654, 0.261574207275858, 17.401870136719552, -0.25125030761599754, 7.983169591146546, 23.541888883214014, 8.7980713602445, 8.626017681163576, 19.619592743372223, -22.96446713191442, 6.314065097884204, -19.29885090866416, -5.450598448046513, -15.686175043700802, -14.9706699219854, 22.20328167027305, -11.74518280008222, 17.5443629321307, -13.047898641293894], \"z\": [13.98248961330649, -12.412679804103012, 6.870460812154649, -17.340447988474704, 25.628226921315502, 24.77241538562221, 1.0155805387168806, -2.791372379063491, 2.759380143572902, 11.372605894276028, 5.708478538588512, -21.45610408894206, 3.469843363321244, -7.7640672453201525, -9.430445515281026, 11.760291330707258, 1.7827433668665498, -18.22944352030173, -3.2885339224299406, 9.037626240508589, -5.3383984227288215, -7.922650515979285, -12.783913222555872, -3.4315097369199905, 6.619697357133446, 18.64179229516342, 5.394065187494244, 8.793563990775574, 11.947066561912882, 6.366546093315017, -3.1546460558669516, -4.809182501082267, 15.818201510472456, 0.1946079291286258, -12.282724244828659, 12.03770521133663, -9.70913991885881, -6.276861588331357, -2.037091217548744, 17.648739424903866, 15.961095068883026, -8.251288539708963, 22.861644704948795, -0.650277529595947, 16.784290480443037, -8.789807883312967, 6.386468805804347, -9.693035515203695, 14.40191837858347, 0.19743760499292615, -9.524918530954126, 9.69594772263724, 4.336845023352551, 4.1238774037535855, 8.994251071111767, -3.89343666786434, 3.633889441155145, -4.49010463519065, -3.0574052926873168, -3.9942788041907966, -11.9371181780235, -12.22913520462673, -14.20749956660355, 21.343240676032885, -2.145941923729738, -4.115108658820443, -2.649758668278761, -5.642561618145792, 1.6314328133511227, -11.374265628812582, -10.951186444881111, 4.8585349145310275, 0.9584310815144987, -0.3323525917471613, -5.421494119285956, -7.675936403754542, -6.118822833461815, 9.968654135615916, -8.132001641764596, -2.598620309565293, -8.135352897041173, -10.060976917256173, 26.61388109216021, -14.55162673095191, 1.737834772075095, -11.624353019133812, 16.482277935338338, -4.10007918674099, -4.314520665795191, -13.597853096244176, 1.0690802853526877, 11.684539261819353, 6.460606646172445, -8.134589330124241, -2.1769282335908104, 12.499659502722203, -7.456375126214642, -14.513818075980398, -8.437855881445058, 3.5316761339416605, 1.0282857263228702, -11.105782551939999, -15.764361189568449, -14.214486288247087, -21.666282441898044, -3.7812974553141463, 2.7753260123184185, -22.23006532020456, -4.666210266571812, 9.804081122660314, -21.635441888534324, -3.719387674337624, -6.840181672988786, 0.3542613580638631, 0.86823594499202, -17.60668153558321, 1.1885921795389378, 0.12355004695249314, -5.498910226886621, -22.24882797817046, 19.243018543040975, 13.775037925686062, -16.058594007508056, -10.857152692875, 6.26024238378247, 11.004420020962973, 23.187471871265252, -6.869554333096276, 7.827948272347415, -0.9710506932335435, 4.5498580159744275, -6.936975524410435, -4.178828377239619, -21.66050735723446, -7.993453839826556, 15.31612456394029, 20.497883023692086, -9.231832327444184, 18.056502801826536, 2.969777419232883, -1.1148719571442773, -5.969633912373017, -5.284988071285399, 6.996040089553035, -9.839476822604071, -25.90406725771625, 12.931645343385265, -5.168495121252527, -8.793552882380451, 1.1186502637221805, 1.7576838294799435, 18.279843952184343, 11.237265826393173, 0.7440175119432724, 17.363066273977545, -8.458279297743658, 4.810262710621433, -0.6206802714808969, -1.3409462278011064, 4.0264660030071555, -2.8775318386251767, 27.71109017087716, -3.237089300701838, -13.55034353844857, -4.1905257421946995, -3.0285563911500266, -2.6217831935853138, 14.054492451364757, 3.042573511108615, -12.061526653278605, -12.672920227758187, 10.17195162204307, -5.048274219980281, 20.318215485053095, 15.932406563792414, 16.092078541736203, -11.867433612697123, -2.9267550033456025, 23.543051000247427, 18.260442899360005, 0.5115639123625563, -16.77884435937252, 3.0612071621772436, -13.062529672830903, -2.6196699503190795, 12.892042037668816, -2.5155205049558336, -3.2332278995272494, 14.629426494022288, -1.4415336636172962, -15.795967844431573, -2.531899542922042, 16.178943178510544, 5.855033464844633, -18.200014112596648, 23.811937904821917, -3.6036470645948717, 6.2466082866865165, -8.829808068368294, 2.870204962510149, -6.343582724486685, -8.626380670076365, -10.281206815817118, -19.093613956994027, 7.116782787890965, -4.004447115428969, -7.057927554372101, 8.72768994182534, 19.896062548874408, -7.213442457637432, -12.657637863494822, -10.24732203611828, -10.982144838244391, 10.336805146092983, 12.738194065844988, 5.921471982304684, 13.068320195344207, -6.4798013744421965, -13.068909628783986, 2.6564658126189005, 22.24866640418059, -10.183540863187767, -4.540264193228097, 10.975818763383566, -10.780427607476698, 9.729648823822702, 17.4112390745857, -10.092527779406437, -10.932910177474879, 27.576819420391427, 1.5855766353099892, 19.805896106989557, 5.602403146411092, -18.284301690747803, -0.5750115716532234, 20.95395893417553, -2.972754011323705, 2.479995719866456, 8.002804999913788, -0.4406015283799626, 17.034380805730592, -5.79458369334063, 4.72739223616671, 13.063310987342902, -1.4922618863959711, 2.6139874695270064, 0.14137617172360337, 7.036793857558613, -14.031908539070722, -3.550568787053334, -17.188935256530115, 10.890517366019578, 21.79831405694219, 14.919880824574328, 15.938845642385928, 1.824338811198973, 2.9060697612820583, -5.419690432172111, 8.96953457786559, -10.162536489627936, 17.755444423827534, -0.4985631625982424, -6.2332465383757025, 7.686068897232541, -2.9890688716275777, -11.491488404326947, 14.600972081447535, -7.745206925110828, -6.402651514811914, 1.898533458257342, 8.688912450996986, 7.385854842519424, -0.8404609090517772, 10.671439891498181, -7.830381619618727, -4.429482991017259, 22.3733264524275, -10.047883159969933, -8.966852903809796, -2.6416896541253596, 17.546867304850796, -7.368615789635432, -5.771879005224931, 7.292782326493874, 1.713289277791456, -8.883815851467874, 2.6673874805504627, -6.90924009905144, 1.219477673524556, -1.7342080218853666, -7.282124062931468, -6.888691919433959, 8.80296630103218, -2.2117044573591818, -3.972463233308239, 5.255739095728857, 9.459565874017402, 2.2770462269518443, -5.676140950547575, -8.896426048946948, 6.433660379046904, -4.595239341210375, 11.37248552898518, -10.159071993761248, 1.4271299193002172, -8.111315232105593, -8.340268356078228, -1.7144942499382727, -10.390904896849428, 21.61274225420881, 17.120182475911417, -0.22528293572410868, -21.404621690626183, -10.924529650159275, 4.406615633465945, 4.589697662803652, -17.36112655380684, 0.18436485431202518, 14.231977352437896, 8.59277298333523, 27.899065367410092, 5.3728970958985585, 19.227856079042773, -8.067532277269025, -5.454315498318848, -4.303291921399069, 15.921700995610783, -12.354779018904994, -0.41869383477781, -3.5440868893160027, -4.5891131856775305, 17.11492329814904, 11.498302561952608, 0.7933502173695477, -0.43745564218629657, 10.363235228721344, -23.986166461819273, -10.742071485024876, 0.3459300297046089, 4.083115983793922, -19.339876970685204, 11.455364146167888, 28.550713260985148, -9.042071833634292, -15.926495402493858, -2.8670199331556687, 12.352621495030682, -11.467044279979318, -4.3954658996481495, 17.666349714044387, -17.773465016765883, -17.84426801963635, -23.393540429178834, -9.249164388930579, -7.044882179741809, -8.062899981926, -6.585008443216897, -4.644351763445671, 6.723361346289159, -5.34819026787373, 12.69085613699236, -8.22124761338987, -13.51835708290244, -6.140697353306171, -5.012844996924399, -12.75965986014859, -5.017337078968982, -10.537118555896154, -5.210770795187767, -3.365988711930822, 28.531529934064526, 3.633249622929877, 9.589673394971634, 5.001324278445219, -14.191777524489599, 12.851033575912155, 2.2973896799197155, 15.845867738762745, 2.018101915280243, 5.805650174928871, -6.142265987186381, 23.287104511781305, 5.48254908588148, -7.760024122941646, -5.872344599064766, 10.6586426314188, 6.90792494346401, -4.61101630107714, -16.044075698810673, 9.299245074856405, 5.322330473421931, -8.34928065504201, -13.325432186371293, 18.8346668375899, 5.455980472538278, -12.515496503776113, 20.51485530127712, 20.003518592146683, -13.940591212224426, 9.286816945497916, -3.80723525903693, 8.54762332339996, -17.876718637771837, -9.36423819157629, 0.9126895634467183, 0.28514671597670244, -5.80033674443588, -0.24643811668319737, -5.1341876568758105, -15.088909733032075, -6.563238233746947, -9.522347894471379, 1.5739029051920803, 0.14059101029168675, 16.362712969155133, 0.5334981482906995, -21.286326248263535, -4.804689835607439, 3.020521227844404, -11.76124309854463, -20.665363961794267, -9.37077592044732, -6.793241860569152, -16.13575780074364, -9.44217503102905, 1.7040891179438922, 24.634555953490487, -10.988226035222954, -5.029387506555427, -6.449532951306163, 0.25188133993908135, -2.18967736000611, 5.779332608573895, 13.799648274494851, -11.902907983185857, -2.9131266139881986, 16.459541641174226, -1.7025561455170313, -3.426950602242867, -8.591666392549188, 11.48557324228966, -3.6015145919417044, 0.04319082405874239, -6.011046497312423, -19.08110976264253, -18.251319266653276, 16.882574911171922, 8.696530968478637, 3.7272721268101336, 6.411251897085974]}],\n",
              "                        {\"coloraxis\": {\"colorbar\": {\"title\": {\"text\": \"pred\"}}, \"colorscale\": [[0.0, \"#0d0887\"], [0.1111111111111111, \"#46039f\"], [0.2222222222222222, \"#7201a8\"], [0.3333333333333333, \"#9c179e\"], [0.4444444444444444, \"#bd3786\"], [0.5555555555555556, \"#d8576b\"], [0.6666666666666666, \"#ed7953\"], [0.7777777777777778, \"#fb9f3a\"], [0.8888888888888888, \"#fdca26\"], [1.0, \"#f0f921\"]]}, \"height\": 600, \"legend\": {\"tracegroupgap\": 0}, \"margin\": {\"t\": 60}, \"scene\": {\"domain\": {\"x\": [0.0, 0.98], \"y\": [0.0, 1.0]}, \"xaxis\": {\"title\": {\"text\": \"PCA_1\"}}, \"yaxis\": {\"title\": {\"text\": \"PCA_2\"}}, \"zaxis\": {\"title\": {\"text\": \"PCA_3\"}}}, \"template\": {\"data\": {\"bar\": [{\"error_x\": {\"color\": \"#2a3f5f\"}, \"error_y\": {\"color\": \"#2a3f5f\"}, \"marker\": {\"line\": {\"color\": \"#E5ECF6\", \"width\": 0.5}}, \"type\": \"bar\"}], \"barpolar\": [{\"marker\": {\"line\": {\"color\": \"#E5ECF6\", \"width\": 0.5}}, \"type\": \"barpolar\"}], \"carpet\": [{\"aaxis\": {\"endlinecolor\": \"#2a3f5f\", \"gridcolor\": \"white\", \"linecolor\": \"white\", \"minorgridcolor\": \"white\", \"startlinecolor\": \"#2a3f5f\"}, \"baxis\": {\"endlinecolor\": \"#2a3f5f\", \"gridcolor\": \"white\", \"linecolor\": \"white\", \"minorgridcolor\": \"white\", \"startlinecolor\": \"#2a3f5f\"}, \"type\": \"carpet\"}], \"choropleth\": [{\"colorbar\": {\"outlinewidth\": 0, \"ticks\": \"\"}, \"type\": \"choropleth\"}], \"contour\": [{\"colorbar\": {\"outlinewidth\": 0, \"ticks\": \"\"}, \"colorscale\": [[0.0, \"#0d0887\"], [0.1111111111111111, \"#46039f\"], [0.2222222222222222, \"#7201a8\"], [0.3333333333333333, \"#9c179e\"], [0.4444444444444444, \"#bd3786\"], [0.5555555555555556, \"#d8576b\"], [0.6666666666666666, \"#ed7953\"], [0.7777777777777778, \"#fb9f3a\"], [0.8888888888888888, \"#fdca26\"], [1.0, \"#f0f921\"]], \"type\": \"contour\"}], \"contourcarpet\": [{\"colorbar\": {\"outlinewidth\": 0, \"ticks\": \"\"}, \"type\": \"contourcarpet\"}], \"heatmap\": [{\"colorbar\": {\"outlinewidth\": 0, \"ticks\": \"\"}, \"colorscale\": [[0.0, \"#0d0887\"], [0.1111111111111111, \"#46039f\"], [0.2222222222222222, \"#7201a8\"], [0.3333333333333333, \"#9c179e\"], [0.4444444444444444, \"#bd3786\"], [0.5555555555555556, \"#d8576b\"], [0.6666666666666666, \"#ed7953\"], [0.7777777777777778, \"#fb9f3a\"], [0.8888888888888888, \"#fdca26\"], [1.0, \"#f0f921\"]], \"type\": \"heatmap\"}], \"heatmapgl\": [{\"colorbar\": {\"outlinewidth\": 0, \"ticks\": \"\"}, \"colorscale\": [[0.0, \"#0d0887\"], [0.1111111111111111, \"#46039f\"], [0.2222222222222222, \"#7201a8\"], [0.3333333333333333, \"#9c179e\"], [0.4444444444444444, \"#bd3786\"], [0.5555555555555556, \"#d8576b\"], [0.6666666666666666, \"#ed7953\"], [0.7777777777777778, \"#fb9f3a\"], [0.8888888888888888, \"#fdca26\"], [1.0, \"#f0f921\"]], \"type\": \"heatmapgl\"}], \"histogram\": [{\"marker\": {\"colorbar\": {\"outlinewidth\": 0, \"ticks\": \"\"}}, \"type\": \"histogram\"}], \"histogram2d\": [{\"colorbar\": {\"outlinewidth\": 0, \"ticks\": \"\"}, \"colorscale\": [[0.0, \"#0d0887\"], [0.1111111111111111, \"#46039f\"], [0.2222222222222222, \"#7201a8\"], [0.3333333333333333, \"#9c179e\"], [0.4444444444444444, \"#bd3786\"], [0.5555555555555556, \"#d8576b\"], [0.6666666666666666, \"#ed7953\"], [0.7777777777777778, \"#fb9f3a\"], [0.8888888888888888, \"#fdca26\"], [1.0, \"#f0f921\"]], \"type\": \"histogram2d\"}], \"histogram2dcontour\": [{\"colorbar\": {\"outlinewidth\": 0, \"ticks\": \"\"}, \"colorscale\": [[0.0, \"#0d0887\"], [0.1111111111111111, \"#46039f\"], [0.2222222222222222, \"#7201a8\"], [0.3333333333333333, \"#9c179e\"], [0.4444444444444444, \"#bd3786\"], [0.5555555555555556, \"#d8576b\"], [0.6666666666666666, \"#ed7953\"], [0.7777777777777778, \"#fb9f3a\"], [0.8888888888888888, \"#fdca26\"], [1.0, \"#f0f921\"]], \"type\": \"histogram2dcontour\"}], \"mesh3d\": [{\"colorbar\": {\"outlinewidth\": 0, \"ticks\": \"\"}, \"type\": \"mesh3d\"}], \"parcoords\": [{\"line\": {\"colorbar\": {\"outlinewidth\": 0, \"ticks\": \"\"}}, \"type\": \"parcoords\"}], \"scatter\": [{\"marker\": {\"colorbar\": {\"outlinewidth\": 0, \"ticks\": \"\"}}, \"type\": \"scatter\"}], \"scatter3d\": [{\"line\": {\"colorbar\": {\"outlinewidth\": 0, \"ticks\": \"\"}}, \"marker\": {\"colorbar\": {\"outlinewidth\": 0, \"ticks\": \"\"}}, \"type\": \"scatter3d\"}], \"scattercarpet\": [{\"marker\": {\"colorbar\": {\"outlinewidth\": 0, \"ticks\": \"\"}}, \"type\": \"scattercarpet\"}], \"scattergeo\": [{\"marker\": {\"colorbar\": {\"outlinewidth\": 0, \"ticks\": \"\"}}, \"type\": \"scattergeo\"}], \"scattergl\": [{\"marker\": {\"colorbar\": {\"outlinewidth\": 0, \"ticks\": \"\"}}, \"type\": \"scattergl\"}], \"scattermapbox\": [{\"marker\": {\"colorbar\": {\"outlinewidth\": 0, \"ticks\": \"\"}}, \"type\": \"scattermapbox\"}], \"scatterpolar\": [{\"marker\": {\"colorbar\": {\"outlinewidth\": 0, \"ticks\": \"\"}}, \"type\": \"scatterpolar\"}], \"scatterpolargl\": [{\"marker\": {\"colorbar\": {\"outlinewidth\": 0, \"ticks\": \"\"}}, \"type\": \"scatterpolargl\"}], \"scatterternary\": [{\"marker\": {\"colorbar\": {\"outlinewidth\": 0, \"ticks\": \"\"}}, \"type\": \"scatterternary\"}], \"surface\": [{\"colorbar\": {\"outlinewidth\": 0, \"ticks\": \"\"}, \"colorscale\": [[0.0, \"#0d0887\"], [0.1111111111111111, \"#46039f\"], [0.2222222222222222, \"#7201a8\"], [0.3333333333333333, \"#9c179e\"], [0.4444444444444444, \"#bd3786\"], [0.5555555555555556, \"#d8576b\"], [0.6666666666666666, \"#ed7953\"], [0.7777777777777778, \"#fb9f3a\"], [0.8888888888888888, \"#fdca26\"], [1.0, \"#f0f921\"]], \"type\": \"surface\"}], \"table\": [{\"cells\": {\"fill\": {\"color\": \"#EBF0F8\"}, \"line\": {\"color\": \"white\"}}, \"header\": {\"fill\": {\"color\": \"#C8D4E3\"}, \"line\": {\"color\": \"white\"}}, \"type\": \"table\"}]}, \"layout\": {\"annotationdefaults\": {\"arrowcolor\": \"#2a3f5f\", \"arrowhead\": 0, \"arrowwidth\": 1}, \"colorscale\": {\"diverging\": [[0, \"#8e0152\"], [0.1, \"#c51b7d\"], [0.2, \"#de77ae\"], [0.3, \"#f1b6da\"], [0.4, \"#fde0ef\"], [0.5, \"#f7f7f7\"], [0.6, \"#e6f5d0\"], [0.7, \"#b8e186\"], [0.8, \"#7fbc41\"], [0.9, \"#4d9221\"], [1, \"#276419\"]], \"sequential\": [[0.0, \"#0d0887\"], [0.1111111111111111, \"#46039f\"], [0.2222222222222222, \"#7201a8\"], [0.3333333333333333, \"#9c179e\"], [0.4444444444444444, \"#bd3786\"], [0.5555555555555556, \"#d8576b\"], [0.6666666666666666, \"#ed7953\"], [0.7777777777777778, \"#fb9f3a\"], [0.8888888888888888, \"#fdca26\"], [1.0, \"#f0f921\"]], \"sequentialminus\": [[0.0, \"#0d0887\"], [0.1111111111111111, \"#46039f\"], [0.2222222222222222, \"#7201a8\"], [0.3333333333333333, \"#9c179e\"], [0.4444444444444444, \"#bd3786\"], [0.5555555555555556, \"#d8576b\"], [0.6666666666666666, \"#ed7953\"], [0.7777777777777778, \"#fb9f3a\"], [0.8888888888888888, \"#fdca26\"], [1.0, \"#f0f921\"]]}, \"colorway\": [\"#636efa\", \"#EF553B\", \"#00cc96\", \"#ab63fa\", \"#FFA15A\", \"#19d3f3\", \"#FF6692\", \"#B6E880\", \"#FF97FF\", \"#FECB52\"], \"font\": {\"color\": \"#2a3f5f\"}, \"geo\": {\"bgcolor\": \"white\", \"lakecolor\": \"white\", \"landcolor\": \"#E5ECF6\", \"showlakes\": true, \"showland\": true, \"subunitcolor\": \"white\"}, \"hoverlabel\": {\"align\": \"left\"}, \"hovermode\": \"closest\", \"mapbox\": {\"style\": \"light\"}, \"paper_bgcolor\": \"white\", \"plot_bgcolor\": \"#E5ECF6\", \"polar\": {\"angularaxis\": {\"gridcolor\": \"white\", \"linecolor\": \"white\", \"ticks\": \"\"}, \"bgcolor\": \"#E5ECF6\", \"radialaxis\": {\"gridcolor\": \"white\", \"linecolor\": \"white\", \"ticks\": \"\"}}, \"scene\": {\"xaxis\": {\"backgroundcolor\": \"#E5ECF6\", \"gridcolor\": \"white\", \"gridwidth\": 2, \"linecolor\": \"white\", \"showbackground\": true, \"ticks\": \"\", \"zerolinecolor\": \"white\"}, \"yaxis\": {\"backgroundcolor\": \"#E5ECF6\", \"gridcolor\": \"white\", \"gridwidth\": 2, \"linecolor\": \"white\", \"showbackground\": true, \"ticks\": \"\", \"zerolinecolor\": \"white\"}, \"zaxis\": {\"backgroundcolor\": \"#E5ECF6\", \"gridcolor\": \"white\", \"gridwidth\": 2, \"linecolor\": \"white\", \"showbackground\": true, \"ticks\": \"\", \"zerolinecolor\": \"white\"}}, \"shapedefaults\": {\"line\": {\"color\": \"#2a3f5f\"}}, \"ternary\": {\"aaxis\": {\"gridcolor\": \"white\", \"linecolor\": \"white\", \"ticks\": \"\"}, \"baxis\": {\"gridcolor\": \"white\", \"linecolor\": \"white\", \"ticks\": \"\"}, \"bgcolor\": \"#E5ECF6\", \"caxis\": {\"gridcolor\": \"white\", \"linecolor\": \"white\", \"ticks\": \"\"}}, \"title\": {\"x\": 0.05}, \"xaxis\": {\"automargin\": true, \"gridcolor\": \"white\", \"linecolor\": \"white\", \"ticks\": \"\", \"zerolinecolor\": \"white\", \"zerolinewidth\": 2}, \"yaxis\": {\"automargin\": true, \"gridcolor\": \"white\", \"linecolor\": \"white\", \"ticks\": \"\", \"zerolinecolor\": \"white\", \"zerolinewidth\": 2}}}},\n",
              "                        {\"responsive\": true}\n",
              "                    ).then(function(){\n",
              "                            \n",
              "var gd = document.getElementById('a8b0b1c7-0ea7-44ec-917a-61b74411e68b');\n",
              "var x = new MutationObserver(function (mutations, observer) {{\n",
              "        var display = window.getComputedStyle(gd).display;\n",
              "        if (!display || display === 'none') {{\n",
              "            console.log([gd, 'removed!']);\n",
              "            Plotly.purge(gd);\n",
              "            observer.disconnect();\n",
              "        }}\n",
              "}});\n",
              "\n",
              "// Listen for the removal of the full notebook cells\n",
              "var notebookContainer = gd.closest('#notebook-container');\n",
              "if (notebookContainer) {{\n",
              "    x.observe(notebookContainer, {childList: true});\n",
              "}}\n",
              "\n",
              "// Listen for the clearing of the current output cell\n",
              "var outputEl = gd.closest('.output');\n",
              "if (outputEl) {{\n",
              "    x.observe(outputEl, {childList: true});\n",
              "}}\n",
              "\n",
              "                        })\n",
              "                };\n",
              "                \n",
              "            </script>\n",
              "        </div>\n",
              "</body>\n",
              "</html>"
            ]
          },
          "metadata": {}
        }
      ]
    },
    {
      "cell_type": "markdown",
      "metadata": {
        "id": "O6NUJNY3LiRo"
      },
      "source": [
        "# Now you can interact with the samples and identify the ones that are most likely to end up in error (ones along cluster boundaries) and ensure such samples are either:\n",
        "* Denoised (deblurred) followed by classification.\n",
        "* Or handled separately since they represent lower data quality!\n"
      ]
    },
    {
      "cell_type": "code",
      "metadata": {
        "id": "zP-fqXrDLb8Q"
      },
      "source": [
        ""
      ],
      "execution_count": 41,
      "outputs": []
    }
  ]
}